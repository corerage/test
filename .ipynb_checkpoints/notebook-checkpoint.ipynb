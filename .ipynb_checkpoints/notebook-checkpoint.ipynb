{
 "cells": [
  {
   "cell_type": "markdown",
   "id": "8ef86f5e",
   "metadata": {},
   "source": [
    "#   US Super-Store Analysis"
   ]
  },
  {
   "cell_type": "markdown",
   "id": "f45cec58",
   "metadata": {},
   "source": [
    "# Problem Statement\n",
    "\n",
    "Our hypothetical company has announced that they would like to get into the E-Commerce industry. They will be creating an E-commerce website, however they have no knowledge of the E-Commerce industry. My goal is to collect, clean and analyze a `Groceries shopping` data from variety of sources so that I can provide reommendation to the company that will allow them to be successful in the E-commerce Industry."
   ]
  },
  {
   "cell_type": "markdown",
   "id": "f624a55d",
   "metadata": {},
   "source": [
    "## Import the library "
   ]
  },
  {
   "cell_type": "code",
   "execution_count": 1,
   "id": "01a46d26",
   "metadata": {},
   "outputs": [
    {
     "data": {
      "text/html": [
       "        <script type=\"text/javascript\">\n",
       "        window.PlotlyConfig = {MathJaxConfig: 'local'};\n",
       "        if (window.MathJax && window.MathJax.Hub && window.MathJax.Hub.Config) {window.MathJax.Hub.Config({SVG: {font: \"STIX-Web\"}});}\n",
       "        if (typeof require !== 'undefined') {\n",
       "        require.undef(\"plotly\");\n",
       "        requirejs.config({\n",
       "            paths: {\n",
       "                'plotly': ['https://cdn.plot.ly/plotly-2.14.0.min']\n",
       "            }\n",
       "        });\n",
       "        require(['plotly'], function(Plotly) {\n",
       "            window._Plotly = Plotly;\n",
       "        });\n",
       "        }\n",
       "        </script>\n",
       "        "
      ]
     },
     "metadata": {},
     "output_type": "display_data"
    }
   ],
   "source": [
    "import pandas as pd \n",
    "import numpy as np\n",
    "import seaborn as sns \n",
    "import matplotlib.pyplot as plt\n",
    "from dateutil.parser import parse\n",
    "import plotly.figure_factory as ff \n",
    "import plotly.graph_objects as go\n",
    "from plotly.offline import iplot, init_notebook_mode\n",
    "init_notebook_mode(connected= True)\n",
    "from plotly.subplots import make_subplots\n",
    "from plotly.offline import iplot\n",
    "from plotly import tools\n",
    "import plotly.express as px\n",
    "import plotly.io as pio\n",
    "pio.renderers.default = \"plotly_mimetype+notebook_connected\"\n"
   ]
  },
  {
   "cell_type": "markdown",
   "id": "82695f1e",
   "metadata": {},
   "source": [
    "## Loading the data "
   ]
  },
  {
   "cell_type": "code",
   "execution_count": 2,
   "id": "4e8ba7da",
   "metadata": {},
   "outputs": [],
   "source": [
    "df =pd.read_csv(\"C:/Users/HP/Documents/workspace/usa_super_store.csv\")"
   ]
  },
  {
   "cell_type": "code",
   "execution_count": 3,
   "id": "023fe27f",
   "metadata": {},
   "outputs": [
    {
     "data": {
      "text/html": [
       "<div>\n",
       "<style scoped>\n",
       "    .dataframe tbody tr th:only-of-type {\n",
       "        vertical-align: middle;\n",
       "    }\n",
       "\n",
       "    .dataframe tbody tr th {\n",
       "        vertical-align: top;\n",
       "    }\n",
       "\n",
       "    .dataframe thead th {\n",
       "        text-align: right;\n",
       "    }\n",
       "</style>\n",
       "<table border=\"1\" class=\"dataframe\">\n",
       "  <thead>\n",
       "    <tr style=\"text-align: right;\">\n",
       "      <th></th>\n",
       "      <th>Row ID</th>\n",
       "      <th>Order Priority</th>\n",
       "      <th>Discount</th>\n",
       "      <th>Unit Price</th>\n",
       "      <th>Shipping Cost</th>\n",
       "      <th>Customer ID</th>\n",
       "      <th>Customer Name</th>\n",
       "      <th>Ship Mode</th>\n",
       "      <th>Customer Segment</th>\n",
       "      <th>Product Category</th>\n",
       "      <th>...</th>\n",
       "      <th>State or Province</th>\n",
       "      <th>City</th>\n",
       "      <th>Postal Code</th>\n",
       "      <th>Order Date</th>\n",
       "      <th>Ship Date</th>\n",
       "      <th>Profit</th>\n",
       "      <th>Quantity ordered new</th>\n",
       "      <th>Sales</th>\n",
       "      <th>Order ID</th>\n",
       "      <th>Status</th>\n",
       "    </tr>\n",
       "  </thead>\n",
       "  <tbody>\n",
       "    <tr>\n",
       "      <th>0</th>\n",
       "      <td>20847</td>\n",
       "      <td>High</td>\n",
       "      <td>0.01</td>\n",
       "      <td>2.84</td>\n",
       "      <td>0.93</td>\n",
       "      <td>3</td>\n",
       "      <td>Bonnie Potter</td>\n",
       "      <td>Express Air</td>\n",
       "      <td>Corporate</td>\n",
       "      <td>Office Supplies</td>\n",
       "      <td>...</td>\n",
       "      <td>Washington</td>\n",
       "      <td>Anacortes</td>\n",
       "      <td>98221</td>\n",
       "      <td>1/7/2015</td>\n",
       "      <td>1/8/2015</td>\n",
       "      <td>4.5600</td>\n",
       "      <td>4</td>\n",
       "      <td>13.01</td>\n",
       "      <td>88522</td>\n",
       "      <td>0</td>\n",
       "    </tr>\n",
       "    <tr>\n",
       "      <th>1</th>\n",
       "      <td>20228</td>\n",
       "      <td>Not Specified</td>\n",
       "      <td>0.02</td>\n",
       "      <td>500.98</td>\n",
       "      <td>26.00</td>\n",
       "      <td>5</td>\n",
       "      <td>Ronnie Proctor</td>\n",
       "      <td>Delivery Truck</td>\n",
       "      <td>Home Office</td>\n",
       "      <td>Furniture</td>\n",
       "      <td>...</td>\n",
       "      <td>California</td>\n",
       "      <td>San Gabriel</td>\n",
       "      <td>91776</td>\n",
       "      <td>6/13/2015</td>\n",
       "      <td>6/15/2015</td>\n",
       "      <td>4390.3665</td>\n",
       "      <td>12</td>\n",
       "      <td>6362.85</td>\n",
       "      <td>90193</td>\n",
       "      <td>0</td>\n",
       "    </tr>\n",
       "    <tr>\n",
       "      <th>2</th>\n",
       "      <td>21776</td>\n",
       "      <td>Critical</td>\n",
       "      <td>0.06</td>\n",
       "      <td>9.48</td>\n",
       "      <td>7.29</td>\n",
       "      <td>11</td>\n",
       "      <td>Marcus Dunlap</td>\n",
       "      <td>Regular Air</td>\n",
       "      <td>Home Office</td>\n",
       "      <td>Furniture</td>\n",
       "      <td>...</td>\n",
       "      <td>New Jersey</td>\n",
       "      <td>Roselle</td>\n",
       "      <td>7203</td>\n",
       "      <td>2/15/2015</td>\n",
       "      <td>2/17/2015</td>\n",
       "      <td>-53.8096</td>\n",
       "      <td>22</td>\n",
       "      <td>211.15</td>\n",
       "      <td>90192</td>\n",
       "      <td>0</td>\n",
       "    </tr>\n",
       "    <tr>\n",
       "      <th>3</th>\n",
       "      <td>24844</td>\n",
       "      <td>Medium</td>\n",
       "      <td>0.09</td>\n",
       "      <td>78.69</td>\n",
       "      <td>19.99</td>\n",
       "      <td>14</td>\n",
       "      <td>Gwendolyn F Tyson</td>\n",
       "      <td>Regular Air</td>\n",
       "      <td>Small Business</td>\n",
       "      <td>Furniture</td>\n",
       "      <td>...</td>\n",
       "      <td>Minnesota</td>\n",
       "      <td>Prior Lake</td>\n",
       "      <td>55372</td>\n",
       "      <td>5/12/2015</td>\n",
       "      <td>5/14/2015</td>\n",
       "      <td>803.4705</td>\n",
       "      <td>16</td>\n",
       "      <td>1164.45</td>\n",
       "      <td>86838</td>\n",
       "      <td>0</td>\n",
       "    </tr>\n",
       "    <tr>\n",
       "      <th>4</th>\n",
       "      <td>24846</td>\n",
       "      <td>Medium</td>\n",
       "      <td>0.08</td>\n",
       "      <td>3.28</td>\n",
       "      <td>2.31</td>\n",
       "      <td>14</td>\n",
       "      <td>Gwendolyn F Tyson</td>\n",
       "      <td>Regular Air</td>\n",
       "      <td>Small Business</td>\n",
       "      <td>Office Supplies</td>\n",
       "      <td>...</td>\n",
       "      <td>Minnesota</td>\n",
       "      <td>Prior Lake</td>\n",
       "      <td>55372</td>\n",
       "      <td>5/12/2015</td>\n",
       "      <td>5/13/2015</td>\n",
       "      <td>-24.0300</td>\n",
       "      <td>7</td>\n",
       "      <td>22.23</td>\n",
       "      <td>86838</td>\n",
       "      <td>0</td>\n",
       "    </tr>\n",
       "    <tr>\n",
       "      <th>...</th>\n",
       "      <td>...</td>\n",
       "      <td>...</td>\n",
       "      <td>...</td>\n",
       "      <td>...</td>\n",
       "      <td>...</td>\n",
       "      <td>...</td>\n",
       "      <td>...</td>\n",
       "      <td>...</td>\n",
       "      <td>...</td>\n",
       "      <td>...</td>\n",
       "      <td>...</td>\n",
       "      <td>...</td>\n",
       "      <td>...</td>\n",
       "      <td>...</td>\n",
       "      <td>...</td>\n",
       "      <td>...</td>\n",
       "      <td>...</td>\n",
       "      <td>...</td>\n",
       "      <td>...</td>\n",
       "      <td>...</td>\n",
       "      <td>...</td>\n",
       "    </tr>\n",
       "    <tr>\n",
       "      <th>1947</th>\n",
       "      <td>19842</td>\n",
       "      <td>High</td>\n",
       "      <td>0.01</td>\n",
       "      <td>10.90</td>\n",
       "      <td>7.46</td>\n",
       "      <td>3397</td>\n",
       "      <td>Andrea Shaw</td>\n",
       "      <td>Regular Air</td>\n",
       "      <td>Small Business</td>\n",
       "      <td>Office Supplies</td>\n",
       "      <td>...</td>\n",
       "      <td>Illinois</td>\n",
       "      <td>Danville</td>\n",
       "      <td>61832</td>\n",
       "      <td>3/11/2015</td>\n",
       "      <td>3/12/2015</td>\n",
       "      <td>-116.7600</td>\n",
       "      <td>18</td>\n",
       "      <td>207.31</td>\n",
       "      <td>87536</td>\n",
       "      <td>0</td>\n",
       "    </tr>\n",
       "    <tr>\n",
       "      <th>1948</th>\n",
       "      <td>19843</td>\n",
       "      <td>High</td>\n",
       "      <td>0.10</td>\n",
       "      <td>7.99</td>\n",
       "      <td>5.03</td>\n",
       "      <td>3397</td>\n",
       "      <td>Andrea Shaw</td>\n",
       "      <td>Regular Air</td>\n",
       "      <td>Small Business</td>\n",
       "      <td>Technology</td>\n",
       "      <td>...</td>\n",
       "      <td>Illinois</td>\n",
       "      <td>Danville</td>\n",
       "      <td>61832</td>\n",
       "      <td>3/11/2015</td>\n",
       "      <td>3/12/2015</td>\n",
       "      <td>-160.9520</td>\n",
       "      <td>22</td>\n",
       "      <td>143.12</td>\n",
       "      <td>87536</td>\n",
       "      <td>0</td>\n",
       "    </tr>\n",
       "    <tr>\n",
       "      <th>1949</th>\n",
       "      <td>26208</td>\n",
       "      <td>Not Specified</td>\n",
       "      <td>0.08</td>\n",
       "      <td>11.97</td>\n",
       "      <td>5.81</td>\n",
       "      <td>3399</td>\n",
       "      <td>Marvin Reid</td>\n",
       "      <td>Regular Air</td>\n",
       "      <td>Small Business</td>\n",
       "      <td>Office Supplies</td>\n",
       "      <td>...</td>\n",
       "      <td>Illinois</td>\n",
       "      <td>Des Plaines</td>\n",
       "      <td>60016</td>\n",
       "      <td>3/29/2015</td>\n",
       "      <td>3/31/2015</td>\n",
       "      <td>-41.8700</td>\n",
       "      <td>5</td>\n",
       "      <td>59.98</td>\n",
       "      <td>87534</td>\n",
       "      <td>0</td>\n",
       "    </tr>\n",
       "    <tr>\n",
       "      <th>1950</th>\n",
       "      <td>24911</td>\n",
       "      <td>Medium</td>\n",
       "      <td>0.10</td>\n",
       "      <td>9.38</td>\n",
       "      <td>4.93</td>\n",
       "      <td>3400</td>\n",
       "      <td>Florence Gold</td>\n",
       "      <td>Express Air</td>\n",
       "      <td>Small Business</td>\n",
       "      <td>Furniture</td>\n",
       "      <td>...</td>\n",
       "      <td>West Virginia</td>\n",
       "      <td>Fairmont</td>\n",
       "      <td>26554</td>\n",
       "      <td>4/4/2015</td>\n",
       "      <td>4/4/2015</td>\n",
       "      <td>-24.7104</td>\n",
       "      <td>15</td>\n",
       "      <td>135.78</td>\n",
       "      <td>87537</td>\n",
       "      <td>0</td>\n",
       "    </tr>\n",
       "    <tr>\n",
       "      <th>1951</th>\n",
       "      <td>25914</td>\n",
       "      <td>High</td>\n",
       "      <td>0.10</td>\n",
       "      <td>105.98</td>\n",
       "      <td>13.99</td>\n",
       "      <td>3403</td>\n",
       "      <td>Tammy Buckley</td>\n",
       "      <td>Express Air</td>\n",
       "      <td>Consumer</td>\n",
       "      <td>Furniture</td>\n",
       "      <td>...</td>\n",
       "      <td>Wyoming</td>\n",
       "      <td>Cheyenne</td>\n",
       "      <td>82001</td>\n",
       "      <td>2/8/2015</td>\n",
       "      <td>2/11/2015</td>\n",
       "      <td>349.4850</td>\n",
       "      <td>5</td>\n",
       "      <td>506.50</td>\n",
       "      <td>87530</td>\n",
       "      <td>0</td>\n",
       "    </tr>\n",
       "  </tbody>\n",
       "</table>\n",
       "<p>1952 rows × 27 columns</p>\n",
       "</div>"
      ],
      "text/plain": [
       "      Row ID Order Priority  Discount  Unit Price  Shipping Cost  Customer ID  \\\n",
       "0      20847           High      0.01        2.84           0.93            3   \n",
       "1      20228  Not Specified      0.02      500.98          26.00            5   \n",
       "2      21776       Critical      0.06        9.48           7.29           11   \n",
       "3      24844         Medium      0.09       78.69          19.99           14   \n",
       "4      24846         Medium      0.08        3.28           2.31           14   \n",
       "...      ...            ...       ...         ...            ...          ...   \n",
       "1947   19842           High      0.01       10.90           7.46         3397   \n",
       "1948   19843           High      0.10        7.99           5.03         3397   \n",
       "1949   26208  Not Specified      0.08       11.97           5.81         3399   \n",
       "1950   24911         Medium      0.10        9.38           4.93         3400   \n",
       "1951   25914           High      0.10      105.98          13.99         3403   \n",
       "\n",
       "          Customer Name       Ship Mode Customer Segment Product Category  \\\n",
       "0         Bonnie Potter     Express Air        Corporate  Office Supplies   \n",
       "1        Ronnie Proctor  Delivery Truck      Home Office        Furniture   \n",
       "2         Marcus Dunlap     Regular Air      Home Office        Furniture   \n",
       "3     Gwendolyn F Tyson     Regular Air   Small Business        Furniture   \n",
       "4     Gwendolyn F Tyson     Regular Air   Small Business  Office Supplies   \n",
       "...                 ...             ...              ...              ...   \n",
       "1947        Andrea Shaw     Regular Air   Small Business  Office Supplies   \n",
       "1948        Andrea Shaw     Regular Air   Small Business       Technology   \n",
       "1949        Marvin Reid     Regular Air   Small Business  Office Supplies   \n",
       "1950      Florence Gold     Express Air   Small Business        Furniture   \n",
       "1951      Tammy Buckley     Express Air         Consumer        Furniture   \n",
       "\n",
       "      ... State or Province         City Postal Code  Order Date  Ship Date  \\\n",
       "0     ...        Washington    Anacortes       98221    1/7/2015   1/8/2015   \n",
       "1     ...        California  San Gabriel       91776   6/13/2015  6/15/2015   \n",
       "2     ...        New Jersey      Roselle        7203   2/15/2015  2/17/2015   \n",
       "3     ...         Minnesota   Prior Lake       55372   5/12/2015  5/14/2015   \n",
       "4     ...         Minnesota   Prior Lake       55372   5/12/2015  5/13/2015   \n",
       "...   ...               ...          ...         ...         ...        ...   \n",
       "1947  ...          Illinois     Danville       61832   3/11/2015  3/12/2015   \n",
       "1948  ...          Illinois     Danville       61832   3/11/2015  3/12/2015   \n",
       "1949  ...          Illinois  Des Plaines       60016   3/29/2015  3/31/2015   \n",
       "1950  ...     West Virginia     Fairmont       26554    4/4/2015   4/4/2015   \n",
       "1951  ...           Wyoming     Cheyenne       82001    2/8/2015  2/11/2015   \n",
       "\n",
       "         Profit Quantity ordered new    Sales Order ID  Status  \n",
       "0        4.5600                    4    13.01    88522       0  \n",
       "1     4390.3665                   12  6362.85    90193       0  \n",
       "2      -53.8096                   22   211.15    90192       0  \n",
       "3      803.4705                   16  1164.45    86838       0  \n",
       "4      -24.0300                    7    22.23    86838       0  \n",
       "...         ...                  ...      ...      ...     ...  \n",
       "1947  -116.7600                   18   207.31    87536       0  \n",
       "1948  -160.9520                   22   143.12    87536       0  \n",
       "1949   -41.8700                    5    59.98    87534       0  \n",
       "1950   -24.7104                   15   135.78    87537       0  \n",
       "1951   349.4850                    5   506.50    87530       0  \n",
       "\n",
       "[1952 rows x 27 columns]"
      ]
     },
     "execution_count": 3,
     "metadata": {},
     "output_type": "execute_result"
    }
   ],
   "source": [
    "df"
   ]
  },
  {
   "cell_type": "code",
   "execution_count": 4,
   "id": "f13f7e1e",
   "metadata": {},
   "outputs": [
    {
     "data": {
      "text/html": [
       "<div>\n",
       "<style scoped>\n",
       "    .dataframe tbody tr th:only-of-type {\n",
       "        vertical-align: middle;\n",
       "    }\n",
       "\n",
       "    .dataframe tbody tr th {\n",
       "        vertical-align: top;\n",
       "    }\n",
       "\n",
       "    .dataframe thead th {\n",
       "        text-align: right;\n",
       "    }\n",
       "</style>\n",
       "<table border=\"1\" class=\"dataframe\">\n",
       "  <thead>\n",
       "    <tr style=\"text-align: right;\">\n",
       "      <th></th>\n",
       "      <th>0</th>\n",
       "      <th>1</th>\n",
       "      <th>2</th>\n",
       "      <th>3</th>\n",
       "      <th>4</th>\n",
       "    </tr>\n",
       "  </thead>\n",
       "  <tbody>\n",
       "    <tr>\n",
       "      <th>Row ID</th>\n",
       "      <td>20847</td>\n",
       "      <td>20228</td>\n",
       "      <td>21776</td>\n",
       "      <td>24844</td>\n",
       "      <td>24846</td>\n",
       "    </tr>\n",
       "    <tr>\n",
       "      <th>Order Priority</th>\n",
       "      <td>High</td>\n",
       "      <td>Not Specified</td>\n",
       "      <td>Critical</td>\n",
       "      <td>Medium</td>\n",
       "      <td>Medium</td>\n",
       "    </tr>\n",
       "    <tr>\n",
       "      <th>Discount</th>\n",
       "      <td>0.01</td>\n",
       "      <td>0.02</td>\n",
       "      <td>0.06</td>\n",
       "      <td>0.09</td>\n",
       "      <td>0.08</td>\n",
       "    </tr>\n",
       "    <tr>\n",
       "      <th>Unit Price</th>\n",
       "      <td>2.84</td>\n",
       "      <td>500.98</td>\n",
       "      <td>9.48</td>\n",
       "      <td>78.69</td>\n",
       "      <td>3.28</td>\n",
       "    </tr>\n",
       "    <tr>\n",
       "      <th>Shipping Cost</th>\n",
       "      <td>0.93</td>\n",
       "      <td>26.0</td>\n",
       "      <td>7.29</td>\n",
       "      <td>19.99</td>\n",
       "      <td>2.31</td>\n",
       "    </tr>\n",
       "    <tr>\n",
       "      <th>Customer ID</th>\n",
       "      <td>3</td>\n",
       "      <td>5</td>\n",
       "      <td>11</td>\n",
       "      <td>14</td>\n",
       "      <td>14</td>\n",
       "    </tr>\n",
       "    <tr>\n",
       "      <th>Customer Name</th>\n",
       "      <td>Bonnie Potter</td>\n",
       "      <td>Ronnie Proctor</td>\n",
       "      <td>Marcus Dunlap</td>\n",
       "      <td>Gwendolyn F Tyson</td>\n",
       "      <td>Gwendolyn F Tyson</td>\n",
       "    </tr>\n",
       "    <tr>\n",
       "      <th>Ship Mode</th>\n",
       "      <td>Express Air</td>\n",
       "      <td>Delivery Truck</td>\n",
       "      <td>Regular Air</td>\n",
       "      <td>Regular Air</td>\n",
       "      <td>Regular Air</td>\n",
       "    </tr>\n",
       "    <tr>\n",
       "      <th>Customer Segment</th>\n",
       "      <td>Corporate</td>\n",
       "      <td>Home Office</td>\n",
       "      <td>Home Office</td>\n",
       "      <td>Small Business</td>\n",
       "      <td>Small Business</td>\n",
       "    </tr>\n",
       "    <tr>\n",
       "      <th>Product Category</th>\n",
       "      <td>Office Supplies</td>\n",
       "      <td>Furniture</td>\n",
       "      <td>Furniture</td>\n",
       "      <td>Furniture</td>\n",
       "      <td>Office Supplies</td>\n",
       "    </tr>\n",
       "    <tr>\n",
       "      <th>Product Sub-Category</th>\n",
       "      <td>Pens &amp; Art Supplies</td>\n",
       "      <td>Chairs &amp; Chairmats</td>\n",
       "      <td>Office Furnishings</td>\n",
       "      <td>Office Furnishings</td>\n",
       "      <td>Pens &amp; Art Supplies</td>\n",
       "    </tr>\n",
       "    <tr>\n",
       "      <th>Product Container</th>\n",
       "      <td>Wrap Bag</td>\n",
       "      <td>Jumbo Drum</td>\n",
       "      <td>Small Pack</td>\n",
       "      <td>Small Box</td>\n",
       "      <td>Wrap Bag</td>\n",
       "    </tr>\n",
       "    <tr>\n",
       "      <th>Product Name</th>\n",
       "      <td>SANFORD Liquid Accent™ Tank-Style Highlighters</td>\n",
       "      <td>Global Troy™ Executive Leather Low-Back Tilter</td>\n",
       "      <td>DAX Two-Tone Rosewood/Black Document Frame, De...</td>\n",
       "      <td>Howard Miller 12-3/4 Diameter Accuwave DS ™ Wa...</td>\n",
       "      <td>Newell 321</td>\n",
       "    </tr>\n",
       "    <tr>\n",
       "      <th>Product Base Margin</th>\n",
       "      <td>0.54</td>\n",
       "      <td>0.6</td>\n",
       "      <td>0.45</td>\n",
       "      <td>0.43</td>\n",
       "      <td>0.56</td>\n",
       "    </tr>\n",
       "    <tr>\n",
       "      <th>Country</th>\n",
       "      <td>United States</td>\n",
       "      <td>United States</td>\n",
       "      <td>United States</td>\n",
       "      <td>United States</td>\n",
       "      <td>United States</td>\n",
       "    </tr>\n",
       "    <tr>\n",
       "      <th>Manager</th>\n",
       "      <td>William</td>\n",
       "      <td>William</td>\n",
       "      <td>Erin</td>\n",
       "      <td>Chris</td>\n",
       "      <td>Chris</td>\n",
       "    </tr>\n",
       "    <tr>\n",
       "      <th>Region</th>\n",
       "      <td>West</td>\n",
       "      <td>West</td>\n",
       "      <td>East</td>\n",
       "      <td>Central</td>\n",
       "      <td>Central</td>\n",
       "    </tr>\n",
       "    <tr>\n",
       "      <th>State or Province</th>\n",
       "      <td>Washington</td>\n",
       "      <td>California</td>\n",
       "      <td>New Jersey</td>\n",
       "      <td>Minnesota</td>\n",
       "      <td>Minnesota</td>\n",
       "    </tr>\n",
       "    <tr>\n",
       "      <th>City</th>\n",
       "      <td>Anacortes</td>\n",
       "      <td>San Gabriel</td>\n",
       "      <td>Roselle</td>\n",
       "      <td>Prior Lake</td>\n",
       "      <td>Prior Lake</td>\n",
       "    </tr>\n",
       "    <tr>\n",
       "      <th>Postal Code</th>\n",
       "      <td>98221</td>\n",
       "      <td>91776</td>\n",
       "      <td>7203</td>\n",
       "      <td>55372</td>\n",
       "      <td>55372</td>\n",
       "    </tr>\n",
       "    <tr>\n",
       "      <th>Order Date</th>\n",
       "      <td>1/7/2015</td>\n",
       "      <td>6/13/2015</td>\n",
       "      <td>2/15/2015</td>\n",
       "      <td>5/12/2015</td>\n",
       "      <td>5/12/2015</td>\n",
       "    </tr>\n",
       "    <tr>\n",
       "      <th>Ship Date</th>\n",
       "      <td>1/8/2015</td>\n",
       "      <td>6/15/2015</td>\n",
       "      <td>2/17/2015</td>\n",
       "      <td>5/14/2015</td>\n",
       "      <td>5/13/2015</td>\n",
       "    </tr>\n",
       "    <tr>\n",
       "      <th>Profit</th>\n",
       "      <td>4.56</td>\n",
       "      <td>4390.3665</td>\n",
       "      <td>-53.8096</td>\n",
       "      <td>803.4705</td>\n",
       "      <td>-24.03</td>\n",
       "    </tr>\n",
       "    <tr>\n",
       "      <th>Quantity ordered new</th>\n",
       "      <td>4</td>\n",
       "      <td>12</td>\n",
       "      <td>22</td>\n",
       "      <td>16</td>\n",
       "      <td>7</td>\n",
       "    </tr>\n",
       "    <tr>\n",
       "      <th>Sales</th>\n",
       "      <td>13.01</td>\n",
       "      <td>6362.85</td>\n",
       "      <td>211.15</td>\n",
       "      <td>1164.45</td>\n",
       "      <td>22.23</td>\n",
       "    </tr>\n",
       "    <tr>\n",
       "      <th>Order ID</th>\n",
       "      <td>88522</td>\n",
       "      <td>90193</td>\n",
       "      <td>90192</td>\n",
       "      <td>86838</td>\n",
       "      <td>86838</td>\n",
       "    </tr>\n",
       "    <tr>\n",
       "      <th>Status</th>\n",
       "      <td>0</td>\n",
       "      <td>0</td>\n",
       "      <td>0</td>\n",
       "      <td>0</td>\n",
       "      <td>0</td>\n",
       "    </tr>\n",
       "  </tbody>\n",
       "</table>\n",
       "</div>"
      ],
      "text/plain": [
       "                                                                   0  \\\n",
       "Row ID                                                         20847   \n",
       "Order Priority                                                  High   \n",
       "Discount                                                        0.01   \n",
       "Unit Price                                                      2.84   \n",
       "Shipping Cost                                                   0.93   \n",
       "Customer ID                                                        3   \n",
       "Customer Name                                          Bonnie Potter   \n",
       "Ship Mode                                                Express Air   \n",
       "Customer Segment                                           Corporate   \n",
       "Product Category                                     Office Supplies   \n",
       "Product Sub-Category                             Pens & Art Supplies   \n",
       "Product Container                                           Wrap Bag   \n",
       "Product Name          SANFORD Liquid Accent™ Tank-Style Highlighters   \n",
       "Product Base Margin                                             0.54   \n",
       "Country                                                United States   \n",
       "Manager                                                      William   \n",
       "Region                                                          West   \n",
       "State or Province                                         Washington   \n",
       "City                                                       Anacortes   \n",
       "Postal Code                                                    98221   \n",
       "Order Date                                                  1/7/2015   \n",
       "Ship Date                                                   1/8/2015   \n",
       "Profit                                                          4.56   \n",
       "Quantity ordered new                                               4   \n",
       "Sales                                                          13.01   \n",
       "Order ID                                                       88522   \n",
       "Status                                                             0   \n",
       "\n",
       "                                                                   1  \\\n",
       "Row ID                                                         20228   \n",
       "Order Priority                                         Not Specified   \n",
       "Discount                                                        0.02   \n",
       "Unit Price                                                    500.98   \n",
       "Shipping Cost                                                   26.0   \n",
       "Customer ID                                                        5   \n",
       "Customer Name                                         Ronnie Proctor   \n",
       "Ship Mode                                             Delivery Truck   \n",
       "Customer Segment                                         Home Office   \n",
       "Product Category                                           Furniture   \n",
       "Product Sub-Category                              Chairs & Chairmats   \n",
       "Product Container                                         Jumbo Drum   \n",
       "Product Name          Global Troy™ Executive Leather Low-Back Tilter   \n",
       "Product Base Margin                                              0.6   \n",
       "Country                                                United States   \n",
       "Manager                                                      William   \n",
       "Region                                                          West   \n",
       "State or Province                                         California   \n",
       "City                                                     San Gabriel   \n",
       "Postal Code                                                    91776   \n",
       "Order Date                                                 6/13/2015   \n",
       "Ship Date                                                  6/15/2015   \n",
       "Profit                                                     4390.3665   \n",
       "Quantity ordered new                                              12   \n",
       "Sales                                                        6362.85   \n",
       "Order ID                                                       90193   \n",
       "Status                                                             0   \n",
       "\n",
       "                                                                      2  \\\n",
       "Row ID                                                            21776   \n",
       "Order Priority                                                 Critical   \n",
       "Discount                                                           0.06   \n",
       "Unit Price                                                         9.48   \n",
       "Shipping Cost                                                      7.29   \n",
       "Customer ID                                                          11   \n",
       "Customer Name                                             Marcus Dunlap   \n",
       "Ship Mode                                                   Regular Air   \n",
       "Customer Segment                                            Home Office   \n",
       "Product Category                                              Furniture   \n",
       "Product Sub-Category                                 Office Furnishings   \n",
       "Product Container                                            Small Pack   \n",
       "Product Name          DAX Two-Tone Rosewood/Black Document Frame, De...   \n",
       "Product Base Margin                                                0.45   \n",
       "Country                                                   United States   \n",
       "Manager                                                            Erin   \n",
       "Region                                                             East   \n",
       "State or Province                                            New Jersey   \n",
       "City                                                            Roselle   \n",
       "Postal Code                                                        7203   \n",
       "Order Date                                                    2/15/2015   \n",
       "Ship Date                                                     2/17/2015   \n",
       "Profit                                                         -53.8096   \n",
       "Quantity ordered new                                                 22   \n",
       "Sales                                                            211.15   \n",
       "Order ID                                                          90192   \n",
       "Status                                                                0   \n",
       "\n",
       "                                                                      3  \\\n",
       "Row ID                                                            24844   \n",
       "Order Priority                                                   Medium   \n",
       "Discount                                                           0.09   \n",
       "Unit Price                                                        78.69   \n",
       "Shipping Cost                                                     19.99   \n",
       "Customer ID                                                          14   \n",
       "Customer Name                                         Gwendolyn F Tyson   \n",
       "Ship Mode                                                   Regular Air   \n",
       "Customer Segment                                         Small Business   \n",
       "Product Category                                              Furniture   \n",
       "Product Sub-Category                                 Office Furnishings   \n",
       "Product Container                                             Small Box   \n",
       "Product Name          Howard Miller 12-3/4 Diameter Accuwave DS ™ Wa...   \n",
       "Product Base Margin                                                0.43   \n",
       "Country                                                   United States   \n",
       "Manager                                                           Chris   \n",
       "Region                                                          Central   \n",
       "State or Province                                             Minnesota   \n",
       "City                                                         Prior Lake   \n",
       "Postal Code                                                       55372   \n",
       "Order Date                                                    5/12/2015   \n",
       "Ship Date                                                     5/14/2015   \n",
       "Profit                                                         803.4705   \n",
       "Quantity ordered new                                                 16   \n",
       "Sales                                                           1164.45   \n",
       "Order ID                                                          86838   \n",
       "Status                                                                0   \n",
       "\n",
       "                                        4  \n",
       "Row ID                              24846  \n",
       "Order Priority                     Medium  \n",
       "Discount                             0.08  \n",
       "Unit Price                           3.28  \n",
       "Shipping Cost                        2.31  \n",
       "Customer ID                            14  \n",
       "Customer Name           Gwendolyn F Tyson  \n",
       "Ship Mode                     Regular Air  \n",
       "Customer Segment           Small Business  \n",
       "Product Category          Office Supplies  \n",
       "Product Sub-Category  Pens & Art Supplies  \n",
       "Product Container                Wrap Bag  \n",
       "Product Name                   Newell 321  \n",
       "Product Base Margin                  0.56  \n",
       "Country                     United States  \n",
       "Manager                             Chris  \n",
       "Region                            Central  \n",
       "State or Province               Minnesota  \n",
       "City                           Prior Lake  \n",
       "Postal Code                         55372  \n",
       "Order Date                      5/12/2015  \n",
       "Ship Date                       5/13/2015  \n",
       "Profit                             -24.03  \n",
       "Quantity ordered new                    7  \n",
       "Sales                               22.23  \n",
       "Order ID                            86838  \n",
       "Status                                  0  "
      ]
     },
     "execution_count": 4,
     "metadata": {},
     "output_type": "execute_result"
    }
   ],
   "source": [
    "df.head().T"
   ]
  },
  {
   "cell_type": "code",
   "execution_count": 5,
   "id": "0d9df229",
   "metadata": {},
   "outputs": [
    {
     "data": {
      "text/plain": [
       "Index(['Row ID', 'Order Priority', 'Discount', 'Unit Price', 'Shipping Cost',\n",
       "       'Customer ID', 'Customer Name', 'Ship Mode', 'Customer Segment',\n",
       "       'Product Category', 'Product Sub-Category', 'Product Container',\n",
       "       'Product Name', 'Product Base Margin', 'Country', 'Manager', 'Region',\n",
       "       'State or Province', 'City', 'Postal Code', 'Order Date', 'Ship Date',\n",
       "       'Profit', 'Quantity ordered new', 'Sales', 'Order ID', 'Status'],\n",
       "      dtype='object')"
      ]
     },
     "execution_count": 5,
     "metadata": {},
     "output_type": "execute_result"
    }
   ],
   "source": [
    "df.columns"
   ]
  },
  {
   "cell_type": "code",
   "execution_count": 6,
   "id": "fc4e8856",
   "metadata": {},
   "outputs": [
    {
     "name": "stdout",
     "output_type": "stream",
     "text": [
      "<class 'pandas.core.frame.DataFrame'>\n",
      "RangeIndex: 1952 entries, 0 to 1951\n",
      "Data columns (total 27 columns):\n",
      " #   Column                Non-Null Count  Dtype  \n",
      "---  ------                --------------  -----  \n",
      " 0   Row ID                1952 non-null   int64  \n",
      " 1   Order Priority        1952 non-null   object \n",
      " 2   Discount              1952 non-null   float64\n",
      " 3   Unit Price            1952 non-null   float64\n",
      " 4   Shipping Cost         1952 non-null   float64\n",
      " 5   Customer ID           1952 non-null   int64  \n",
      " 6   Customer Name         1952 non-null   object \n",
      " 7   Ship Mode             1952 non-null   object \n",
      " 8   Customer Segment      1952 non-null   object \n",
      " 9   Product Category      1952 non-null   object \n",
      " 10  Product Sub-Category  1952 non-null   object \n",
      " 11  Product Container     1952 non-null   object \n",
      " 12  Product Name          1952 non-null   object \n",
      " 13  Product Base Margin   1936 non-null   float64\n",
      " 14  Country               1952 non-null   object \n",
      " 15  Manager               1952 non-null   object \n",
      " 16  Region                1952 non-null   object \n",
      " 17  State or Province     1952 non-null   object \n",
      " 18  City                  1952 non-null   object \n",
      " 19  Postal Code           1952 non-null   int64  \n",
      " 20  Order Date            1952 non-null   object \n",
      " 21  Ship Date             1952 non-null   object \n",
      " 22  Profit                1952 non-null   float64\n",
      " 23  Quantity ordered new  1952 non-null   int64  \n",
      " 24  Sales                 1952 non-null   float64\n",
      " 25  Order ID              1952 non-null   int64  \n",
      " 26  Status                1952 non-null   int64  \n",
      "dtypes: float64(6), int64(6), object(15)\n",
      "memory usage: 411.9+ KB\n"
     ]
    }
   ],
   "source": [
    "df.info()"
   ]
  },
  {
   "cell_type": "markdown",
   "id": "1c4f6d88",
   "metadata": {},
   "source": [
    "**Looking at the structure in the data, the data types are mostly floats, objects & int. However, the structure of the date is kept into consideration during data wrangling by converting object or strings into datatime format for proper analysis**"
   ]
  },
  {
   "cell_type": "code",
   "execution_count": 7,
   "id": "177dc8ee",
   "metadata": {},
   "outputs": [
    {
     "data": {
      "text/html": [
       "<div>\n",
       "<style scoped>\n",
       "    .dataframe tbody tr th:only-of-type {\n",
       "        vertical-align: middle;\n",
       "    }\n",
       "\n",
       "    .dataframe tbody tr th {\n",
       "        vertical-align: top;\n",
       "    }\n",
       "\n",
       "    .dataframe thead th {\n",
       "        text-align: right;\n",
       "    }\n",
       "</style>\n",
       "<table border=\"1\" class=\"dataframe\">\n",
       "  <thead>\n",
       "    <tr style=\"text-align: right;\">\n",
       "      <th></th>\n",
       "      <th>Row ID</th>\n",
       "      <th>Discount</th>\n",
       "      <th>Unit Price</th>\n",
       "      <th>Shipping Cost</th>\n",
       "      <th>Customer ID</th>\n",
       "      <th>Product Base Margin</th>\n",
       "      <th>Postal Code</th>\n",
       "      <th>Profit</th>\n",
       "      <th>Quantity ordered new</th>\n",
       "      <th>Sales</th>\n",
       "      <th>Order ID</th>\n",
       "      <th>Status</th>\n",
       "    </tr>\n",
       "  </thead>\n",
       "  <tbody>\n",
       "    <tr>\n",
       "      <th>count</th>\n",
       "      <td>1952.000000</td>\n",
       "      <td>1952.000000</td>\n",
       "      <td>1952.000000</td>\n",
       "      <td>1952.000000</td>\n",
       "      <td>1952.000000</td>\n",
       "      <td>1936.000000</td>\n",
       "      <td>1952.000000</td>\n",
       "      <td>1952.000000</td>\n",
       "      <td>1952.000000</td>\n",
       "      <td>1952.000000</td>\n",
       "      <td>1952.000000</td>\n",
       "      <td>1952.000000</td>\n",
       "    </tr>\n",
       "    <tr>\n",
       "      <th>mean</th>\n",
       "      <td>19916.479508</td>\n",
       "      <td>0.048975</td>\n",
       "      <td>109.079221</td>\n",
       "      <td>12.968151</td>\n",
       "      <td>1735.376537</td>\n",
       "      <td>0.515186</td>\n",
       "      <td>51534.769467</td>\n",
       "      <td>114.793859</td>\n",
       "      <td>12.944672</td>\n",
       "      <td>985.828832</td>\n",
       "      <td>82365.924180</td>\n",
       "      <td>0.007684</td>\n",
       "    </tr>\n",
       "    <tr>\n",
       "      <th>std</th>\n",
       "      <td>5957.595627</td>\n",
       "      <td>0.031378</td>\n",
       "      <td>393.481301</td>\n",
       "      <td>17.414631</td>\n",
       "      <td>991.078006</td>\n",
       "      <td>0.137055</td>\n",
       "      <td>29362.828420</td>\n",
       "      <td>1141.112387</td>\n",
       "      <td>13.871565</td>\n",
       "      <td>2559.900167</td>\n",
       "      <td>19042.295798</td>\n",
       "      <td>0.087346</td>\n",
       "    </tr>\n",
       "    <tr>\n",
       "      <th>min</th>\n",
       "      <td>64.000000</td>\n",
       "      <td>0.000000</td>\n",
       "      <td>1.140000</td>\n",
       "      <td>0.490000</td>\n",
       "      <td>3.000000</td>\n",
       "      <td>0.350000</td>\n",
       "      <td>1001.000000</td>\n",
       "      <td>-16476.838000</td>\n",
       "      <td>1.000000</td>\n",
       "      <td>2.250000</td>\n",
       "      <td>359.000000</td>\n",
       "      <td>0.000000</td>\n",
       "    </tr>\n",
       "    <tr>\n",
       "      <th>25%</th>\n",
       "      <td>19121.000000</td>\n",
       "      <td>0.020000</td>\n",
       "      <td>6.480000</td>\n",
       "      <td>3.230000</td>\n",
       "      <td>875.000000</td>\n",
       "      <td>0.380000</td>\n",
       "      <td>28560.000000</td>\n",
       "      <td>-84.485400</td>\n",
       "      <td>5.000000</td>\n",
       "      <td>58.807500</td>\n",
       "      <td>86767.750000</td>\n",
       "      <td>0.000000</td>\n",
       "    </tr>\n",
       "    <tr>\n",
       "      <th>50%</th>\n",
       "      <td>21164.500000</td>\n",
       "      <td>0.050000</td>\n",
       "      <td>20.990000</td>\n",
       "      <td>6.150000</td>\n",
       "      <td>1738.000000</td>\n",
       "      <td>0.525000</td>\n",
       "      <td>48765.500000</td>\n",
       "      <td>1.476450</td>\n",
       "      <td>10.000000</td>\n",
       "      <td>202.395000</td>\n",
       "      <td>88376.000000</td>\n",
       "      <td>0.000000</td>\n",
       "    </tr>\n",
       "    <tr>\n",
       "      <th>75%</th>\n",
       "      <td>23483.250000</td>\n",
       "      <td>0.080000</td>\n",
       "      <td>100.972500</td>\n",
       "      <td>14.362500</td>\n",
       "      <td>2578.250000</td>\n",
       "      <td>0.590000</td>\n",
       "      <td>78550.000000</td>\n",
       "      <td>116.201575</td>\n",
       "      <td>16.000000</td>\n",
       "      <td>802.945000</td>\n",
       "      <td>89957.000000</td>\n",
       "      <td>0.000000</td>\n",
       "    </tr>\n",
       "    <tr>\n",
       "      <th>max</th>\n",
       "      <td>26389.000000</td>\n",
       "      <td>0.210000</td>\n",
       "      <td>6783.020000</td>\n",
       "      <td>164.730000</td>\n",
       "      <td>3403.000000</td>\n",
       "      <td>0.850000</td>\n",
       "      <td>99362.000000</td>\n",
       "      <td>9228.225600</td>\n",
       "      <td>167.000000</td>\n",
       "      <td>45737.330000</td>\n",
       "      <td>91586.000000</td>\n",
       "      <td>1.000000</td>\n",
       "    </tr>\n",
       "  </tbody>\n",
       "</table>\n",
       "</div>"
      ],
      "text/plain": [
       "             Row ID     Discount   Unit Price  Shipping Cost  Customer ID  \\\n",
       "count   1952.000000  1952.000000  1952.000000    1952.000000  1952.000000   \n",
       "mean   19916.479508     0.048975   109.079221      12.968151  1735.376537   \n",
       "std     5957.595627     0.031378   393.481301      17.414631   991.078006   \n",
       "min       64.000000     0.000000     1.140000       0.490000     3.000000   \n",
       "25%    19121.000000     0.020000     6.480000       3.230000   875.000000   \n",
       "50%    21164.500000     0.050000    20.990000       6.150000  1738.000000   \n",
       "75%    23483.250000     0.080000   100.972500      14.362500  2578.250000   \n",
       "max    26389.000000     0.210000  6783.020000     164.730000  3403.000000   \n",
       "\n",
       "       Product Base Margin   Postal Code        Profit  Quantity ordered new  \\\n",
       "count          1936.000000   1952.000000   1952.000000           1952.000000   \n",
       "mean              0.515186  51534.769467    114.793859             12.944672   \n",
       "std               0.137055  29362.828420   1141.112387             13.871565   \n",
       "min               0.350000   1001.000000 -16476.838000              1.000000   \n",
       "25%               0.380000  28560.000000    -84.485400              5.000000   \n",
       "50%               0.525000  48765.500000      1.476450             10.000000   \n",
       "75%               0.590000  78550.000000    116.201575             16.000000   \n",
       "max               0.850000  99362.000000   9228.225600            167.000000   \n",
       "\n",
       "              Sales      Order ID       Status  \n",
       "count   1952.000000   1952.000000  1952.000000  \n",
       "mean     985.828832  82365.924180     0.007684  \n",
       "std     2559.900167  19042.295798     0.087346  \n",
       "min        2.250000    359.000000     0.000000  \n",
       "25%       58.807500  86767.750000     0.000000  \n",
       "50%      202.395000  88376.000000     0.000000  \n",
       "75%      802.945000  89957.000000     0.000000  \n",
       "max    45737.330000  91586.000000     1.000000  "
      ]
     },
     "execution_count": 7,
     "metadata": {},
     "output_type": "execute_result"
    }
   ],
   "source": [
    "df.describe()"
   ]
  },
  {
   "cell_type": "markdown",
   "id": "623dabe9",
   "metadata": {},
   "source": [
    "Statistical distribution of the data."
   ]
  },
  {
   "cell_type": "markdown",
   "id": "b0376606",
   "metadata": {},
   "source": [
    "## Data Preprocessing "
   ]
  },
  {
   "cell_type": "code",
   "execution_count": 8,
   "id": "9bd3c3c1",
   "metadata": {},
   "outputs": [],
   "source": [
    "df.columns = df.columns.str.lower().str.replace(' ', '_')\n",
    "\n",
    "string_columns = list(df.dtypes[df.dtypes == 'object'].index)\n",
    "\n",
    "for col in string_columns:\n",
    "    df[col] = df[col].str.lower().str.replace(' ', '_')"
   ]
  },
  {
   "cell_type": "markdown",
   "id": "ace0c2d3",
   "metadata": {},
   "source": [
    "Cleaning the features in the data for easy readability."
   ]
  },
  {
   "cell_type": "code",
   "execution_count": 9,
   "id": "7066f107",
   "metadata": {},
   "outputs": [
    {
     "name": "stdout",
     "output_type": "stream",
     "text": [
      "row_id\n",
      "[20847 20228 21776 24844 24846]\n",
      "1951\n",
      "order_priority\n",
      "['high' 'not_specified' 'critical' 'medium' 'low']\n",
      "6\n",
      "discount\n",
      "[0.01 0.02 0.06 0.09 0.08]\n",
      "13\n",
      "unit_price\n",
      "[  2.84 500.98   9.48  78.69   3.28]\n",
      "597\n",
      "shipping_cost\n",
      "[ 0.93 26.    7.29 19.99  2.31]\n",
      "497\n",
      "customer_id\n",
      "[ 3  5 11 14 15]\n",
      "1130\n",
      "customer_name\n",
      "['bonnie_potter' 'ronnie_proctor' 'marcus_dunlap' 'gwendolyn_f_tyson'\n",
      " 'timothy_reese']\n",
      "1130\n",
      "ship_mode\n",
      "['express_air' 'delivery_truck' 'regular_air']\n",
      "3\n",
      "customer_segment\n",
      "['corporate' 'home_office' 'small_business' 'consumer']\n",
      "4\n",
      "product_category\n",
      "['office_supplies' 'furniture' 'technology']\n",
      "3\n",
      "product_sub-category\n",
      "['pens_&_art_supplies' 'chairs_&_chairmats' 'office_furnishings'\n",
      " 'rubber_bands' 'envelopes']\n",
      "17\n",
      "product_container\n",
      "['wrap_bag' 'jumbo_drum' 'small_pack' 'small_box' 'medium_box']\n",
      "7\n",
      "product_name\n",
      "['sanford_liquid_accent™_tank-style_highlighters'\n",
      " 'global_troy™_executive_leather_low-back_tilter'\n",
      " 'dax_two-tone_rosewood/black_document_frame,_desktop,_5_x_7'\n",
      " 'howard_miller_12-3/4_diameter_accuwave_ds_™_wall_clock' 'newell_321']\n",
      "913\n",
      "product_base_margin\n",
      "[0.54 0.6  0.45 0.43 0.56]\n",
      "51\n",
      "country\n",
      "['united_states']\n",
      "1\n",
      "manager\n",
      "['william' 'erin' 'chris' 'sam']\n",
      "4\n",
      "region\n",
      "['west' 'east' 'central' 'south']\n",
      "4\n",
      "state_or_province\n",
      "['washington' 'california' 'new_jersey' 'minnesota' 'new_york']\n",
      "49\n",
      "city\n",
      "['anacortes' 'san_gabriel' 'roselle' 'prior_lake' 'smithtown']\n",
      "869\n",
      "postal_code\n",
      "[98221 91776  7203 55372 11787]\n",
      "981\n",
      "order_date\n",
      "['1/7/2015' '6/13/2015' '2/15/2015' '5/12/2015' '4/8/2015']\n",
      "179\n",
      "ship_date\n",
      "['1/8/2015' '6/15/2015' '2/17/2015' '5/14/2015' '5/13/2015']\n",
      "187\n",
      "profit\n",
      "[   4.56   4390.3665  -53.8096  803.4705  -24.03  ]\n",
      "1896\n",
      "quantity_ordered_new\n",
      "[ 4 12 22 16  7]\n",
      "76\n",
      "sales\n",
      "[  13.01 6362.85  211.15 1164.45   22.23]\n",
      "1922\n",
      "order_id\n",
      "[88522 90193 90192 86838 86837]\n",
      "1365\n",
      "status\n",
      "[0 1]\n",
      "2\n"
     ]
    }
   ],
   "source": [
    "for col in df.columns:\n",
    "    print(col)\n",
    "    df[col].unique()\n",
    "    print(df[col].unique()[:5])\n",
    "    df[col].nunique()\n",
    "    print(df[col].nunique())"
   ]
  },
  {
   "cell_type": "markdown",
   "id": "dcc0c038",
   "metadata": {},
   "source": [
    "Viewing the first `five features` in the data."
   ]
  },
  {
   "cell_type": "code",
   "execution_count": 10,
   "id": "f0ccd3f6",
   "metadata": {},
   "outputs": [
    {
     "data": {
      "text/plain": [
       "row_id                   0\n",
       "order_priority           0\n",
       "discount                 0\n",
       "unit_price               0\n",
       "shipping_cost            0\n",
       "customer_id              0\n",
       "customer_name            0\n",
       "ship_mode                0\n",
       "customer_segment         0\n",
       "product_category         0\n",
       "product_sub-category     0\n",
       "product_container        0\n",
       "product_name             0\n",
       "product_base_margin     16\n",
       "country                  0\n",
       "manager                  0\n",
       "region                   0\n",
       "state_or_province        0\n",
       "city                     0\n",
       "postal_code              0\n",
       "order_date               0\n",
       "ship_date                0\n",
       "profit                   0\n",
       "quantity_ordered_new     0\n",
       "sales                    0\n",
       "order_id                 0\n",
       "status                   0\n",
       "dtype: int64"
      ]
     },
     "execution_count": 10,
     "metadata": {},
     "output_type": "execute_result"
    }
   ],
   "source": [
    "df.isnull().sum()"
   ]
  },
  {
   "cell_type": "markdown",
   "id": "fb308158",
   "metadata": {},
   "source": [
    "**After checking the structure of the data, i found out that product base margin had missing points in the data and this would be treated by dropping the data. The reason for dropping the data is bent on the fact that calculating the product base margin giving the formula:**\n",
    "\n",
    "                    gross profit/Revenue * 100\n",
    "\n",
    "**and using the formula for gross profit which is:**\n",
    "\n",
    "                    cost of goods sold (COGS) - total revenue\n",
    "\n",
    "**I found out that there were some miscalculations in the data. However, this won't stop my analysis, as i move to drop the missing values**"
   ]
  },
  {
   "cell_type": "code",
   "execution_count": 11,
   "id": "cc00a6a6",
   "metadata": {},
   "outputs": [],
   "source": [
    "df.dropna(how= 'all', subset=['product_base_margin'], inplace=True)"
   ]
  },
  {
   "cell_type": "markdown",
   "id": "9147f1ec",
   "metadata": {},
   "source": [
    "Dropping the missing the data."
   ]
  },
  {
   "cell_type": "code",
   "execution_count": 12,
   "id": "787e5e37",
   "metadata": {},
   "outputs": [
    {
     "data": {
      "text/plain": [
       "row_id                  0\n",
       "order_priority          0\n",
       "discount                0\n",
       "unit_price              0\n",
       "shipping_cost           0\n",
       "customer_id             0\n",
       "customer_name           0\n",
       "ship_mode               0\n",
       "customer_segment        0\n",
       "product_category        0\n",
       "product_sub-category    0\n",
       "product_container       0\n",
       "product_name            0\n",
       "product_base_margin     0\n",
       "country                 0\n",
       "manager                 0\n",
       "region                  0\n",
       "state_or_province       0\n",
       "city                    0\n",
       "postal_code             0\n",
       "order_date              0\n",
       "ship_date               0\n",
       "profit                  0\n",
       "quantity_ordered_new    0\n",
       "sales                   0\n",
       "order_id                0\n",
       "status                  0\n",
       "dtype: int64"
      ]
     },
     "execution_count": 12,
     "metadata": {},
     "output_type": "execute_result"
    }
   ],
   "source": [
    "df.isnull().sum()"
   ]
  },
  {
   "cell_type": "markdown",
   "id": "a16c9143",
   "metadata": {},
   "source": [
    "Looking at the above, there are no more missing values in the data."
   ]
  },
  {
   "cell_type": "code",
   "execution_count": 13,
   "id": "a72ef919",
   "metadata": {},
   "outputs": [
    {
     "data": {
      "text/html": [
       "<div>\n",
       "<style scoped>\n",
       "    .dataframe tbody tr th:only-of-type {\n",
       "        vertical-align: middle;\n",
       "    }\n",
       "\n",
       "    .dataframe tbody tr th {\n",
       "        vertical-align: top;\n",
       "    }\n",
       "\n",
       "    .dataframe thead th {\n",
       "        text-align: right;\n",
       "    }\n",
       "</style>\n",
       "<table border=\"1\" class=\"dataframe\">\n",
       "  <thead>\n",
       "    <tr style=\"text-align: right;\">\n",
       "      <th></th>\n",
       "      <th>row_id</th>\n",
       "      <th>order_priority</th>\n",
       "      <th>discount</th>\n",
       "      <th>unit_price</th>\n",
       "      <th>shipping_cost</th>\n",
       "      <th>customer_id</th>\n",
       "      <th>customer_name</th>\n",
       "      <th>ship_mode</th>\n",
       "      <th>customer_segment</th>\n",
       "      <th>product_category</th>\n",
       "      <th>...</th>\n",
       "      <th>state_or_province</th>\n",
       "      <th>city</th>\n",
       "      <th>postal_code</th>\n",
       "      <th>order_date</th>\n",
       "      <th>ship_date</th>\n",
       "      <th>profit</th>\n",
       "      <th>quantity_ordered_new</th>\n",
       "      <th>sales</th>\n",
       "      <th>order_id</th>\n",
       "      <th>status</th>\n",
       "    </tr>\n",
       "  </thead>\n",
       "  <tbody>\n",
       "    <tr>\n",
       "      <th>0</th>\n",
       "      <td>20847</td>\n",
       "      <td>high</td>\n",
       "      <td>0.01</td>\n",
       "      <td>2.84</td>\n",
       "      <td>0.93</td>\n",
       "      <td>3</td>\n",
       "      <td>bonnie_potter</td>\n",
       "      <td>express_air</td>\n",
       "      <td>corporate</td>\n",
       "      <td>office_supplies</td>\n",
       "      <td>...</td>\n",
       "      <td>washington</td>\n",
       "      <td>anacortes</td>\n",
       "      <td>98221</td>\n",
       "      <td>1/7/2015</td>\n",
       "      <td>1/8/2015</td>\n",
       "      <td>4.5600</td>\n",
       "      <td>4</td>\n",
       "      <td>13.01</td>\n",
       "      <td>88522</td>\n",
       "      <td>0</td>\n",
       "    </tr>\n",
       "    <tr>\n",
       "      <th>1</th>\n",
       "      <td>20228</td>\n",
       "      <td>not_specified</td>\n",
       "      <td>0.02</td>\n",
       "      <td>500.98</td>\n",
       "      <td>26.00</td>\n",
       "      <td>5</td>\n",
       "      <td>ronnie_proctor</td>\n",
       "      <td>delivery_truck</td>\n",
       "      <td>home_office</td>\n",
       "      <td>furniture</td>\n",
       "      <td>...</td>\n",
       "      <td>california</td>\n",
       "      <td>san_gabriel</td>\n",
       "      <td>91776</td>\n",
       "      <td>6/13/2015</td>\n",
       "      <td>6/15/2015</td>\n",
       "      <td>4390.3665</td>\n",
       "      <td>12</td>\n",
       "      <td>6362.85</td>\n",
       "      <td>90193</td>\n",
       "      <td>0</td>\n",
       "    </tr>\n",
       "    <tr>\n",
       "      <th>2</th>\n",
       "      <td>21776</td>\n",
       "      <td>critical</td>\n",
       "      <td>0.06</td>\n",
       "      <td>9.48</td>\n",
       "      <td>7.29</td>\n",
       "      <td>11</td>\n",
       "      <td>marcus_dunlap</td>\n",
       "      <td>regular_air</td>\n",
       "      <td>home_office</td>\n",
       "      <td>furniture</td>\n",
       "      <td>...</td>\n",
       "      <td>new_jersey</td>\n",
       "      <td>roselle</td>\n",
       "      <td>7203</td>\n",
       "      <td>2/15/2015</td>\n",
       "      <td>2/17/2015</td>\n",
       "      <td>-53.8096</td>\n",
       "      <td>22</td>\n",
       "      <td>211.15</td>\n",
       "      <td>90192</td>\n",
       "      <td>0</td>\n",
       "    </tr>\n",
       "    <tr>\n",
       "      <th>3</th>\n",
       "      <td>24844</td>\n",
       "      <td>medium</td>\n",
       "      <td>0.09</td>\n",
       "      <td>78.69</td>\n",
       "      <td>19.99</td>\n",
       "      <td>14</td>\n",
       "      <td>gwendolyn_f_tyson</td>\n",
       "      <td>regular_air</td>\n",
       "      <td>small_business</td>\n",
       "      <td>furniture</td>\n",
       "      <td>...</td>\n",
       "      <td>minnesota</td>\n",
       "      <td>prior_lake</td>\n",
       "      <td>55372</td>\n",
       "      <td>5/12/2015</td>\n",
       "      <td>5/14/2015</td>\n",
       "      <td>803.4705</td>\n",
       "      <td>16</td>\n",
       "      <td>1164.45</td>\n",
       "      <td>86838</td>\n",
       "      <td>0</td>\n",
       "    </tr>\n",
       "    <tr>\n",
       "      <th>4</th>\n",
       "      <td>24846</td>\n",
       "      <td>medium</td>\n",
       "      <td>0.08</td>\n",
       "      <td>3.28</td>\n",
       "      <td>2.31</td>\n",
       "      <td>14</td>\n",
       "      <td>gwendolyn_f_tyson</td>\n",
       "      <td>regular_air</td>\n",
       "      <td>small_business</td>\n",
       "      <td>office_supplies</td>\n",
       "      <td>...</td>\n",
       "      <td>minnesota</td>\n",
       "      <td>prior_lake</td>\n",
       "      <td>55372</td>\n",
       "      <td>5/12/2015</td>\n",
       "      <td>5/13/2015</td>\n",
       "      <td>-24.0300</td>\n",
       "      <td>7</td>\n",
       "      <td>22.23</td>\n",
       "      <td>86838</td>\n",
       "      <td>0</td>\n",
       "    </tr>\n",
       "    <tr>\n",
       "      <th>...</th>\n",
       "      <td>...</td>\n",
       "      <td>...</td>\n",
       "      <td>...</td>\n",
       "      <td>...</td>\n",
       "      <td>...</td>\n",
       "      <td>...</td>\n",
       "      <td>...</td>\n",
       "      <td>...</td>\n",
       "      <td>...</td>\n",
       "      <td>...</td>\n",
       "      <td>...</td>\n",
       "      <td>...</td>\n",
       "      <td>...</td>\n",
       "      <td>...</td>\n",
       "      <td>...</td>\n",
       "      <td>...</td>\n",
       "      <td>...</td>\n",
       "      <td>...</td>\n",
       "      <td>...</td>\n",
       "      <td>...</td>\n",
       "      <td>...</td>\n",
       "    </tr>\n",
       "    <tr>\n",
       "      <th>1947</th>\n",
       "      <td>19842</td>\n",
       "      <td>high</td>\n",
       "      <td>0.01</td>\n",
       "      <td>10.90</td>\n",
       "      <td>7.46</td>\n",
       "      <td>3397</td>\n",
       "      <td>andrea_shaw</td>\n",
       "      <td>regular_air</td>\n",
       "      <td>small_business</td>\n",
       "      <td>office_supplies</td>\n",
       "      <td>...</td>\n",
       "      <td>illinois</td>\n",
       "      <td>danville</td>\n",
       "      <td>61832</td>\n",
       "      <td>3/11/2015</td>\n",
       "      <td>3/12/2015</td>\n",
       "      <td>-116.7600</td>\n",
       "      <td>18</td>\n",
       "      <td>207.31</td>\n",
       "      <td>87536</td>\n",
       "      <td>0</td>\n",
       "    </tr>\n",
       "    <tr>\n",
       "      <th>1948</th>\n",
       "      <td>19843</td>\n",
       "      <td>high</td>\n",
       "      <td>0.10</td>\n",
       "      <td>7.99</td>\n",
       "      <td>5.03</td>\n",
       "      <td>3397</td>\n",
       "      <td>andrea_shaw</td>\n",
       "      <td>regular_air</td>\n",
       "      <td>small_business</td>\n",
       "      <td>technology</td>\n",
       "      <td>...</td>\n",
       "      <td>illinois</td>\n",
       "      <td>danville</td>\n",
       "      <td>61832</td>\n",
       "      <td>3/11/2015</td>\n",
       "      <td>3/12/2015</td>\n",
       "      <td>-160.9520</td>\n",
       "      <td>22</td>\n",
       "      <td>143.12</td>\n",
       "      <td>87536</td>\n",
       "      <td>0</td>\n",
       "    </tr>\n",
       "    <tr>\n",
       "      <th>1949</th>\n",
       "      <td>26208</td>\n",
       "      <td>not_specified</td>\n",
       "      <td>0.08</td>\n",
       "      <td>11.97</td>\n",
       "      <td>5.81</td>\n",
       "      <td>3399</td>\n",
       "      <td>marvin_reid</td>\n",
       "      <td>regular_air</td>\n",
       "      <td>small_business</td>\n",
       "      <td>office_supplies</td>\n",
       "      <td>...</td>\n",
       "      <td>illinois</td>\n",
       "      <td>des_plaines</td>\n",
       "      <td>60016</td>\n",
       "      <td>3/29/2015</td>\n",
       "      <td>3/31/2015</td>\n",
       "      <td>-41.8700</td>\n",
       "      <td>5</td>\n",
       "      <td>59.98</td>\n",
       "      <td>87534</td>\n",
       "      <td>0</td>\n",
       "    </tr>\n",
       "    <tr>\n",
       "      <th>1950</th>\n",
       "      <td>24911</td>\n",
       "      <td>medium</td>\n",
       "      <td>0.10</td>\n",
       "      <td>9.38</td>\n",
       "      <td>4.93</td>\n",
       "      <td>3400</td>\n",
       "      <td>florence_gold</td>\n",
       "      <td>express_air</td>\n",
       "      <td>small_business</td>\n",
       "      <td>furniture</td>\n",
       "      <td>...</td>\n",
       "      <td>west_virginia</td>\n",
       "      <td>fairmont</td>\n",
       "      <td>26554</td>\n",
       "      <td>4/4/2015</td>\n",
       "      <td>4/4/2015</td>\n",
       "      <td>-24.7104</td>\n",
       "      <td>15</td>\n",
       "      <td>135.78</td>\n",
       "      <td>87537</td>\n",
       "      <td>0</td>\n",
       "    </tr>\n",
       "    <tr>\n",
       "      <th>1951</th>\n",
       "      <td>25914</td>\n",
       "      <td>high</td>\n",
       "      <td>0.10</td>\n",
       "      <td>105.98</td>\n",
       "      <td>13.99</td>\n",
       "      <td>3403</td>\n",
       "      <td>tammy_buckley</td>\n",
       "      <td>express_air</td>\n",
       "      <td>consumer</td>\n",
       "      <td>furniture</td>\n",
       "      <td>...</td>\n",
       "      <td>wyoming</td>\n",
       "      <td>cheyenne</td>\n",
       "      <td>82001</td>\n",
       "      <td>2/8/2015</td>\n",
       "      <td>2/11/2015</td>\n",
       "      <td>349.4850</td>\n",
       "      <td>5</td>\n",
       "      <td>506.50</td>\n",
       "      <td>87530</td>\n",
       "      <td>0</td>\n",
       "    </tr>\n",
       "  </tbody>\n",
       "</table>\n",
       "<p>1936 rows × 27 columns</p>\n",
       "</div>"
      ],
      "text/plain": [
       "      row_id order_priority  discount  unit_price  shipping_cost  customer_id  \\\n",
       "0      20847           high      0.01        2.84           0.93            3   \n",
       "1      20228  not_specified      0.02      500.98          26.00            5   \n",
       "2      21776       critical      0.06        9.48           7.29           11   \n",
       "3      24844         medium      0.09       78.69          19.99           14   \n",
       "4      24846         medium      0.08        3.28           2.31           14   \n",
       "...      ...            ...       ...         ...            ...          ...   \n",
       "1947   19842           high      0.01       10.90           7.46         3397   \n",
       "1948   19843           high      0.10        7.99           5.03         3397   \n",
       "1949   26208  not_specified      0.08       11.97           5.81         3399   \n",
       "1950   24911         medium      0.10        9.38           4.93         3400   \n",
       "1951   25914           high      0.10      105.98          13.99         3403   \n",
       "\n",
       "          customer_name       ship_mode customer_segment product_category  \\\n",
       "0         bonnie_potter     express_air        corporate  office_supplies   \n",
       "1        ronnie_proctor  delivery_truck      home_office        furniture   \n",
       "2         marcus_dunlap     regular_air      home_office        furniture   \n",
       "3     gwendolyn_f_tyson     regular_air   small_business        furniture   \n",
       "4     gwendolyn_f_tyson     regular_air   small_business  office_supplies   \n",
       "...                 ...             ...              ...              ...   \n",
       "1947        andrea_shaw     regular_air   small_business  office_supplies   \n",
       "1948        andrea_shaw     regular_air   small_business       technology   \n",
       "1949        marvin_reid     regular_air   small_business  office_supplies   \n",
       "1950      florence_gold     express_air   small_business        furniture   \n",
       "1951      tammy_buckley     express_air         consumer        furniture   \n",
       "\n",
       "      ... state_or_province         city postal_code  order_date  ship_date  \\\n",
       "0     ...        washington    anacortes       98221    1/7/2015   1/8/2015   \n",
       "1     ...        california  san_gabriel       91776   6/13/2015  6/15/2015   \n",
       "2     ...        new_jersey      roselle        7203   2/15/2015  2/17/2015   \n",
       "3     ...         minnesota   prior_lake       55372   5/12/2015  5/14/2015   \n",
       "4     ...         minnesota   prior_lake       55372   5/12/2015  5/13/2015   \n",
       "...   ...               ...          ...         ...         ...        ...   \n",
       "1947  ...          illinois     danville       61832   3/11/2015  3/12/2015   \n",
       "1948  ...          illinois     danville       61832   3/11/2015  3/12/2015   \n",
       "1949  ...          illinois  des_plaines       60016   3/29/2015  3/31/2015   \n",
       "1950  ...     west_virginia     fairmont       26554    4/4/2015   4/4/2015   \n",
       "1951  ...           wyoming     cheyenne       82001    2/8/2015  2/11/2015   \n",
       "\n",
       "         profit quantity_ordered_new    sales order_id  status  \n",
       "0        4.5600                    4    13.01    88522       0  \n",
       "1     4390.3665                   12  6362.85    90193       0  \n",
       "2      -53.8096                   22   211.15    90192       0  \n",
       "3      803.4705                   16  1164.45    86838       0  \n",
       "4      -24.0300                    7    22.23    86838       0  \n",
       "...         ...                  ...      ...      ...     ...  \n",
       "1947  -116.7600                   18   207.31    87536       0  \n",
       "1948  -160.9520                   22   143.12    87536       0  \n",
       "1949   -41.8700                    5    59.98    87534       0  \n",
       "1950   -24.7104                   15   135.78    87537       0  \n",
       "1951   349.4850                    5   506.50    87530       0  \n",
       "\n",
       "[1936 rows x 27 columns]"
      ]
     },
     "execution_count": 13,
     "metadata": {},
     "output_type": "execute_result"
    }
   ],
   "source": [
    "df"
   ]
  },
  {
   "cell_type": "code",
   "execution_count": 14,
   "id": "b1b2a4d0",
   "metadata": {},
   "outputs": [
    {
     "name": "stdout",
     "output_type": "stream",
     "text": [
      "1936 1936 1936\n"
     ]
    },
    {
     "data": {
      "text/html": [
       "<div>\n",
       "<style scoped>\n",
       "    .dataframe tbody tr th:only-of-type {\n",
       "        vertical-align: middle;\n",
       "    }\n",
       "\n",
       "    .dataframe tbody tr th {\n",
       "        vertical-align: top;\n",
       "    }\n",
       "\n",
       "    .dataframe thead th {\n",
       "        text-align: right;\n",
       "    }\n",
       "</style>\n",
       "<table border=\"1\" class=\"dataframe\">\n",
       "  <thead>\n",
       "    <tr style=\"text-align: right;\">\n",
       "      <th></th>\n",
       "      <th>row_id</th>\n",
       "      <th>order_priority</th>\n",
       "      <th>discount</th>\n",
       "      <th>unit_price</th>\n",
       "      <th>shipping_cost</th>\n",
       "      <th>customer_id</th>\n",
       "      <th>customer_name</th>\n",
       "      <th>ship_mode</th>\n",
       "      <th>customer_segment</th>\n",
       "      <th>product_category</th>\n",
       "      <th>...</th>\n",
       "      <th>order_date</th>\n",
       "      <th>ship_date</th>\n",
       "      <th>profit</th>\n",
       "      <th>quantity_ordered_new</th>\n",
       "      <th>sales</th>\n",
       "      <th>order_id</th>\n",
       "      <th>status</th>\n",
       "      <th>month</th>\n",
       "      <th>day</th>\n",
       "      <th>period</th>\n",
       "    </tr>\n",
       "  </thead>\n",
       "  <tbody>\n",
       "    <tr>\n",
       "      <th>0</th>\n",
       "      <td>20847</td>\n",
       "      <td>high</td>\n",
       "      <td>0.01</td>\n",
       "      <td>2.84</td>\n",
       "      <td>0.93</td>\n",
       "      <td>3</td>\n",
       "      <td>bonnie_potter</td>\n",
       "      <td>express_air</td>\n",
       "      <td>corporate</td>\n",
       "      <td>office_supplies</td>\n",
       "      <td>...</td>\n",
       "      <td>1/7/2015</td>\n",
       "      <td>1/8/2015</td>\n",
       "      <td>4.5600</td>\n",
       "      <td>4</td>\n",
       "      <td>13.01</td>\n",
       "      <td>88522</td>\n",
       "      <td>0</td>\n",
       "      <td>Jan</td>\n",
       "      <td>Mon</td>\n",
       "      <td>Unknown</td>\n",
       "    </tr>\n",
       "    <tr>\n",
       "      <th>1</th>\n",
       "      <td>20228</td>\n",
       "      <td>not_specified</td>\n",
       "      <td>0.02</td>\n",
       "      <td>500.98</td>\n",
       "      <td>26.00</td>\n",
       "      <td>5</td>\n",
       "      <td>ronnie_proctor</td>\n",
       "      <td>delivery_truck</td>\n",
       "      <td>home_office</td>\n",
       "      <td>furniture</td>\n",
       "      <td>...</td>\n",
       "      <td>6/13/2015</td>\n",
       "      <td>6/15/2015</td>\n",
       "      <td>4390.3665</td>\n",
       "      <td>12</td>\n",
       "      <td>6362.85</td>\n",
       "      <td>90193</td>\n",
       "      <td>0</td>\n",
       "      <td>Jun</td>\n",
       "      <td>Thu</td>\n",
       "      <td>Unknown</td>\n",
       "    </tr>\n",
       "    <tr>\n",
       "      <th>2</th>\n",
       "      <td>21776</td>\n",
       "      <td>critical</td>\n",
       "      <td>0.06</td>\n",
       "      <td>9.48</td>\n",
       "      <td>7.29</td>\n",
       "      <td>11</td>\n",
       "      <td>marcus_dunlap</td>\n",
       "      <td>regular_air</td>\n",
       "      <td>home_office</td>\n",
       "      <td>furniture</td>\n",
       "      <td>...</td>\n",
       "      <td>2/15/2015</td>\n",
       "      <td>2/17/2015</td>\n",
       "      <td>-53.8096</td>\n",
       "      <td>22</td>\n",
       "      <td>211.15</td>\n",
       "      <td>90192</td>\n",
       "      <td>0</td>\n",
       "      <td>Feb</td>\n",
       "      <td>Fri</td>\n",
       "      <td>Unknown</td>\n",
       "    </tr>\n",
       "    <tr>\n",
       "      <th>3</th>\n",
       "      <td>24844</td>\n",
       "      <td>medium</td>\n",
       "      <td>0.09</td>\n",
       "      <td>78.69</td>\n",
       "      <td>19.99</td>\n",
       "      <td>14</td>\n",
       "      <td>gwendolyn_f_tyson</td>\n",
       "      <td>regular_air</td>\n",
       "      <td>small_business</td>\n",
       "      <td>furniture</td>\n",
       "      <td>...</td>\n",
       "      <td>5/12/2015</td>\n",
       "      <td>5/14/2015</td>\n",
       "      <td>803.4705</td>\n",
       "      <td>16</td>\n",
       "      <td>1164.45</td>\n",
       "      <td>86838</td>\n",
       "      <td>0</td>\n",
       "      <td>May</td>\n",
       "      <td>Sun</td>\n",
       "      <td>Unknown</td>\n",
       "    </tr>\n",
       "    <tr>\n",
       "      <th>4</th>\n",
       "      <td>24846</td>\n",
       "      <td>medium</td>\n",
       "      <td>0.08</td>\n",
       "      <td>3.28</td>\n",
       "      <td>2.31</td>\n",
       "      <td>14</td>\n",
       "      <td>gwendolyn_f_tyson</td>\n",
       "      <td>regular_air</td>\n",
       "      <td>small_business</td>\n",
       "      <td>office_supplies</td>\n",
       "      <td>...</td>\n",
       "      <td>5/12/2015</td>\n",
       "      <td>5/13/2015</td>\n",
       "      <td>-24.0300</td>\n",
       "      <td>7</td>\n",
       "      <td>22.23</td>\n",
       "      <td>86838</td>\n",
       "      <td>0</td>\n",
       "      <td>May</td>\n",
       "      <td>Sun</td>\n",
       "      <td>Unknown</td>\n",
       "    </tr>\n",
       "  </tbody>\n",
       "</table>\n",
       "<p>5 rows × 30 columns</p>\n",
       "</div>"
      ],
      "text/plain": [
       "   row_id order_priority  discount  unit_price  shipping_cost  customer_id  \\\n",
       "0   20847           high      0.01        2.84           0.93            3   \n",
       "1   20228  not_specified      0.02      500.98          26.00            5   \n",
       "2   21776       critical      0.06        9.48           7.29           11   \n",
       "3   24844         medium      0.09       78.69          19.99           14   \n",
       "4   24846         medium      0.08        3.28           2.31           14   \n",
       "\n",
       "       customer_name       ship_mode customer_segment product_category  ...  \\\n",
       "0      bonnie_potter     express_air        corporate  office_supplies  ...   \n",
       "1     ronnie_proctor  delivery_truck      home_office        furniture  ...   \n",
       "2      marcus_dunlap     regular_air      home_office        furniture  ...   \n",
       "3  gwendolyn_f_tyson     regular_air   small_business        furniture  ...   \n",
       "4  gwendolyn_f_tyson     regular_air   small_business  office_supplies  ...   \n",
       "\n",
       "  order_date  ship_date     profit  quantity_ordered_new    sales order_id  \\\n",
       "0   1/7/2015   1/8/2015     4.5600                     4    13.01    88522   \n",
       "1  6/13/2015  6/15/2015  4390.3665                    12  6362.85    90193   \n",
       "2  2/15/2015  2/17/2015   -53.8096                    22   211.15    90192   \n",
       "3  5/12/2015  5/14/2015   803.4705                    16  1164.45    86838   \n",
       "4  5/12/2015  5/13/2015   -24.0300                     7    22.23    86838   \n",
       "\n",
       "  status month   day   period  \n",
       "0      0   Jan  Mon   Unknown  \n",
       "1      0   Jun  Thu   Unknown  \n",
       "2      0   Feb  Fri   Unknown  \n",
       "3      0   May  Sun   Unknown  \n",
       "4      0   May  Sun   Unknown  \n",
       "\n",
       "[5 rows x 30 columns]"
      ]
     },
     "execution_count": 14,
     "metadata": {},
     "output_type": "execute_result"
    }
   ],
   "source": [
    "from dateutil.parser import parse\n",
    "from datetime import datetime\n",
    "tCol = df['order_date']\n",
    "\n",
    "List = [(datetime.ctime(parse(x[0:-3])),x[-2:]) for x in tCol]\n",
    "dayList = []\n",
    "monthList = []\n",
    "periodList = []\n",
    "for row in List:\n",
    "    day = row[0][0:4]\n",
    "    month = row[0][4:7]\n",
    "    if row[1]=='AM':\n",
    "        period = 'Morning'\n",
    "    elif row[1] =='PM' and int(row[0][11:13])<4:\n",
    "        period = 'Afternoon'\n",
    "    elif row[1] =='PM' and int(row[0][11:13])<5:\n",
    "        period = 'Evening' \n",
    "    elif row[1] =='PM' and int(row[0][11:13])>6:\n",
    "        period = 'Night'\n",
    "    else:\n",
    "        period = 'Unknown'\n",
    "        \n",
    "    dayList.append(day)\n",
    "    monthList.append(month)\n",
    "    periodList.append(period)\n",
    "    \n",
    "print(len(dayList), len(monthList), len(periodList))    \n",
    "\n",
    "df['month'] = monthList\n",
    "df['day'] = dayList\n",
    "df['period']= periodList\n",
    "df.head()\n"
   ]
  },
  {
   "cell_type": "markdown",
   "id": "fb2c94d4",
   "metadata": {},
   "source": [
    "Creating new columns `month`, `day`, `period` in the data."
   ]
  },
  {
   "cell_type": "markdown",
   "id": "7034681b",
   "metadata": {},
   "source": [
    "# Exploratory Data Analysis "
   ]
  },
  {
   "cell_type": "code",
   "execution_count": 15,
   "id": "79dac5a4",
   "metadata": {},
   "outputs": [
    {
     "data": {
      "text/html": [
       "        <script type=\"text/javascript\">\n",
       "        window.PlotlyConfig = {MathJaxConfig: 'local'};\n",
       "        if (window.MathJax && window.MathJax.Hub && window.MathJax.Hub.Config) {window.MathJax.Hub.Config({SVG: {font: \"STIX-Web\"}});}\n",
       "        if (typeof require !== 'undefined') {\n",
       "        require.undef(\"plotly\");\n",
       "        requirejs.config({\n",
       "            paths: {\n",
       "                'plotly': ['https://cdn.plot.ly/plotly-2.14.0.min']\n",
       "            }\n",
       "        });\n",
       "        require(['plotly'], function(Plotly) {\n",
       "            window._Plotly = Plotly;\n",
       "        });\n",
       "        }\n",
       "        </script>\n",
       "        "
      ]
     },
     "metadata": {},
     "output_type": "display_data"
    },
    {
     "data": {
      "application/vnd.plotly.v1+json": {
       "config": {
        "linkText": "Export to plot.ly",
        "plotlyServerURL": "https://plot.ly",
        "showLink": false
       },
       "data": [
        {
         "hoverinfo": "all",
         "type": "heatmap",
         "x": [
          "row_id",
          "discount",
          "unit_price",
          "shipping_cost",
          "customer_id",
          "product_base_margin",
          "postal_code",
          "profit",
          "quantity_ordered_new",
          "sales",
          "order_id",
          "status"
         ],
         "y": [
          "row_id",
          "discount",
          "unit_price",
          "shipping_cost",
          "customer_id",
          "product_base_margin",
          "postal_code",
          "profit",
          "quantity_ordered_new",
          "sales",
          "order_id",
          "status"
         ],
         "z": [
          [
           1,
           0.018507922198163124,
           -0.004577993120716615,
           -0.017175350280283167,
           0.06335153375577698,
           0.00013666876507583174,
           0.032656443196021,
           -0.037826332355159496,
           -0.5690351340126798,
           -0.2586034693060985,
           0.918582165737436,
           -0.21750280906292538
          ],
          [
           0.018507922198163124,
           1,
           -0.010333305507889426,
           0.03411693299718087,
           0.015745768143908923,
           0.018656260671621246,
           -0.02196188865163755,
           -0.061396707564016474,
           -0.009996988246016265,
           -0.035322966386246685,
           0.01810077320685257,
           -0.024983347865199255
          ],
          [
           -0.004577993120716615,
           -0.010333305507889426,
           1,
           0.19621925028667322,
           -0.009371710830987695,
           0.029085755286544196,
           0.016064024117396564,
           -0.1852381265337148,
           -0.07257274128382707,
           0.4427498002410509,
           0.002978855383611171,
           -0.01447511369989636
          ],
          [
           -0.017175350280283167,
           0.03411693299718087,
           0.19621925028667322,
           1,
           -0.021475563769133784,
           0.3619523382827019,
           -0.03349897824238972,
           9.095570517041316e-05,
           -0.00865694791269857,
           0.3167813043126456,
           -0.017238126886725654,
           -0.006792145831396808
          ],
          [
           0.06335153375577698,
           0.015745768143908923,
           -0.009371710830987695,
           -0.021475563769133784,
           1,
           -0.03305956018865369,
           -0.09825170233654053,
           0.004132188722116291,
           -0.027294776440745162,
           -0.016709287684536066,
           0.06834378889937552,
           -0.051009385724338205
          ],
          [
           0.00013666876507583174,
           0.018656260671621246,
           0.029085755286544196,
           0.3619523382827019,
           -0.03305956018865369,
           1,
           0.002924818781823809,
           -0.05952322921422652,
           0.002577855178529419,
           0.10583806415319619,
           0.009389135552715512,
           -0.018392389575879384
          ],
          [
           0.032656443196021,
           -0.02196188865163755,
           0.016064024117396564,
           -0.03349897824238972,
           -0.09825170233654053,
           0.002924818781823809,
           1,
           0.0286887620216861,
           -0.01615628204476983,
           -0.02026064090173086,
           0.05064975116498649,
           0.01590990211955955
          ],
          [
           -0.037826332355159496,
           -0.061396707564016474,
           -0.1852381265337148,
           9.095570517041316e-05,
           0.004132188722116291,
           -0.05952322921422652,
           0.0286887620216861,
           1,
           0.11884904847949994,
           0.36442242730277113,
           -0.03168995067953141,
           0.00470513745193952
          ],
          [
           -0.5690351340126798,
           -0.009996988246016265,
           -0.07257274128382707,
           -0.00865694791269857,
           -0.027294776440745162,
           0.002577855178529419,
           -0.01615628204476983,
           0.11884904847949994,
           1,
           0.3029814487174925,
           -0.5893377847964514,
           0.2090017026425069
          ],
          [
           -0.2586034693060985,
           -0.035322966386246685,
           0.4427498002410509,
           0.3167813043126456,
           -0.016709287684536066,
           0.10583806415319619,
           -0.02026064090173086,
           0.36442242730277113,
           0.3029814487174925,
           1,
           -0.27090174379725723,
           0.06693340749671003
          ],
          [
           0.918582165737436,
           0.01810077320685257,
           0.002978855383611171,
           -0.017238126886725654,
           0.06834378889937552,
           0.009389135552715512,
           0.05064975116498649,
           -0.03168995067953141,
           -0.5893377847964514,
           -0.27090174379725723,
           1,
           -0.2083285086366729
          ],
          [
           -0.21750280906292538,
           -0.024983347865199255,
           -0.01447511369989636,
           -0.006792145831396808,
           -0.051009385724338205,
           -0.018392389575879384,
           0.01590990211955955,
           0.00470513745193952,
           0.2090017026425069,
           0.06693340749671003,
           -0.2083285086366729,
           1
          ]
         ]
        }
       ],
       "layout": {
        "template": {
         "data": {
          "bar": [
           {
            "error_x": {
             "color": "#2a3f5f"
            },
            "error_y": {
             "color": "#2a3f5f"
            },
            "marker": {
             "line": {
              "color": "#E5ECF6",
              "width": 0.5
             },
             "pattern": {
              "fillmode": "overlay",
              "size": 10,
              "solidity": 0.2
             }
            },
            "type": "bar"
           }
          ],
          "barpolar": [
           {
            "marker": {
             "line": {
              "color": "#E5ECF6",
              "width": 0.5
             },
             "pattern": {
              "fillmode": "overlay",
              "size": 10,
              "solidity": 0.2
             }
            },
            "type": "barpolar"
           }
          ],
          "carpet": [
           {
            "aaxis": {
             "endlinecolor": "#2a3f5f",
             "gridcolor": "white",
             "linecolor": "white",
             "minorgridcolor": "white",
             "startlinecolor": "#2a3f5f"
            },
            "baxis": {
             "endlinecolor": "#2a3f5f",
             "gridcolor": "white",
             "linecolor": "white",
             "minorgridcolor": "white",
             "startlinecolor": "#2a3f5f"
            },
            "type": "carpet"
           }
          ],
          "choropleth": [
           {
            "colorbar": {
             "outlinewidth": 0,
             "ticks": ""
            },
            "type": "choropleth"
           }
          ],
          "contour": [
           {
            "colorbar": {
             "outlinewidth": 0,
             "ticks": ""
            },
            "colorscale": [
             [
              0,
              "#0d0887"
             ],
             [
              0.1111111111111111,
              "#46039f"
             ],
             [
              0.2222222222222222,
              "#7201a8"
             ],
             [
              0.3333333333333333,
              "#9c179e"
             ],
             [
              0.4444444444444444,
              "#bd3786"
             ],
             [
              0.5555555555555556,
              "#d8576b"
             ],
             [
              0.6666666666666666,
              "#ed7953"
             ],
             [
              0.7777777777777778,
              "#fb9f3a"
             ],
             [
              0.8888888888888888,
              "#fdca26"
             ],
             [
              1,
              "#f0f921"
             ]
            ],
            "type": "contour"
           }
          ],
          "contourcarpet": [
           {
            "colorbar": {
             "outlinewidth": 0,
             "ticks": ""
            },
            "type": "contourcarpet"
           }
          ],
          "heatmap": [
           {
            "colorbar": {
             "outlinewidth": 0,
             "ticks": ""
            },
            "colorscale": [
             [
              0,
              "#0d0887"
             ],
             [
              0.1111111111111111,
              "#46039f"
             ],
             [
              0.2222222222222222,
              "#7201a8"
             ],
             [
              0.3333333333333333,
              "#9c179e"
             ],
             [
              0.4444444444444444,
              "#bd3786"
             ],
             [
              0.5555555555555556,
              "#d8576b"
             ],
             [
              0.6666666666666666,
              "#ed7953"
             ],
             [
              0.7777777777777778,
              "#fb9f3a"
             ],
             [
              0.8888888888888888,
              "#fdca26"
             ],
             [
              1,
              "#f0f921"
             ]
            ],
            "type": "heatmap"
           }
          ],
          "heatmapgl": [
           {
            "colorbar": {
             "outlinewidth": 0,
             "ticks": ""
            },
            "colorscale": [
             [
              0,
              "#0d0887"
             ],
             [
              0.1111111111111111,
              "#46039f"
             ],
             [
              0.2222222222222222,
              "#7201a8"
             ],
             [
              0.3333333333333333,
              "#9c179e"
             ],
             [
              0.4444444444444444,
              "#bd3786"
             ],
             [
              0.5555555555555556,
              "#d8576b"
             ],
             [
              0.6666666666666666,
              "#ed7953"
             ],
             [
              0.7777777777777778,
              "#fb9f3a"
             ],
             [
              0.8888888888888888,
              "#fdca26"
             ],
             [
              1,
              "#f0f921"
             ]
            ],
            "type": "heatmapgl"
           }
          ],
          "histogram": [
           {
            "marker": {
             "pattern": {
              "fillmode": "overlay",
              "size": 10,
              "solidity": 0.2
             }
            },
            "type": "histogram"
           }
          ],
          "histogram2d": [
           {
            "colorbar": {
             "outlinewidth": 0,
             "ticks": ""
            },
            "colorscale": [
             [
              0,
              "#0d0887"
             ],
             [
              0.1111111111111111,
              "#46039f"
             ],
             [
              0.2222222222222222,
              "#7201a8"
             ],
             [
              0.3333333333333333,
              "#9c179e"
             ],
             [
              0.4444444444444444,
              "#bd3786"
             ],
             [
              0.5555555555555556,
              "#d8576b"
             ],
             [
              0.6666666666666666,
              "#ed7953"
             ],
             [
              0.7777777777777778,
              "#fb9f3a"
             ],
             [
              0.8888888888888888,
              "#fdca26"
             ],
             [
              1,
              "#f0f921"
             ]
            ],
            "type": "histogram2d"
           }
          ],
          "histogram2dcontour": [
           {
            "colorbar": {
             "outlinewidth": 0,
             "ticks": ""
            },
            "colorscale": [
             [
              0,
              "#0d0887"
             ],
             [
              0.1111111111111111,
              "#46039f"
             ],
             [
              0.2222222222222222,
              "#7201a8"
             ],
             [
              0.3333333333333333,
              "#9c179e"
             ],
             [
              0.4444444444444444,
              "#bd3786"
             ],
             [
              0.5555555555555556,
              "#d8576b"
             ],
             [
              0.6666666666666666,
              "#ed7953"
             ],
             [
              0.7777777777777778,
              "#fb9f3a"
             ],
             [
              0.8888888888888888,
              "#fdca26"
             ],
             [
              1,
              "#f0f921"
             ]
            ],
            "type": "histogram2dcontour"
           }
          ],
          "mesh3d": [
           {
            "colorbar": {
             "outlinewidth": 0,
             "ticks": ""
            },
            "type": "mesh3d"
           }
          ],
          "parcoords": [
           {
            "line": {
             "colorbar": {
              "outlinewidth": 0,
              "ticks": ""
             }
            },
            "type": "parcoords"
           }
          ],
          "pie": [
           {
            "automargin": true,
            "type": "pie"
           }
          ],
          "scatter": [
           {
            "fillpattern": {
             "fillmode": "overlay",
             "size": 10,
             "solidity": 0.2
            },
            "type": "scatter"
           }
          ],
          "scatter3d": [
           {
            "line": {
             "colorbar": {
              "outlinewidth": 0,
              "ticks": ""
             }
            },
            "marker": {
             "colorbar": {
              "outlinewidth": 0,
              "ticks": ""
             }
            },
            "type": "scatter3d"
           }
          ],
          "scattercarpet": [
           {
            "marker": {
             "colorbar": {
              "outlinewidth": 0,
              "ticks": ""
             }
            },
            "type": "scattercarpet"
           }
          ],
          "scattergeo": [
           {
            "marker": {
             "colorbar": {
              "outlinewidth": 0,
              "ticks": ""
             }
            },
            "type": "scattergeo"
           }
          ],
          "scattergl": [
           {
            "marker": {
             "colorbar": {
              "outlinewidth": 0,
              "ticks": ""
             }
            },
            "type": "scattergl"
           }
          ],
          "scattermapbox": [
           {
            "marker": {
             "colorbar": {
              "outlinewidth": 0,
              "ticks": ""
             }
            },
            "type": "scattermapbox"
           }
          ],
          "scatterpolar": [
           {
            "marker": {
             "colorbar": {
              "outlinewidth": 0,
              "ticks": ""
             }
            },
            "type": "scatterpolar"
           }
          ],
          "scatterpolargl": [
           {
            "marker": {
             "colorbar": {
              "outlinewidth": 0,
              "ticks": ""
             }
            },
            "type": "scatterpolargl"
           }
          ],
          "scatterternary": [
           {
            "marker": {
             "colorbar": {
              "outlinewidth": 0,
              "ticks": ""
             }
            },
            "type": "scatterternary"
           }
          ],
          "surface": [
           {
            "colorbar": {
             "outlinewidth": 0,
             "ticks": ""
            },
            "colorscale": [
             [
              0,
              "#0d0887"
             ],
             [
              0.1111111111111111,
              "#46039f"
             ],
             [
              0.2222222222222222,
              "#7201a8"
             ],
             [
              0.3333333333333333,
              "#9c179e"
             ],
             [
              0.4444444444444444,
              "#bd3786"
             ],
             [
              0.5555555555555556,
              "#d8576b"
             ],
             [
              0.6666666666666666,
              "#ed7953"
             ],
             [
              0.7777777777777778,
              "#fb9f3a"
             ],
             [
              0.8888888888888888,
              "#fdca26"
             ],
             [
              1,
              "#f0f921"
             ]
            ],
            "type": "surface"
           }
          ],
          "table": [
           {
            "cells": {
             "fill": {
              "color": "#EBF0F8"
             },
             "line": {
              "color": "white"
             }
            },
            "header": {
             "fill": {
              "color": "#C8D4E3"
             },
             "line": {
              "color": "white"
             }
            },
            "type": "table"
           }
          ]
         },
         "layout": {
          "annotationdefaults": {
           "arrowcolor": "#2a3f5f",
           "arrowhead": 0,
           "arrowwidth": 1
          },
          "autotypenumbers": "strict",
          "coloraxis": {
           "colorbar": {
            "outlinewidth": 0,
            "ticks": ""
           }
          },
          "colorscale": {
           "diverging": [
            [
             0,
             "#8e0152"
            ],
            [
             0.1,
             "#c51b7d"
            ],
            [
             0.2,
             "#de77ae"
            ],
            [
             0.3,
             "#f1b6da"
            ],
            [
             0.4,
             "#fde0ef"
            ],
            [
             0.5,
             "#f7f7f7"
            ],
            [
             0.6,
             "#e6f5d0"
            ],
            [
             0.7,
             "#b8e186"
            ],
            [
             0.8,
             "#7fbc41"
            ],
            [
             0.9,
             "#4d9221"
            ],
            [
             1,
             "#276419"
            ]
           ],
           "sequential": [
            [
             0,
             "#0d0887"
            ],
            [
             0.1111111111111111,
             "#46039f"
            ],
            [
             0.2222222222222222,
             "#7201a8"
            ],
            [
             0.3333333333333333,
             "#9c179e"
            ],
            [
             0.4444444444444444,
             "#bd3786"
            ],
            [
             0.5555555555555556,
             "#d8576b"
            ],
            [
             0.6666666666666666,
             "#ed7953"
            ],
            [
             0.7777777777777778,
             "#fb9f3a"
            ],
            [
             0.8888888888888888,
             "#fdca26"
            ],
            [
             1,
             "#f0f921"
            ]
           ],
           "sequentialminus": [
            [
             0,
             "#0d0887"
            ],
            [
             0.1111111111111111,
             "#46039f"
            ],
            [
             0.2222222222222222,
             "#7201a8"
            ],
            [
             0.3333333333333333,
             "#9c179e"
            ],
            [
             0.4444444444444444,
             "#bd3786"
            ],
            [
             0.5555555555555556,
             "#d8576b"
            ],
            [
             0.6666666666666666,
             "#ed7953"
            ],
            [
             0.7777777777777778,
             "#fb9f3a"
            ],
            [
             0.8888888888888888,
             "#fdca26"
            ],
            [
             1,
             "#f0f921"
            ]
           ]
          },
          "colorway": [
           "#636efa",
           "#EF553B",
           "#00cc96",
           "#ab63fa",
           "#FFA15A",
           "#19d3f3",
           "#FF6692",
           "#B6E880",
           "#FF97FF",
           "#FECB52"
          ],
          "font": {
           "color": "#2a3f5f"
          },
          "geo": {
           "bgcolor": "white",
           "lakecolor": "white",
           "landcolor": "#E5ECF6",
           "showlakes": true,
           "showland": true,
           "subunitcolor": "white"
          },
          "hoverlabel": {
           "align": "left"
          },
          "hovermode": "closest",
          "mapbox": {
           "style": "light"
          },
          "paper_bgcolor": "white",
          "plot_bgcolor": "#E5ECF6",
          "polar": {
           "angularaxis": {
            "gridcolor": "white",
            "linecolor": "white",
            "ticks": ""
           },
           "bgcolor": "#E5ECF6",
           "radialaxis": {
            "gridcolor": "white",
            "linecolor": "white",
            "ticks": ""
           }
          },
          "scene": {
           "xaxis": {
            "backgroundcolor": "#E5ECF6",
            "gridcolor": "white",
            "gridwidth": 2,
            "linecolor": "white",
            "showbackground": true,
            "ticks": "",
            "zerolinecolor": "white"
           },
           "yaxis": {
            "backgroundcolor": "#E5ECF6",
            "gridcolor": "white",
            "gridwidth": 2,
            "linecolor": "white",
            "showbackground": true,
            "ticks": "",
            "zerolinecolor": "white"
           },
           "zaxis": {
            "backgroundcolor": "#E5ECF6",
            "gridcolor": "white",
            "gridwidth": 2,
            "linecolor": "white",
            "showbackground": true,
            "ticks": "",
            "zerolinecolor": "white"
           }
          },
          "shapedefaults": {
           "line": {
            "color": "#2a3f5f"
           }
          },
          "ternary": {
           "aaxis": {
            "gridcolor": "white",
            "linecolor": "white",
            "ticks": ""
           },
           "baxis": {
            "gridcolor": "white",
            "linecolor": "white",
            "ticks": ""
           },
           "bgcolor": "#E5ECF6",
           "caxis": {
            "gridcolor": "white",
            "linecolor": "white",
            "ticks": ""
           }
          },
          "title": {
           "x": 0.05
          },
          "xaxis": {
           "automargin": true,
           "gridcolor": "white",
           "linecolor": "white",
           "ticks": "",
           "title": {
            "standoff": 15
           },
           "zerolinecolor": "white",
           "zerolinewidth": 2
          },
          "yaxis": {
           "automargin": true,
           "gridcolor": "white",
           "linecolor": "white",
           "ticks": "",
           "title": {
            "standoff": 15
           },
           "zerolinecolor": "white",
           "zerolinewidth": 2
          }
         }
        },
        "title": {
         "font": {
          "size": 20
         },
         "text": "Correlation Heatmap"
        }
       }
      },
      "text/html": [
       "<div>                            <div id=\"3044cc46-f62b-4de3-a2a6-c0876101a196\" class=\"plotly-graph-div\" style=\"height:525px; width:100%;\"></div>            <script type=\"text/javascript\">                require([\"plotly\"], function(Plotly) {                    window.PLOTLYENV=window.PLOTLYENV || {};                                    if (document.getElementById(\"3044cc46-f62b-4de3-a2a6-c0876101a196\")) {                    Plotly.newPlot(                        \"3044cc46-f62b-4de3-a2a6-c0876101a196\",                        [{\"hoverinfo\":\"all\",\"x\":[\"row_id\",\"discount\",\"unit_price\",\"shipping_cost\",\"customer_id\",\"product_base_margin\",\"postal_code\",\"profit\",\"quantity_ordered_new\",\"sales\",\"order_id\",\"status\"],\"y\":[\"row_id\",\"discount\",\"unit_price\",\"shipping_cost\",\"customer_id\",\"product_base_margin\",\"postal_code\",\"profit\",\"quantity_ordered_new\",\"sales\",\"order_id\",\"status\"],\"z\":[[1.0,0.018507922198163124,-0.004577993120716615,-0.017175350280283167,0.06335153375577698,0.00013666876507583174,0.032656443196021,-0.037826332355159496,-0.5690351340126798,-0.2586034693060985,0.918582165737436,-0.21750280906292538],[0.018507922198163124,1.0,-0.010333305507889426,0.03411693299718087,0.015745768143908923,0.018656260671621246,-0.02196188865163755,-0.061396707564016474,-0.009996988246016265,-0.035322966386246685,0.01810077320685257,-0.024983347865199255],[-0.004577993120716615,-0.010333305507889426,1.0,0.19621925028667322,-0.009371710830987695,0.029085755286544196,0.016064024117396564,-0.1852381265337148,-0.07257274128382707,0.4427498002410509,0.002978855383611171,-0.01447511369989636],[-0.017175350280283167,0.03411693299718087,0.19621925028667322,1.0,-0.021475563769133784,0.3619523382827019,-0.03349897824238972,9.095570517041316e-05,-0.00865694791269857,0.3167813043126456,-0.017238126886725654,-0.006792145831396808],[0.06335153375577698,0.015745768143908923,-0.009371710830987695,-0.021475563769133784,1.0,-0.03305956018865369,-0.09825170233654053,0.004132188722116291,-0.027294776440745162,-0.016709287684536066,0.06834378889937552,-0.051009385724338205],[0.00013666876507583174,0.018656260671621246,0.029085755286544196,0.3619523382827019,-0.03305956018865369,1.0,0.002924818781823809,-0.05952322921422652,0.002577855178529419,0.10583806415319619,0.009389135552715512,-0.018392389575879384],[0.032656443196021,-0.02196188865163755,0.016064024117396564,-0.03349897824238972,-0.09825170233654053,0.002924818781823809,1.0,0.0286887620216861,-0.01615628204476983,-0.02026064090173086,0.05064975116498649,0.01590990211955955],[-0.037826332355159496,-0.061396707564016474,-0.1852381265337148,9.095570517041316e-05,0.004132188722116291,-0.05952322921422652,0.0286887620216861,1.0,0.11884904847949994,0.36442242730277113,-0.03168995067953141,0.00470513745193952],[-0.5690351340126798,-0.009996988246016265,-0.07257274128382707,-0.00865694791269857,-0.027294776440745162,0.002577855178529419,-0.01615628204476983,0.11884904847949994,1.0,0.3029814487174925,-0.5893377847964514,0.2090017026425069],[-0.2586034693060985,-0.035322966386246685,0.4427498002410509,0.3167813043126456,-0.016709287684536066,0.10583806415319619,-0.02026064090173086,0.36442242730277113,0.3029814487174925,1.0,-0.27090174379725723,0.06693340749671003],[0.918582165737436,0.01810077320685257,0.002978855383611171,-0.017238126886725654,0.06834378889937552,0.009389135552715512,0.05064975116498649,-0.03168995067953141,-0.5893377847964514,-0.27090174379725723,1.0,-0.2083285086366729],[-0.21750280906292538,-0.024983347865199255,-0.01447511369989636,-0.006792145831396808,-0.051009385724338205,-0.018392389575879384,0.01590990211955955,0.00470513745193952,0.2090017026425069,0.06693340749671003,-0.2083285086366729,1.0]],\"type\":\"heatmap\"}],                        {\"template\":{\"data\":{\"barpolar\":[{\"marker\":{\"line\":{\"color\":\"#E5ECF6\",\"width\":0.5},\"pattern\":{\"fillmode\":\"overlay\",\"size\":10,\"solidity\":0.2}},\"type\":\"barpolar\"}],\"bar\":[{\"error_x\":{\"color\":\"#2a3f5f\"},\"error_y\":{\"color\":\"#2a3f5f\"},\"marker\":{\"line\":{\"color\":\"#E5ECF6\",\"width\":0.5},\"pattern\":{\"fillmode\":\"overlay\",\"size\":10,\"solidity\":0.2}},\"type\":\"bar\"}],\"carpet\":[{\"aaxis\":{\"endlinecolor\":\"#2a3f5f\",\"gridcolor\":\"white\",\"linecolor\":\"white\",\"minorgridcolor\":\"white\",\"startlinecolor\":\"#2a3f5f\"},\"baxis\":{\"endlinecolor\":\"#2a3f5f\",\"gridcolor\":\"white\",\"linecolor\":\"white\",\"minorgridcolor\":\"white\",\"startlinecolor\":\"#2a3f5f\"},\"type\":\"carpet\"}],\"choropleth\":[{\"colorbar\":{\"outlinewidth\":0,\"ticks\":\"\"},\"type\":\"choropleth\"}],\"contourcarpet\":[{\"colorbar\":{\"outlinewidth\":0,\"ticks\":\"\"},\"type\":\"contourcarpet\"}],\"contour\":[{\"colorbar\":{\"outlinewidth\":0,\"ticks\":\"\"},\"colorscale\":[[0.0,\"#0d0887\"],[0.1111111111111111,\"#46039f\"],[0.2222222222222222,\"#7201a8\"],[0.3333333333333333,\"#9c179e\"],[0.4444444444444444,\"#bd3786\"],[0.5555555555555556,\"#d8576b\"],[0.6666666666666666,\"#ed7953\"],[0.7777777777777778,\"#fb9f3a\"],[0.8888888888888888,\"#fdca26\"],[1.0,\"#f0f921\"]],\"type\":\"contour\"}],\"heatmapgl\":[{\"colorbar\":{\"outlinewidth\":0,\"ticks\":\"\"},\"colorscale\":[[0.0,\"#0d0887\"],[0.1111111111111111,\"#46039f\"],[0.2222222222222222,\"#7201a8\"],[0.3333333333333333,\"#9c179e\"],[0.4444444444444444,\"#bd3786\"],[0.5555555555555556,\"#d8576b\"],[0.6666666666666666,\"#ed7953\"],[0.7777777777777778,\"#fb9f3a\"],[0.8888888888888888,\"#fdca26\"],[1.0,\"#f0f921\"]],\"type\":\"heatmapgl\"}],\"heatmap\":[{\"colorbar\":{\"outlinewidth\":0,\"ticks\":\"\"},\"colorscale\":[[0.0,\"#0d0887\"],[0.1111111111111111,\"#46039f\"],[0.2222222222222222,\"#7201a8\"],[0.3333333333333333,\"#9c179e\"],[0.4444444444444444,\"#bd3786\"],[0.5555555555555556,\"#d8576b\"],[0.6666666666666666,\"#ed7953\"],[0.7777777777777778,\"#fb9f3a\"],[0.8888888888888888,\"#fdca26\"],[1.0,\"#f0f921\"]],\"type\":\"heatmap\"}],\"histogram2dcontour\":[{\"colorbar\":{\"outlinewidth\":0,\"ticks\":\"\"},\"colorscale\":[[0.0,\"#0d0887\"],[0.1111111111111111,\"#46039f\"],[0.2222222222222222,\"#7201a8\"],[0.3333333333333333,\"#9c179e\"],[0.4444444444444444,\"#bd3786\"],[0.5555555555555556,\"#d8576b\"],[0.6666666666666666,\"#ed7953\"],[0.7777777777777778,\"#fb9f3a\"],[0.8888888888888888,\"#fdca26\"],[1.0,\"#f0f921\"]],\"type\":\"histogram2dcontour\"}],\"histogram2d\":[{\"colorbar\":{\"outlinewidth\":0,\"ticks\":\"\"},\"colorscale\":[[0.0,\"#0d0887\"],[0.1111111111111111,\"#46039f\"],[0.2222222222222222,\"#7201a8\"],[0.3333333333333333,\"#9c179e\"],[0.4444444444444444,\"#bd3786\"],[0.5555555555555556,\"#d8576b\"],[0.6666666666666666,\"#ed7953\"],[0.7777777777777778,\"#fb9f3a\"],[0.8888888888888888,\"#fdca26\"],[1.0,\"#f0f921\"]],\"type\":\"histogram2d\"}],\"histogram\":[{\"marker\":{\"pattern\":{\"fillmode\":\"overlay\",\"size\":10,\"solidity\":0.2}},\"type\":\"histogram\"}],\"mesh3d\":[{\"colorbar\":{\"outlinewidth\":0,\"ticks\":\"\"},\"type\":\"mesh3d\"}],\"parcoords\":[{\"line\":{\"colorbar\":{\"outlinewidth\":0,\"ticks\":\"\"}},\"type\":\"parcoords\"}],\"pie\":[{\"automargin\":true,\"type\":\"pie\"}],\"scatter3d\":[{\"line\":{\"colorbar\":{\"outlinewidth\":0,\"ticks\":\"\"}},\"marker\":{\"colorbar\":{\"outlinewidth\":0,\"ticks\":\"\"}},\"type\":\"scatter3d\"}],\"scattercarpet\":[{\"marker\":{\"colorbar\":{\"outlinewidth\":0,\"ticks\":\"\"}},\"type\":\"scattercarpet\"}],\"scattergeo\":[{\"marker\":{\"colorbar\":{\"outlinewidth\":0,\"ticks\":\"\"}},\"type\":\"scattergeo\"}],\"scattergl\":[{\"marker\":{\"colorbar\":{\"outlinewidth\":0,\"ticks\":\"\"}},\"type\":\"scattergl\"}],\"scattermapbox\":[{\"marker\":{\"colorbar\":{\"outlinewidth\":0,\"ticks\":\"\"}},\"type\":\"scattermapbox\"}],\"scatterpolargl\":[{\"marker\":{\"colorbar\":{\"outlinewidth\":0,\"ticks\":\"\"}},\"type\":\"scatterpolargl\"}],\"scatterpolar\":[{\"marker\":{\"colorbar\":{\"outlinewidth\":0,\"ticks\":\"\"}},\"type\":\"scatterpolar\"}],\"scatter\":[{\"fillpattern\":{\"fillmode\":\"overlay\",\"size\":10,\"solidity\":0.2},\"type\":\"scatter\"}],\"scatterternary\":[{\"marker\":{\"colorbar\":{\"outlinewidth\":0,\"ticks\":\"\"}},\"type\":\"scatterternary\"}],\"surface\":[{\"colorbar\":{\"outlinewidth\":0,\"ticks\":\"\"},\"colorscale\":[[0.0,\"#0d0887\"],[0.1111111111111111,\"#46039f\"],[0.2222222222222222,\"#7201a8\"],[0.3333333333333333,\"#9c179e\"],[0.4444444444444444,\"#bd3786\"],[0.5555555555555556,\"#d8576b\"],[0.6666666666666666,\"#ed7953\"],[0.7777777777777778,\"#fb9f3a\"],[0.8888888888888888,\"#fdca26\"],[1.0,\"#f0f921\"]],\"type\":\"surface\"}],\"table\":[{\"cells\":{\"fill\":{\"color\":\"#EBF0F8\"},\"line\":{\"color\":\"white\"}},\"header\":{\"fill\":{\"color\":\"#C8D4E3\"},\"line\":{\"color\":\"white\"}},\"type\":\"table\"}]},\"layout\":{\"annotationdefaults\":{\"arrowcolor\":\"#2a3f5f\",\"arrowhead\":0,\"arrowwidth\":1},\"autotypenumbers\":\"strict\",\"coloraxis\":{\"colorbar\":{\"outlinewidth\":0,\"ticks\":\"\"}},\"colorscale\":{\"diverging\":[[0,\"#8e0152\"],[0.1,\"#c51b7d\"],[0.2,\"#de77ae\"],[0.3,\"#f1b6da\"],[0.4,\"#fde0ef\"],[0.5,\"#f7f7f7\"],[0.6,\"#e6f5d0\"],[0.7,\"#b8e186\"],[0.8,\"#7fbc41\"],[0.9,\"#4d9221\"],[1,\"#276419\"]],\"sequential\":[[0.0,\"#0d0887\"],[0.1111111111111111,\"#46039f\"],[0.2222222222222222,\"#7201a8\"],[0.3333333333333333,\"#9c179e\"],[0.4444444444444444,\"#bd3786\"],[0.5555555555555556,\"#d8576b\"],[0.6666666666666666,\"#ed7953\"],[0.7777777777777778,\"#fb9f3a\"],[0.8888888888888888,\"#fdca26\"],[1.0,\"#f0f921\"]],\"sequentialminus\":[[0.0,\"#0d0887\"],[0.1111111111111111,\"#46039f\"],[0.2222222222222222,\"#7201a8\"],[0.3333333333333333,\"#9c179e\"],[0.4444444444444444,\"#bd3786\"],[0.5555555555555556,\"#d8576b\"],[0.6666666666666666,\"#ed7953\"],[0.7777777777777778,\"#fb9f3a\"],[0.8888888888888888,\"#fdca26\"],[1.0,\"#f0f921\"]]},\"colorway\":[\"#636efa\",\"#EF553B\",\"#00cc96\",\"#ab63fa\",\"#FFA15A\",\"#19d3f3\",\"#FF6692\",\"#B6E880\",\"#FF97FF\",\"#FECB52\"],\"font\":{\"color\":\"#2a3f5f\"},\"geo\":{\"bgcolor\":\"white\",\"lakecolor\":\"white\",\"landcolor\":\"#E5ECF6\",\"showlakes\":true,\"showland\":true,\"subunitcolor\":\"white\"},\"hoverlabel\":{\"align\":\"left\"},\"hovermode\":\"closest\",\"mapbox\":{\"style\":\"light\"},\"paper_bgcolor\":\"white\",\"plot_bgcolor\":\"#E5ECF6\",\"polar\":{\"angularaxis\":{\"gridcolor\":\"white\",\"linecolor\":\"white\",\"ticks\":\"\"},\"bgcolor\":\"#E5ECF6\",\"radialaxis\":{\"gridcolor\":\"white\",\"linecolor\":\"white\",\"ticks\":\"\"}},\"scene\":{\"xaxis\":{\"backgroundcolor\":\"#E5ECF6\",\"gridcolor\":\"white\",\"gridwidth\":2,\"linecolor\":\"white\",\"showbackground\":true,\"ticks\":\"\",\"zerolinecolor\":\"white\"},\"yaxis\":{\"backgroundcolor\":\"#E5ECF6\",\"gridcolor\":\"white\",\"gridwidth\":2,\"linecolor\":\"white\",\"showbackground\":true,\"ticks\":\"\",\"zerolinecolor\":\"white\"},\"zaxis\":{\"backgroundcolor\":\"#E5ECF6\",\"gridcolor\":\"white\",\"gridwidth\":2,\"linecolor\":\"white\",\"showbackground\":true,\"ticks\":\"\",\"zerolinecolor\":\"white\"}},\"shapedefaults\":{\"line\":{\"color\":\"#2a3f5f\"}},\"ternary\":{\"aaxis\":{\"gridcolor\":\"white\",\"linecolor\":\"white\",\"ticks\":\"\"},\"baxis\":{\"gridcolor\":\"white\",\"linecolor\":\"white\",\"ticks\":\"\"},\"bgcolor\":\"#E5ECF6\",\"caxis\":{\"gridcolor\":\"white\",\"linecolor\":\"white\",\"ticks\":\"\"}},\"title\":{\"x\":0.05},\"xaxis\":{\"automargin\":true,\"gridcolor\":\"white\",\"linecolor\":\"white\",\"ticks\":\"\",\"title\":{\"standoff\":15},\"zerolinecolor\":\"white\",\"zerolinewidth\":2},\"yaxis\":{\"automargin\":true,\"gridcolor\":\"white\",\"linecolor\":\"white\",\"ticks\":\"\",\"title\":{\"standoff\":15},\"zerolinecolor\":\"white\",\"zerolinewidth\":2}}},\"title\":{\"font\":{\"size\":20},\"text\":\"Correlation Heatmap\"}},                        {\"responsive\": true}                    ).then(function(){\n",
       "                            \n",
       "var gd = document.getElementById('3044cc46-f62b-4de3-a2a6-c0876101a196');\n",
       "var x = new MutationObserver(function (mutations, observer) {{\n",
       "        var display = window.getComputedStyle(gd).display;\n",
       "        if (!display || display === 'none') {{\n",
       "            console.log([gd, 'removed!']);\n",
       "            Plotly.purge(gd);\n",
       "            observer.disconnect();\n",
       "        }}\n",
       "}});\n",
       "\n",
       "// Listen for the removal of the full notebook cells\n",
       "var notebookContainer = gd.closest('#notebook-container');\n",
       "if (notebookContainer) {{\n",
       "    x.observe(notebookContainer, {childList: true});\n",
       "}}\n",
       "\n",
       "// Listen for the clearing of the current output cell\n",
       "var outputEl = gd.closest('.output');\n",
       "if (outputEl) {{\n",
       "    x.observe(outputEl, {childList: true});\n",
       "}}\n",
       "\n",
       "                        })                };                });            </script>        </div>"
      ]
     },
     "metadata": {},
     "output_type": "display_data"
    }
   ],
   "source": [
    "corr = df.corr()\n",
    "\n",
    "data=go.Heatmap(z=corr.values,\n",
    "                x=corr.index.values.tolist(),\n",
    "                y=corr.index.values.tolist(),\n",
    "                hoverinfo='all')\n",
    "layout = go.Layout(title='Correlation Heatmap',titlefont=dict(size=20))\n",
    "    \n",
    "iplot(dict(data=data,layout=layout))"
   ]
  },
  {
   "cell_type": "markdown",
   "id": "2194c7e0",
   "metadata": {},
   "source": [
    "**The above plot is a heatmap showing the correlation between all variables.**\n",
    "\n",
    "**As we can see above 0.6 - 1 shows a strong correlation, this shows we have just one positively correlated variable amongst others which is 'order id and row id'.**\n",
    "\n",
    "**From the above 0 - 0.4 shows a weak correlation and we have a few correlations in this category such as 'sales and unit price', 'sales and profit', and many more.**\n",
    "\n",
    "**Lastly 0 - (-value) shows a negative correlation between variables. in this category just as we can see above, many variables fall within this category.**"
   ]
  },
  {
   "cell_type": "code",
   "execution_count": 16,
   "id": "97167278",
   "metadata": {},
   "outputs": [
    {
     "data": {
      "application/vnd.plotly.v1+json": {
       "config": {
        "linkText": "Export to plot.ly",
        "plotlyServerURL": "https://plot.ly",
        "showLink": false
       },
       "data": [
        {
         "name": "sales",
         "type": "bar",
         "x": [
          "east",
          "west",
          "central",
          "south"
         ],
         "y": [
          584724.1899999997,
          514026.63999999996,
          441445.62,
          341328.32000000007
         ]
        },
        {
         "name": "profit",
         "type": "bar",
         "x": [
          "east",
          "west",
          "central",
          "south"
         ],
         "y": [
          85577.44584600003,
          68231.53439999999,
          78645.77526860003,
          -17431.355779300004
         ]
        }
       ],
       "layout": {
        "template": {
         "data": {
          "bar": [
           {
            "error_x": {
             "color": "#2a3f5f"
            },
            "error_y": {
             "color": "#2a3f5f"
            },
            "marker": {
             "line": {
              "color": "#E5ECF6",
              "width": 0.5
             },
             "pattern": {
              "fillmode": "overlay",
              "size": 10,
              "solidity": 0.2
             }
            },
            "type": "bar"
           }
          ],
          "barpolar": [
           {
            "marker": {
             "line": {
              "color": "#E5ECF6",
              "width": 0.5
             },
             "pattern": {
              "fillmode": "overlay",
              "size": 10,
              "solidity": 0.2
             }
            },
            "type": "barpolar"
           }
          ],
          "carpet": [
           {
            "aaxis": {
             "endlinecolor": "#2a3f5f",
             "gridcolor": "white",
             "linecolor": "white",
             "minorgridcolor": "white",
             "startlinecolor": "#2a3f5f"
            },
            "baxis": {
             "endlinecolor": "#2a3f5f",
             "gridcolor": "white",
             "linecolor": "white",
             "minorgridcolor": "white",
             "startlinecolor": "#2a3f5f"
            },
            "type": "carpet"
           }
          ],
          "choropleth": [
           {
            "colorbar": {
             "outlinewidth": 0,
             "ticks": ""
            },
            "type": "choropleth"
           }
          ],
          "contour": [
           {
            "colorbar": {
             "outlinewidth": 0,
             "ticks": ""
            },
            "colorscale": [
             [
              0,
              "#0d0887"
             ],
             [
              0.1111111111111111,
              "#46039f"
             ],
             [
              0.2222222222222222,
              "#7201a8"
             ],
             [
              0.3333333333333333,
              "#9c179e"
             ],
             [
              0.4444444444444444,
              "#bd3786"
             ],
             [
              0.5555555555555556,
              "#d8576b"
             ],
             [
              0.6666666666666666,
              "#ed7953"
             ],
             [
              0.7777777777777778,
              "#fb9f3a"
             ],
             [
              0.8888888888888888,
              "#fdca26"
             ],
             [
              1,
              "#f0f921"
             ]
            ],
            "type": "contour"
           }
          ],
          "contourcarpet": [
           {
            "colorbar": {
             "outlinewidth": 0,
             "ticks": ""
            },
            "type": "contourcarpet"
           }
          ],
          "heatmap": [
           {
            "colorbar": {
             "outlinewidth": 0,
             "ticks": ""
            },
            "colorscale": [
             [
              0,
              "#0d0887"
             ],
             [
              0.1111111111111111,
              "#46039f"
             ],
             [
              0.2222222222222222,
              "#7201a8"
             ],
             [
              0.3333333333333333,
              "#9c179e"
             ],
             [
              0.4444444444444444,
              "#bd3786"
             ],
             [
              0.5555555555555556,
              "#d8576b"
             ],
             [
              0.6666666666666666,
              "#ed7953"
             ],
             [
              0.7777777777777778,
              "#fb9f3a"
             ],
             [
              0.8888888888888888,
              "#fdca26"
             ],
             [
              1,
              "#f0f921"
             ]
            ],
            "type": "heatmap"
           }
          ],
          "heatmapgl": [
           {
            "colorbar": {
             "outlinewidth": 0,
             "ticks": ""
            },
            "colorscale": [
             [
              0,
              "#0d0887"
             ],
             [
              0.1111111111111111,
              "#46039f"
             ],
             [
              0.2222222222222222,
              "#7201a8"
             ],
             [
              0.3333333333333333,
              "#9c179e"
             ],
             [
              0.4444444444444444,
              "#bd3786"
             ],
             [
              0.5555555555555556,
              "#d8576b"
             ],
             [
              0.6666666666666666,
              "#ed7953"
             ],
             [
              0.7777777777777778,
              "#fb9f3a"
             ],
             [
              0.8888888888888888,
              "#fdca26"
             ],
             [
              1,
              "#f0f921"
             ]
            ],
            "type": "heatmapgl"
           }
          ],
          "histogram": [
           {
            "marker": {
             "pattern": {
              "fillmode": "overlay",
              "size": 10,
              "solidity": 0.2
             }
            },
            "type": "histogram"
           }
          ],
          "histogram2d": [
           {
            "colorbar": {
             "outlinewidth": 0,
             "ticks": ""
            },
            "colorscale": [
             [
              0,
              "#0d0887"
             ],
             [
              0.1111111111111111,
              "#46039f"
             ],
             [
              0.2222222222222222,
              "#7201a8"
             ],
             [
              0.3333333333333333,
              "#9c179e"
             ],
             [
              0.4444444444444444,
              "#bd3786"
             ],
             [
              0.5555555555555556,
              "#d8576b"
             ],
             [
              0.6666666666666666,
              "#ed7953"
             ],
             [
              0.7777777777777778,
              "#fb9f3a"
             ],
             [
              0.8888888888888888,
              "#fdca26"
             ],
             [
              1,
              "#f0f921"
             ]
            ],
            "type": "histogram2d"
           }
          ],
          "histogram2dcontour": [
           {
            "colorbar": {
             "outlinewidth": 0,
             "ticks": ""
            },
            "colorscale": [
             [
              0,
              "#0d0887"
             ],
             [
              0.1111111111111111,
              "#46039f"
             ],
             [
              0.2222222222222222,
              "#7201a8"
             ],
             [
              0.3333333333333333,
              "#9c179e"
             ],
             [
              0.4444444444444444,
              "#bd3786"
             ],
             [
              0.5555555555555556,
              "#d8576b"
             ],
             [
              0.6666666666666666,
              "#ed7953"
             ],
             [
              0.7777777777777778,
              "#fb9f3a"
             ],
             [
              0.8888888888888888,
              "#fdca26"
             ],
             [
              1,
              "#f0f921"
             ]
            ],
            "type": "histogram2dcontour"
           }
          ],
          "mesh3d": [
           {
            "colorbar": {
             "outlinewidth": 0,
             "ticks": ""
            },
            "type": "mesh3d"
           }
          ],
          "parcoords": [
           {
            "line": {
             "colorbar": {
              "outlinewidth": 0,
              "ticks": ""
             }
            },
            "type": "parcoords"
           }
          ],
          "pie": [
           {
            "automargin": true,
            "type": "pie"
           }
          ],
          "scatter": [
           {
            "fillpattern": {
             "fillmode": "overlay",
             "size": 10,
             "solidity": 0.2
            },
            "type": "scatter"
           }
          ],
          "scatter3d": [
           {
            "line": {
             "colorbar": {
              "outlinewidth": 0,
              "ticks": ""
             }
            },
            "marker": {
             "colorbar": {
              "outlinewidth": 0,
              "ticks": ""
             }
            },
            "type": "scatter3d"
           }
          ],
          "scattercarpet": [
           {
            "marker": {
             "colorbar": {
              "outlinewidth": 0,
              "ticks": ""
             }
            },
            "type": "scattercarpet"
           }
          ],
          "scattergeo": [
           {
            "marker": {
             "colorbar": {
              "outlinewidth": 0,
              "ticks": ""
             }
            },
            "type": "scattergeo"
           }
          ],
          "scattergl": [
           {
            "marker": {
             "colorbar": {
              "outlinewidth": 0,
              "ticks": ""
             }
            },
            "type": "scattergl"
           }
          ],
          "scattermapbox": [
           {
            "marker": {
             "colorbar": {
              "outlinewidth": 0,
              "ticks": ""
             }
            },
            "type": "scattermapbox"
           }
          ],
          "scatterpolar": [
           {
            "marker": {
             "colorbar": {
              "outlinewidth": 0,
              "ticks": ""
             }
            },
            "type": "scatterpolar"
           }
          ],
          "scatterpolargl": [
           {
            "marker": {
             "colorbar": {
              "outlinewidth": 0,
              "ticks": ""
             }
            },
            "type": "scatterpolargl"
           }
          ],
          "scatterternary": [
           {
            "marker": {
             "colorbar": {
              "outlinewidth": 0,
              "ticks": ""
             }
            },
            "type": "scatterternary"
           }
          ],
          "surface": [
           {
            "colorbar": {
             "outlinewidth": 0,
             "ticks": ""
            },
            "colorscale": [
             [
              0,
              "#0d0887"
             ],
             [
              0.1111111111111111,
              "#46039f"
             ],
             [
              0.2222222222222222,
              "#7201a8"
             ],
             [
              0.3333333333333333,
              "#9c179e"
             ],
             [
              0.4444444444444444,
              "#bd3786"
             ],
             [
              0.5555555555555556,
              "#d8576b"
             ],
             [
              0.6666666666666666,
              "#ed7953"
             ],
             [
              0.7777777777777778,
              "#fb9f3a"
             ],
             [
              0.8888888888888888,
              "#fdca26"
             ],
             [
              1,
              "#f0f921"
             ]
            ],
            "type": "surface"
           }
          ],
          "table": [
           {
            "cells": {
             "fill": {
              "color": "#EBF0F8"
             },
             "line": {
              "color": "white"
             }
            },
            "header": {
             "fill": {
              "color": "#C8D4E3"
             },
             "line": {
              "color": "white"
             }
            },
            "type": "table"
           }
          ]
         },
         "layout": {
          "annotationdefaults": {
           "arrowcolor": "#2a3f5f",
           "arrowhead": 0,
           "arrowwidth": 1
          },
          "autotypenumbers": "strict",
          "coloraxis": {
           "colorbar": {
            "outlinewidth": 0,
            "ticks": ""
           }
          },
          "colorscale": {
           "diverging": [
            [
             0,
             "#8e0152"
            ],
            [
             0.1,
             "#c51b7d"
            ],
            [
             0.2,
             "#de77ae"
            ],
            [
             0.3,
             "#f1b6da"
            ],
            [
             0.4,
             "#fde0ef"
            ],
            [
             0.5,
             "#f7f7f7"
            ],
            [
             0.6,
             "#e6f5d0"
            ],
            [
             0.7,
             "#b8e186"
            ],
            [
             0.8,
             "#7fbc41"
            ],
            [
             0.9,
             "#4d9221"
            ],
            [
             1,
             "#276419"
            ]
           ],
           "sequential": [
            [
             0,
             "#0d0887"
            ],
            [
             0.1111111111111111,
             "#46039f"
            ],
            [
             0.2222222222222222,
             "#7201a8"
            ],
            [
             0.3333333333333333,
             "#9c179e"
            ],
            [
             0.4444444444444444,
             "#bd3786"
            ],
            [
             0.5555555555555556,
             "#d8576b"
            ],
            [
             0.6666666666666666,
             "#ed7953"
            ],
            [
             0.7777777777777778,
             "#fb9f3a"
            ],
            [
             0.8888888888888888,
             "#fdca26"
            ],
            [
             1,
             "#f0f921"
            ]
           ],
           "sequentialminus": [
            [
             0,
             "#0d0887"
            ],
            [
             0.1111111111111111,
             "#46039f"
            ],
            [
             0.2222222222222222,
             "#7201a8"
            ],
            [
             0.3333333333333333,
             "#9c179e"
            ],
            [
             0.4444444444444444,
             "#bd3786"
            ],
            [
             0.5555555555555556,
             "#d8576b"
            ],
            [
             0.6666666666666666,
             "#ed7953"
            ],
            [
             0.7777777777777778,
             "#fb9f3a"
            ],
            [
             0.8888888888888888,
             "#fdca26"
            ],
            [
             1,
             "#f0f921"
            ]
           ]
          },
          "colorway": [
           "#636efa",
           "#EF553B",
           "#00cc96",
           "#ab63fa",
           "#FFA15A",
           "#19d3f3",
           "#FF6692",
           "#B6E880",
           "#FF97FF",
           "#FECB52"
          ],
          "font": {
           "color": "#2a3f5f"
          },
          "geo": {
           "bgcolor": "white",
           "lakecolor": "white",
           "landcolor": "#E5ECF6",
           "showlakes": true,
           "showland": true,
           "subunitcolor": "white"
          },
          "hoverlabel": {
           "align": "left"
          },
          "hovermode": "closest",
          "mapbox": {
           "style": "light"
          },
          "paper_bgcolor": "white",
          "plot_bgcolor": "#E5ECF6",
          "polar": {
           "angularaxis": {
            "gridcolor": "white",
            "linecolor": "white",
            "ticks": ""
           },
           "bgcolor": "#E5ECF6",
           "radialaxis": {
            "gridcolor": "white",
            "linecolor": "white",
            "ticks": ""
           }
          },
          "scene": {
           "xaxis": {
            "backgroundcolor": "#E5ECF6",
            "gridcolor": "white",
            "gridwidth": 2,
            "linecolor": "white",
            "showbackground": true,
            "ticks": "",
            "zerolinecolor": "white"
           },
           "yaxis": {
            "backgroundcolor": "#E5ECF6",
            "gridcolor": "white",
            "gridwidth": 2,
            "linecolor": "white",
            "showbackground": true,
            "ticks": "",
            "zerolinecolor": "white"
           },
           "zaxis": {
            "backgroundcolor": "#E5ECF6",
            "gridcolor": "white",
            "gridwidth": 2,
            "linecolor": "white",
            "showbackground": true,
            "ticks": "",
            "zerolinecolor": "white"
           }
          },
          "shapedefaults": {
           "line": {
            "color": "#2a3f5f"
           }
          },
          "ternary": {
           "aaxis": {
            "gridcolor": "white",
            "linecolor": "white",
            "ticks": ""
           },
           "baxis": {
            "gridcolor": "white",
            "linecolor": "white",
            "ticks": ""
           },
           "bgcolor": "#E5ECF6",
           "caxis": {
            "gridcolor": "white",
            "linecolor": "white",
            "ticks": ""
           }
          },
          "title": {
           "x": 0.05
          },
          "xaxis": {
           "automargin": true,
           "gridcolor": "white",
           "linecolor": "white",
           "ticks": "",
           "title": {
            "standoff": 15
           },
           "zerolinecolor": "white",
           "zerolinewidth": 2
          },
          "yaxis": {
           "automargin": true,
           "gridcolor": "white",
           "linecolor": "white",
           "ticks": "",
           "title": {
            "standoff": 15
           },
           "zerolinecolor": "white",
           "zerolinewidth": 2
          }
         }
        },
        "xaxis": {
         "title": {
          "font": {
           "size": 20
          },
          "text": "region"
         }
        },
        "yaxis": {
         "title": {
          "font": {
           "size": 20
          },
          "text": "Sales/Profits"
         }
        }
       }
      },
      "text/html": [
       "<div>                            <div id=\"2ba7afd1-62ff-4353-aa2a-2ff6a82e1085\" class=\"plotly-graph-div\" style=\"height:525px; width:100%;\"></div>            <script type=\"text/javascript\">                require([\"plotly\"], function(Plotly) {                    window.PLOTLYENV=window.PLOTLYENV || {};                                    if (document.getElementById(\"2ba7afd1-62ff-4353-aa2a-2ff6a82e1085\")) {                    Plotly.newPlot(                        \"2ba7afd1-62ff-4353-aa2a-2ff6a82e1085\",                        [{\"name\":\"sales\",\"x\":[\"east\",\"west\",\"central\",\"south\"],\"y\":[584724.1899999997,514026.63999999996,441445.62,341328.32000000007],\"type\":\"bar\"},{\"name\":\"profit\",\"x\":[\"east\",\"west\",\"central\",\"south\"],\"y\":[85577.44584600003,68231.53439999999,78645.77526860003,-17431.355779300004],\"type\":\"bar\"}],                        {\"template\":{\"data\":{\"barpolar\":[{\"marker\":{\"line\":{\"color\":\"#E5ECF6\",\"width\":0.5},\"pattern\":{\"fillmode\":\"overlay\",\"size\":10,\"solidity\":0.2}},\"type\":\"barpolar\"}],\"bar\":[{\"error_x\":{\"color\":\"#2a3f5f\"},\"error_y\":{\"color\":\"#2a3f5f\"},\"marker\":{\"line\":{\"color\":\"#E5ECF6\",\"width\":0.5},\"pattern\":{\"fillmode\":\"overlay\",\"size\":10,\"solidity\":0.2}},\"type\":\"bar\"}],\"carpet\":[{\"aaxis\":{\"endlinecolor\":\"#2a3f5f\",\"gridcolor\":\"white\",\"linecolor\":\"white\",\"minorgridcolor\":\"white\",\"startlinecolor\":\"#2a3f5f\"},\"baxis\":{\"endlinecolor\":\"#2a3f5f\",\"gridcolor\":\"white\",\"linecolor\":\"white\",\"minorgridcolor\":\"white\",\"startlinecolor\":\"#2a3f5f\"},\"type\":\"carpet\"}],\"choropleth\":[{\"colorbar\":{\"outlinewidth\":0,\"ticks\":\"\"},\"type\":\"choropleth\"}],\"contourcarpet\":[{\"colorbar\":{\"outlinewidth\":0,\"ticks\":\"\"},\"type\":\"contourcarpet\"}],\"contour\":[{\"colorbar\":{\"outlinewidth\":0,\"ticks\":\"\"},\"colorscale\":[[0.0,\"#0d0887\"],[0.1111111111111111,\"#46039f\"],[0.2222222222222222,\"#7201a8\"],[0.3333333333333333,\"#9c179e\"],[0.4444444444444444,\"#bd3786\"],[0.5555555555555556,\"#d8576b\"],[0.6666666666666666,\"#ed7953\"],[0.7777777777777778,\"#fb9f3a\"],[0.8888888888888888,\"#fdca26\"],[1.0,\"#f0f921\"]],\"type\":\"contour\"}],\"heatmapgl\":[{\"colorbar\":{\"outlinewidth\":0,\"ticks\":\"\"},\"colorscale\":[[0.0,\"#0d0887\"],[0.1111111111111111,\"#46039f\"],[0.2222222222222222,\"#7201a8\"],[0.3333333333333333,\"#9c179e\"],[0.4444444444444444,\"#bd3786\"],[0.5555555555555556,\"#d8576b\"],[0.6666666666666666,\"#ed7953\"],[0.7777777777777778,\"#fb9f3a\"],[0.8888888888888888,\"#fdca26\"],[1.0,\"#f0f921\"]],\"type\":\"heatmapgl\"}],\"heatmap\":[{\"colorbar\":{\"outlinewidth\":0,\"ticks\":\"\"},\"colorscale\":[[0.0,\"#0d0887\"],[0.1111111111111111,\"#46039f\"],[0.2222222222222222,\"#7201a8\"],[0.3333333333333333,\"#9c179e\"],[0.4444444444444444,\"#bd3786\"],[0.5555555555555556,\"#d8576b\"],[0.6666666666666666,\"#ed7953\"],[0.7777777777777778,\"#fb9f3a\"],[0.8888888888888888,\"#fdca26\"],[1.0,\"#f0f921\"]],\"type\":\"heatmap\"}],\"histogram2dcontour\":[{\"colorbar\":{\"outlinewidth\":0,\"ticks\":\"\"},\"colorscale\":[[0.0,\"#0d0887\"],[0.1111111111111111,\"#46039f\"],[0.2222222222222222,\"#7201a8\"],[0.3333333333333333,\"#9c179e\"],[0.4444444444444444,\"#bd3786\"],[0.5555555555555556,\"#d8576b\"],[0.6666666666666666,\"#ed7953\"],[0.7777777777777778,\"#fb9f3a\"],[0.8888888888888888,\"#fdca26\"],[1.0,\"#f0f921\"]],\"type\":\"histogram2dcontour\"}],\"histogram2d\":[{\"colorbar\":{\"outlinewidth\":0,\"ticks\":\"\"},\"colorscale\":[[0.0,\"#0d0887\"],[0.1111111111111111,\"#46039f\"],[0.2222222222222222,\"#7201a8\"],[0.3333333333333333,\"#9c179e\"],[0.4444444444444444,\"#bd3786\"],[0.5555555555555556,\"#d8576b\"],[0.6666666666666666,\"#ed7953\"],[0.7777777777777778,\"#fb9f3a\"],[0.8888888888888888,\"#fdca26\"],[1.0,\"#f0f921\"]],\"type\":\"histogram2d\"}],\"histogram\":[{\"marker\":{\"pattern\":{\"fillmode\":\"overlay\",\"size\":10,\"solidity\":0.2}},\"type\":\"histogram\"}],\"mesh3d\":[{\"colorbar\":{\"outlinewidth\":0,\"ticks\":\"\"},\"type\":\"mesh3d\"}],\"parcoords\":[{\"line\":{\"colorbar\":{\"outlinewidth\":0,\"ticks\":\"\"}},\"type\":\"parcoords\"}],\"pie\":[{\"automargin\":true,\"type\":\"pie\"}],\"scatter3d\":[{\"line\":{\"colorbar\":{\"outlinewidth\":0,\"ticks\":\"\"}},\"marker\":{\"colorbar\":{\"outlinewidth\":0,\"ticks\":\"\"}},\"type\":\"scatter3d\"}],\"scattercarpet\":[{\"marker\":{\"colorbar\":{\"outlinewidth\":0,\"ticks\":\"\"}},\"type\":\"scattercarpet\"}],\"scattergeo\":[{\"marker\":{\"colorbar\":{\"outlinewidth\":0,\"ticks\":\"\"}},\"type\":\"scattergeo\"}],\"scattergl\":[{\"marker\":{\"colorbar\":{\"outlinewidth\":0,\"ticks\":\"\"}},\"type\":\"scattergl\"}],\"scattermapbox\":[{\"marker\":{\"colorbar\":{\"outlinewidth\":0,\"ticks\":\"\"}},\"type\":\"scattermapbox\"}],\"scatterpolargl\":[{\"marker\":{\"colorbar\":{\"outlinewidth\":0,\"ticks\":\"\"}},\"type\":\"scatterpolargl\"}],\"scatterpolar\":[{\"marker\":{\"colorbar\":{\"outlinewidth\":0,\"ticks\":\"\"}},\"type\":\"scatterpolar\"}],\"scatter\":[{\"fillpattern\":{\"fillmode\":\"overlay\",\"size\":10,\"solidity\":0.2},\"type\":\"scatter\"}],\"scatterternary\":[{\"marker\":{\"colorbar\":{\"outlinewidth\":0,\"ticks\":\"\"}},\"type\":\"scatterternary\"}],\"surface\":[{\"colorbar\":{\"outlinewidth\":0,\"ticks\":\"\"},\"colorscale\":[[0.0,\"#0d0887\"],[0.1111111111111111,\"#46039f\"],[0.2222222222222222,\"#7201a8\"],[0.3333333333333333,\"#9c179e\"],[0.4444444444444444,\"#bd3786\"],[0.5555555555555556,\"#d8576b\"],[0.6666666666666666,\"#ed7953\"],[0.7777777777777778,\"#fb9f3a\"],[0.8888888888888888,\"#fdca26\"],[1.0,\"#f0f921\"]],\"type\":\"surface\"}],\"table\":[{\"cells\":{\"fill\":{\"color\":\"#EBF0F8\"},\"line\":{\"color\":\"white\"}},\"header\":{\"fill\":{\"color\":\"#C8D4E3\"},\"line\":{\"color\":\"white\"}},\"type\":\"table\"}]},\"layout\":{\"annotationdefaults\":{\"arrowcolor\":\"#2a3f5f\",\"arrowhead\":0,\"arrowwidth\":1},\"autotypenumbers\":\"strict\",\"coloraxis\":{\"colorbar\":{\"outlinewidth\":0,\"ticks\":\"\"}},\"colorscale\":{\"diverging\":[[0,\"#8e0152\"],[0.1,\"#c51b7d\"],[0.2,\"#de77ae\"],[0.3,\"#f1b6da\"],[0.4,\"#fde0ef\"],[0.5,\"#f7f7f7\"],[0.6,\"#e6f5d0\"],[0.7,\"#b8e186\"],[0.8,\"#7fbc41\"],[0.9,\"#4d9221\"],[1,\"#276419\"]],\"sequential\":[[0.0,\"#0d0887\"],[0.1111111111111111,\"#46039f\"],[0.2222222222222222,\"#7201a8\"],[0.3333333333333333,\"#9c179e\"],[0.4444444444444444,\"#bd3786\"],[0.5555555555555556,\"#d8576b\"],[0.6666666666666666,\"#ed7953\"],[0.7777777777777778,\"#fb9f3a\"],[0.8888888888888888,\"#fdca26\"],[1.0,\"#f0f921\"]],\"sequentialminus\":[[0.0,\"#0d0887\"],[0.1111111111111111,\"#46039f\"],[0.2222222222222222,\"#7201a8\"],[0.3333333333333333,\"#9c179e\"],[0.4444444444444444,\"#bd3786\"],[0.5555555555555556,\"#d8576b\"],[0.6666666666666666,\"#ed7953\"],[0.7777777777777778,\"#fb9f3a\"],[0.8888888888888888,\"#fdca26\"],[1.0,\"#f0f921\"]]},\"colorway\":[\"#636efa\",\"#EF553B\",\"#00cc96\",\"#ab63fa\",\"#FFA15A\",\"#19d3f3\",\"#FF6692\",\"#B6E880\",\"#FF97FF\",\"#FECB52\"],\"font\":{\"color\":\"#2a3f5f\"},\"geo\":{\"bgcolor\":\"white\",\"lakecolor\":\"white\",\"landcolor\":\"#E5ECF6\",\"showlakes\":true,\"showland\":true,\"subunitcolor\":\"white\"},\"hoverlabel\":{\"align\":\"left\"},\"hovermode\":\"closest\",\"mapbox\":{\"style\":\"light\"},\"paper_bgcolor\":\"white\",\"plot_bgcolor\":\"#E5ECF6\",\"polar\":{\"angularaxis\":{\"gridcolor\":\"white\",\"linecolor\":\"white\",\"ticks\":\"\"},\"bgcolor\":\"#E5ECF6\",\"radialaxis\":{\"gridcolor\":\"white\",\"linecolor\":\"white\",\"ticks\":\"\"}},\"scene\":{\"xaxis\":{\"backgroundcolor\":\"#E5ECF6\",\"gridcolor\":\"white\",\"gridwidth\":2,\"linecolor\":\"white\",\"showbackground\":true,\"ticks\":\"\",\"zerolinecolor\":\"white\"},\"yaxis\":{\"backgroundcolor\":\"#E5ECF6\",\"gridcolor\":\"white\",\"gridwidth\":2,\"linecolor\":\"white\",\"showbackground\":true,\"ticks\":\"\",\"zerolinecolor\":\"white\"},\"zaxis\":{\"backgroundcolor\":\"#E5ECF6\",\"gridcolor\":\"white\",\"gridwidth\":2,\"linecolor\":\"white\",\"showbackground\":true,\"ticks\":\"\",\"zerolinecolor\":\"white\"}},\"shapedefaults\":{\"line\":{\"color\":\"#2a3f5f\"}},\"ternary\":{\"aaxis\":{\"gridcolor\":\"white\",\"linecolor\":\"white\",\"ticks\":\"\"},\"baxis\":{\"gridcolor\":\"white\",\"linecolor\":\"white\",\"ticks\":\"\"},\"bgcolor\":\"#E5ECF6\",\"caxis\":{\"gridcolor\":\"white\",\"linecolor\":\"white\",\"ticks\":\"\"}},\"title\":{\"x\":0.05},\"xaxis\":{\"automargin\":true,\"gridcolor\":\"white\",\"linecolor\":\"white\",\"ticks\":\"\",\"title\":{\"standoff\":15},\"zerolinecolor\":\"white\",\"zerolinewidth\":2},\"yaxis\":{\"automargin\":true,\"gridcolor\":\"white\",\"linecolor\":\"white\",\"ticks\":\"\",\"title\":{\"standoff\":15},\"zerolinecolor\":\"white\",\"zerolinewidth\":2}}},\"xaxis\":{\"title\":{\"font\":{\"size\":20},\"text\":\"region\"}},\"yaxis\":{\"title\":{\"font\":{\"size\":20},\"text\":\"Sales/Profits\"}}},                        {\"responsive\": true}                    ).then(function(){\n",
       "                            \n",
       "var gd = document.getElementById('2ba7afd1-62ff-4353-aa2a-2ff6a82e1085');\n",
       "var x = new MutationObserver(function (mutations, observer) {{\n",
       "        var display = window.getComputedStyle(gd).display;\n",
       "        if (!display || display === 'none') {{\n",
       "            console.log([gd, 'removed!']);\n",
       "            Plotly.purge(gd);\n",
       "            observer.disconnect();\n",
       "        }}\n",
       "}});\n",
       "\n",
       "// Listen for the removal of the full notebook cells\n",
       "var notebookContainer = gd.closest('#notebook-container');\n",
       "if (notebookContainer) {{\n",
       "    x.observe(notebookContainer, {childList: true});\n",
       "}}\n",
       "\n",
       "// Listen for the clearing of the current output cell\n",
       "var outputEl = gd.closest('.output');\n",
       "if (outputEl) {{\n",
       "    x.observe(outputEl, {childList: true});\n",
       "}}\n",
       "\n",
       "                        })                };                });            </script>        </div>"
      ]
     },
     "metadata": {},
     "output_type": "display_data"
    }
   ],
   "source": [
    "temp = df.groupby('region').sum().sort_values('sales',ascending=False)\n",
    "\n",
    "data = []\n",
    "\n",
    "data.append(go.Bar(x=temp.index,y=temp['sales'],name='sales'))\n",
    "data.append(go.Bar(x=temp.index,y=temp['profit'],name='profit'))\n",
    "\n",
    "layout = go.Layout(xaxis=dict(title='region',titlefont=dict(size=20)),\n",
    "                   yaxis=dict(title='Sales/Profits',titlefont=dict(size=20)))\n",
    "\n",
    "iplot(dict(data=data,layout=layout))"
   ]
  },
  {
   "cell_type": "markdown",
   "id": "7e6d1c40",
   "metadata": {},
   "source": [
    "**The above plot here shows the distribution of sales and profit amongst all 4 regions.**\n",
    "\n",
    "- **The east region had more sales and profit than any other region while the south, despite making sales, had a loss.**\n",
    "\n",
    "- **Further analyses can be made to determine why this happened.**"
   ]
  },
  {
   "cell_type": "code",
   "execution_count": 17,
   "id": "c476904f",
   "metadata": {},
   "outputs": [
    {
     "data": {
      "application/vnd.plotly.v1+json": {
       "config": {
        "linkText": "Export to plot.ly",
        "plotlyServerURL": "https://plot.ly",
        "showLink": false
       },
       "data": [
        {
         "name": "Top 10 States Sales",
         "type": "bar",
         "x": [
          "california",
          "new_york",
          "illinois",
          "texas",
          "florida",
          "washington",
          "michigan",
          "ohio",
          "district_of_columbia",
          "massachusetts"
         ],
         "y": [
          284805.4099999998,
          223930.47999999992,
          98971.25000000001,
          91937.13,
          81205.22000000002,
          78048.65000000001,
          69641.81000000003,
          69452.82000000002,
          68946.66,
          59114.82
         ]
        },
        {
         "name": "Top 10 States Profits",
         "type": "bar",
         "x": [
          "california",
          "new_york",
          "illinois",
          "texas",
          "florida",
          "washington",
          "michigan",
          "ohio",
          "district_of_columbia",
          "massachusetts"
         ],
         "y": [
          36187.568192,
          27611.943318599995,
          12321.579312000002,
          27288.386659999996,
          322.0738399999991,
          116.2188499999994,
          12307.551891600007,
          23410.84202600001,
          11677.3631,
          5293.783979999999
         ]
        }
       ],
       "layout": {
        "barmode": "group",
        "template": {
         "data": {
          "bar": [
           {
            "error_x": {
             "color": "#2a3f5f"
            },
            "error_y": {
             "color": "#2a3f5f"
            },
            "marker": {
             "line": {
              "color": "#E5ECF6",
              "width": 0.5
             },
             "pattern": {
              "fillmode": "overlay",
              "size": 10,
              "solidity": 0.2
             }
            },
            "type": "bar"
           }
          ],
          "barpolar": [
           {
            "marker": {
             "line": {
              "color": "#E5ECF6",
              "width": 0.5
             },
             "pattern": {
              "fillmode": "overlay",
              "size": 10,
              "solidity": 0.2
             }
            },
            "type": "barpolar"
           }
          ],
          "carpet": [
           {
            "aaxis": {
             "endlinecolor": "#2a3f5f",
             "gridcolor": "white",
             "linecolor": "white",
             "minorgridcolor": "white",
             "startlinecolor": "#2a3f5f"
            },
            "baxis": {
             "endlinecolor": "#2a3f5f",
             "gridcolor": "white",
             "linecolor": "white",
             "minorgridcolor": "white",
             "startlinecolor": "#2a3f5f"
            },
            "type": "carpet"
           }
          ],
          "choropleth": [
           {
            "colorbar": {
             "outlinewidth": 0,
             "ticks": ""
            },
            "type": "choropleth"
           }
          ],
          "contour": [
           {
            "colorbar": {
             "outlinewidth": 0,
             "ticks": ""
            },
            "colorscale": [
             [
              0,
              "#0d0887"
             ],
             [
              0.1111111111111111,
              "#46039f"
             ],
             [
              0.2222222222222222,
              "#7201a8"
             ],
             [
              0.3333333333333333,
              "#9c179e"
             ],
             [
              0.4444444444444444,
              "#bd3786"
             ],
             [
              0.5555555555555556,
              "#d8576b"
             ],
             [
              0.6666666666666666,
              "#ed7953"
             ],
             [
              0.7777777777777778,
              "#fb9f3a"
             ],
             [
              0.8888888888888888,
              "#fdca26"
             ],
             [
              1,
              "#f0f921"
             ]
            ],
            "type": "contour"
           }
          ],
          "contourcarpet": [
           {
            "colorbar": {
             "outlinewidth": 0,
             "ticks": ""
            },
            "type": "contourcarpet"
           }
          ],
          "heatmap": [
           {
            "colorbar": {
             "outlinewidth": 0,
             "ticks": ""
            },
            "colorscale": [
             [
              0,
              "#0d0887"
             ],
             [
              0.1111111111111111,
              "#46039f"
             ],
             [
              0.2222222222222222,
              "#7201a8"
             ],
             [
              0.3333333333333333,
              "#9c179e"
             ],
             [
              0.4444444444444444,
              "#bd3786"
             ],
             [
              0.5555555555555556,
              "#d8576b"
             ],
             [
              0.6666666666666666,
              "#ed7953"
             ],
             [
              0.7777777777777778,
              "#fb9f3a"
             ],
             [
              0.8888888888888888,
              "#fdca26"
             ],
             [
              1,
              "#f0f921"
             ]
            ],
            "type": "heatmap"
           }
          ],
          "heatmapgl": [
           {
            "colorbar": {
             "outlinewidth": 0,
             "ticks": ""
            },
            "colorscale": [
             [
              0,
              "#0d0887"
             ],
             [
              0.1111111111111111,
              "#46039f"
             ],
             [
              0.2222222222222222,
              "#7201a8"
             ],
             [
              0.3333333333333333,
              "#9c179e"
             ],
             [
              0.4444444444444444,
              "#bd3786"
             ],
             [
              0.5555555555555556,
              "#d8576b"
             ],
             [
              0.6666666666666666,
              "#ed7953"
             ],
             [
              0.7777777777777778,
              "#fb9f3a"
             ],
             [
              0.8888888888888888,
              "#fdca26"
             ],
             [
              1,
              "#f0f921"
             ]
            ],
            "type": "heatmapgl"
           }
          ],
          "histogram": [
           {
            "marker": {
             "pattern": {
              "fillmode": "overlay",
              "size": 10,
              "solidity": 0.2
             }
            },
            "type": "histogram"
           }
          ],
          "histogram2d": [
           {
            "colorbar": {
             "outlinewidth": 0,
             "ticks": ""
            },
            "colorscale": [
             [
              0,
              "#0d0887"
             ],
             [
              0.1111111111111111,
              "#46039f"
             ],
             [
              0.2222222222222222,
              "#7201a8"
             ],
             [
              0.3333333333333333,
              "#9c179e"
             ],
             [
              0.4444444444444444,
              "#bd3786"
             ],
             [
              0.5555555555555556,
              "#d8576b"
             ],
             [
              0.6666666666666666,
              "#ed7953"
             ],
             [
              0.7777777777777778,
              "#fb9f3a"
             ],
             [
              0.8888888888888888,
              "#fdca26"
             ],
             [
              1,
              "#f0f921"
             ]
            ],
            "type": "histogram2d"
           }
          ],
          "histogram2dcontour": [
           {
            "colorbar": {
             "outlinewidth": 0,
             "ticks": ""
            },
            "colorscale": [
             [
              0,
              "#0d0887"
             ],
             [
              0.1111111111111111,
              "#46039f"
             ],
             [
              0.2222222222222222,
              "#7201a8"
             ],
             [
              0.3333333333333333,
              "#9c179e"
             ],
             [
              0.4444444444444444,
              "#bd3786"
             ],
             [
              0.5555555555555556,
              "#d8576b"
             ],
             [
              0.6666666666666666,
              "#ed7953"
             ],
             [
              0.7777777777777778,
              "#fb9f3a"
             ],
             [
              0.8888888888888888,
              "#fdca26"
             ],
             [
              1,
              "#f0f921"
             ]
            ],
            "type": "histogram2dcontour"
           }
          ],
          "mesh3d": [
           {
            "colorbar": {
             "outlinewidth": 0,
             "ticks": ""
            },
            "type": "mesh3d"
           }
          ],
          "parcoords": [
           {
            "line": {
             "colorbar": {
              "outlinewidth": 0,
              "ticks": ""
             }
            },
            "type": "parcoords"
           }
          ],
          "pie": [
           {
            "automargin": true,
            "type": "pie"
           }
          ],
          "scatter": [
           {
            "fillpattern": {
             "fillmode": "overlay",
             "size": 10,
             "solidity": 0.2
            },
            "type": "scatter"
           }
          ],
          "scatter3d": [
           {
            "line": {
             "colorbar": {
              "outlinewidth": 0,
              "ticks": ""
             }
            },
            "marker": {
             "colorbar": {
              "outlinewidth": 0,
              "ticks": ""
             }
            },
            "type": "scatter3d"
           }
          ],
          "scattercarpet": [
           {
            "marker": {
             "colorbar": {
              "outlinewidth": 0,
              "ticks": ""
             }
            },
            "type": "scattercarpet"
           }
          ],
          "scattergeo": [
           {
            "marker": {
             "colorbar": {
              "outlinewidth": 0,
              "ticks": ""
             }
            },
            "type": "scattergeo"
           }
          ],
          "scattergl": [
           {
            "marker": {
             "colorbar": {
              "outlinewidth": 0,
              "ticks": ""
             }
            },
            "type": "scattergl"
           }
          ],
          "scattermapbox": [
           {
            "marker": {
             "colorbar": {
              "outlinewidth": 0,
              "ticks": ""
             }
            },
            "type": "scattermapbox"
           }
          ],
          "scatterpolar": [
           {
            "marker": {
             "colorbar": {
              "outlinewidth": 0,
              "ticks": ""
             }
            },
            "type": "scatterpolar"
           }
          ],
          "scatterpolargl": [
           {
            "marker": {
             "colorbar": {
              "outlinewidth": 0,
              "ticks": ""
             }
            },
            "type": "scatterpolargl"
           }
          ],
          "scatterternary": [
           {
            "marker": {
             "colorbar": {
              "outlinewidth": 0,
              "ticks": ""
             }
            },
            "type": "scatterternary"
           }
          ],
          "surface": [
           {
            "colorbar": {
             "outlinewidth": 0,
             "ticks": ""
            },
            "colorscale": [
             [
              0,
              "#0d0887"
             ],
             [
              0.1111111111111111,
              "#46039f"
             ],
             [
              0.2222222222222222,
              "#7201a8"
             ],
             [
              0.3333333333333333,
              "#9c179e"
             ],
             [
              0.4444444444444444,
              "#bd3786"
             ],
             [
              0.5555555555555556,
              "#d8576b"
             ],
             [
              0.6666666666666666,
              "#ed7953"
             ],
             [
              0.7777777777777778,
              "#fb9f3a"
             ],
             [
              0.8888888888888888,
              "#fdca26"
             ],
             [
              1,
              "#f0f921"
             ]
            ],
            "type": "surface"
           }
          ],
          "table": [
           {
            "cells": {
             "fill": {
              "color": "#EBF0F8"
             },
             "line": {
              "color": "white"
             }
            },
            "header": {
             "fill": {
              "color": "#C8D4E3"
             },
             "line": {
              "color": "white"
             }
            },
            "type": "table"
           }
          ]
         },
         "layout": {
          "annotationdefaults": {
           "arrowcolor": "#2a3f5f",
           "arrowhead": 0,
           "arrowwidth": 1
          },
          "autotypenumbers": "strict",
          "coloraxis": {
           "colorbar": {
            "outlinewidth": 0,
            "ticks": ""
           }
          },
          "colorscale": {
           "diverging": [
            [
             0,
             "#8e0152"
            ],
            [
             0.1,
             "#c51b7d"
            ],
            [
             0.2,
             "#de77ae"
            ],
            [
             0.3,
             "#f1b6da"
            ],
            [
             0.4,
             "#fde0ef"
            ],
            [
             0.5,
             "#f7f7f7"
            ],
            [
             0.6,
             "#e6f5d0"
            ],
            [
             0.7,
             "#b8e186"
            ],
            [
             0.8,
             "#7fbc41"
            ],
            [
             0.9,
             "#4d9221"
            ],
            [
             1,
             "#276419"
            ]
           ],
           "sequential": [
            [
             0,
             "#0d0887"
            ],
            [
             0.1111111111111111,
             "#46039f"
            ],
            [
             0.2222222222222222,
             "#7201a8"
            ],
            [
             0.3333333333333333,
             "#9c179e"
            ],
            [
             0.4444444444444444,
             "#bd3786"
            ],
            [
             0.5555555555555556,
             "#d8576b"
            ],
            [
             0.6666666666666666,
             "#ed7953"
            ],
            [
             0.7777777777777778,
             "#fb9f3a"
            ],
            [
             0.8888888888888888,
             "#fdca26"
            ],
            [
             1,
             "#f0f921"
            ]
           ],
           "sequentialminus": [
            [
             0,
             "#0d0887"
            ],
            [
             0.1111111111111111,
             "#46039f"
            ],
            [
             0.2222222222222222,
             "#7201a8"
            ],
            [
             0.3333333333333333,
             "#9c179e"
            ],
            [
             0.4444444444444444,
             "#bd3786"
            ],
            [
             0.5555555555555556,
             "#d8576b"
            ],
            [
             0.6666666666666666,
             "#ed7953"
            ],
            [
             0.7777777777777778,
             "#fb9f3a"
            ],
            [
             0.8888888888888888,
             "#fdca26"
            ],
            [
             1,
             "#f0f921"
            ]
           ]
          },
          "colorway": [
           "#636efa",
           "#EF553B",
           "#00cc96",
           "#ab63fa",
           "#FFA15A",
           "#19d3f3",
           "#FF6692",
           "#B6E880",
           "#FF97FF",
           "#FECB52"
          ],
          "font": {
           "color": "#2a3f5f"
          },
          "geo": {
           "bgcolor": "white",
           "lakecolor": "white",
           "landcolor": "#E5ECF6",
           "showlakes": true,
           "showland": true,
           "subunitcolor": "white"
          },
          "hoverlabel": {
           "align": "left"
          },
          "hovermode": "closest",
          "mapbox": {
           "style": "light"
          },
          "paper_bgcolor": "white",
          "plot_bgcolor": "#E5ECF6",
          "polar": {
           "angularaxis": {
            "gridcolor": "white",
            "linecolor": "white",
            "ticks": ""
           },
           "bgcolor": "#E5ECF6",
           "radialaxis": {
            "gridcolor": "white",
            "linecolor": "white",
            "ticks": ""
           }
          },
          "scene": {
           "xaxis": {
            "backgroundcolor": "#E5ECF6",
            "gridcolor": "white",
            "gridwidth": 2,
            "linecolor": "white",
            "showbackground": true,
            "ticks": "",
            "zerolinecolor": "white"
           },
           "yaxis": {
            "backgroundcolor": "#E5ECF6",
            "gridcolor": "white",
            "gridwidth": 2,
            "linecolor": "white",
            "showbackground": true,
            "ticks": "",
            "zerolinecolor": "white"
           },
           "zaxis": {
            "backgroundcolor": "#E5ECF6",
            "gridcolor": "white",
            "gridwidth": 2,
            "linecolor": "white",
            "showbackground": true,
            "ticks": "",
            "zerolinecolor": "white"
           }
          },
          "shapedefaults": {
           "line": {
            "color": "#2a3f5f"
           }
          },
          "ternary": {
           "aaxis": {
            "gridcolor": "white",
            "linecolor": "white",
            "ticks": ""
           },
           "baxis": {
            "gridcolor": "white",
            "linecolor": "white",
            "ticks": ""
           },
           "bgcolor": "#E5ECF6",
           "caxis": {
            "gridcolor": "white",
            "linecolor": "white",
            "ticks": ""
           }
          },
          "title": {
           "x": 0.05
          },
          "xaxis": {
           "automargin": true,
           "gridcolor": "white",
           "linecolor": "white",
           "ticks": "",
           "title": {
            "standoff": 15
           },
           "zerolinecolor": "white",
           "zerolinewidth": 2
          },
          "yaxis": {
           "automargin": true,
           "gridcolor": "white",
           "linecolor": "white",
           "ticks": "",
           "title": {
            "standoff": 15
           },
           "zerolinecolor": "white",
           "zerolinewidth": 2
          }
         }
        },
        "title": {
         "text": "Grouped Bar Plot Fot Sales and Profits<br>(For The Top Ten State Sales)"
        }
       }
      },
      "text/html": [
       "<div>                            <div id=\"143b057e-75be-468b-9d8c-5e67346f4c77\" class=\"plotly-graph-div\" style=\"height:525px; width:100%;\"></div>            <script type=\"text/javascript\">                require([\"plotly\"], function(Plotly) {                    window.PLOTLYENV=window.PLOTLYENV || {};                                    if (document.getElementById(\"143b057e-75be-468b-9d8c-5e67346f4c77\")) {                    Plotly.newPlot(                        \"143b057e-75be-468b-9d8c-5e67346f4c77\",                        [{\"name\":\"Top 10 States Sales\",\"x\":[\"california\",\"new_york\",\"illinois\",\"texas\",\"florida\",\"washington\",\"michigan\",\"ohio\",\"district_of_columbia\",\"massachusetts\"],\"y\":[284805.4099999998,223930.47999999992,98971.25000000001,91937.13,81205.22000000002,78048.65000000001,69641.81000000003,69452.82000000002,68946.66,59114.82],\"type\":\"bar\"},{\"name\":\"Top 10 States Profits\",\"x\":[\"california\",\"new_york\",\"illinois\",\"texas\",\"florida\",\"washington\",\"michigan\",\"ohio\",\"district_of_columbia\",\"massachusetts\"],\"y\":[36187.568192,27611.943318599995,12321.579312000002,27288.386659999996,322.0738399999991,116.2188499999994,12307.551891600007,23410.84202600001,11677.3631,5293.783979999999],\"type\":\"bar\"}],                        {\"barmode\":\"group\",\"template\":{\"data\":{\"barpolar\":[{\"marker\":{\"line\":{\"color\":\"#E5ECF6\",\"width\":0.5},\"pattern\":{\"fillmode\":\"overlay\",\"size\":10,\"solidity\":0.2}},\"type\":\"barpolar\"}],\"bar\":[{\"error_x\":{\"color\":\"#2a3f5f\"},\"error_y\":{\"color\":\"#2a3f5f\"},\"marker\":{\"line\":{\"color\":\"#E5ECF6\",\"width\":0.5},\"pattern\":{\"fillmode\":\"overlay\",\"size\":10,\"solidity\":0.2}},\"type\":\"bar\"}],\"carpet\":[{\"aaxis\":{\"endlinecolor\":\"#2a3f5f\",\"gridcolor\":\"white\",\"linecolor\":\"white\",\"minorgridcolor\":\"white\",\"startlinecolor\":\"#2a3f5f\"},\"baxis\":{\"endlinecolor\":\"#2a3f5f\",\"gridcolor\":\"white\",\"linecolor\":\"white\",\"minorgridcolor\":\"white\",\"startlinecolor\":\"#2a3f5f\"},\"type\":\"carpet\"}],\"choropleth\":[{\"colorbar\":{\"outlinewidth\":0,\"ticks\":\"\"},\"type\":\"choropleth\"}],\"contourcarpet\":[{\"colorbar\":{\"outlinewidth\":0,\"ticks\":\"\"},\"type\":\"contourcarpet\"}],\"contour\":[{\"colorbar\":{\"outlinewidth\":0,\"ticks\":\"\"},\"colorscale\":[[0.0,\"#0d0887\"],[0.1111111111111111,\"#46039f\"],[0.2222222222222222,\"#7201a8\"],[0.3333333333333333,\"#9c179e\"],[0.4444444444444444,\"#bd3786\"],[0.5555555555555556,\"#d8576b\"],[0.6666666666666666,\"#ed7953\"],[0.7777777777777778,\"#fb9f3a\"],[0.8888888888888888,\"#fdca26\"],[1.0,\"#f0f921\"]],\"type\":\"contour\"}],\"heatmapgl\":[{\"colorbar\":{\"outlinewidth\":0,\"ticks\":\"\"},\"colorscale\":[[0.0,\"#0d0887\"],[0.1111111111111111,\"#46039f\"],[0.2222222222222222,\"#7201a8\"],[0.3333333333333333,\"#9c179e\"],[0.4444444444444444,\"#bd3786\"],[0.5555555555555556,\"#d8576b\"],[0.6666666666666666,\"#ed7953\"],[0.7777777777777778,\"#fb9f3a\"],[0.8888888888888888,\"#fdca26\"],[1.0,\"#f0f921\"]],\"type\":\"heatmapgl\"}],\"heatmap\":[{\"colorbar\":{\"outlinewidth\":0,\"ticks\":\"\"},\"colorscale\":[[0.0,\"#0d0887\"],[0.1111111111111111,\"#46039f\"],[0.2222222222222222,\"#7201a8\"],[0.3333333333333333,\"#9c179e\"],[0.4444444444444444,\"#bd3786\"],[0.5555555555555556,\"#d8576b\"],[0.6666666666666666,\"#ed7953\"],[0.7777777777777778,\"#fb9f3a\"],[0.8888888888888888,\"#fdca26\"],[1.0,\"#f0f921\"]],\"type\":\"heatmap\"}],\"histogram2dcontour\":[{\"colorbar\":{\"outlinewidth\":0,\"ticks\":\"\"},\"colorscale\":[[0.0,\"#0d0887\"],[0.1111111111111111,\"#46039f\"],[0.2222222222222222,\"#7201a8\"],[0.3333333333333333,\"#9c179e\"],[0.4444444444444444,\"#bd3786\"],[0.5555555555555556,\"#d8576b\"],[0.6666666666666666,\"#ed7953\"],[0.7777777777777778,\"#fb9f3a\"],[0.8888888888888888,\"#fdca26\"],[1.0,\"#f0f921\"]],\"type\":\"histogram2dcontour\"}],\"histogram2d\":[{\"colorbar\":{\"outlinewidth\":0,\"ticks\":\"\"},\"colorscale\":[[0.0,\"#0d0887\"],[0.1111111111111111,\"#46039f\"],[0.2222222222222222,\"#7201a8\"],[0.3333333333333333,\"#9c179e\"],[0.4444444444444444,\"#bd3786\"],[0.5555555555555556,\"#d8576b\"],[0.6666666666666666,\"#ed7953\"],[0.7777777777777778,\"#fb9f3a\"],[0.8888888888888888,\"#fdca26\"],[1.0,\"#f0f921\"]],\"type\":\"histogram2d\"}],\"histogram\":[{\"marker\":{\"pattern\":{\"fillmode\":\"overlay\",\"size\":10,\"solidity\":0.2}},\"type\":\"histogram\"}],\"mesh3d\":[{\"colorbar\":{\"outlinewidth\":0,\"ticks\":\"\"},\"type\":\"mesh3d\"}],\"parcoords\":[{\"line\":{\"colorbar\":{\"outlinewidth\":0,\"ticks\":\"\"}},\"type\":\"parcoords\"}],\"pie\":[{\"automargin\":true,\"type\":\"pie\"}],\"scatter3d\":[{\"line\":{\"colorbar\":{\"outlinewidth\":0,\"ticks\":\"\"}},\"marker\":{\"colorbar\":{\"outlinewidth\":0,\"ticks\":\"\"}},\"type\":\"scatter3d\"}],\"scattercarpet\":[{\"marker\":{\"colorbar\":{\"outlinewidth\":0,\"ticks\":\"\"}},\"type\":\"scattercarpet\"}],\"scattergeo\":[{\"marker\":{\"colorbar\":{\"outlinewidth\":0,\"ticks\":\"\"}},\"type\":\"scattergeo\"}],\"scattergl\":[{\"marker\":{\"colorbar\":{\"outlinewidth\":0,\"ticks\":\"\"}},\"type\":\"scattergl\"}],\"scattermapbox\":[{\"marker\":{\"colorbar\":{\"outlinewidth\":0,\"ticks\":\"\"}},\"type\":\"scattermapbox\"}],\"scatterpolargl\":[{\"marker\":{\"colorbar\":{\"outlinewidth\":0,\"ticks\":\"\"}},\"type\":\"scatterpolargl\"}],\"scatterpolar\":[{\"marker\":{\"colorbar\":{\"outlinewidth\":0,\"ticks\":\"\"}},\"type\":\"scatterpolar\"}],\"scatter\":[{\"fillpattern\":{\"fillmode\":\"overlay\",\"size\":10,\"solidity\":0.2},\"type\":\"scatter\"}],\"scatterternary\":[{\"marker\":{\"colorbar\":{\"outlinewidth\":0,\"ticks\":\"\"}},\"type\":\"scatterternary\"}],\"surface\":[{\"colorbar\":{\"outlinewidth\":0,\"ticks\":\"\"},\"colorscale\":[[0.0,\"#0d0887\"],[0.1111111111111111,\"#46039f\"],[0.2222222222222222,\"#7201a8\"],[0.3333333333333333,\"#9c179e\"],[0.4444444444444444,\"#bd3786\"],[0.5555555555555556,\"#d8576b\"],[0.6666666666666666,\"#ed7953\"],[0.7777777777777778,\"#fb9f3a\"],[0.8888888888888888,\"#fdca26\"],[1.0,\"#f0f921\"]],\"type\":\"surface\"}],\"table\":[{\"cells\":{\"fill\":{\"color\":\"#EBF0F8\"},\"line\":{\"color\":\"white\"}},\"header\":{\"fill\":{\"color\":\"#C8D4E3\"},\"line\":{\"color\":\"white\"}},\"type\":\"table\"}]},\"layout\":{\"annotationdefaults\":{\"arrowcolor\":\"#2a3f5f\",\"arrowhead\":0,\"arrowwidth\":1},\"autotypenumbers\":\"strict\",\"coloraxis\":{\"colorbar\":{\"outlinewidth\":0,\"ticks\":\"\"}},\"colorscale\":{\"diverging\":[[0,\"#8e0152\"],[0.1,\"#c51b7d\"],[0.2,\"#de77ae\"],[0.3,\"#f1b6da\"],[0.4,\"#fde0ef\"],[0.5,\"#f7f7f7\"],[0.6,\"#e6f5d0\"],[0.7,\"#b8e186\"],[0.8,\"#7fbc41\"],[0.9,\"#4d9221\"],[1,\"#276419\"]],\"sequential\":[[0.0,\"#0d0887\"],[0.1111111111111111,\"#46039f\"],[0.2222222222222222,\"#7201a8\"],[0.3333333333333333,\"#9c179e\"],[0.4444444444444444,\"#bd3786\"],[0.5555555555555556,\"#d8576b\"],[0.6666666666666666,\"#ed7953\"],[0.7777777777777778,\"#fb9f3a\"],[0.8888888888888888,\"#fdca26\"],[1.0,\"#f0f921\"]],\"sequentialminus\":[[0.0,\"#0d0887\"],[0.1111111111111111,\"#46039f\"],[0.2222222222222222,\"#7201a8\"],[0.3333333333333333,\"#9c179e\"],[0.4444444444444444,\"#bd3786\"],[0.5555555555555556,\"#d8576b\"],[0.6666666666666666,\"#ed7953\"],[0.7777777777777778,\"#fb9f3a\"],[0.8888888888888888,\"#fdca26\"],[1.0,\"#f0f921\"]]},\"colorway\":[\"#636efa\",\"#EF553B\",\"#00cc96\",\"#ab63fa\",\"#FFA15A\",\"#19d3f3\",\"#FF6692\",\"#B6E880\",\"#FF97FF\",\"#FECB52\"],\"font\":{\"color\":\"#2a3f5f\"},\"geo\":{\"bgcolor\":\"white\",\"lakecolor\":\"white\",\"landcolor\":\"#E5ECF6\",\"showlakes\":true,\"showland\":true,\"subunitcolor\":\"white\"},\"hoverlabel\":{\"align\":\"left\"},\"hovermode\":\"closest\",\"mapbox\":{\"style\":\"light\"},\"paper_bgcolor\":\"white\",\"plot_bgcolor\":\"#E5ECF6\",\"polar\":{\"angularaxis\":{\"gridcolor\":\"white\",\"linecolor\":\"white\",\"ticks\":\"\"},\"bgcolor\":\"#E5ECF6\",\"radialaxis\":{\"gridcolor\":\"white\",\"linecolor\":\"white\",\"ticks\":\"\"}},\"scene\":{\"xaxis\":{\"backgroundcolor\":\"#E5ECF6\",\"gridcolor\":\"white\",\"gridwidth\":2,\"linecolor\":\"white\",\"showbackground\":true,\"ticks\":\"\",\"zerolinecolor\":\"white\"},\"yaxis\":{\"backgroundcolor\":\"#E5ECF6\",\"gridcolor\":\"white\",\"gridwidth\":2,\"linecolor\":\"white\",\"showbackground\":true,\"ticks\":\"\",\"zerolinecolor\":\"white\"},\"zaxis\":{\"backgroundcolor\":\"#E5ECF6\",\"gridcolor\":\"white\",\"gridwidth\":2,\"linecolor\":\"white\",\"showbackground\":true,\"ticks\":\"\",\"zerolinecolor\":\"white\"}},\"shapedefaults\":{\"line\":{\"color\":\"#2a3f5f\"}},\"ternary\":{\"aaxis\":{\"gridcolor\":\"white\",\"linecolor\":\"white\",\"ticks\":\"\"},\"baxis\":{\"gridcolor\":\"white\",\"linecolor\":\"white\",\"ticks\":\"\"},\"bgcolor\":\"#E5ECF6\",\"caxis\":{\"gridcolor\":\"white\",\"linecolor\":\"white\",\"ticks\":\"\"}},\"title\":{\"x\":0.05},\"xaxis\":{\"automargin\":true,\"gridcolor\":\"white\",\"linecolor\":\"white\",\"ticks\":\"\",\"title\":{\"standoff\":15},\"zerolinecolor\":\"white\",\"zerolinewidth\":2},\"yaxis\":{\"automargin\":true,\"gridcolor\":\"white\",\"linecolor\":\"white\",\"ticks\":\"\",\"title\":{\"standoff\":15},\"zerolinecolor\":\"white\",\"zerolinewidth\":2}}},\"title\":{\"text\":\"Grouped Bar Plot Fot Sales and Profits<br>(For The Top Ten State Sales)\"}},                        {\"responsive\": true}                    ).then(function(){\n",
       "                            \n",
       "var gd = document.getElementById('143b057e-75be-468b-9d8c-5e67346f4c77');\n",
       "var x = new MutationObserver(function (mutations, observer) {{\n",
       "        var display = window.getComputedStyle(gd).display;\n",
       "        if (!display || display === 'none') {{\n",
       "            console.log([gd, 'removed!']);\n",
       "            Plotly.purge(gd);\n",
       "            observer.disconnect();\n",
       "        }}\n",
       "}});\n",
       "\n",
       "// Listen for the removal of the full notebook cells\n",
       "var notebookContainer = gd.closest('#notebook-container');\n",
       "if (notebookContainer) {{\n",
       "    x.observe(notebookContainer, {childList: true});\n",
       "}}\n",
       "\n",
       "// Listen for the clearing of the current output cell\n",
       "var outputEl = gd.closest('.output');\n",
       "if (outputEl) {{\n",
       "    x.observe(outputEl, {childList: true});\n",
       "}}\n",
       "\n",
       "                        })                };                });            </script>        </div>"
      ]
     },
     "metadata": {},
     "output_type": "display_data"
    }
   ],
   "source": [
    "top_10_state_sales = df.groupby( 'state_or_province').sum()['sales'].sort_values(ascending=False)[0:10]\n",
    "top_10_state_profits = df.groupby(by='state_or_province').sum().sort_values(by='sales',ascending=False)[0:10]['profit']\n",
    "\n",
    "data=[go.Bar(x=top_10_state_sales.index,\n",
    "             y=top_10_state_sales,\n",
    "             name='Top 10 States Sales'),\n",
    "      go.Bar(x=top_10_state_profits.index,\n",
    "             y=top_10_state_profits,\n",
    "             name='Top 10 States Profits')]\n",
    "\n",
    "layout=go.Layout(dict(title=\"Grouped Bar Plot Fot Sales and Profits<br>(For The Top Ten State Sales)\",\n",
    "                      barmode='group'))\n",
    "    \n",
    "iplot(dict(data=data,layout=layout))"
   ]
  },
  {
   "cell_type": "code",
   "execution_count": 18,
   "id": "531d8107",
   "metadata": {},
   "outputs": [
    {
     "data": {
      "text/plain": [
       "49"
      ]
     },
     "execution_count": 18,
     "metadata": {},
     "output_type": "execute_result"
    }
   ],
   "source": [
    "df['state_or_province'].nunique()"
   ]
  },
  {
   "cell_type": "markdown",
   "id": "956ead5e",
   "metadata": {},
   "source": [
    "**US Super Store operates in 49 states of the province.**\n",
    "\n",
    "**However from this visualization, California and new york had significantly high profits and sales, while Ohio and Illinois had similar profits to new york but low sales.**\n",
    "\n",
    "**These 4 states should be further investigated to determine how and why California and new york had more sales, and how Ohio and Illinois were able to make a significant profit without making many sales.**\n",
    "\n",
    "**These systems should be able to give maximum sales and maximum profit after deployment, however this is dependent on the result from the investigation.**"
   ]
  },
  {
   "cell_type": "code",
   "execution_count": 19,
   "id": "2db6540e",
   "metadata": {},
   "outputs": [
    {
     "data": {
      "application/vnd.plotly.v1+json": {
       "config": {
        "linkText": "Export to plot.ly",
        "plotlyServerURL": "https://plot.ly",
        "showLink": false
       },
       "data": [
        {
         "hovertemplate": "<b>%{hovertext}</b><br><br>x=%{x}<br>y=%{y}<br>size=%{marker.size}<extra></extra>",
         "hovertext": [
          "alabama",
          "arizona",
          "arkansas",
          "california",
          "colorado",
          "connecticut",
          "delaware",
          "district_of_columbia",
          "florida",
          "georgia",
          "idaho",
          "illinois",
          "indiana",
          "iowa",
          "kansas",
          "kentucky",
          "louisiana",
          "maine",
          "maryland",
          "massachusetts",
          "michigan",
          "minnesota",
          "mississippi",
          "missouri",
          "montana",
          "nebraska",
          "nevada",
          "new_hampshire",
          "new_jersey",
          "new_mexico",
          "new_york",
          "north_carolina",
          "north_dakota",
          "ohio",
          "oklahoma",
          "oregon",
          "pennsylvania",
          "rhode_island",
          "south_carolina",
          "south_dakota",
          "tennessee",
          "texas",
          "utah",
          "vermont",
          "virginia",
          "washington",
          "west_virginia",
          "wisconsin",
          "wyoming"
         ],
         "legendgroup": "",
         "marker": {
          "color": "#636efa",
          "size": [
           268,
           285,
           242,
           3692,
           397,
           144,
           25,
           600,
           1423,
           470,
           222,
           1382,
           563,
           244,
           300,
           221,
           222,
           244,
           311,
           848,
           906,
           527,
           170,
           213,
           69,
           144,
           150,
           110,
           324,
           123,
           2467,
           725,
           92,
           845,
           113,
           256,
           804,
           53,
           334,
           57,
           420,
           1567,
           378,
           106,
           497,
           968,
           114,
           438,
           29
          ],
          "sizemode": "area",
          "sizeref": 9.23,
          "symbol": "circle"
         },
         "mode": "markers",
         "name": "",
         "orientation": "v",
         "showlegend": false,
         "type": "scatter",
         "x": [
          46826.44999999999,
          14367.860000000002,
          11724.43,
          284805.4099999998,
          45843.45000000001,
          6540.540000000001,
          1257.76,
          68946.66,
          81205.22000000002,
          29050.790000000005,
          13922.919999999998,
          98971.25000000001,
          39314.55,
          10977.690000000002,
          29678.210000000003,
          14737.27,
          14909.429999999998,
          30532.71,
          15403.56,
          59114.82,
          69641.81000000003,
          37752.28,
          9689.579999999998,
          10903.079999999998,
          12593.59,
          15764.509999999997,
          8864.539999999999,
          7619.7,
          21943.910000000003,
          5593.179999999999,
          223930.47999999992,
          38147.88999999999,
          5300.2300000000005,
          69452.82000000002,
          6884.04,
          21821.829999999994,
          45780.850000000006,
          10027.83,
          16544.629999999997,
          1550.4899999999998,
          33209.76,
          91937.13,
          26981.670000000002,
          13491.000000000002,
          45282.87000000001,
          78048.65000000001,
          10681.549999999997,
          22770.350000000002,
          1183.54
         ],
         "xaxis": "x",
         "y": [
          -2418.0566,
          3909.753832,
          -1184.7471999999998,
          36187.568192,
          6965.4626599999965,
          -529.1062999999999,
          406.7418,
          11677.3631,
          322.0738399999991,
          8645.207413700002,
          6848.3533,
          12321.579312000002,
          -976.9495050000007,
          1262.43058,
          2725.7763600000003,
          -1982.6450000000002,
          710.1254200000003,
          3169.462893,
          1336.0164600000003,
          5293.783979999999,
          12307.551891600007,
          6932.44586,
          -529.9149499999997,
          2123.211900000001,
          -13759.20549,
          4675.60033,
          3788.8289959999997,
          3611.0574,
          770.9086880000007,
          4215.91948,
          27611.943318599995,
          -19337.166839999998,
          3012.1560999999997,
          23410.84202600001,
          2555.98952,
          15291.572600000001,
          -1556.1825245999999,
          5073.001399999999,
          1695.7832369999999,
          431.1862,
          -1603.4633999999999,
          27288.386659999996,
          3931.8369799999996,
          530.1497800000003,
          -1748.5517000000004,
          116.2188499999994,
          4771.463824999999,
          3986.4100599999992,
          735.225
         ],
         "yaxis": "y"
        }
       ],
       "layout": {
        "template": {
         "data": {
          "bar": [
           {
            "error_x": {
             "color": "#2a3f5f"
            },
            "error_y": {
             "color": "#2a3f5f"
            },
            "marker": {
             "line": {
              "color": "#E5ECF6",
              "width": 0.5
             },
             "pattern": {
              "fillmode": "overlay",
              "size": 10,
              "solidity": 0.2
             }
            },
            "type": "bar"
           }
          ],
          "barpolar": [
           {
            "marker": {
             "line": {
              "color": "#E5ECF6",
              "width": 0.5
             },
             "pattern": {
              "fillmode": "overlay",
              "size": 10,
              "solidity": 0.2
             }
            },
            "type": "barpolar"
           }
          ],
          "carpet": [
           {
            "aaxis": {
             "endlinecolor": "#2a3f5f",
             "gridcolor": "white",
             "linecolor": "white",
             "minorgridcolor": "white",
             "startlinecolor": "#2a3f5f"
            },
            "baxis": {
             "endlinecolor": "#2a3f5f",
             "gridcolor": "white",
             "linecolor": "white",
             "minorgridcolor": "white",
             "startlinecolor": "#2a3f5f"
            },
            "type": "carpet"
           }
          ],
          "choropleth": [
           {
            "colorbar": {
             "outlinewidth": 0,
             "ticks": ""
            },
            "type": "choropleth"
           }
          ],
          "contour": [
           {
            "colorbar": {
             "outlinewidth": 0,
             "ticks": ""
            },
            "colorscale": [
             [
              0,
              "#0d0887"
             ],
             [
              0.1111111111111111,
              "#46039f"
             ],
             [
              0.2222222222222222,
              "#7201a8"
             ],
             [
              0.3333333333333333,
              "#9c179e"
             ],
             [
              0.4444444444444444,
              "#bd3786"
             ],
             [
              0.5555555555555556,
              "#d8576b"
             ],
             [
              0.6666666666666666,
              "#ed7953"
             ],
             [
              0.7777777777777778,
              "#fb9f3a"
             ],
             [
              0.8888888888888888,
              "#fdca26"
             ],
             [
              1,
              "#f0f921"
             ]
            ],
            "type": "contour"
           }
          ],
          "contourcarpet": [
           {
            "colorbar": {
             "outlinewidth": 0,
             "ticks": ""
            },
            "type": "contourcarpet"
           }
          ],
          "heatmap": [
           {
            "colorbar": {
             "outlinewidth": 0,
             "ticks": ""
            },
            "colorscale": [
             [
              0,
              "#0d0887"
             ],
             [
              0.1111111111111111,
              "#46039f"
             ],
             [
              0.2222222222222222,
              "#7201a8"
             ],
             [
              0.3333333333333333,
              "#9c179e"
             ],
             [
              0.4444444444444444,
              "#bd3786"
             ],
             [
              0.5555555555555556,
              "#d8576b"
             ],
             [
              0.6666666666666666,
              "#ed7953"
             ],
             [
              0.7777777777777778,
              "#fb9f3a"
             ],
             [
              0.8888888888888888,
              "#fdca26"
             ],
             [
              1,
              "#f0f921"
             ]
            ],
            "type": "heatmap"
           }
          ],
          "heatmapgl": [
           {
            "colorbar": {
             "outlinewidth": 0,
             "ticks": ""
            },
            "colorscale": [
             [
              0,
              "#0d0887"
             ],
             [
              0.1111111111111111,
              "#46039f"
             ],
             [
              0.2222222222222222,
              "#7201a8"
             ],
             [
              0.3333333333333333,
              "#9c179e"
             ],
             [
              0.4444444444444444,
              "#bd3786"
             ],
             [
              0.5555555555555556,
              "#d8576b"
             ],
             [
              0.6666666666666666,
              "#ed7953"
             ],
             [
              0.7777777777777778,
              "#fb9f3a"
             ],
             [
              0.8888888888888888,
              "#fdca26"
             ],
             [
              1,
              "#f0f921"
             ]
            ],
            "type": "heatmapgl"
           }
          ],
          "histogram": [
           {
            "marker": {
             "pattern": {
              "fillmode": "overlay",
              "size": 10,
              "solidity": 0.2
             }
            },
            "type": "histogram"
           }
          ],
          "histogram2d": [
           {
            "colorbar": {
             "outlinewidth": 0,
             "ticks": ""
            },
            "colorscale": [
             [
              0,
              "#0d0887"
             ],
             [
              0.1111111111111111,
              "#46039f"
             ],
             [
              0.2222222222222222,
              "#7201a8"
             ],
             [
              0.3333333333333333,
              "#9c179e"
             ],
             [
              0.4444444444444444,
              "#bd3786"
             ],
             [
              0.5555555555555556,
              "#d8576b"
             ],
             [
              0.6666666666666666,
              "#ed7953"
             ],
             [
              0.7777777777777778,
              "#fb9f3a"
             ],
             [
              0.8888888888888888,
              "#fdca26"
             ],
             [
              1,
              "#f0f921"
             ]
            ],
            "type": "histogram2d"
           }
          ],
          "histogram2dcontour": [
           {
            "colorbar": {
             "outlinewidth": 0,
             "ticks": ""
            },
            "colorscale": [
             [
              0,
              "#0d0887"
             ],
             [
              0.1111111111111111,
              "#46039f"
             ],
             [
              0.2222222222222222,
              "#7201a8"
             ],
             [
              0.3333333333333333,
              "#9c179e"
             ],
             [
              0.4444444444444444,
              "#bd3786"
             ],
             [
              0.5555555555555556,
              "#d8576b"
             ],
             [
              0.6666666666666666,
              "#ed7953"
             ],
             [
              0.7777777777777778,
              "#fb9f3a"
             ],
             [
              0.8888888888888888,
              "#fdca26"
             ],
             [
              1,
              "#f0f921"
             ]
            ],
            "type": "histogram2dcontour"
           }
          ],
          "mesh3d": [
           {
            "colorbar": {
             "outlinewidth": 0,
             "ticks": ""
            },
            "type": "mesh3d"
           }
          ],
          "parcoords": [
           {
            "line": {
             "colorbar": {
              "outlinewidth": 0,
              "ticks": ""
             }
            },
            "type": "parcoords"
           }
          ],
          "pie": [
           {
            "automargin": true,
            "type": "pie"
           }
          ],
          "scatter": [
           {
            "fillpattern": {
             "fillmode": "overlay",
             "size": 10,
             "solidity": 0.2
            },
            "type": "scatter"
           }
          ],
          "scatter3d": [
           {
            "line": {
             "colorbar": {
              "outlinewidth": 0,
              "ticks": ""
             }
            },
            "marker": {
             "colorbar": {
              "outlinewidth": 0,
              "ticks": ""
             }
            },
            "type": "scatter3d"
           }
          ],
          "scattercarpet": [
           {
            "marker": {
             "colorbar": {
              "outlinewidth": 0,
              "ticks": ""
             }
            },
            "type": "scattercarpet"
           }
          ],
          "scattergeo": [
           {
            "marker": {
             "colorbar": {
              "outlinewidth": 0,
              "ticks": ""
             }
            },
            "type": "scattergeo"
           }
          ],
          "scattergl": [
           {
            "marker": {
             "colorbar": {
              "outlinewidth": 0,
              "ticks": ""
             }
            },
            "type": "scattergl"
           }
          ],
          "scattermapbox": [
           {
            "marker": {
             "colorbar": {
              "outlinewidth": 0,
              "ticks": ""
             }
            },
            "type": "scattermapbox"
           }
          ],
          "scatterpolar": [
           {
            "marker": {
             "colorbar": {
              "outlinewidth": 0,
              "ticks": ""
             }
            },
            "type": "scatterpolar"
           }
          ],
          "scatterpolargl": [
           {
            "marker": {
             "colorbar": {
              "outlinewidth": 0,
              "ticks": ""
             }
            },
            "type": "scatterpolargl"
           }
          ],
          "scatterternary": [
           {
            "marker": {
             "colorbar": {
              "outlinewidth": 0,
              "ticks": ""
             }
            },
            "type": "scatterternary"
           }
          ],
          "surface": [
           {
            "colorbar": {
             "outlinewidth": 0,
             "ticks": ""
            },
            "colorscale": [
             [
              0,
              "#0d0887"
             ],
             [
              0.1111111111111111,
              "#46039f"
             ],
             [
              0.2222222222222222,
              "#7201a8"
             ],
             [
              0.3333333333333333,
              "#9c179e"
             ],
             [
              0.4444444444444444,
              "#bd3786"
             ],
             [
              0.5555555555555556,
              "#d8576b"
             ],
             [
              0.6666666666666666,
              "#ed7953"
             ],
             [
              0.7777777777777778,
              "#fb9f3a"
             ],
             [
              0.8888888888888888,
              "#fdca26"
             ],
             [
              1,
              "#f0f921"
             ]
            ],
            "type": "surface"
           }
          ],
          "table": [
           {
            "cells": {
             "fill": {
              "color": "#EBF0F8"
             },
             "line": {
              "color": "white"
             }
            },
            "header": {
             "fill": {
              "color": "#C8D4E3"
             },
             "line": {
              "color": "white"
             }
            },
            "type": "table"
           }
          ]
         },
         "layout": {
          "annotationdefaults": {
           "arrowcolor": "#2a3f5f",
           "arrowhead": 0,
           "arrowwidth": 1
          },
          "autotypenumbers": "strict",
          "coloraxis": {
           "colorbar": {
            "outlinewidth": 0,
            "ticks": ""
           }
          },
          "colorscale": {
           "diverging": [
            [
             0,
             "#8e0152"
            ],
            [
             0.1,
             "#c51b7d"
            ],
            [
             0.2,
             "#de77ae"
            ],
            [
             0.3,
             "#f1b6da"
            ],
            [
             0.4,
             "#fde0ef"
            ],
            [
             0.5,
             "#f7f7f7"
            ],
            [
             0.6,
             "#e6f5d0"
            ],
            [
             0.7,
             "#b8e186"
            ],
            [
             0.8,
             "#7fbc41"
            ],
            [
             0.9,
             "#4d9221"
            ],
            [
             1,
             "#276419"
            ]
           ],
           "sequential": [
            [
             0,
             "#0d0887"
            ],
            [
             0.1111111111111111,
             "#46039f"
            ],
            [
             0.2222222222222222,
             "#7201a8"
            ],
            [
             0.3333333333333333,
             "#9c179e"
            ],
            [
             0.4444444444444444,
             "#bd3786"
            ],
            [
             0.5555555555555556,
             "#d8576b"
            ],
            [
             0.6666666666666666,
             "#ed7953"
            ],
            [
             0.7777777777777778,
             "#fb9f3a"
            ],
            [
             0.8888888888888888,
             "#fdca26"
            ],
            [
             1,
             "#f0f921"
            ]
           ],
           "sequentialminus": [
            [
             0,
             "#0d0887"
            ],
            [
             0.1111111111111111,
             "#46039f"
            ],
            [
             0.2222222222222222,
             "#7201a8"
            ],
            [
             0.3333333333333333,
             "#9c179e"
            ],
            [
             0.4444444444444444,
             "#bd3786"
            ],
            [
             0.5555555555555556,
             "#d8576b"
            ],
            [
             0.6666666666666666,
             "#ed7953"
            ],
            [
             0.7777777777777778,
             "#fb9f3a"
            ],
            [
             0.8888888888888888,
             "#fdca26"
            ],
            [
             1,
             "#f0f921"
            ]
           ]
          },
          "colorway": [
           "#636efa",
           "#EF553B",
           "#00cc96",
           "#ab63fa",
           "#FFA15A",
           "#19d3f3",
           "#FF6692",
           "#B6E880",
           "#FF97FF",
           "#FECB52"
          ],
          "font": {
           "color": "#2a3f5f"
          },
          "geo": {
           "bgcolor": "white",
           "lakecolor": "white",
           "landcolor": "#E5ECF6",
           "showlakes": true,
           "showland": true,
           "subunitcolor": "white"
          },
          "hoverlabel": {
           "align": "left"
          },
          "hovermode": "closest",
          "mapbox": {
           "style": "light"
          },
          "paper_bgcolor": "white",
          "plot_bgcolor": "#E5ECF6",
          "polar": {
           "angularaxis": {
            "gridcolor": "white",
            "linecolor": "white",
            "ticks": ""
           },
           "bgcolor": "#E5ECF6",
           "radialaxis": {
            "gridcolor": "white",
            "linecolor": "white",
            "ticks": ""
           }
          },
          "scene": {
           "xaxis": {
            "backgroundcolor": "#E5ECF6",
            "gridcolor": "white",
            "gridwidth": 2,
            "linecolor": "white",
            "showbackground": true,
            "ticks": "",
            "zerolinecolor": "white"
           },
           "yaxis": {
            "backgroundcolor": "#E5ECF6",
            "gridcolor": "white",
            "gridwidth": 2,
            "linecolor": "white",
            "showbackground": true,
            "ticks": "",
            "zerolinecolor": "white"
           },
           "zaxis": {
            "backgroundcolor": "#E5ECF6",
            "gridcolor": "white",
            "gridwidth": 2,
            "linecolor": "white",
            "showbackground": true,
            "ticks": "",
            "zerolinecolor": "white"
           }
          },
          "shapedefaults": {
           "line": {
            "color": "#2a3f5f"
           }
          },
          "ternary": {
           "aaxis": {
            "gridcolor": "white",
            "linecolor": "white",
            "ticks": ""
           },
           "baxis": {
            "gridcolor": "white",
            "linecolor": "white",
            "ticks": ""
           },
           "bgcolor": "#E5ECF6",
           "caxis": {
            "gridcolor": "white",
            "linecolor": "white",
            "ticks": ""
           }
          },
          "title": {
           "x": 0.05
          },
          "xaxis": {
           "automargin": true,
           "gridcolor": "white",
           "linecolor": "white",
           "ticks": "",
           "title": {
            "standoff": 15
           },
           "zerolinecolor": "white",
           "zerolinewidth": 2
          },
          "yaxis": {
           "automargin": true,
           "gridcolor": "white",
           "linecolor": "white",
           "ticks": "",
           "title": {
            "standoff": 15
           },
           "zerolinecolor": "white",
           "zerolinewidth": 2
          }
         }
        },
        "title": {
         "font": {
          "size": 25
         },
         "text": "Sales & Profits by States"
        },
        "xaxis": {
         "title": {
          "font": {
           "size": 18
          },
          "text": "Sales"
         }
        },
        "yaxis": {
         "title": {
          "font": {
           "size": 18
          },
          "text": "Profits"
         }
        }
       }
      },
      "text/html": [
       "<div>                            <div id=\"ccac2020-7d0f-4a18-8118-ea1c23b2fe1f\" class=\"plotly-graph-div\" style=\"height:525px; width:100%;\"></div>            <script type=\"text/javascript\">                require([\"plotly\"], function(Plotly) {                    window.PLOTLYENV=window.PLOTLYENV || {};                                    if (document.getElementById(\"ccac2020-7d0f-4a18-8118-ea1c23b2fe1f\")) {                    Plotly.newPlot(                        \"ccac2020-7d0f-4a18-8118-ea1c23b2fe1f\",                        [{\"hovertemplate\":\"<b>%{hovertext}</b><br><br>x=%{x}<br>y=%{y}<br>size=%{marker.size}<extra></extra>\",\"hovertext\":[\"alabama\",\"arizona\",\"arkansas\",\"california\",\"colorado\",\"connecticut\",\"delaware\",\"district_of_columbia\",\"florida\",\"georgia\",\"idaho\",\"illinois\",\"indiana\",\"iowa\",\"kansas\",\"kentucky\",\"louisiana\",\"maine\",\"maryland\",\"massachusetts\",\"michigan\",\"minnesota\",\"mississippi\",\"missouri\",\"montana\",\"nebraska\",\"nevada\",\"new_hampshire\",\"new_jersey\",\"new_mexico\",\"new_york\",\"north_carolina\",\"north_dakota\",\"ohio\",\"oklahoma\",\"oregon\",\"pennsylvania\",\"rhode_island\",\"south_carolina\",\"south_dakota\",\"tennessee\",\"texas\",\"utah\",\"vermont\",\"virginia\",\"washington\",\"west_virginia\",\"wisconsin\",\"wyoming\"],\"legendgroup\":\"\",\"marker\":{\"color\":\"#636efa\",\"size\":[268,285,242,3692,397,144,25,600,1423,470,222,1382,563,244,300,221,222,244,311,848,906,527,170,213,69,144,150,110,324,123,2467,725,92,845,113,256,804,53,334,57,420,1567,378,106,497,968,114,438,29],\"sizemode\":\"area\",\"sizeref\":9.23,\"symbol\":\"circle\"},\"mode\":\"markers\",\"name\":\"\",\"orientation\":\"v\",\"showlegend\":false,\"x\":[46826.44999999999,14367.860000000002,11724.43,284805.4099999998,45843.45000000001,6540.540000000001,1257.76,68946.66,81205.22000000002,29050.790000000005,13922.919999999998,98971.25000000001,39314.55,10977.690000000002,29678.210000000003,14737.27,14909.429999999998,30532.71,15403.56,59114.82,69641.81000000003,37752.28,9689.579999999998,10903.079999999998,12593.59,15764.509999999997,8864.539999999999,7619.7,21943.910000000003,5593.179999999999,223930.47999999992,38147.88999999999,5300.2300000000005,69452.82000000002,6884.04,21821.829999999994,45780.850000000006,10027.83,16544.629999999997,1550.4899999999998,33209.76,91937.13,26981.670000000002,13491.000000000002,45282.87000000001,78048.65000000001,10681.549999999997,22770.350000000002,1183.54],\"xaxis\":\"x\",\"y\":[-2418.0566,3909.753832,-1184.7471999999998,36187.568192,6965.4626599999965,-529.1062999999999,406.7418,11677.3631,322.0738399999991,8645.207413700002,6848.3533,12321.579312000002,-976.9495050000007,1262.43058,2725.7763600000003,-1982.6450000000002,710.1254200000003,3169.462893,1336.0164600000003,5293.783979999999,12307.551891600007,6932.44586,-529.9149499999997,2123.211900000001,-13759.20549,4675.60033,3788.8289959999997,3611.0574,770.9086880000007,4215.91948,27611.943318599995,-19337.166839999998,3012.1560999999997,23410.84202600001,2555.98952,15291.572600000001,-1556.1825245999999,5073.001399999999,1695.7832369999999,431.1862,-1603.4633999999999,27288.386659999996,3931.8369799999996,530.1497800000003,-1748.5517000000004,116.2188499999994,4771.463824999999,3986.4100599999992,735.225],\"yaxis\":\"y\",\"type\":\"scatter\"}],                        {\"template\":{\"data\":{\"barpolar\":[{\"marker\":{\"line\":{\"color\":\"#E5ECF6\",\"width\":0.5},\"pattern\":{\"fillmode\":\"overlay\",\"size\":10,\"solidity\":0.2}},\"type\":\"barpolar\"}],\"bar\":[{\"error_x\":{\"color\":\"#2a3f5f\"},\"error_y\":{\"color\":\"#2a3f5f\"},\"marker\":{\"line\":{\"color\":\"#E5ECF6\",\"width\":0.5},\"pattern\":{\"fillmode\":\"overlay\",\"size\":10,\"solidity\":0.2}},\"type\":\"bar\"}],\"carpet\":[{\"aaxis\":{\"endlinecolor\":\"#2a3f5f\",\"gridcolor\":\"white\",\"linecolor\":\"white\",\"minorgridcolor\":\"white\",\"startlinecolor\":\"#2a3f5f\"},\"baxis\":{\"endlinecolor\":\"#2a3f5f\",\"gridcolor\":\"white\",\"linecolor\":\"white\",\"minorgridcolor\":\"white\",\"startlinecolor\":\"#2a3f5f\"},\"type\":\"carpet\"}],\"choropleth\":[{\"colorbar\":{\"outlinewidth\":0,\"ticks\":\"\"},\"type\":\"choropleth\"}],\"contourcarpet\":[{\"colorbar\":{\"outlinewidth\":0,\"ticks\":\"\"},\"type\":\"contourcarpet\"}],\"contour\":[{\"colorbar\":{\"outlinewidth\":0,\"ticks\":\"\"},\"colorscale\":[[0.0,\"#0d0887\"],[0.1111111111111111,\"#46039f\"],[0.2222222222222222,\"#7201a8\"],[0.3333333333333333,\"#9c179e\"],[0.4444444444444444,\"#bd3786\"],[0.5555555555555556,\"#d8576b\"],[0.6666666666666666,\"#ed7953\"],[0.7777777777777778,\"#fb9f3a\"],[0.8888888888888888,\"#fdca26\"],[1.0,\"#f0f921\"]],\"type\":\"contour\"}],\"heatmapgl\":[{\"colorbar\":{\"outlinewidth\":0,\"ticks\":\"\"},\"colorscale\":[[0.0,\"#0d0887\"],[0.1111111111111111,\"#46039f\"],[0.2222222222222222,\"#7201a8\"],[0.3333333333333333,\"#9c179e\"],[0.4444444444444444,\"#bd3786\"],[0.5555555555555556,\"#d8576b\"],[0.6666666666666666,\"#ed7953\"],[0.7777777777777778,\"#fb9f3a\"],[0.8888888888888888,\"#fdca26\"],[1.0,\"#f0f921\"]],\"type\":\"heatmapgl\"}],\"heatmap\":[{\"colorbar\":{\"outlinewidth\":0,\"ticks\":\"\"},\"colorscale\":[[0.0,\"#0d0887\"],[0.1111111111111111,\"#46039f\"],[0.2222222222222222,\"#7201a8\"],[0.3333333333333333,\"#9c179e\"],[0.4444444444444444,\"#bd3786\"],[0.5555555555555556,\"#d8576b\"],[0.6666666666666666,\"#ed7953\"],[0.7777777777777778,\"#fb9f3a\"],[0.8888888888888888,\"#fdca26\"],[1.0,\"#f0f921\"]],\"type\":\"heatmap\"}],\"histogram2dcontour\":[{\"colorbar\":{\"outlinewidth\":0,\"ticks\":\"\"},\"colorscale\":[[0.0,\"#0d0887\"],[0.1111111111111111,\"#46039f\"],[0.2222222222222222,\"#7201a8\"],[0.3333333333333333,\"#9c179e\"],[0.4444444444444444,\"#bd3786\"],[0.5555555555555556,\"#d8576b\"],[0.6666666666666666,\"#ed7953\"],[0.7777777777777778,\"#fb9f3a\"],[0.8888888888888888,\"#fdca26\"],[1.0,\"#f0f921\"]],\"type\":\"histogram2dcontour\"}],\"histogram2d\":[{\"colorbar\":{\"outlinewidth\":0,\"ticks\":\"\"},\"colorscale\":[[0.0,\"#0d0887\"],[0.1111111111111111,\"#46039f\"],[0.2222222222222222,\"#7201a8\"],[0.3333333333333333,\"#9c179e\"],[0.4444444444444444,\"#bd3786\"],[0.5555555555555556,\"#d8576b\"],[0.6666666666666666,\"#ed7953\"],[0.7777777777777778,\"#fb9f3a\"],[0.8888888888888888,\"#fdca26\"],[1.0,\"#f0f921\"]],\"type\":\"histogram2d\"}],\"histogram\":[{\"marker\":{\"pattern\":{\"fillmode\":\"overlay\",\"size\":10,\"solidity\":0.2}},\"type\":\"histogram\"}],\"mesh3d\":[{\"colorbar\":{\"outlinewidth\":0,\"ticks\":\"\"},\"type\":\"mesh3d\"}],\"parcoords\":[{\"line\":{\"colorbar\":{\"outlinewidth\":0,\"ticks\":\"\"}},\"type\":\"parcoords\"}],\"pie\":[{\"automargin\":true,\"type\":\"pie\"}],\"scatter3d\":[{\"line\":{\"colorbar\":{\"outlinewidth\":0,\"ticks\":\"\"}},\"marker\":{\"colorbar\":{\"outlinewidth\":0,\"ticks\":\"\"}},\"type\":\"scatter3d\"}],\"scattercarpet\":[{\"marker\":{\"colorbar\":{\"outlinewidth\":0,\"ticks\":\"\"}},\"type\":\"scattercarpet\"}],\"scattergeo\":[{\"marker\":{\"colorbar\":{\"outlinewidth\":0,\"ticks\":\"\"}},\"type\":\"scattergeo\"}],\"scattergl\":[{\"marker\":{\"colorbar\":{\"outlinewidth\":0,\"ticks\":\"\"}},\"type\":\"scattergl\"}],\"scattermapbox\":[{\"marker\":{\"colorbar\":{\"outlinewidth\":0,\"ticks\":\"\"}},\"type\":\"scattermapbox\"}],\"scatterpolargl\":[{\"marker\":{\"colorbar\":{\"outlinewidth\":0,\"ticks\":\"\"}},\"type\":\"scatterpolargl\"}],\"scatterpolar\":[{\"marker\":{\"colorbar\":{\"outlinewidth\":0,\"ticks\":\"\"}},\"type\":\"scatterpolar\"}],\"scatter\":[{\"fillpattern\":{\"fillmode\":\"overlay\",\"size\":10,\"solidity\":0.2},\"type\":\"scatter\"}],\"scatterternary\":[{\"marker\":{\"colorbar\":{\"outlinewidth\":0,\"ticks\":\"\"}},\"type\":\"scatterternary\"}],\"surface\":[{\"colorbar\":{\"outlinewidth\":0,\"ticks\":\"\"},\"colorscale\":[[0.0,\"#0d0887\"],[0.1111111111111111,\"#46039f\"],[0.2222222222222222,\"#7201a8\"],[0.3333333333333333,\"#9c179e\"],[0.4444444444444444,\"#bd3786\"],[0.5555555555555556,\"#d8576b\"],[0.6666666666666666,\"#ed7953\"],[0.7777777777777778,\"#fb9f3a\"],[0.8888888888888888,\"#fdca26\"],[1.0,\"#f0f921\"]],\"type\":\"surface\"}],\"table\":[{\"cells\":{\"fill\":{\"color\":\"#EBF0F8\"},\"line\":{\"color\":\"white\"}},\"header\":{\"fill\":{\"color\":\"#C8D4E3\"},\"line\":{\"color\":\"white\"}},\"type\":\"table\"}]},\"layout\":{\"annotationdefaults\":{\"arrowcolor\":\"#2a3f5f\",\"arrowhead\":0,\"arrowwidth\":1},\"autotypenumbers\":\"strict\",\"coloraxis\":{\"colorbar\":{\"outlinewidth\":0,\"ticks\":\"\"}},\"colorscale\":{\"diverging\":[[0,\"#8e0152\"],[0.1,\"#c51b7d\"],[0.2,\"#de77ae\"],[0.3,\"#f1b6da\"],[0.4,\"#fde0ef\"],[0.5,\"#f7f7f7\"],[0.6,\"#e6f5d0\"],[0.7,\"#b8e186\"],[0.8,\"#7fbc41\"],[0.9,\"#4d9221\"],[1,\"#276419\"]],\"sequential\":[[0.0,\"#0d0887\"],[0.1111111111111111,\"#46039f\"],[0.2222222222222222,\"#7201a8\"],[0.3333333333333333,\"#9c179e\"],[0.4444444444444444,\"#bd3786\"],[0.5555555555555556,\"#d8576b\"],[0.6666666666666666,\"#ed7953\"],[0.7777777777777778,\"#fb9f3a\"],[0.8888888888888888,\"#fdca26\"],[1.0,\"#f0f921\"]],\"sequentialminus\":[[0.0,\"#0d0887\"],[0.1111111111111111,\"#46039f\"],[0.2222222222222222,\"#7201a8\"],[0.3333333333333333,\"#9c179e\"],[0.4444444444444444,\"#bd3786\"],[0.5555555555555556,\"#d8576b\"],[0.6666666666666666,\"#ed7953\"],[0.7777777777777778,\"#fb9f3a\"],[0.8888888888888888,\"#fdca26\"],[1.0,\"#f0f921\"]]},\"colorway\":[\"#636efa\",\"#EF553B\",\"#00cc96\",\"#ab63fa\",\"#FFA15A\",\"#19d3f3\",\"#FF6692\",\"#B6E880\",\"#FF97FF\",\"#FECB52\"],\"font\":{\"color\":\"#2a3f5f\"},\"geo\":{\"bgcolor\":\"white\",\"lakecolor\":\"white\",\"landcolor\":\"#E5ECF6\",\"showlakes\":true,\"showland\":true,\"subunitcolor\":\"white\"},\"hoverlabel\":{\"align\":\"left\"},\"hovermode\":\"closest\",\"mapbox\":{\"style\":\"light\"},\"paper_bgcolor\":\"white\",\"plot_bgcolor\":\"#E5ECF6\",\"polar\":{\"angularaxis\":{\"gridcolor\":\"white\",\"linecolor\":\"white\",\"ticks\":\"\"},\"bgcolor\":\"#E5ECF6\",\"radialaxis\":{\"gridcolor\":\"white\",\"linecolor\":\"white\",\"ticks\":\"\"}},\"scene\":{\"xaxis\":{\"backgroundcolor\":\"#E5ECF6\",\"gridcolor\":\"white\",\"gridwidth\":2,\"linecolor\":\"white\",\"showbackground\":true,\"ticks\":\"\",\"zerolinecolor\":\"white\"},\"yaxis\":{\"backgroundcolor\":\"#E5ECF6\",\"gridcolor\":\"white\",\"gridwidth\":2,\"linecolor\":\"white\",\"showbackground\":true,\"ticks\":\"\",\"zerolinecolor\":\"white\"},\"zaxis\":{\"backgroundcolor\":\"#E5ECF6\",\"gridcolor\":\"white\",\"gridwidth\":2,\"linecolor\":\"white\",\"showbackground\":true,\"ticks\":\"\",\"zerolinecolor\":\"white\"}},\"shapedefaults\":{\"line\":{\"color\":\"#2a3f5f\"}},\"ternary\":{\"aaxis\":{\"gridcolor\":\"white\",\"linecolor\":\"white\",\"ticks\":\"\"},\"baxis\":{\"gridcolor\":\"white\",\"linecolor\":\"white\",\"ticks\":\"\"},\"bgcolor\":\"#E5ECF6\",\"caxis\":{\"gridcolor\":\"white\",\"linecolor\":\"white\",\"ticks\":\"\"}},\"title\":{\"x\":0.05},\"xaxis\":{\"automargin\":true,\"gridcolor\":\"white\",\"linecolor\":\"white\",\"ticks\":\"\",\"title\":{\"standoff\":15},\"zerolinecolor\":\"white\",\"zerolinewidth\":2},\"yaxis\":{\"automargin\":true,\"gridcolor\":\"white\",\"linecolor\":\"white\",\"ticks\":\"\",\"title\":{\"standoff\":15},\"zerolinecolor\":\"white\",\"zerolinewidth\":2}}},\"title\":{\"font\":{\"size\":25},\"text\":\"Sales & Profits by States\"},\"xaxis\":{\"title\":{\"font\":{\"size\":18},\"text\":\"Sales\"}},\"yaxis\":{\"title\":{\"font\":{\"size\":18},\"text\":\"Profits\"}}},                        {\"responsive\": true}                    ).then(function(){\n",
       "                            \n",
       "var gd = document.getElementById('ccac2020-7d0f-4a18-8118-ea1c23b2fe1f');\n",
       "var x = new MutationObserver(function (mutations, observer) {{\n",
       "        var display = window.getComputedStyle(gd).display;\n",
       "        if (!display || display === 'none') {{\n",
       "            console.log([gd, 'removed!']);\n",
       "            Plotly.purge(gd);\n",
       "            observer.disconnect();\n",
       "        }}\n",
       "}});\n",
       "\n",
       "// Listen for the removal of the full notebook cells\n",
       "var notebookContainer = gd.closest('#notebook-container');\n",
       "if (notebookContainer) {{\n",
       "    x.observe(notebookContainer, {childList: true});\n",
       "}}\n",
       "\n",
       "// Listen for the clearing of the current output cell\n",
       "var outputEl = gd.closest('.output');\n",
       "if (outputEl) {{\n",
       "    x.observe(outputEl, {childList: true});\n",
       "}}\n",
       "\n",
       "                        })                };                });            </script>        </div>"
      ]
     },
     "metadata": {},
     "output_type": "display_data"
    }
   ],
   "source": [
    "fig = go.Figure(data=px.scatter(x=df.groupby('state_or_province').sum()['sales'],\n",
    "                                y=df.groupby('state_or_province').sum()['profit'],\n",
    "                                hover_name=df.groupby('state_or_province').sum().index,\n",
    "                                size=df.groupby('state_or_province').sum()['quantity_ordered_new']))\n",
    "\n",
    "fig['layout']=go.Layout(title='Sales & Profits by States',\n",
    "                        titlefont=dict(size=25),\n",
    "                        xaxis=dict(title='Sales',titlefont=dict(size=18)),\n",
    "                        yaxis=dict(title='Profits',titlefont=dict(size=18)))\n",
    "iplot(dict(data=fig))"
   ]
  },
  {
   "cell_type": "markdown",
   "id": "50097c92",
   "metadata": {},
   "source": [
    "**All states except 'California' and 'New york' had their sales within 0 - 100k and profit within -20k - 30k.**\n",
    "\n",
    "- **Only New york and California had sales of over 223k and 284k respectively.**\n",
    "\n",
    "- **This can only mean that California and New York are investing in some market growth principles. further analysis can be conducted on that to determine what exactly contributed to the exponential positive sales report as against the others.**"
   ]
  },
  {
   "cell_type": "code",
   "execution_count": 20,
   "id": "92890f3a",
   "metadata": {},
   "outputs": [
    {
     "data": {
      "application/vnd.plotly.v1+json": {
       "config": {
        "linkText": "Export to plot.ly",
        "plotlyServerURL": "https://plot.ly",
        "showLink": false
       },
       "data": [
        {
         "hoverinfo": "label+percent",
         "labels": [
          "paper",
          "binders_and_binder_accessories",
          "telephones_and_communication",
          "office_furnishings",
          "computer_peripherals",
          "pens_&_art_supplies",
          "storage_&_organization",
          "appliances",
          "office_machines",
          "chairs_&_chairmats",
          "tables",
          "labels",
          "envelopes",
          "bookcases",
          "scissors,_rulers_and_trimmers",
          "rubber_bands",
          "copiers_and_fax"
         ],
         "marker": {
          "line": {
           "width": 1.5
          }
         },
         "textinfo": "label+percent",
         "type": "pie",
         "values": [
          284,
          200,
          194,
          185,
          174,
          161,
          127,
          100,
          95,
          84,
          75,
          71,
          55,
          43,
          36,
          34,
          18
         ]
        }
       ],
       "layout": {
        "height": 700,
        "template": {
         "data": {
          "bar": [
           {
            "error_x": {
             "color": "#2a3f5f"
            },
            "error_y": {
             "color": "#2a3f5f"
            },
            "marker": {
             "line": {
              "color": "#E5ECF6",
              "width": 0.5
             },
             "pattern": {
              "fillmode": "overlay",
              "size": 10,
              "solidity": 0.2
             }
            },
            "type": "bar"
           }
          ],
          "barpolar": [
           {
            "marker": {
             "line": {
              "color": "#E5ECF6",
              "width": 0.5
             },
             "pattern": {
              "fillmode": "overlay",
              "size": 10,
              "solidity": 0.2
             }
            },
            "type": "barpolar"
           }
          ],
          "carpet": [
           {
            "aaxis": {
             "endlinecolor": "#2a3f5f",
             "gridcolor": "white",
             "linecolor": "white",
             "minorgridcolor": "white",
             "startlinecolor": "#2a3f5f"
            },
            "baxis": {
             "endlinecolor": "#2a3f5f",
             "gridcolor": "white",
             "linecolor": "white",
             "minorgridcolor": "white",
             "startlinecolor": "#2a3f5f"
            },
            "type": "carpet"
           }
          ],
          "choropleth": [
           {
            "colorbar": {
             "outlinewidth": 0,
             "ticks": ""
            },
            "type": "choropleth"
           }
          ],
          "contour": [
           {
            "colorbar": {
             "outlinewidth": 0,
             "ticks": ""
            },
            "colorscale": [
             [
              0,
              "#0d0887"
             ],
             [
              0.1111111111111111,
              "#46039f"
             ],
             [
              0.2222222222222222,
              "#7201a8"
             ],
             [
              0.3333333333333333,
              "#9c179e"
             ],
             [
              0.4444444444444444,
              "#bd3786"
             ],
             [
              0.5555555555555556,
              "#d8576b"
             ],
             [
              0.6666666666666666,
              "#ed7953"
             ],
             [
              0.7777777777777778,
              "#fb9f3a"
             ],
             [
              0.8888888888888888,
              "#fdca26"
             ],
             [
              1,
              "#f0f921"
             ]
            ],
            "type": "contour"
           }
          ],
          "contourcarpet": [
           {
            "colorbar": {
             "outlinewidth": 0,
             "ticks": ""
            },
            "type": "contourcarpet"
           }
          ],
          "heatmap": [
           {
            "colorbar": {
             "outlinewidth": 0,
             "ticks": ""
            },
            "colorscale": [
             [
              0,
              "#0d0887"
             ],
             [
              0.1111111111111111,
              "#46039f"
             ],
             [
              0.2222222222222222,
              "#7201a8"
             ],
             [
              0.3333333333333333,
              "#9c179e"
             ],
             [
              0.4444444444444444,
              "#bd3786"
             ],
             [
              0.5555555555555556,
              "#d8576b"
             ],
             [
              0.6666666666666666,
              "#ed7953"
             ],
             [
              0.7777777777777778,
              "#fb9f3a"
             ],
             [
              0.8888888888888888,
              "#fdca26"
             ],
             [
              1,
              "#f0f921"
             ]
            ],
            "type": "heatmap"
           }
          ],
          "heatmapgl": [
           {
            "colorbar": {
             "outlinewidth": 0,
             "ticks": ""
            },
            "colorscale": [
             [
              0,
              "#0d0887"
             ],
             [
              0.1111111111111111,
              "#46039f"
             ],
             [
              0.2222222222222222,
              "#7201a8"
             ],
             [
              0.3333333333333333,
              "#9c179e"
             ],
             [
              0.4444444444444444,
              "#bd3786"
             ],
             [
              0.5555555555555556,
              "#d8576b"
             ],
             [
              0.6666666666666666,
              "#ed7953"
             ],
             [
              0.7777777777777778,
              "#fb9f3a"
             ],
             [
              0.8888888888888888,
              "#fdca26"
             ],
             [
              1,
              "#f0f921"
             ]
            ],
            "type": "heatmapgl"
           }
          ],
          "histogram": [
           {
            "marker": {
             "pattern": {
              "fillmode": "overlay",
              "size": 10,
              "solidity": 0.2
             }
            },
            "type": "histogram"
           }
          ],
          "histogram2d": [
           {
            "colorbar": {
             "outlinewidth": 0,
             "ticks": ""
            },
            "colorscale": [
             [
              0,
              "#0d0887"
             ],
             [
              0.1111111111111111,
              "#46039f"
             ],
             [
              0.2222222222222222,
              "#7201a8"
             ],
             [
              0.3333333333333333,
              "#9c179e"
             ],
             [
              0.4444444444444444,
              "#bd3786"
             ],
             [
              0.5555555555555556,
              "#d8576b"
             ],
             [
              0.6666666666666666,
              "#ed7953"
             ],
             [
              0.7777777777777778,
              "#fb9f3a"
             ],
             [
              0.8888888888888888,
              "#fdca26"
             ],
             [
              1,
              "#f0f921"
             ]
            ],
            "type": "histogram2d"
           }
          ],
          "histogram2dcontour": [
           {
            "colorbar": {
             "outlinewidth": 0,
             "ticks": ""
            },
            "colorscale": [
             [
              0,
              "#0d0887"
             ],
             [
              0.1111111111111111,
              "#46039f"
             ],
             [
              0.2222222222222222,
              "#7201a8"
             ],
             [
              0.3333333333333333,
              "#9c179e"
             ],
             [
              0.4444444444444444,
              "#bd3786"
             ],
             [
              0.5555555555555556,
              "#d8576b"
             ],
             [
              0.6666666666666666,
              "#ed7953"
             ],
             [
              0.7777777777777778,
              "#fb9f3a"
             ],
             [
              0.8888888888888888,
              "#fdca26"
             ],
             [
              1,
              "#f0f921"
             ]
            ],
            "type": "histogram2dcontour"
           }
          ],
          "mesh3d": [
           {
            "colorbar": {
             "outlinewidth": 0,
             "ticks": ""
            },
            "type": "mesh3d"
           }
          ],
          "parcoords": [
           {
            "line": {
             "colorbar": {
              "outlinewidth": 0,
              "ticks": ""
             }
            },
            "type": "parcoords"
           }
          ],
          "pie": [
           {
            "automargin": true,
            "type": "pie"
           }
          ],
          "scatter": [
           {
            "fillpattern": {
             "fillmode": "overlay",
             "size": 10,
             "solidity": 0.2
            },
            "type": "scatter"
           }
          ],
          "scatter3d": [
           {
            "line": {
             "colorbar": {
              "outlinewidth": 0,
              "ticks": ""
             }
            },
            "marker": {
             "colorbar": {
              "outlinewidth": 0,
              "ticks": ""
             }
            },
            "type": "scatter3d"
           }
          ],
          "scattercarpet": [
           {
            "marker": {
             "colorbar": {
              "outlinewidth": 0,
              "ticks": ""
             }
            },
            "type": "scattercarpet"
           }
          ],
          "scattergeo": [
           {
            "marker": {
             "colorbar": {
              "outlinewidth": 0,
              "ticks": ""
             }
            },
            "type": "scattergeo"
           }
          ],
          "scattergl": [
           {
            "marker": {
             "colorbar": {
              "outlinewidth": 0,
              "ticks": ""
             }
            },
            "type": "scattergl"
           }
          ],
          "scattermapbox": [
           {
            "marker": {
             "colorbar": {
              "outlinewidth": 0,
              "ticks": ""
             }
            },
            "type": "scattermapbox"
           }
          ],
          "scatterpolar": [
           {
            "marker": {
             "colorbar": {
              "outlinewidth": 0,
              "ticks": ""
             }
            },
            "type": "scatterpolar"
           }
          ],
          "scatterpolargl": [
           {
            "marker": {
             "colorbar": {
              "outlinewidth": 0,
              "ticks": ""
             }
            },
            "type": "scatterpolargl"
           }
          ],
          "scatterternary": [
           {
            "marker": {
             "colorbar": {
              "outlinewidth": 0,
              "ticks": ""
             }
            },
            "type": "scatterternary"
           }
          ],
          "surface": [
           {
            "colorbar": {
             "outlinewidth": 0,
             "ticks": ""
            },
            "colorscale": [
             [
              0,
              "#0d0887"
             ],
             [
              0.1111111111111111,
              "#46039f"
             ],
             [
              0.2222222222222222,
              "#7201a8"
             ],
             [
              0.3333333333333333,
              "#9c179e"
             ],
             [
              0.4444444444444444,
              "#bd3786"
             ],
             [
              0.5555555555555556,
              "#d8576b"
             ],
             [
              0.6666666666666666,
              "#ed7953"
             ],
             [
              0.7777777777777778,
              "#fb9f3a"
             ],
             [
              0.8888888888888888,
              "#fdca26"
             ],
             [
              1,
              "#f0f921"
             ]
            ],
            "type": "surface"
           }
          ],
          "table": [
           {
            "cells": {
             "fill": {
              "color": "#EBF0F8"
             },
             "line": {
              "color": "white"
             }
            },
            "header": {
             "fill": {
              "color": "#C8D4E3"
             },
             "line": {
              "color": "white"
             }
            },
            "type": "table"
           }
          ]
         },
         "layout": {
          "annotationdefaults": {
           "arrowcolor": "#2a3f5f",
           "arrowhead": 0,
           "arrowwidth": 1
          },
          "autotypenumbers": "strict",
          "coloraxis": {
           "colorbar": {
            "outlinewidth": 0,
            "ticks": ""
           }
          },
          "colorscale": {
           "diverging": [
            [
             0,
             "#8e0152"
            ],
            [
             0.1,
             "#c51b7d"
            ],
            [
             0.2,
             "#de77ae"
            ],
            [
             0.3,
             "#f1b6da"
            ],
            [
             0.4,
             "#fde0ef"
            ],
            [
             0.5,
             "#f7f7f7"
            ],
            [
             0.6,
             "#e6f5d0"
            ],
            [
             0.7,
             "#b8e186"
            ],
            [
             0.8,
             "#7fbc41"
            ],
            [
             0.9,
             "#4d9221"
            ],
            [
             1,
             "#276419"
            ]
           ],
           "sequential": [
            [
             0,
             "#0d0887"
            ],
            [
             0.1111111111111111,
             "#46039f"
            ],
            [
             0.2222222222222222,
             "#7201a8"
            ],
            [
             0.3333333333333333,
             "#9c179e"
            ],
            [
             0.4444444444444444,
             "#bd3786"
            ],
            [
             0.5555555555555556,
             "#d8576b"
            ],
            [
             0.6666666666666666,
             "#ed7953"
            ],
            [
             0.7777777777777778,
             "#fb9f3a"
            ],
            [
             0.8888888888888888,
             "#fdca26"
            ],
            [
             1,
             "#f0f921"
            ]
           ],
           "sequentialminus": [
            [
             0,
             "#0d0887"
            ],
            [
             0.1111111111111111,
             "#46039f"
            ],
            [
             0.2222222222222222,
             "#7201a8"
            ],
            [
             0.3333333333333333,
             "#9c179e"
            ],
            [
             0.4444444444444444,
             "#bd3786"
            ],
            [
             0.5555555555555556,
             "#d8576b"
            ],
            [
             0.6666666666666666,
             "#ed7953"
            ],
            [
             0.7777777777777778,
             "#fb9f3a"
            ],
            [
             0.8888888888888888,
             "#fdca26"
            ],
            [
             1,
             "#f0f921"
            ]
           ]
          },
          "colorway": [
           "#636efa",
           "#EF553B",
           "#00cc96",
           "#ab63fa",
           "#FFA15A",
           "#19d3f3",
           "#FF6692",
           "#B6E880",
           "#FF97FF",
           "#FECB52"
          ],
          "font": {
           "color": "#2a3f5f"
          },
          "geo": {
           "bgcolor": "white",
           "lakecolor": "white",
           "landcolor": "#E5ECF6",
           "showlakes": true,
           "showland": true,
           "subunitcolor": "white"
          },
          "hoverlabel": {
           "align": "left"
          },
          "hovermode": "closest",
          "mapbox": {
           "style": "light"
          },
          "paper_bgcolor": "white",
          "plot_bgcolor": "#E5ECF6",
          "polar": {
           "angularaxis": {
            "gridcolor": "white",
            "linecolor": "white",
            "ticks": ""
           },
           "bgcolor": "#E5ECF6",
           "radialaxis": {
            "gridcolor": "white",
            "linecolor": "white",
            "ticks": ""
           }
          },
          "scene": {
           "xaxis": {
            "backgroundcolor": "#E5ECF6",
            "gridcolor": "white",
            "gridwidth": 2,
            "linecolor": "white",
            "showbackground": true,
            "ticks": "",
            "zerolinecolor": "white"
           },
           "yaxis": {
            "backgroundcolor": "#E5ECF6",
            "gridcolor": "white",
            "gridwidth": 2,
            "linecolor": "white",
            "showbackground": true,
            "ticks": "",
            "zerolinecolor": "white"
           },
           "zaxis": {
            "backgroundcolor": "#E5ECF6",
            "gridcolor": "white",
            "gridwidth": 2,
            "linecolor": "white",
            "showbackground": true,
            "ticks": "",
            "zerolinecolor": "white"
           }
          },
          "shapedefaults": {
           "line": {
            "color": "#2a3f5f"
           }
          },
          "ternary": {
           "aaxis": {
            "gridcolor": "white",
            "linecolor": "white",
            "ticks": ""
           },
           "baxis": {
            "gridcolor": "white",
            "linecolor": "white",
            "ticks": ""
           },
           "bgcolor": "#E5ECF6",
           "caxis": {
            "gridcolor": "white",
            "linecolor": "white",
            "ticks": ""
           }
          },
          "title": {
           "x": 0.05
          },
          "xaxis": {
           "automargin": true,
           "gridcolor": "white",
           "linecolor": "white",
           "ticks": "",
           "title": {
            "standoff": 15
           },
           "zerolinecolor": "white",
           "zerolinewidth": 2
          },
          "yaxis": {
           "automargin": true,
           "gridcolor": "white",
           "linecolor": "white",
           "ticks": "",
           "title": {
            "standoff": 15
           },
           "zerolinecolor": "white",
           "zerolinewidth": 2
          }
         }
        },
        "title": {
         "font": {
          "size": 25
         },
         "text": "Pie Plot for Total Sales for each Product-Sub-Category"
        }
       }
      },
      "text/html": [
       "<div>                            <div id=\"877abfb0-0b99-4dab-9324-29031d8527c0\" class=\"plotly-graph-div\" style=\"height:700px; width:100%;\"></div>            <script type=\"text/javascript\">                require([\"plotly\"], function(Plotly) {                    window.PLOTLYENV=window.PLOTLYENV || {};                                    if (document.getElementById(\"877abfb0-0b99-4dab-9324-29031d8527c0\")) {                    Plotly.newPlot(                        \"877abfb0-0b99-4dab-9324-29031d8527c0\",                        [{\"hoverinfo\":\"label+percent\",\"labels\":[\"paper\",\"binders_and_binder_accessories\",\"telephones_and_communication\",\"office_furnishings\",\"computer_peripherals\",\"pens_&_art_supplies\",\"storage_&_organization\",\"appliances\",\"office_machines\",\"chairs_&_chairmats\",\"tables\",\"labels\",\"envelopes\",\"bookcases\",\"scissors,_rulers_and_trimmers\",\"rubber_bands\",\"copiers_and_fax\"],\"marker\":{\"line\":{\"width\":1.5}},\"textinfo\":\"label+percent\",\"values\":[284,200,194,185,174,161,127,100,95,84,75,71,55,43,36,34,18],\"type\":\"pie\"}],                        {\"height\":700,\"template\":{\"data\":{\"barpolar\":[{\"marker\":{\"line\":{\"color\":\"#E5ECF6\",\"width\":0.5},\"pattern\":{\"fillmode\":\"overlay\",\"size\":10,\"solidity\":0.2}},\"type\":\"barpolar\"}],\"bar\":[{\"error_x\":{\"color\":\"#2a3f5f\"},\"error_y\":{\"color\":\"#2a3f5f\"},\"marker\":{\"line\":{\"color\":\"#E5ECF6\",\"width\":0.5},\"pattern\":{\"fillmode\":\"overlay\",\"size\":10,\"solidity\":0.2}},\"type\":\"bar\"}],\"carpet\":[{\"aaxis\":{\"endlinecolor\":\"#2a3f5f\",\"gridcolor\":\"white\",\"linecolor\":\"white\",\"minorgridcolor\":\"white\",\"startlinecolor\":\"#2a3f5f\"},\"baxis\":{\"endlinecolor\":\"#2a3f5f\",\"gridcolor\":\"white\",\"linecolor\":\"white\",\"minorgridcolor\":\"white\",\"startlinecolor\":\"#2a3f5f\"},\"type\":\"carpet\"}],\"choropleth\":[{\"colorbar\":{\"outlinewidth\":0,\"ticks\":\"\"},\"type\":\"choropleth\"}],\"contourcarpet\":[{\"colorbar\":{\"outlinewidth\":0,\"ticks\":\"\"},\"type\":\"contourcarpet\"}],\"contour\":[{\"colorbar\":{\"outlinewidth\":0,\"ticks\":\"\"},\"colorscale\":[[0.0,\"#0d0887\"],[0.1111111111111111,\"#46039f\"],[0.2222222222222222,\"#7201a8\"],[0.3333333333333333,\"#9c179e\"],[0.4444444444444444,\"#bd3786\"],[0.5555555555555556,\"#d8576b\"],[0.6666666666666666,\"#ed7953\"],[0.7777777777777778,\"#fb9f3a\"],[0.8888888888888888,\"#fdca26\"],[1.0,\"#f0f921\"]],\"type\":\"contour\"}],\"heatmapgl\":[{\"colorbar\":{\"outlinewidth\":0,\"ticks\":\"\"},\"colorscale\":[[0.0,\"#0d0887\"],[0.1111111111111111,\"#46039f\"],[0.2222222222222222,\"#7201a8\"],[0.3333333333333333,\"#9c179e\"],[0.4444444444444444,\"#bd3786\"],[0.5555555555555556,\"#d8576b\"],[0.6666666666666666,\"#ed7953\"],[0.7777777777777778,\"#fb9f3a\"],[0.8888888888888888,\"#fdca26\"],[1.0,\"#f0f921\"]],\"type\":\"heatmapgl\"}],\"heatmap\":[{\"colorbar\":{\"outlinewidth\":0,\"ticks\":\"\"},\"colorscale\":[[0.0,\"#0d0887\"],[0.1111111111111111,\"#46039f\"],[0.2222222222222222,\"#7201a8\"],[0.3333333333333333,\"#9c179e\"],[0.4444444444444444,\"#bd3786\"],[0.5555555555555556,\"#d8576b\"],[0.6666666666666666,\"#ed7953\"],[0.7777777777777778,\"#fb9f3a\"],[0.8888888888888888,\"#fdca26\"],[1.0,\"#f0f921\"]],\"type\":\"heatmap\"}],\"histogram2dcontour\":[{\"colorbar\":{\"outlinewidth\":0,\"ticks\":\"\"},\"colorscale\":[[0.0,\"#0d0887\"],[0.1111111111111111,\"#46039f\"],[0.2222222222222222,\"#7201a8\"],[0.3333333333333333,\"#9c179e\"],[0.4444444444444444,\"#bd3786\"],[0.5555555555555556,\"#d8576b\"],[0.6666666666666666,\"#ed7953\"],[0.7777777777777778,\"#fb9f3a\"],[0.8888888888888888,\"#fdca26\"],[1.0,\"#f0f921\"]],\"type\":\"histogram2dcontour\"}],\"histogram2d\":[{\"colorbar\":{\"outlinewidth\":0,\"ticks\":\"\"},\"colorscale\":[[0.0,\"#0d0887\"],[0.1111111111111111,\"#46039f\"],[0.2222222222222222,\"#7201a8\"],[0.3333333333333333,\"#9c179e\"],[0.4444444444444444,\"#bd3786\"],[0.5555555555555556,\"#d8576b\"],[0.6666666666666666,\"#ed7953\"],[0.7777777777777778,\"#fb9f3a\"],[0.8888888888888888,\"#fdca26\"],[1.0,\"#f0f921\"]],\"type\":\"histogram2d\"}],\"histogram\":[{\"marker\":{\"pattern\":{\"fillmode\":\"overlay\",\"size\":10,\"solidity\":0.2}},\"type\":\"histogram\"}],\"mesh3d\":[{\"colorbar\":{\"outlinewidth\":0,\"ticks\":\"\"},\"type\":\"mesh3d\"}],\"parcoords\":[{\"line\":{\"colorbar\":{\"outlinewidth\":0,\"ticks\":\"\"}},\"type\":\"parcoords\"}],\"pie\":[{\"automargin\":true,\"type\":\"pie\"}],\"scatter3d\":[{\"line\":{\"colorbar\":{\"outlinewidth\":0,\"ticks\":\"\"}},\"marker\":{\"colorbar\":{\"outlinewidth\":0,\"ticks\":\"\"}},\"type\":\"scatter3d\"}],\"scattercarpet\":[{\"marker\":{\"colorbar\":{\"outlinewidth\":0,\"ticks\":\"\"}},\"type\":\"scattercarpet\"}],\"scattergeo\":[{\"marker\":{\"colorbar\":{\"outlinewidth\":0,\"ticks\":\"\"}},\"type\":\"scattergeo\"}],\"scattergl\":[{\"marker\":{\"colorbar\":{\"outlinewidth\":0,\"ticks\":\"\"}},\"type\":\"scattergl\"}],\"scattermapbox\":[{\"marker\":{\"colorbar\":{\"outlinewidth\":0,\"ticks\":\"\"}},\"type\":\"scattermapbox\"}],\"scatterpolargl\":[{\"marker\":{\"colorbar\":{\"outlinewidth\":0,\"ticks\":\"\"}},\"type\":\"scatterpolargl\"}],\"scatterpolar\":[{\"marker\":{\"colorbar\":{\"outlinewidth\":0,\"ticks\":\"\"}},\"type\":\"scatterpolar\"}],\"scatter\":[{\"fillpattern\":{\"fillmode\":\"overlay\",\"size\":10,\"solidity\":0.2},\"type\":\"scatter\"}],\"scatterternary\":[{\"marker\":{\"colorbar\":{\"outlinewidth\":0,\"ticks\":\"\"}},\"type\":\"scatterternary\"}],\"surface\":[{\"colorbar\":{\"outlinewidth\":0,\"ticks\":\"\"},\"colorscale\":[[0.0,\"#0d0887\"],[0.1111111111111111,\"#46039f\"],[0.2222222222222222,\"#7201a8\"],[0.3333333333333333,\"#9c179e\"],[0.4444444444444444,\"#bd3786\"],[0.5555555555555556,\"#d8576b\"],[0.6666666666666666,\"#ed7953\"],[0.7777777777777778,\"#fb9f3a\"],[0.8888888888888888,\"#fdca26\"],[1.0,\"#f0f921\"]],\"type\":\"surface\"}],\"table\":[{\"cells\":{\"fill\":{\"color\":\"#EBF0F8\"},\"line\":{\"color\":\"white\"}},\"header\":{\"fill\":{\"color\":\"#C8D4E3\"},\"line\":{\"color\":\"white\"}},\"type\":\"table\"}]},\"layout\":{\"annotationdefaults\":{\"arrowcolor\":\"#2a3f5f\",\"arrowhead\":0,\"arrowwidth\":1},\"autotypenumbers\":\"strict\",\"coloraxis\":{\"colorbar\":{\"outlinewidth\":0,\"ticks\":\"\"}},\"colorscale\":{\"diverging\":[[0,\"#8e0152\"],[0.1,\"#c51b7d\"],[0.2,\"#de77ae\"],[0.3,\"#f1b6da\"],[0.4,\"#fde0ef\"],[0.5,\"#f7f7f7\"],[0.6,\"#e6f5d0\"],[0.7,\"#b8e186\"],[0.8,\"#7fbc41\"],[0.9,\"#4d9221\"],[1,\"#276419\"]],\"sequential\":[[0.0,\"#0d0887\"],[0.1111111111111111,\"#46039f\"],[0.2222222222222222,\"#7201a8\"],[0.3333333333333333,\"#9c179e\"],[0.4444444444444444,\"#bd3786\"],[0.5555555555555556,\"#d8576b\"],[0.6666666666666666,\"#ed7953\"],[0.7777777777777778,\"#fb9f3a\"],[0.8888888888888888,\"#fdca26\"],[1.0,\"#f0f921\"]],\"sequentialminus\":[[0.0,\"#0d0887\"],[0.1111111111111111,\"#46039f\"],[0.2222222222222222,\"#7201a8\"],[0.3333333333333333,\"#9c179e\"],[0.4444444444444444,\"#bd3786\"],[0.5555555555555556,\"#d8576b\"],[0.6666666666666666,\"#ed7953\"],[0.7777777777777778,\"#fb9f3a\"],[0.8888888888888888,\"#fdca26\"],[1.0,\"#f0f921\"]]},\"colorway\":[\"#636efa\",\"#EF553B\",\"#00cc96\",\"#ab63fa\",\"#FFA15A\",\"#19d3f3\",\"#FF6692\",\"#B6E880\",\"#FF97FF\",\"#FECB52\"],\"font\":{\"color\":\"#2a3f5f\"},\"geo\":{\"bgcolor\":\"white\",\"lakecolor\":\"white\",\"landcolor\":\"#E5ECF6\",\"showlakes\":true,\"showland\":true,\"subunitcolor\":\"white\"},\"hoverlabel\":{\"align\":\"left\"},\"hovermode\":\"closest\",\"mapbox\":{\"style\":\"light\"},\"paper_bgcolor\":\"white\",\"plot_bgcolor\":\"#E5ECF6\",\"polar\":{\"angularaxis\":{\"gridcolor\":\"white\",\"linecolor\":\"white\",\"ticks\":\"\"},\"bgcolor\":\"#E5ECF6\",\"radialaxis\":{\"gridcolor\":\"white\",\"linecolor\":\"white\",\"ticks\":\"\"}},\"scene\":{\"xaxis\":{\"backgroundcolor\":\"#E5ECF6\",\"gridcolor\":\"white\",\"gridwidth\":2,\"linecolor\":\"white\",\"showbackground\":true,\"ticks\":\"\",\"zerolinecolor\":\"white\"},\"yaxis\":{\"backgroundcolor\":\"#E5ECF6\",\"gridcolor\":\"white\",\"gridwidth\":2,\"linecolor\":\"white\",\"showbackground\":true,\"ticks\":\"\",\"zerolinecolor\":\"white\"},\"zaxis\":{\"backgroundcolor\":\"#E5ECF6\",\"gridcolor\":\"white\",\"gridwidth\":2,\"linecolor\":\"white\",\"showbackground\":true,\"ticks\":\"\",\"zerolinecolor\":\"white\"}},\"shapedefaults\":{\"line\":{\"color\":\"#2a3f5f\"}},\"ternary\":{\"aaxis\":{\"gridcolor\":\"white\",\"linecolor\":\"white\",\"ticks\":\"\"},\"baxis\":{\"gridcolor\":\"white\",\"linecolor\":\"white\",\"ticks\":\"\"},\"bgcolor\":\"#E5ECF6\",\"caxis\":{\"gridcolor\":\"white\",\"linecolor\":\"white\",\"ticks\":\"\"}},\"title\":{\"x\":0.05},\"xaxis\":{\"automargin\":true,\"gridcolor\":\"white\",\"linecolor\":\"white\",\"ticks\":\"\",\"title\":{\"standoff\":15},\"zerolinecolor\":\"white\",\"zerolinewidth\":2},\"yaxis\":{\"automargin\":true,\"gridcolor\":\"white\",\"linecolor\":\"white\",\"ticks\":\"\",\"title\":{\"standoff\":15},\"zerolinecolor\":\"white\",\"zerolinewidth\":2}}},\"title\":{\"font\":{\"size\":25},\"text\":\"Pie Plot for Total Sales for each Product-Sub-Category\"}},                        {\"responsive\": true}                    ).then(function(){\n",
       "                            \n",
       "var gd = document.getElementById('877abfb0-0b99-4dab-9324-29031d8527c0');\n",
       "var x = new MutationObserver(function (mutations, observer) {{\n",
       "        var display = window.getComputedStyle(gd).display;\n",
       "        if (!display || display === 'none') {{\n",
       "            console.log([gd, 'removed!']);\n",
       "            Plotly.purge(gd);\n",
       "            observer.disconnect();\n",
       "        }}\n",
       "}});\n",
       "\n",
       "// Listen for the removal of the full notebook cells\n",
       "var notebookContainer = gd.closest('#notebook-container');\n",
       "if (notebookContainer) {{\n",
       "    x.observe(notebookContainer, {childList: true});\n",
       "}}\n",
       "\n",
       "// Listen for the clearing of the current output cell\n",
       "var outputEl = gd.closest('.output');\n",
       "if (outputEl) {{\n",
       "    x.observe(outputEl, {childList: true});\n",
       "}}\n",
       "\n",
       "                        })                };                });            </script>        </div>"
      ]
     },
     "metadata": {},
     "output_type": "display_data"
    }
   ],
   "source": [
    "data=go.Pie(labels=df['product_sub-category'].value_counts().index,\n",
    "            values=df['product_sub-category'].value_counts(),\n",
    "            textinfo='label+percent',\n",
    "            hoverinfo='label+percent',\n",
    "            marker=dict(line=dict(width=1.5)))\n",
    "\n",
    "layout=go.Layout(title='Pie Plot for Total Sales for each Product-Sub-Category',\n",
    "                 titlefont=dict(size=25),\n",
    "                 height=700)\n",
    "\n",
    "iplot(dict(data=data,layout=layout))"
   ]
  },
  {
   "cell_type": "markdown",
   "id": "37a1f836",
   "metadata": {},
   "source": [
    "**The above plot can help a lot with inventory stocking.**\n",
    "\n",
    "**This is the percentage count of quantity sold per item**\n",
    "\n",
    "**Amongst all products paper had the highest percentage count of 14.7%, then 'Binders and Binder Accessories which had a count of 10.3%, etc**\n",
    "\n",
    "**We could invest in stocking more paper, however, it is important to know that it doesn't yield or amount to higher sales as shown in the bar plot below.**"
   ]
  },
  {
   "cell_type": "code",
   "execution_count": 21,
   "id": "f09dd803",
   "metadata": {},
   "outputs": [
    {
     "data": {
      "application/vnd.plotly.v1+json": {
       "config": {
        "linkText": "Export to plot.ly",
        "plotlyServerURL": "https://plot.ly",
        "showLink": false
       },
       "data": [
        {
         "type": "bar",
         "x": [
          "office_machines",
          "chairs_&_chairmats",
          "telephones_and_communication",
          "binders_and_binder_accessories",
          "storage_&_organization",
          "tables",
          "bookcases",
          "copiers_and_fax",
          "office_furnishings",
          "computer_peripherals",
          "appliances",
          "paper",
          "pens_&_art_supplies",
          "envelopes",
          "scissors,_rulers_and_trimmers",
          "labels",
          "rubber_bands"
         ],
         "y": [
          318169.67999999993,
          241200.42000000004,
          198764.49000000008,
          185928.13999999987,
          175730.0499999999,
          172511.33000000002,
          107796.09,
          99069.47999999998,
          98070.91,
          96261.30000000003,
          82201.14999999997,
          55813.92000000004,
          26071.61,
          10479.769999999999,
          6752.180000000002,
          4914.819999999999,
          1789.43
         ]
        }
       ],
       "layout": {
        "height": 700,
        "template": {
         "data": {
          "bar": [
           {
            "error_x": {
             "color": "#2a3f5f"
            },
            "error_y": {
             "color": "#2a3f5f"
            },
            "marker": {
             "line": {
              "color": "#E5ECF6",
              "width": 0.5
             },
             "pattern": {
              "fillmode": "overlay",
              "size": 10,
              "solidity": 0.2
             }
            },
            "type": "bar"
           }
          ],
          "barpolar": [
           {
            "marker": {
             "line": {
              "color": "#E5ECF6",
              "width": 0.5
             },
             "pattern": {
              "fillmode": "overlay",
              "size": 10,
              "solidity": 0.2
             }
            },
            "type": "barpolar"
           }
          ],
          "carpet": [
           {
            "aaxis": {
             "endlinecolor": "#2a3f5f",
             "gridcolor": "white",
             "linecolor": "white",
             "minorgridcolor": "white",
             "startlinecolor": "#2a3f5f"
            },
            "baxis": {
             "endlinecolor": "#2a3f5f",
             "gridcolor": "white",
             "linecolor": "white",
             "minorgridcolor": "white",
             "startlinecolor": "#2a3f5f"
            },
            "type": "carpet"
           }
          ],
          "choropleth": [
           {
            "colorbar": {
             "outlinewidth": 0,
             "ticks": ""
            },
            "type": "choropleth"
           }
          ],
          "contour": [
           {
            "colorbar": {
             "outlinewidth": 0,
             "ticks": ""
            },
            "colorscale": [
             [
              0,
              "#0d0887"
             ],
             [
              0.1111111111111111,
              "#46039f"
             ],
             [
              0.2222222222222222,
              "#7201a8"
             ],
             [
              0.3333333333333333,
              "#9c179e"
             ],
             [
              0.4444444444444444,
              "#bd3786"
             ],
             [
              0.5555555555555556,
              "#d8576b"
             ],
             [
              0.6666666666666666,
              "#ed7953"
             ],
             [
              0.7777777777777778,
              "#fb9f3a"
             ],
             [
              0.8888888888888888,
              "#fdca26"
             ],
             [
              1,
              "#f0f921"
             ]
            ],
            "type": "contour"
           }
          ],
          "contourcarpet": [
           {
            "colorbar": {
             "outlinewidth": 0,
             "ticks": ""
            },
            "type": "contourcarpet"
           }
          ],
          "heatmap": [
           {
            "colorbar": {
             "outlinewidth": 0,
             "ticks": ""
            },
            "colorscale": [
             [
              0,
              "#0d0887"
             ],
             [
              0.1111111111111111,
              "#46039f"
             ],
             [
              0.2222222222222222,
              "#7201a8"
             ],
             [
              0.3333333333333333,
              "#9c179e"
             ],
             [
              0.4444444444444444,
              "#bd3786"
             ],
             [
              0.5555555555555556,
              "#d8576b"
             ],
             [
              0.6666666666666666,
              "#ed7953"
             ],
             [
              0.7777777777777778,
              "#fb9f3a"
             ],
             [
              0.8888888888888888,
              "#fdca26"
             ],
             [
              1,
              "#f0f921"
             ]
            ],
            "type": "heatmap"
           }
          ],
          "heatmapgl": [
           {
            "colorbar": {
             "outlinewidth": 0,
             "ticks": ""
            },
            "colorscale": [
             [
              0,
              "#0d0887"
             ],
             [
              0.1111111111111111,
              "#46039f"
             ],
             [
              0.2222222222222222,
              "#7201a8"
             ],
             [
              0.3333333333333333,
              "#9c179e"
             ],
             [
              0.4444444444444444,
              "#bd3786"
             ],
             [
              0.5555555555555556,
              "#d8576b"
             ],
             [
              0.6666666666666666,
              "#ed7953"
             ],
             [
              0.7777777777777778,
              "#fb9f3a"
             ],
             [
              0.8888888888888888,
              "#fdca26"
             ],
             [
              1,
              "#f0f921"
             ]
            ],
            "type": "heatmapgl"
           }
          ],
          "histogram": [
           {
            "marker": {
             "pattern": {
              "fillmode": "overlay",
              "size": 10,
              "solidity": 0.2
             }
            },
            "type": "histogram"
           }
          ],
          "histogram2d": [
           {
            "colorbar": {
             "outlinewidth": 0,
             "ticks": ""
            },
            "colorscale": [
             [
              0,
              "#0d0887"
             ],
             [
              0.1111111111111111,
              "#46039f"
             ],
             [
              0.2222222222222222,
              "#7201a8"
             ],
             [
              0.3333333333333333,
              "#9c179e"
             ],
             [
              0.4444444444444444,
              "#bd3786"
             ],
             [
              0.5555555555555556,
              "#d8576b"
             ],
             [
              0.6666666666666666,
              "#ed7953"
             ],
             [
              0.7777777777777778,
              "#fb9f3a"
             ],
             [
              0.8888888888888888,
              "#fdca26"
             ],
             [
              1,
              "#f0f921"
             ]
            ],
            "type": "histogram2d"
           }
          ],
          "histogram2dcontour": [
           {
            "colorbar": {
             "outlinewidth": 0,
             "ticks": ""
            },
            "colorscale": [
             [
              0,
              "#0d0887"
             ],
             [
              0.1111111111111111,
              "#46039f"
             ],
             [
              0.2222222222222222,
              "#7201a8"
             ],
             [
              0.3333333333333333,
              "#9c179e"
             ],
             [
              0.4444444444444444,
              "#bd3786"
             ],
             [
              0.5555555555555556,
              "#d8576b"
             ],
             [
              0.6666666666666666,
              "#ed7953"
             ],
             [
              0.7777777777777778,
              "#fb9f3a"
             ],
             [
              0.8888888888888888,
              "#fdca26"
             ],
             [
              1,
              "#f0f921"
             ]
            ],
            "type": "histogram2dcontour"
           }
          ],
          "mesh3d": [
           {
            "colorbar": {
             "outlinewidth": 0,
             "ticks": ""
            },
            "type": "mesh3d"
           }
          ],
          "parcoords": [
           {
            "line": {
             "colorbar": {
              "outlinewidth": 0,
              "ticks": ""
             }
            },
            "type": "parcoords"
           }
          ],
          "pie": [
           {
            "automargin": true,
            "type": "pie"
           }
          ],
          "scatter": [
           {
            "fillpattern": {
             "fillmode": "overlay",
             "size": 10,
             "solidity": 0.2
            },
            "type": "scatter"
           }
          ],
          "scatter3d": [
           {
            "line": {
             "colorbar": {
              "outlinewidth": 0,
              "ticks": ""
             }
            },
            "marker": {
             "colorbar": {
              "outlinewidth": 0,
              "ticks": ""
             }
            },
            "type": "scatter3d"
           }
          ],
          "scattercarpet": [
           {
            "marker": {
             "colorbar": {
              "outlinewidth": 0,
              "ticks": ""
             }
            },
            "type": "scattercarpet"
           }
          ],
          "scattergeo": [
           {
            "marker": {
             "colorbar": {
              "outlinewidth": 0,
              "ticks": ""
             }
            },
            "type": "scattergeo"
           }
          ],
          "scattergl": [
           {
            "marker": {
             "colorbar": {
              "outlinewidth": 0,
              "ticks": ""
             }
            },
            "type": "scattergl"
           }
          ],
          "scattermapbox": [
           {
            "marker": {
             "colorbar": {
              "outlinewidth": 0,
              "ticks": ""
             }
            },
            "type": "scattermapbox"
           }
          ],
          "scatterpolar": [
           {
            "marker": {
             "colorbar": {
              "outlinewidth": 0,
              "ticks": ""
             }
            },
            "type": "scatterpolar"
           }
          ],
          "scatterpolargl": [
           {
            "marker": {
             "colorbar": {
              "outlinewidth": 0,
              "ticks": ""
             }
            },
            "type": "scatterpolargl"
           }
          ],
          "scatterternary": [
           {
            "marker": {
             "colorbar": {
              "outlinewidth": 0,
              "ticks": ""
             }
            },
            "type": "scatterternary"
           }
          ],
          "surface": [
           {
            "colorbar": {
             "outlinewidth": 0,
             "ticks": ""
            },
            "colorscale": [
             [
              0,
              "#0d0887"
             ],
             [
              0.1111111111111111,
              "#46039f"
             ],
             [
              0.2222222222222222,
              "#7201a8"
             ],
             [
              0.3333333333333333,
              "#9c179e"
             ],
             [
              0.4444444444444444,
              "#bd3786"
             ],
             [
              0.5555555555555556,
              "#d8576b"
             ],
             [
              0.6666666666666666,
              "#ed7953"
             ],
             [
              0.7777777777777778,
              "#fb9f3a"
             ],
             [
              0.8888888888888888,
              "#fdca26"
             ],
             [
              1,
              "#f0f921"
             ]
            ],
            "type": "surface"
           }
          ],
          "table": [
           {
            "cells": {
             "fill": {
              "color": "#EBF0F8"
             },
             "line": {
              "color": "white"
             }
            },
            "header": {
             "fill": {
              "color": "#C8D4E3"
             },
             "line": {
              "color": "white"
             }
            },
            "type": "table"
           }
          ]
         },
         "layout": {
          "annotationdefaults": {
           "arrowcolor": "#2a3f5f",
           "arrowhead": 0,
           "arrowwidth": 1
          },
          "autotypenumbers": "strict",
          "coloraxis": {
           "colorbar": {
            "outlinewidth": 0,
            "ticks": ""
           }
          },
          "colorscale": {
           "diverging": [
            [
             0,
             "#8e0152"
            ],
            [
             0.1,
             "#c51b7d"
            ],
            [
             0.2,
             "#de77ae"
            ],
            [
             0.3,
             "#f1b6da"
            ],
            [
             0.4,
             "#fde0ef"
            ],
            [
             0.5,
             "#f7f7f7"
            ],
            [
             0.6,
             "#e6f5d0"
            ],
            [
             0.7,
             "#b8e186"
            ],
            [
             0.8,
             "#7fbc41"
            ],
            [
             0.9,
             "#4d9221"
            ],
            [
             1,
             "#276419"
            ]
           ],
           "sequential": [
            [
             0,
             "#0d0887"
            ],
            [
             0.1111111111111111,
             "#46039f"
            ],
            [
             0.2222222222222222,
             "#7201a8"
            ],
            [
             0.3333333333333333,
             "#9c179e"
            ],
            [
             0.4444444444444444,
             "#bd3786"
            ],
            [
             0.5555555555555556,
             "#d8576b"
            ],
            [
             0.6666666666666666,
             "#ed7953"
            ],
            [
             0.7777777777777778,
             "#fb9f3a"
            ],
            [
             0.8888888888888888,
             "#fdca26"
            ],
            [
             1,
             "#f0f921"
            ]
           ],
           "sequentialminus": [
            [
             0,
             "#0d0887"
            ],
            [
             0.1111111111111111,
             "#46039f"
            ],
            [
             0.2222222222222222,
             "#7201a8"
            ],
            [
             0.3333333333333333,
             "#9c179e"
            ],
            [
             0.4444444444444444,
             "#bd3786"
            ],
            [
             0.5555555555555556,
             "#d8576b"
            ],
            [
             0.6666666666666666,
             "#ed7953"
            ],
            [
             0.7777777777777778,
             "#fb9f3a"
            ],
            [
             0.8888888888888888,
             "#fdca26"
            ],
            [
             1,
             "#f0f921"
            ]
           ]
          },
          "colorway": [
           "#636efa",
           "#EF553B",
           "#00cc96",
           "#ab63fa",
           "#FFA15A",
           "#19d3f3",
           "#FF6692",
           "#B6E880",
           "#FF97FF",
           "#FECB52"
          ],
          "font": {
           "color": "#2a3f5f"
          },
          "geo": {
           "bgcolor": "white",
           "lakecolor": "white",
           "landcolor": "#E5ECF6",
           "showlakes": true,
           "showland": true,
           "subunitcolor": "white"
          },
          "hoverlabel": {
           "align": "left"
          },
          "hovermode": "closest",
          "mapbox": {
           "style": "light"
          },
          "paper_bgcolor": "white",
          "plot_bgcolor": "#E5ECF6",
          "polar": {
           "angularaxis": {
            "gridcolor": "white",
            "linecolor": "white",
            "ticks": ""
           },
           "bgcolor": "#E5ECF6",
           "radialaxis": {
            "gridcolor": "white",
            "linecolor": "white",
            "ticks": ""
           }
          },
          "scene": {
           "xaxis": {
            "backgroundcolor": "#E5ECF6",
            "gridcolor": "white",
            "gridwidth": 2,
            "linecolor": "white",
            "showbackground": true,
            "ticks": "",
            "zerolinecolor": "white"
           },
           "yaxis": {
            "backgroundcolor": "#E5ECF6",
            "gridcolor": "white",
            "gridwidth": 2,
            "linecolor": "white",
            "showbackground": true,
            "ticks": "",
            "zerolinecolor": "white"
           },
           "zaxis": {
            "backgroundcolor": "#E5ECF6",
            "gridcolor": "white",
            "gridwidth": 2,
            "linecolor": "white",
            "showbackground": true,
            "ticks": "",
            "zerolinecolor": "white"
           }
          },
          "shapedefaults": {
           "line": {
            "color": "#2a3f5f"
           }
          },
          "ternary": {
           "aaxis": {
            "gridcolor": "white",
            "linecolor": "white",
            "ticks": ""
           },
           "baxis": {
            "gridcolor": "white",
            "linecolor": "white",
            "ticks": ""
           },
           "bgcolor": "#E5ECF6",
           "caxis": {
            "gridcolor": "white",
            "linecolor": "white",
            "ticks": ""
           }
          },
          "title": {
           "x": 0.05
          },
          "xaxis": {
           "automargin": true,
           "gridcolor": "white",
           "linecolor": "white",
           "ticks": "",
           "title": {
            "standoff": 15
           },
           "zerolinecolor": "white",
           "zerolinewidth": 2
          },
          "yaxis": {
           "automargin": true,
           "gridcolor": "white",
           "linecolor": "white",
           "ticks": "",
           "title": {
            "standoff": 15
           },
           "zerolinecolor": "white",
           "zerolinewidth": 2
          }
         }
        },
        "title": {
         "font": {
          "size": 25
         },
         "text": "Bar Plot For Product-Sub-Categrotries Sales"
        },
        "xaxis": {
         "title": {
          "font": {
           "size": 19
          },
          "text": "Sub-Categroies"
         }
        },
        "yaxis": {
         "title": {
          "font": {
           "size": 19
          },
          "text": "Sales"
         }
        }
       }
      },
      "text/html": [
       "<div>                            <div id=\"2fefe781-adca-48fe-96e7-e8f902f4ac6a\" class=\"plotly-graph-div\" style=\"height:700px; width:100%;\"></div>            <script type=\"text/javascript\">                require([\"plotly\"], function(Plotly) {                    window.PLOTLYENV=window.PLOTLYENV || {};                                    if (document.getElementById(\"2fefe781-adca-48fe-96e7-e8f902f4ac6a\")) {                    Plotly.newPlot(                        \"2fefe781-adca-48fe-96e7-e8f902f4ac6a\",                        [{\"x\":[\"office_machines\",\"chairs_&_chairmats\",\"telephones_and_communication\",\"binders_and_binder_accessories\",\"storage_&_organization\",\"tables\",\"bookcases\",\"copiers_and_fax\",\"office_furnishings\",\"computer_peripherals\",\"appliances\",\"paper\",\"pens_&_art_supplies\",\"envelopes\",\"scissors,_rulers_and_trimmers\",\"labels\",\"rubber_bands\"],\"y\":[318169.67999999993,241200.42000000004,198764.49000000008,185928.13999999987,175730.0499999999,172511.33000000002,107796.09,99069.47999999998,98070.91,96261.30000000003,82201.14999999997,55813.92000000004,26071.61,10479.769999999999,6752.180000000002,4914.819999999999,1789.43],\"type\":\"bar\"}],                        {\"height\":700,\"template\":{\"data\":{\"barpolar\":[{\"marker\":{\"line\":{\"color\":\"#E5ECF6\",\"width\":0.5},\"pattern\":{\"fillmode\":\"overlay\",\"size\":10,\"solidity\":0.2}},\"type\":\"barpolar\"}],\"bar\":[{\"error_x\":{\"color\":\"#2a3f5f\"},\"error_y\":{\"color\":\"#2a3f5f\"},\"marker\":{\"line\":{\"color\":\"#E5ECF6\",\"width\":0.5},\"pattern\":{\"fillmode\":\"overlay\",\"size\":10,\"solidity\":0.2}},\"type\":\"bar\"}],\"carpet\":[{\"aaxis\":{\"endlinecolor\":\"#2a3f5f\",\"gridcolor\":\"white\",\"linecolor\":\"white\",\"minorgridcolor\":\"white\",\"startlinecolor\":\"#2a3f5f\"},\"baxis\":{\"endlinecolor\":\"#2a3f5f\",\"gridcolor\":\"white\",\"linecolor\":\"white\",\"minorgridcolor\":\"white\",\"startlinecolor\":\"#2a3f5f\"},\"type\":\"carpet\"}],\"choropleth\":[{\"colorbar\":{\"outlinewidth\":0,\"ticks\":\"\"},\"type\":\"choropleth\"}],\"contourcarpet\":[{\"colorbar\":{\"outlinewidth\":0,\"ticks\":\"\"},\"type\":\"contourcarpet\"}],\"contour\":[{\"colorbar\":{\"outlinewidth\":0,\"ticks\":\"\"},\"colorscale\":[[0.0,\"#0d0887\"],[0.1111111111111111,\"#46039f\"],[0.2222222222222222,\"#7201a8\"],[0.3333333333333333,\"#9c179e\"],[0.4444444444444444,\"#bd3786\"],[0.5555555555555556,\"#d8576b\"],[0.6666666666666666,\"#ed7953\"],[0.7777777777777778,\"#fb9f3a\"],[0.8888888888888888,\"#fdca26\"],[1.0,\"#f0f921\"]],\"type\":\"contour\"}],\"heatmapgl\":[{\"colorbar\":{\"outlinewidth\":0,\"ticks\":\"\"},\"colorscale\":[[0.0,\"#0d0887\"],[0.1111111111111111,\"#46039f\"],[0.2222222222222222,\"#7201a8\"],[0.3333333333333333,\"#9c179e\"],[0.4444444444444444,\"#bd3786\"],[0.5555555555555556,\"#d8576b\"],[0.6666666666666666,\"#ed7953\"],[0.7777777777777778,\"#fb9f3a\"],[0.8888888888888888,\"#fdca26\"],[1.0,\"#f0f921\"]],\"type\":\"heatmapgl\"}],\"heatmap\":[{\"colorbar\":{\"outlinewidth\":0,\"ticks\":\"\"},\"colorscale\":[[0.0,\"#0d0887\"],[0.1111111111111111,\"#46039f\"],[0.2222222222222222,\"#7201a8\"],[0.3333333333333333,\"#9c179e\"],[0.4444444444444444,\"#bd3786\"],[0.5555555555555556,\"#d8576b\"],[0.6666666666666666,\"#ed7953\"],[0.7777777777777778,\"#fb9f3a\"],[0.8888888888888888,\"#fdca26\"],[1.0,\"#f0f921\"]],\"type\":\"heatmap\"}],\"histogram2dcontour\":[{\"colorbar\":{\"outlinewidth\":0,\"ticks\":\"\"},\"colorscale\":[[0.0,\"#0d0887\"],[0.1111111111111111,\"#46039f\"],[0.2222222222222222,\"#7201a8\"],[0.3333333333333333,\"#9c179e\"],[0.4444444444444444,\"#bd3786\"],[0.5555555555555556,\"#d8576b\"],[0.6666666666666666,\"#ed7953\"],[0.7777777777777778,\"#fb9f3a\"],[0.8888888888888888,\"#fdca26\"],[1.0,\"#f0f921\"]],\"type\":\"histogram2dcontour\"}],\"histogram2d\":[{\"colorbar\":{\"outlinewidth\":0,\"ticks\":\"\"},\"colorscale\":[[0.0,\"#0d0887\"],[0.1111111111111111,\"#46039f\"],[0.2222222222222222,\"#7201a8\"],[0.3333333333333333,\"#9c179e\"],[0.4444444444444444,\"#bd3786\"],[0.5555555555555556,\"#d8576b\"],[0.6666666666666666,\"#ed7953\"],[0.7777777777777778,\"#fb9f3a\"],[0.8888888888888888,\"#fdca26\"],[1.0,\"#f0f921\"]],\"type\":\"histogram2d\"}],\"histogram\":[{\"marker\":{\"pattern\":{\"fillmode\":\"overlay\",\"size\":10,\"solidity\":0.2}},\"type\":\"histogram\"}],\"mesh3d\":[{\"colorbar\":{\"outlinewidth\":0,\"ticks\":\"\"},\"type\":\"mesh3d\"}],\"parcoords\":[{\"line\":{\"colorbar\":{\"outlinewidth\":0,\"ticks\":\"\"}},\"type\":\"parcoords\"}],\"pie\":[{\"automargin\":true,\"type\":\"pie\"}],\"scatter3d\":[{\"line\":{\"colorbar\":{\"outlinewidth\":0,\"ticks\":\"\"}},\"marker\":{\"colorbar\":{\"outlinewidth\":0,\"ticks\":\"\"}},\"type\":\"scatter3d\"}],\"scattercarpet\":[{\"marker\":{\"colorbar\":{\"outlinewidth\":0,\"ticks\":\"\"}},\"type\":\"scattercarpet\"}],\"scattergeo\":[{\"marker\":{\"colorbar\":{\"outlinewidth\":0,\"ticks\":\"\"}},\"type\":\"scattergeo\"}],\"scattergl\":[{\"marker\":{\"colorbar\":{\"outlinewidth\":0,\"ticks\":\"\"}},\"type\":\"scattergl\"}],\"scattermapbox\":[{\"marker\":{\"colorbar\":{\"outlinewidth\":0,\"ticks\":\"\"}},\"type\":\"scattermapbox\"}],\"scatterpolargl\":[{\"marker\":{\"colorbar\":{\"outlinewidth\":0,\"ticks\":\"\"}},\"type\":\"scatterpolargl\"}],\"scatterpolar\":[{\"marker\":{\"colorbar\":{\"outlinewidth\":0,\"ticks\":\"\"}},\"type\":\"scatterpolar\"}],\"scatter\":[{\"fillpattern\":{\"fillmode\":\"overlay\",\"size\":10,\"solidity\":0.2},\"type\":\"scatter\"}],\"scatterternary\":[{\"marker\":{\"colorbar\":{\"outlinewidth\":0,\"ticks\":\"\"}},\"type\":\"scatterternary\"}],\"surface\":[{\"colorbar\":{\"outlinewidth\":0,\"ticks\":\"\"},\"colorscale\":[[0.0,\"#0d0887\"],[0.1111111111111111,\"#46039f\"],[0.2222222222222222,\"#7201a8\"],[0.3333333333333333,\"#9c179e\"],[0.4444444444444444,\"#bd3786\"],[0.5555555555555556,\"#d8576b\"],[0.6666666666666666,\"#ed7953\"],[0.7777777777777778,\"#fb9f3a\"],[0.8888888888888888,\"#fdca26\"],[1.0,\"#f0f921\"]],\"type\":\"surface\"}],\"table\":[{\"cells\":{\"fill\":{\"color\":\"#EBF0F8\"},\"line\":{\"color\":\"white\"}},\"header\":{\"fill\":{\"color\":\"#C8D4E3\"},\"line\":{\"color\":\"white\"}},\"type\":\"table\"}]},\"layout\":{\"annotationdefaults\":{\"arrowcolor\":\"#2a3f5f\",\"arrowhead\":0,\"arrowwidth\":1},\"autotypenumbers\":\"strict\",\"coloraxis\":{\"colorbar\":{\"outlinewidth\":0,\"ticks\":\"\"}},\"colorscale\":{\"diverging\":[[0,\"#8e0152\"],[0.1,\"#c51b7d\"],[0.2,\"#de77ae\"],[0.3,\"#f1b6da\"],[0.4,\"#fde0ef\"],[0.5,\"#f7f7f7\"],[0.6,\"#e6f5d0\"],[0.7,\"#b8e186\"],[0.8,\"#7fbc41\"],[0.9,\"#4d9221\"],[1,\"#276419\"]],\"sequential\":[[0.0,\"#0d0887\"],[0.1111111111111111,\"#46039f\"],[0.2222222222222222,\"#7201a8\"],[0.3333333333333333,\"#9c179e\"],[0.4444444444444444,\"#bd3786\"],[0.5555555555555556,\"#d8576b\"],[0.6666666666666666,\"#ed7953\"],[0.7777777777777778,\"#fb9f3a\"],[0.8888888888888888,\"#fdca26\"],[1.0,\"#f0f921\"]],\"sequentialminus\":[[0.0,\"#0d0887\"],[0.1111111111111111,\"#46039f\"],[0.2222222222222222,\"#7201a8\"],[0.3333333333333333,\"#9c179e\"],[0.4444444444444444,\"#bd3786\"],[0.5555555555555556,\"#d8576b\"],[0.6666666666666666,\"#ed7953\"],[0.7777777777777778,\"#fb9f3a\"],[0.8888888888888888,\"#fdca26\"],[1.0,\"#f0f921\"]]},\"colorway\":[\"#636efa\",\"#EF553B\",\"#00cc96\",\"#ab63fa\",\"#FFA15A\",\"#19d3f3\",\"#FF6692\",\"#B6E880\",\"#FF97FF\",\"#FECB52\"],\"font\":{\"color\":\"#2a3f5f\"},\"geo\":{\"bgcolor\":\"white\",\"lakecolor\":\"white\",\"landcolor\":\"#E5ECF6\",\"showlakes\":true,\"showland\":true,\"subunitcolor\":\"white\"},\"hoverlabel\":{\"align\":\"left\"},\"hovermode\":\"closest\",\"mapbox\":{\"style\":\"light\"},\"paper_bgcolor\":\"white\",\"plot_bgcolor\":\"#E5ECF6\",\"polar\":{\"angularaxis\":{\"gridcolor\":\"white\",\"linecolor\":\"white\",\"ticks\":\"\"},\"bgcolor\":\"#E5ECF6\",\"radialaxis\":{\"gridcolor\":\"white\",\"linecolor\":\"white\",\"ticks\":\"\"}},\"scene\":{\"xaxis\":{\"backgroundcolor\":\"#E5ECF6\",\"gridcolor\":\"white\",\"gridwidth\":2,\"linecolor\":\"white\",\"showbackground\":true,\"ticks\":\"\",\"zerolinecolor\":\"white\"},\"yaxis\":{\"backgroundcolor\":\"#E5ECF6\",\"gridcolor\":\"white\",\"gridwidth\":2,\"linecolor\":\"white\",\"showbackground\":true,\"ticks\":\"\",\"zerolinecolor\":\"white\"},\"zaxis\":{\"backgroundcolor\":\"#E5ECF6\",\"gridcolor\":\"white\",\"gridwidth\":2,\"linecolor\":\"white\",\"showbackground\":true,\"ticks\":\"\",\"zerolinecolor\":\"white\"}},\"shapedefaults\":{\"line\":{\"color\":\"#2a3f5f\"}},\"ternary\":{\"aaxis\":{\"gridcolor\":\"white\",\"linecolor\":\"white\",\"ticks\":\"\"},\"baxis\":{\"gridcolor\":\"white\",\"linecolor\":\"white\",\"ticks\":\"\"},\"bgcolor\":\"#E5ECF6\",\"caxis\":{\"gridcolor\":\"white\",\"linecolor\":\"white\",\"ticks\":\"\"}},\"title\":{\"x\":0.05},\"xaxis\":{\"automargin\":true,\"gridcolor\":\"white\",\"linecolor\":\"white\",\"ticks\":\"\",\"title\":{\"standoff\":15},\"zerolinecolor\":\"white\",\"zerolinewidth\":2},\"yaxis\":{\"automargin\":true,\"gridcolor\":\"white\",\"linecolor\":\"white\",\"ticks\":\"\",\"title\":{\"standoff\":15},\"zerolinecolor\":\"white\",\"zerolinewidth\":2}}},\"title\":{\"font\":{\"size\":25},\"text\":\"Bar Plot For Product-Sub-Categrotries Sales\"},\"xaxis\":{\"title\":{\"font\":{\"size\":19},\"text\":\"Sub-Categroies\"}},\"yaxis\":{\"title\":{\"font\":{\"size\":19},\"text\":\"Sales\"}}},                        {\"responsive\": true}                    ).then(function(){\n",
       "                            \n",
       "var gd = document.getElementById('2fefe781-adca-48fe-96e7-e8f902f4ac6a');\n",
       "var x = new MutationObserver(function (mutations, observer) {{\n",
       "        var display = window.getComputedStyle(gd).display;\n",
       "        if (!display || display === 'none') {{\n",
       "            console.log([gd, 'removed!']);\n",
       "            Plotly.purge(gd);\n",
       "            observer.disconnect();\n",
       "        }}\n",
       "}});\n",
       "\n",
       "// Listen for the removal of the full notebook cells\n",
       "var notebookContainer = gd.closest('#notebook-container');\n",
       "if (notebookContainer) {{\n",
       "    x.observe(notebookContainer, {childList: true});\n",
       "}}\n",
       "\n",
       "// Listen for the clearing of the current output cell\n",
       "var outputEl = gd.closest('.output');\n",
       "if (outputEl) {{\n",
       "    x.observe(outputEl, {childList: true});\n",
       "}}\n",
       "\n",
       "                        })                };                });            </script>        </div>"
      ]
     },
     "metadata": {},
     "output_type": "display_data"
    }
   ],
   "source": [
    "temp = df.groupby(by=['product_sub-category']).sum().sort_values(by='sales',ascending=False).reset_index()\n",
    "\n",
    "data=go.Bar(x=temp['product_sub-category'],\n",
    "            y=temp['sales'])\n",
    "\n",
    "layout=go.Layout(title='Bar Plot For Product-Sub-Categrotries Sales',\n",
    "                 titlefont=dict(size=25),\n",
    "                 height=700, \n",
    "                 xaxis=dict(title='Sub-Categroies',titlefont=dict(size=19)),\n",
    "                 yaxis=dict(title='Sales',titlefont=dict(size=19)),)\n",
    "\n",
    "\n",
    "iplot(dict(data=data,layout=layout))"
   ]
  },
  {
   "cell_type": "markdown",
   "id": "e445b917",
   "metadata": {},
   "source": [
    "**This above plot shows the distribution of sales between subcategories.**\n",
    "\n",
    "- **Here we can see that the highest sales came from office machines, chairs, chairmats, telephone and communication, etc.**\n",
    "\n",
    "- **Further analysis can be done to determine what region or state was this and why office machines had the most sales, in order to replicate the same high sales mechanism deployed.**"
   ]
  },
  {
   "cell_type": "code",
   "execution_count": 22,
   "id": "538e5d5c",
   "metadata": {},
   "outputs": [
    {
     "data": {
      "text/html": [
       "<div>\n",
       "<style scoped>\n",
       "    .dataframe tbody tr th:only-of-type {\n",
       "        vertical-align: middle;\n",
       "    }\n",
       "\n",
       "    .dataframe tbody tr th {\n",
       "        vertical-align: top;\n",
       "    }\n",
       "\n",
       "    .dataframe thead th {\n",
       "        text-align: right;\n",
       "    }\n",
       "</style>\n",
       "<table border=\"1\" class=\"dataframe\">\n",
       "  <thead>\n",
       "    <tr style=\"text-align: right;\">\n",
       "      <th></th>\n",
       "      <th>16</th>\n",
       "      <th>28</th>\n",
       "      <th>31</th>\n",
       "      <th>32</th>\n",
       "      <th>48</th>\n",
       "    </tr>\n",
       "  </thead>\n",
       "  <tbody>\n",
       "    <tr>\n",
       "      <th>row_id</th>\n",
       "      <td>20631</td>\n",
       "      <td>18552</td>\n",
       "      <td>22890</td>\n",
       "      <td>25354</td>\n",
       "      <td>19877</td>\n",
       "    </tr>\n",
       "    <tr>\n",
       "      <th>order_priority</th>\n",
       "      <td>high</td>\n",
       "      <td>not_specified</td>\n",
       "      <td>high</td>\n",
       "      <td>high</td>\n",
       "      <td>medium</td>\n",
       "    </tr>\n",
       "    <tr>\n",
       "      <th>discount</th>\n",
       "      <td>0.06</td>\n",
       "      <td>0.02</td>\n",
       "      <td>0.02</td>\n",
       "      <td>0.04</td>\n",
       "      <td>0.05</td>\n",
       "    </tr>\n",
       "    <tr>\n",
       "      <th>unit_price</th>\n",
       "      <td>55.48</td>\n",
       "      <td>5.98</td>\n",
       "      <td>5.98</td>\n",
       "      <td>29.14</td>\n",
       "      <td>5.18</td>\n",
       "    </tr>\n",
       "    <tr>\n",
       "      <th>shipping_cost</th>\n",
       "      <td>14.3</td>\n",
       "      <td>5.79</td>\n",
       "      <td>5.15</td>\n",
       "      <td>4.86</td>\n",
       "      <td>2.04</td>\n",
       "    </tr>\n",
       "    <tr>\n",
       "      <th>customer_id</th>\n",
       "      <td>24</td>\n",
       "      <td>53</td>\n",
       "      <td>62</td>\n",
       "      <td>62</td>\n",
       "      <td>91</td>\n",
       "    </tr>\n",
       "    <tr>\n",
       "      <th>customer_name</th>\n",
       "      <td>edna_thomas</td>\n",
       "      <td>sidney_russell_austin</td>\n",
       "      <td>pam_gilbert</td>\n",
       "      <td>pam_gilbert</td>\n",
       "      <td>wallace_werner</td>\n",
       "    </tr>\n",
       "    <tr>\n",
       "      <th>ship_mode</th>\n",
       "      <td>regular_air</td>\n",
       "      <td>regular_air</td>\n",
       "      <td>regular_air</td>\n",
       "      <td>regular_air</td>\n",
       "      <td>regular_air</td>\n",
       "    </tr>\n",
       "    <tr>\n",
       "      <th>customer_segment</th>\n",
       "      <td>corporate</td>\n",
       "      <td>corporate</td>\n",
       "      <td>corporate</td>\n",
       "      <td>corporate</td>\n",
       "      <td>home_office</td>\n",
       "    </tr>\n",
       "    <tr>\n",
       "      <th>product_category</th>\n",
       "      <td>office_supplies</td>\n",
       "      <td>office_supplies</td>\n",
       "      <td>office_supplies</td>\n",
       "      <td>office_supplies</td>\n",
       "      <td>office_supplies</td>\n",
       "    </tr>\n",
       "    <tr>\n",
       "      <th>product_sub-category</th>\n",
       "      <td>paper</td>\n",
       "      <td>paper</td>\n",
       "      <td>paper</td>\n",
       "      <td>paper</td>\n",
       "      <td>paper</td>\n",
       "    </tr>\n",
       "    <tr>\n",
       "      <th>product_container</th>\n",
       "      <td>small_box</td>\n",
       "      <td>small_box</td>\n",
       "      <td>small_box</td>\n",
       "      <td>wrap_bag</td>\n",
       "      <td>wrap_bag</td>\n",
       "    </tr>\n",
       "    <tr>\n",
       "      <th>product_name</th>\n",
       "      <td>xerox_194</td>\n",
       "      <td>xerox_1903</td>\n",
       "      <td>xerox_193</td>\n",
       "      <td>snap-a-way®_black_print_carbonless_speed_messa...</td>\n",
       "      <td>array®_memo_cubes</td>\n",
       "    </tr>\n",
       "    <tr>\n",
       "      <th>product_base_margin</th>\n",
       "      <td>0.37</td>\n",
       "      <td>0.36</td>\n",
       "      <td>0.36</td>\n",
       "      <td>0.38</td>\n",
       "      <td>0.36</td>\n",
       "    </tr>\n",
       "    <tr>\n",
       "      <th>country</th>\n",
       "      <td>united_states</td>\n",
       "      <td>united_states</td>\n",
       "      <td>united_states</td>\n",
       "      <td>united_states</td>\n",
       "      <td>united_states</td>\n",
       "    </tr>\n",
       "    <tr>\n",
       "      <th>manager</th>\n",
       "      <td>william</td>\n",
       "      <td>william</td>\n",
       "      <td>chris</td>\n",
       "      <td>chris</td>\n",
       "      <td>william</td>\n",
       "    </tr>\n",
       "    <tr>\n",
       "      <th>region</th>\n",
       "      <td>west</td>\n",
       "      <td>west</td>\n",
       "      <td>central</td>\n",
       "      <td>central</td>\n",
       "      <td>west</td>\n",
       "    </tr>\n",
       "    <tr>\n",
       "      <th>state_or_province</th>\n",
       "      <td>california</td>\n",
       "      <td>washington</td>\n",
       "      <td>texas</td>\n",
       "      <td>texas</td>\n",
       "      <td>california</td>\n",
       "    </tr>\n",
       "    <tr>\n",
       "      <th>city</th>\n",
       "      <td>laguna_niguel</td>\n",
       "      <td>redmond</td>\n",
       "      <td>round_rock</td>\n",
       "      <td>round_rock</td>\n",
       "      <td>vallejo</td>\n",
       "    </tr>\n",
       "    <tr>\n",
       "      <th>postal_code</th>\n",
       "      <td>92677</td>\n",
       "      <td>98052</td>\n",
       "      <td>78664</td>\n",
       "      <td>78664</td>\n",
       "      <td>94591</td>\n",
       "    </tr>\n",
       "    <tr>\n",
       "      <th>order_date</th>\n",
       "      <td>1/28/2015</td>\n",
       "      <td>3/10/2015</td>\n",
       "      <td>5/9/2015</td>\n",
       "      <td>6/12/2015</td>\n",
       "      <td>2/18/2015</td>\n",
       "    </tr>\n",
       "    <tr>\n",
       "      <th>ship_date</th>\n",
       "      <td>1/29/2015</td>\n",
       "      <td>3/11/2015</td>\n",
       "      <td>5/11/2015</td>\n",
       "      <td>6/14/2015</td>\n",
       "      <td>2/20/2015</td>\n",
       "    </tr>\n",
       "    <tr>\n",
       "      <th>profit</th>\n",
       "      <td>-28.2968</td>\n",
       "      <td>-67.49</td>\n",
       "      <td>2.14</td>\n",
       "      <td>349.4091</td>\n",
       "      <td>34.0104</td>\n",
       "    </tr>\n",
       "    <tr>\n",
       "      <th>quantity_ordered_new</th>\n",
       "      <td>1</td>\n",
       "      <td>17</td>\n",
       "      <td>3</td>\n",
       "      <td>17</td>\n",
       "      <td>10</td>\n",
       "    </tr>\n",
       "    <tr>\n",
       "      <th>sales</th>\n",
       "      <td>67.49</td>\n",
       "      <td>110.19</td>\n",
       "      <td>22.85</td>\n",
       "      <td>506.39</td>\n",
       "      <td>53.54</td>\n",
       "    </tr>\n",
       "    <tr>\n",
       "      <th>order_id</th>\n",
       "      <td>87651</td>\n",
       "      <td>88426</td>\n",
       "      <td>87407</td>\n",
       "      <td>87408</td>\n",
       "      <td>87176</td>\n",
       "    </tr>\n",
       "    <tr>\n",
       "      <th>status</th>\n",
       "      <td>0</td>\n",
       "      <td>0</td>\n",
       "      <td>0</td>\n",
       "      <td>0</td>\n",
       "      <td>0</td>\n",
       "    </tr>\n",
       "    <tr>\n",
       "      <th>month</th>\n",
       "      <td>Jan</td>\n",
       "      <td>Mar</td>\n",
       "      <td>May</td>\n",
       "      <td>Jun</td>\n",
       "      <td>Feb</td>\n",
       "    </tr>\n",
       "    <tr>\n",
       "      <th>day</th>\n",
       "      <td>Mon</td>\n",
       "      <td>Sun</td>\n",
       "      <td>Thu</td>\n",
       "      <td>Wed</td>\n",
       "      <td>Mon</td>\n",
       "    </tr>\n",
       "    <tr>\n",
       "      <th>period</th>\n",
       "      <td>Unknown</td>\n",
       "      <td>Unknown</td>\n",
       "      <td>Unknown</td>\n",
       "      <td>Unknown</td>\n",
       "      <td>Unknown</td>\n",
       "    </tr>\n",
       "  </tbody>\n",
       "</table>\n",
       "</div>"
      ],
      "text/plain": [
       "                                   16                     28               31  \\\n",
       "row_id                          20631                  18552            22890   \n",
       "order_priority                   high          not_specified             high   \n",
       "discount                         0.06                   0.02             0.02   \n",
       "unit_price                      55.48                   5.98             5.98   \n",
       "shipping_cost                    14.3                   5.79             5.15   \n",
       "customer_id                        24                     53               62   \n",
       "customer_name             edna_thomas  sidney_russell_austin      pam_gilbert   \n",
       "ship_mode                 regular_air            regular_air      regular_air   \n",
       "customer_segment            corporate              corporate        corporate   \n",
       "product_category      office_supplies        office_supplies  office_supplies   \n",
       "product_sub-category            paper                  paper            paper   \n",
       "product_container           small_box              small_box        small_box   \n",
       "product_name                xerox_194             xerox_1903        xerox_193   \n",
       "product_base_margin              0.37                   0.36             0.36   \n",
       "country                 united_states          united_states    united_states   \n",
       "manager                       william                william            chris   \n",
       "region                           west                   west          central   \n",
       "state_or_province          california             washington            texas   \n",
       "city                    laguna_niguel                redmond       round_rock   \n",
       "postal_code                     92677                  98052            78664   \n",
       "order_date                  1/28/2015              3/10/2015         5/9/2015   \n",
       "ship_date                   1/29/2015              3/11/2015        5/11/2015   \n",
       "profit                       -28.2968                 -67.49             2.14   \n",
       "quantity_ordered_new                1                     17                3   \n",
       "sales                           67.49                 110.19            22.85   \n",
       "order_id                        87651                  88426            87407   \n",
       "status                              0                      0                0   \n",
       "month                             Jan                    Mar              May   \n",
       "day                              Mon                    Sun              Thu    \n",
       "period                        Unknown                Unknown          Unknown   \n",
       "\n",
       "                                                                     32  \\\n",
       "row_id                                                            25354   \n",
       "order_priority                                                     high   \n",
       "discount                                                           0.04   \n",
       "unit_price                                                        29.14   \n",
       "shipping_cost                                                      4.86   \n",
       "customer_id                                                          62   \n",
       "customer_name                                               pam_gilbert   \n",
       "ship_mode                                                   regular_air   \n",
       "customer_segment                                              corporate   \n",
       "product_category                                        office_supplies   \n",
       "product_sub-category                                              paper   \n",
       "product_container                                              wrap_bag   \n",
       "product_name          snap-a-way®_black_print_carbonless_speed_messa...   \n",
       "product_base_margin                                                0.38   \n",
       "country                                                   united_states   \n",
       "manager                                                           chris   \n",
       "region                                                          central   \n",
       "state_or_province                                                 texas   \n",
       "city                                                         round_rock   \n",
       "postal_code                                                       78664   \n",
       "order_date                                                    6/12/2015   \n",
       "ship_date                                                     6/14/2015   \n",
       "profit                                                         349.4091   \n",
       "quantity_ordered_new                                                 17   \n",
       "sales                                                            506.39   \n",
       "order_id                                                          87408   \n",
       "status                                                                0   \n",
       "month                                                               Jun   \n",
       "day                                                                Wed    \n",
       "period                                                          Unknown   \n",
       "\n",
       "                                     48  \n",
       "row_id                            19877  \n",
       "order_priority                   medium  \n",
       "discount                           0.05  \n",
       "unit_price                         5.18  \n",
       "shipping_cost                      2.04  \n",
       "customer_id                          91  \n",
       "customer_name            wallace_werner  \n",
       "ship_mode                   regular_air  \n",
       "customer_segment            home_office  \n",
       "product_category        office_supplies  \n",
       "product_sub-category              paper  \n",
       "product_container              wrap_bag  \n",
       "product_name          array®_memo_cubes  \n",
       "product_base_margin                0.36  \n",
       "country                   united_states  \n",
       "manager                         william  \n",
       "region                             west  \n",
       "state_or_province            california  \n",
       "city                            vallejo  \n",
       "postal_code                       94591  \n",
       "order_date                    2/18/2015  \n",
       "ship_date                     2/20/2015  \n",
       "profit                          34.0104  \n",
       "quantity_ordered_new                 10  \n",
       "sales                             53.54  \n",
       "order_id                          87176  \n",
       "status                                0  \n",
       "month                               Feb  \n",
       "day                                Mon   \n",
       "period                          Unknown  "
      ]
     },
     "execution_count": 22,
     "metadata": {},
     "output_type": "execute_result"
    }
   ],
   "source": [
    "new= df[df['product_sub-category']=='paper']\n",
    "new.head().T"
   ]
  },
  {
   "cell_type": "code",
   "execution_count": 23,
   "id": "8edc15ad",
   "metadata": {},
   "outputs": [
    {
     "data": {
      "application/vnd.plotly.v1+json": {
       "config": {
        "linkText": "Export to plot.ly",
        "plotlyServerURL": "https://plot.ly",
        "showLink": false
       },
       "data": [
        {
         "name": "Sales Trend Line",
         "type": "scatter",
         "x": [
          0,
          1,
          2,
          3,
          4,
          5,
          6,
          7,
          8,
          9,
          10,
          11,
          12,
          13,
          14,
          15,
          16,
          17,
          18,
          19,
          20,
          21,
          22,
          23,
          24,
          25,
          26,
          27,
          28,
          29,
          30,
          31,
          32,
          33,
          34,
          35,
          36,
          37,
          38,
          39,
          40,
          41,
          42,
          43,
          44,
          45,
          46,
          47,
          48,
          49,
          50,
          51,
          52,
          53,
          54,
          55,
          56,
          57,
          58,
          59,
          60,
          61,
          62,
          63,
          64,
          65,
          66,
          67,
          68,
          69,
          70,
          71,
          72,
          73,
          74,
          75,
          76,
          77,
          78,
          79,
          80,
          81,
          82,
          83,
          84,
          85,
          86,
          87,
          88,
          89,
          90,
          91,
          92,
          93,
          94,
          95,
          96,
          97,
          98,
          99,
          100,
          101,
          102,
          103,
          104,
          105,
          106,
          107,
          108,
          109,
          110,
          111,
          112,
          113,
          114,
          115,
          116,
          117,
          118,
          119,
          120,
          121,
          122,
          123,
          124,
          125,
          126,
          127,
          128,
          129,
          130,
          131,
          132,
          133,
          134,
          135,
          136,
          137,
          138,
          139,
          140,
          141,
          142,
          143,
          144,
          145,
          146,
          147,
          148,
          149,
          150,
          151,
          152,
          153,
          154,
          155,
          156,
          157,
          158,
          159,
          160,
          161,
          162,
          163,
          164,
          165,
          166,
          167,
          168,
          169,
          170,
          171,
          172,
          173,
          174,
          175,
          176,
          177,
          178,
          179,
          180,
          182,
          183,
          184,
          185,
          186,
          187,
          188,
          189,
          190,
          191,
          192,
          193,
          194,
          195,
          196,
          197,
          198,
          199,
          200,
          201,
          202,
          203,
          204,
          205,
          206,
          207,
          208,
          209,
          210,
          211,
          212,
          213,
          214,
          215,
          216,
          217,
          218,
          219,
          220,
          221,
          222,
          223,
          224,
          225,
          226,
          227,
          228,
          229,
          230,
          231,
          232,
          233,
          234,
          235,
          236,
          237,
          238,
          239,
          240,
          241,
          242,
          243,
          244,
          245,
          246,
          247,
          248,
          249,
          250,
          251,
          252,
          253,
          254,
          255,
          256,
          257,
          258,
          259,
          260,
          261,
          262,
          263,
          264,
          265,
          266,
          267,
          268,
          269,
          270,
          272,
          273,
          274,
          275,
          276,
          277,
          278,
          279,
          280,
          281,
          282,
          283,
          284,
          285,
          286,
          287,
          288,
          289,
          290,
          291,
          292,
          293,
          294,
          295,
          296,
          297,
          298,
          299,
          300,
          301,
          302,
          303,
          304,
          305,
          306,
          307,
          308,
          309,
          310,
          311,
          312,
          313,
          314,
          315,
          316,
          317,
          318,
          319,
          320,
          321,
          322,
          323,
          324,
          325,
          326,
          327,
          328,
          329,
          330,
          331,
          332,
          333,
          334,
          335,
          336,
          337,
          338,
          339,
          340,
          341,
          342,
          343,
          344,
          345,
          346,
          347,
          348,
          349,
          350,
          351,
          352,
          353,
          354,
          355,
          356,
          357,
          358,
          359,
          360,
          361,
          362,
          363,
          364,
          365,
          366,
          367,
          368,
          369,
          370,
          371,
          372,
          373,
          374,
          375,
          376,
          377,
          378,
          379,
          380,
          381,
          382,
          383,
          384,
          385,
          386,
          387,
          388,
          389,
          390,
          391,
          392,
          393,
          394,
          395,
          396,
          397,
          398,
          399,
          400,
          401,
          402,
          403,
          404,
          405,
          406,
          407,
          408,
          409,
          410,
          411,
          412,
          413,
          414,
          415,
          416,
          417,
          418,
          419,
          420,
          421,
          422,
          423,
          424,
          425,
          426,
          427,
          428,
          429,
          430,
          431,
          432,
          433,
          434,
          435,
          436,
          437,
          438,
          439,
          440,
          441,
          442,
          443,
          444,
          445,
          446,
          447,
          448,
          449,
          450,
          451,
          452,
          453,
          454,
          455,
          456,
          457,
          458,
          459,
          460,
          461,
          462,
          463,
          464,
          465,
          466,
          467,
          468,
          469,
          470,
          471,
          472,
          473,
          474,
          475,
          476,
          477,
          478,
          479,
          480,
          481,
          482,
          484,
          485,
          486,
          487,
          488,
          489,
          490,
          491,
          492,
          493,
          494,
          495,
          496,
          497,
          498,
          499,
          500,
          501,
          502,
          503,
          504,
          505,
          506,
          507,
          508,
          509,
          510,
          511,
          512,
          513,
          514,
          515,
          516,
          517,
          518,
          519,
          520,
          521,
          522,
          523,
          524,
          525,
          526,
          527,
          528,
          529,
          530,
          531,
          532,
          533,
          534,
          535,
          536,
          537,
          538,
          539,
          540,
          541,
          542,
          543,
          544,
          545,
          546,
          547,
          548,
          549,
          550,
          551,
          552,
          553,
          554,
          555,
          556,
          557,
          558,
          559,
          560,
          561,
          562,
          563,
          564,
          565,
          566,
          567,
          568,
          569,
          570,
          571,
          572,
          573,
          574,
          575,
          576,
          577,
          578,
          579,
          580,
          581,
          582,
          583,
          584,
          585,
          586,
          587,
          588,
          589,
          590,
          591,
          592,
          593,
          594,
          595,
          596,
          597,
          598,
          599,
          600,
          601,
          602,
          603,
          604,
          605,
          606,
          607,
          608,
          609,
          610,
          611,
          612,
          613,
          614,
          615,
          616,
          617,
          618,
          619,
          620,
          621,
          622,
          623,
          624,
          625,
          626,
          627,
          628,
          629,
          630,
          631,
          632,
          633,
          634,
          635,
          636,
          637,
          638,
          639,
          640,
          641,
          642,
          643,
          644,
          645,
          646,
          647,
          648,
          649,
          650,
          651,
          652,
          653,
          654,
          655,
          656,
          657,
          658,
          659,
          661,
          662,
          663,
          664,
          665,
          666,
          667,
          668,
          669,
          670,
          671,
          672,
          673,
          674,
          675,
          676,
          677,
          678,
          679,
          680,
          681,
          682,
          683,
          684,
          685,
          686,
          687,
          688,
          689,
          690,
          691,
          692,
          693,
          694,
          695,
          696,
          697,
          698,
          699,
          701,
          702,
          703,
          704,
          705,
          706,
          707,
          708,
          709,
          710,
          711,
          712,
          713,
          714,
          715,
          716,
          717,
          718,
          719,
          720,
          721,
          722,
          723,
          724,
          725,
          726,
          728,
          729,
          730,
          731,
          732,
          733,
          735,
          737,
          738,
          739,
          740,
          741,
          742,
          743,
          744,
          745,
          746,
          747,
          748,
          749,
          750,
          751,
          752,
          753,
          754,
          755,
          756,
          757,
          758,
          759,
          760,
          761,
          762,
          763,
          764,
          765,
          766,
          767,
          768,
          769,
          770,
          771,
          772,
          773,
          774,
          775,
          776,
          777,
          778,
          779,
          780,
          781,
          782,
          783,
          784,
          785,
          786,
          787,
          788,
          789,
          790,
          791,
          792,
          793,
          794,
          795,
          796,
          797,
          798,
          799,
          800,
          801,
          802,
          803,
          804,
          805,
          806,
          807,
          808,
          809,
          810,
          811,
          812,
          813,
          814,
          815,
          816,
          817,
          818,
          819,
          820,
          821,
          822,
          823,
          824,
          825,
          826,
          827,
          828,
          829,
          830,
          831,
          832,
          833,
          834,
          835,
          836,
          837,
          838,
          839,
          840,
          841,
          842,
          843,
          844,
          845,
          846,
          847,
          848,
          849,
          850,
          851,
          852,
          853,
          854,
          855,
          856,
          857,
          858,
          859,
          860,
          861,
          862,
          863,
          864,
          865,
          866,
          867,
          868,
          869,
          870,
          871,
          872,
          873,
          874,
          875,
          876,
          877,
          878,
          879,
          880,
          881,
          882,
          883,
          884,
          885,
          886,
          887,
          888,
          889,
          890,
          891,
          892,
          893,
          894,
          895,
          896,
          897,
          898,
          899,
          900,
          901,
          902,
          903,
          904,
          905,
          906,
          907,
          908,
          909,
          910,
          911,
          912,
          913,
          914,
          915,
          916,
          917,
          918,
          919,
          920,
          921,
          922,
          923,
          924,
          925,
          926,
          927,
          928,
          929,
          930,
          931,
          932,
          933,
          934,
          935,
          936,
          937,
          938,
          939,
          940,
          941,
          942,
          943,
          944,
          945,
          946,
          947,
          948,
          949,
          950,
          951,
          952,
          953,
          954,
          955,
          956,
          957,
          958,
          959,
          960,
          961,
          962,
          963,
          964,
          965,
          966,
          967,
          968,
          969,
          970,
          971,
          972,
          973,
          974,
          975,
          976,
          978,
          979,
          980,
          981,
          982,
          983,
          984,
          985,
          986,
          987,
          988,
          989,
          990,
          991,
          992,
          993,
          994,
          995,
          996,
          997,
          998,
          999,
          1000,
          1001,
          1002,
          1003,
          1004,
          1005,
          1006,
          1007,
          1008,
          1009,
          1010,
          1011,
          1012,
          1013,
          1014,
          1015,
          1016,
          1017,
          1018,
          1019,
          1020,
          1021,
          1022,
          1023,
          1024,
          1025,
          1026,
          1027,
          1028,
          1029,
          1030,
          1031,
          1032,
          1033,
          1034,
          1035,
          1036,
          1037,
          1038,
          1039,
          1040,
          1041,
          1042,
          1043,
          1044,
          1045,
          1046,
          1047,
          1048,
          1049,
          1050,
          1051,
          1052,
          1053,
          1054,
          1055,
          1056,
          1057,
          1058,
          1059,
          1060,
          1061,
          1062,
          1063,
          1064,
          1065,
          1066,
          1067,
          1068,
          1069,
          1070,
          1071,
          1072,
          1073,
          1074,
          1075,
          1076,
          1077,
          1078,
          1079,
          1080,
          1081,
          1082,
          1083,
          1084,
          1085,
          1086,
          1087,
          1088,
          1089,
          1090,
          1091,
          1092,
          1093,
          1094,
          1095,
          1096,
          1097,
          1098,
          1099,
          1100,
          1101,
          1102,
          1103,
          1104,
          1105,
          1106,
          1107,
          1108,
          1109,
          1110,
          1111,
          1112,
          1113,
          1114,
          1115,
          1116,
          1117,
          1118,
          1119,
          1120,
          1121,
          1122,
          1123,
          1124,
          1125,
          1126,
          1127,
          1128,
          1129,
          1130,
          1131,
          1132,
          1133,
          1134,
          1135,
          1136,
          1137,
          1138,
          1139,
          1140,
          1141,
          1142,
          1143,
          1144,
          1145,
          1146,
          1147,
          1148,
          1149,
          1150,
          1151,
          1152,
          1153,
          1154,
          1155,
          1156,
          1157,
          1158,
          1159,
          1160,
          1161,
          1162,
          1163,
          1164,
          1165,
          1166,
          1167,
          1168,
          1169,
          1170,
          1171,
          1172,
          1173,
          1174,
          1175,
          1176,
          1177,
          1178,
          1179,
          1180,
          1181,
          1182,
          1183,
          1184,
          1185,
          1186,
          1187,
          1188,
          1189,
          1190,
          1191,
          1192,
          1193,
          1194,
          1195,
          1196,
          1197,
          1198,
          1199,
          1200,
          1201,
          1202,
          1203,
          1204,
          1205,
          1206,
          1207,
          1208,
          1209,
          1210,
          1211,
          1212,
          1213,
          1214,
          1215,
          1216,
          1217,
          1218,
          1219,
          1220,
          1221,
          1222,
          1223,
          1224,
          1225,
          1226,
          1227,
          1229,
          1230,
          1231,
          1232,
          1233,
          1234,
          1235,
          1236,
          1237,
          1238,
          1239,
          1240,
          1241,
          1242,
          1243,
          1244,
          1245,
          1246,
          1247,
          1248,
          1249,
          1250,
          1251,
          1252,
          1253,
          1254,
          1255,
          1256,
          1257,
          1258,
          1259,
          1260,
          1261,
          1262,
          1263,
          1264,
          1265,
          1266,
          1267,
          1268,
          1269,
          1270,
          1271,
          1272,
          1273,
          1274,
          1275,
          1276,
          1277,
          1278,
          1279,
          1280,
          1281,
          1282,
          1283,
          1284,
          1285,
          1286,
          1287,
          1288,
          1289,
          1290,
          1291,
          1292,
          1293,
          1294,
          1295,
          1296,
          1297,
          1298,
          1299,
          1300,
          1301,
          1302,
          1303,
          1304,
          1305,
          1306,
          1307,
          1308,
          1309,
          1310,
          1311,
          1312,
          1313,
          1314,
          1315,
          1316,
          1317,
          1318,
          1319,
          1320,
          1321,
          1322,
          1323,
          1324,
          1325,
          1326,
          1327,
          1328,
          1329,
          1330,
          1331,
          1332,
          1333,
          1334,
          1335,
          1336,
          1337,
          1338,
          1339,
          1340,
          1341,
          1342,
          1343,
          1344,
          1345,
          1346,
          1347,
          1348,
          1349,
          1350,
          1351,
          1352,
          1353,
          1354,
          1355,
          1356,
          1357,
          1358,
          1359,
          1360,
          1361,
          1362,
          1363,
          1364,
          1365,
          1366,
          1367,
          1368,
          1369,
          1370,
          1371,
          1372,
          1373,
          1374,
          1375,
          1376,
          1377,
          1378,
          1379,
          1380,
          1381,
          1382,
          1383,
          1384,
          1385,
          1386,
          1387,
          1388,
          1389,
          1390,
          1391,
          1392,
          1393,
          1394,
          1395,
          1396,
          1397,
          1398,
          1399,
          1400,
          1401,
          1402,
          1403,
          1404,
          1405,
          1406,
          1407,
          1408,
          1409,
          1410,
          1411,
          1412,
          1413,
          1414,
          1415,
          1416,
          1417,
          1418,
          1419,
          1420,
          1421,
          1422,
          1423,
          1424,
          1425,
          1426,
          1427,
          1428,
          1429,
          1430,
          1431,
          1432,
          1433,
          1434,
          1435,
          1436,
          1437,
          1438,
          1439,
          1440,
          1441,
          1442,
          1443,
          1444,
          1445,
          1446,
          1447,
          1448,
          1449,
          1450,
          1451,
          1452,
          1453,
          1454,
          1455,
          1456,
          1457,
          1458,
          1459,
          1460,
          1461,
          1462,
          1463,
          1464,
          1465,
          1466,
          1467,
          1468,
          1469,
          1470,
          1471,
          1472,
          1473,
          1474,
          1475,
          1476,
          1477,
          1478,
          1479,
          1480,
          1481,
          1482,
          1483,
          1484,
          1485,
          1486,
          1487,
          1488,
          1489,
          1490,
          1491,
          1492,
          1493,
          1494,
          1495,
          1496,
          1497,
          1498,
          1499,
          1500,
          1501,
          1502,
          1503,
          1504,
          1505,
          1506,
          1508,
          1509,
          1510,
          1511,
          1512,
          1513,
          1514,
          1515,
          1516,
          1517,
          1518,
          1519,
          1520,
          1521,
          1522,
          1523,
          1524,
          1525,
          1526,
          1527,
          1528,
          1529,
          1530,
          1531,
          1532,
          1533,
          1534,
          1535,
          1536,
          1537,
          1538,
          1539,
          1540,
          1541,
          1542,
          1543,
          1544,
          1545,
          1546,
          1547,
          1548,
          1549,
          1550,
          1551,
          1552,
          1553,
          1554,
          1555,
          1556,
          1557,
          1558,
          1559,
          1560,
          1561,
          1562,
          1563,
          1564,
          1565,
          1566,
          1567,
          1568,
          1569,
          1570,
          1571,
          1572,
          1573,
          1574,
          1575,
          1576,
          1577,
          1578,
          1579,
          1580,
          1581,
          1582,
          1583,
          1584,
          1585,
          1586,
          1587,
          1588,
          1589,
          1590,
          1591,
          1592,
          1593,
          1594,
          1595,
          1596,
          1597,
          1598,
          1599,
          1600,
          1601,
          1602,
          1603,
          1604,
          1605,
          1606,
          1607,
          1608,
          1609,
          1610,
          1611,
          1612,
          1613,
          1614,
          1615,
          1616,
          1617,
          1618,
          1619,
          1620,
          1621,
          1622,
          1623,
          1624,
          1625,
          1626,
          1627,
          1628,
          1629,
          1630,
          1631,
          1632,
          1633,
          1634,
          1635,
          1636,
          1637,
          1638,
          1639,
          1640,
          1641,
          1642,
          1643,
          1644,
          1645,
          1646,
          1647,
          1648,
          1649,
          1650,
          1651,
          1652,
          1653,
          1654,
          1655,
          1656,
          1657,
          1658,
          1659,
          1660,
          1661,
          1662,
          1663,
          1664,
          1665,
          1666,
          1667,
          1668,
          1669,
          1670,
          1671,
          1672,
          1673,
          1674,
          1675,
          1676,
          1677,
          1678,
          1679,
          1680,
          1681,
          1682,
          1683,
          1684,
          1685,
          1686,
          1687,
          1688,
          1689,
          1690,
          1691,
          1692,
          1693,
          1694,
          1695,
          1696,
          1697,
          1698,
          1699,
          1700,
          1701,
          1702,
          1703,
          1704,
          1705,
          1706,
          1707,
          1708,
          1709,
          1710,
          1711,
          1712,
          1713,
          1714,
          1715,
          1716,
          1717,
          1718,
          1719,
          1720,
          1721,
          1722,
          1723,
          1724,
          1725,
          1726,
          1727,
          1728,
          1730,
          1731,
          1732,
          1733,
          1734,
          1735,
          1736,
          1737,
          1738,
          1739,
          1740,
          1741,
          1742,
          1743,
          1744,
          1745,
          1746,
          1747,
          1748,
          1749,
          1750,
          1751,
          1752,
          1753,
          1754,
          1755,
          1756,
          1757,
          1758,
          1759,
          1760,
          1761,
          1762,
          1763,
          1764,
          1765,
          1766,
          1767,
          1768,
          1769,
          1770,
          1771,
          1772,
          1773,
          1775,
          1776,
          1777,
          1778,
          1779,
          1780,
          1781,
          1782,
          1783,
          1784,
          1785,
          1786,
          1787,
          1788,
          1789,
          1790,
          1791,
          1792,
          1793,
          1794,
          1795,
          1796,
          1797,
          1798,
          1799,
          1800,
          1801,
          1802,
          1803,
          1804,
          1805,
          1806,
          1807,
          1808,
          1809,
          1810,
          1811,
          1812,
          1813,
          1814,
          1815,
          1816,
          1817,
          1818,
          1819,
          1820,
          1821,
          1822,
          1823,
          1824,
          1825,
          1826,
          1827,
          1828,
          1829,
          1830,
          1831,
          1832,
          1833,
          1834,
          1835,
          1836,
          1837,
          1838,
          1839,
          1840,
          1841,
          1842,
          1843,
          1844,
          1845,
          1846,
          1847,
          1848,
          1849,
          1850,
          1851,
          1852,
          1853,
          1854,
          1855,
          1856,
          1857,
          1858,
          1859,
          1861,
          1862,
          1863,
          1864,
          1865,
          1866,
          1867,
          1868,
          1869,
          1870,
          1871,
          1872,
          1873,
          1874,
          1875,
          1876,
          1877,
          1878,
          1879,
          1880,
          1881,
          1882,
          1883,
          1884,
          1885,
          1886,
          1887,
          1888,
          1889,
          1890,
          1891,
          1892,
          1893,
          1894,
          1895,
          1896,
          1897,
          1898,
          1899,
          1900,
          1901,
          1902,
          1903,
          1904,
          1905,
          1906,
          1907,
          1908,
          1909,
          1910,
          1911,
          1912,
          1913,
          1914,
          1915,
          1916,
          1917,
          1918,
          1919,
          1920,
          1921,
          1922,
          1923,
          1924,
          1925,
          1926,
          1927,
          1928,
          1929,
          1930,
          1931,
          1932,
          1933,
          1934,
          1936,
          1937,
          1938,
          1939,
          1940,
          1941,
          1942,
          1944,
          1945,
          1946,
          1947,
          1948,
          1949,
          1950,
          1951
         ],
         "y": [
          13.01,
          6362.85,
          211.15,
          1164.45,
          22.23,
          13.99,
          14.26,
          33.47,
          379.53,
          18.8,
          945.99,
          455.77,
          231.79,
          1876.69,
          293.06,
          914.29,
          67.49,
          2.25,
          54.78,
          424.68,
          40.17,
          783.55,
          3838.14,
          58.68,
          53.1,
          647.07,
          627.04,
          3267.55,
          110.19,
          73.55,
          29.57,
          22.85,
          506.39,
          4,
          589.8,
          1225.6,
          1239.06,
          4083.19,
          4902.38,
          5718.85,
          1400.53,
          1821.89,
          90.98,
          10728,
          3127.69,
          41.82,
          2875.72,
          170.8,
          53.54,
          3363.53,
          132.08,
          45.34,
          216.04,
          6276.34,
          2664.4,
          1526.68,
          1952.56,
          303.59,
          9459.94,
          1233.32,
          47.31,
          2441.27,
          11.13,
          29.5,
          58.33,
          20.42,
          26.07,
          122.23,
          228.46,
          77.61,
          99.94,
          59.85,
          1708.73,
          94.97,
          10.23,
          217.23,
          101.74,
          84.52,
          312.59,
          64.4,
          14.65,
          453.62,
          193.59,
          929.57,
          62.46,
          28.11,
          5.5,
          667.84,
          292.23,
          772.56,
          1050.08,
          33.82,
          715.55,
          45.63,
          1839.91,
          130.62,
          6945.16,
          30.94,
          3.42,
          901.81,
          186.59,
          250.5,
          221.24,
          46.65,
          164.71,
          79.68,
          53.26,
          203.49,
          2356.01,
          224.12,
          140.3,
          28.2,
          71.55,
          3108.98,
          12599.55,
          34.65,
          85.79,
          17.61,
          27.3,
          64.75,
          62.98,
          21.2,
          173.32,
          42.29,
          730.37,
          450.49,
          58.8,
          120.47,
          1599.96,
          197.59,
          33.04,
          27.45,
          4775.11,
          57.41,
          2809.87,
          79.93,
          873.18,
          798.69,
          792.11,
          28.73,
          109.74,
          1543.55,
          1332.82,
          34.64,
          52.47,
          26.38,
          304.34,
          1300.81,
          67.86,
          747.28,
          18.67,
          210.77,
          209.12,
          1287.17,
          46.17,
          899.81,
          68.46,
          885.23,
          836.47,
          189.83,
          61.52,
          8.3,
          416.95,
          18.71,
          40.95,
          1155.73,
          192.3,
          748.1,
          102.54,
          70.16,
          1240.57,
          280.62,
          3206.94,
          43.08,
          66.55,
          103.49,
          192.18,
          89.76,
          28.46,
          1170.21,
          243.32,
          8.53,
          40.3,
          111.88,
          73.97,
          111.86,
          18.49,
          212.89,
          5555.6,
          55.54,
          1440.34,
          84.76,
          104.84,
          1714.93,
          107.95,
          1967.98,
          394.1,
          266.39,
          51.82,
          9539.6,
          109.86,
          1426.51,
          2331.9,
          27.47,
          460.87,
          394.51,
          38.65,
          279.83,
          126.9,
          22.82,
          188.66,
          1845.23,
          37.16,
          43.65,
          31.44,
          64.59,
          461.94,
          1216.32,
          1989.32,
          72.76,
          400.47,
          1531.31,
          919.09,
          236.46,
          73.82,
          243.11,
          952.26,
          355.92,
          101.71,
          1766.68,
          29.02,
          159.51,
          1838.85,
          35.48,
          434.31,
          19.86,
          23.26,
          51.83,
          32.4,
          492.9,
          1081.54,
          1132.84,
          143.63,
          73.04,
          33.35,
          60.24,
          718.03,
          179.51,
          73.18,
          8.82,
          5976.09,
          8.77,
          20.87,
          25.7,
          229.57,
          66.7,
          217,
          31670.6,
          239.82,
          66.71,
          87.16,
          101.26,
          17.4,
          52.93,
          8637.44,
          59.95,
          5062.49,
          646.97,
          946.29,
          123,
          152.54,
          89.79,
          199.76,
          480.37,
          5.76,
          3112.13,
          2589.01,
          1893.93,
          211.13,
          25.39,
          87.27,
          403.25,
          414.49,
          469.69,
          8585.67,
          57.37,
          66.32,
          18.75,
          188.51,
          6720.88,
          102.21,
          31.18,
          267.53,
          43046.2,
          330.21,
          6831.37,
          10331.09,
          83.86,
          1707.84,
          66.88,
          274.91,
          1128.74,
          805.99,
          1066.54,
          65.74,
          5.84,
          405.57,
          32.6,
          515.88,
          25.06,
          578.24,
          116.93,
          170.45,
          285.87,
          20.37,
          17.44,
          702.68,
          67.24,
          24.27,
          38.53,
          4910.72,
          116.8,
          32.39,
          227.79,
          5679.59,
          102.32,
          1494.63,
          46.23,
          279.28,
          70.06,
          81.82,
          13.16,
          205.98,
          31.46,
          948.97,
          136.99,
          99.36,
          9580,
          28.32,
          2309.49,
          1232.01,
          506.38,
          1042.72,
          1769.91,
          6686.34,
          4620.05,
          1912.98,
          4170.87,
          818.81,
          34.11,
          154.71,
          192.33,
          6901.25,
          148.94,
          200.68,
          29.92,
          19.73,
          615.54,
          261.34,
          202.41,
          793.39,
          54.04,
          832.14,
          221.06,
          58.67,
          101.06,
          1429.81,
          34.97,
          308.86,
          485.01,
          81.14,
          10.11,
          6621.17,
          253.78,
          69.96,
          2716.09,
          21.34,
          17.42,
          49.81,
          3722.41,
          95.1,
          734.74,
          1882.87,
          8834.58,
          78.54,
          605.1,
          355.84,
          1346.32,
          292.18,
          322.03,
          2470.84,
          5250.66,
          1423.35,
          1154.12,
          32.5,
          193.95,
          158.8,
          274.26,
          83.16,
          261.93,
          210.1,
          6499.87,
          351.56,
          87.89,
          6.5,
          68.56,
          20.79,
          67.91,
          40.37,
          122.25,
          206.09,
          66.9,
          43.13,
          11.21,
          100.38,
          66.32,
          1178.32,
          2016.32,
          612.25,
          313.63,
          397.17,
          63.48,
          47.64,
          1545.58,
          2104.99,
          353.1,
          257.52,
          411.64,
          17.59,
          141.54,
          905.4,
          243.86,
          39.97,
          92.96,
          1362.2,
          336.64,
          429.33,
          44.66,
          1619.95,
          56.44,
          56.73,
          64.41,
          344.57,
          279.01,
          614.99,
          76.23,
          99.92,
          79.4,
          15.49,
          18.59,
          834.08,
          50.88,
          958.46,
          368.84,
          30.86,
          568.25,
          126.66,
          93.82,
          8332.91,
          5.9,
          80.23,
          2044.9,
          53.3,
          21.93,
          28.46,
          89.91,
          138.51,
          41.96,
          300.63,
          240.46,
          74.08,
          5.28,
          50.83,
          39.26,
          606.51,
          64.89,
          267.2,
          86.79,
          292.37,
          682.79,
          125.77,
          31.24,
          74.77,
          127.81,
          78.59,
          497.11,
          27.02,
          27.67,
          1033.56,
          19.97,
          660.03,
          199.12,
          63.14,
          44.85,
          49.78,
          16.62,
          517.68,
          573.31,
          140.23,
          594.44,
          228.5,
          191.1,
          28.05,
          151.77,
          57.13,
          116.92,
          151.6,
          31.73,
          85.26,
          16.6,
          2285.41,
          513.52,
          346.52,
          499.31,
          73.1,
          2115.06,
          47.95,
          134.38,
          76.77,
          782,
          15.73,
          1719.07,
          8.41,
          104.95,
          166.59,
          396.19,
          98.7,
          1782.44,
          72.11,
          124.81,
          881.32,
          41.6,
          1497.22,
          244.81,
          4.55,
          27.63,
          31.21,
          1214.03,
          3.51,
          120.12,
          7.01,
          1452.18,
          619.38,
          18.69,
          8.8,
          477.2,
          2848.38,
          38.58,
          810.47,
          72.83,
          63.66,
          127.22,
          432.44,
          12.18,
          950.43,
          25.37,
          6963.67,
          160.17,
          7.47,
          370.81,
          119.99,
          650.7,
          11.41,
          680.39,
          75.52,
          2354.54,
          79.06,
          65.14,
          640.71,
          659.6,
          1137.6,
          151.55,
          57.03,
          347.23,
          478.23,
          93.82,
          1670.33,
          100.59,
          598.38,
          39.36,
          322.77,
          65.09,
          98.96,
          13546.94,
          6401.65,
          617.4,
          157.78,
          26.31,
          209.78,
          17.83,
          2527.79,
          121.87,
          659.42,
          403.53,
          55.17,
          377.44,
          286.4,
          664.34,
          473.53,
          220.92,
          196.41,
          54.08,
          47.18,
          30.87,
          309.05,
          299.3,
          45.24,
          51.02,
          2291.39,
          9492.92,
          318.47,
          586.96,
          11272.77,
          144.33,
          270.55,
          79.62,
          479.79,
          108.99,
          3527.82,
          4698.21,
          43.08,
          258.93,
          277.6,
          168.04,
          703.46,
          103.61,
          3144.56,
          2653.02,
          66.81,
          90.52,
          55.97,
          311.66,
          9862.51,
          177.41,
          406.91,
          1332.09,
          105.5,
          101.73,
          37.7,
          75.81,
          2630,
          333.02,
          27.76,
          3855.28,
          192.49,
          2560.55,
          227.67,
          8.83,
          34.41,
          157.27,
          1013.84,
          110.75,
          181.46,
          1076.3,
          21.46,
          3506.78,
          267.69,
          39.15,
          266.95,
          20552.55,
          87.8,
          3741.39,
          149.32,
          177.01,
          35.16,
          88.84,
          696.96,
          149.41,
          4556.63,
          2948.61,
          517.85,
          2373.32,
          325.73,
          127.94,
          1350.94,
          75.17,
          1125.76,
          746.03,
          593.33,
          13.05,
          58.95,
          3672.89,
          374.81,
          43.27,
          11.74,
          5258.94,
          66.74,
          1282.67,
          208.83,
          228.3,
          129.53,
          55.68,
          568.24,
          162.91,
          97.65,
          1018.61,
          24.52,
          5775.81,
          1878.24,
          1634.67,
          9280.72,
          1348.83,
          564.98,
          129.48,
          8216.28,
          152.11,
          35.97,
          85.64,
          2508.15,
          225.62,
          610.65,
          699.24,
          2346.03,
          33.77,
          172.79,
          19.66,
          604.35,
          3.13,
          38.65,
          378.23,
          7.15,
          29.85,
          69.75,
          852.53,
          219.66,
          81.9,
          2343.34,
          327.61,
          1054.69,
          4429.69,
          878.34,
          676.57,
          459.55,
          536.9,
          8.74,
          182.33,
          131.26,
          240.6,
          236.88,
          2710.47,
          8354.73,
          48.3,
          58.81,
          47.38,
          637.76,
          2156.06,
          761.16,
          682.68,
          73.44,
          2997.07,
          282.85,
          20.03,
          84.56,
          70.71,
          51.86,
          56.24,
          627.78,
          283.44,
          8.3,
          10.04,
          981.65,
          1748.69,
          119.29,
          3.08,
          69.46,
          1145.72,
          26.37,
          53.44,
          57.34,
          79.02,
          25.45,
          110.72,
          46.94,
          26.18,
          28.66,
          123.18,
          1533.59,
          2.77,
          31.55,
          42.58,
          145.36,
          3616.52,
          7.96,
          389.59,
          447.89,
          1420.84,
          111.97,
          355.21,
          536.23,
          38.81,
          2144.92,
          484.56,
          471.21,
          182.61,
          36.58,
          2376.12,
          1020.08,
          65.2,
          22.59,
          121.36,
          2013.67,
          1824.33,
          107.65,
          165.21,
          25.15,
          4285.56,
          631.37,
          267.83,
          21.46,
          2767.95,
          123.03,
          431.84,
          2366.51,
          291.64,
          252.36,
          575.07,
          1781.66,
          940.64,
          439.27,
          4410.19,
          552.89,
          621.56,
          88.83,
          307.65,
          76.91,
          151.34,
          290.24,
          971.4,
          193.51,
          157.81,
          19.44,
          4636.63,
          739.07,
          157.64,
          42.16,
          14.08,
          256.73,
          18.59,
          58.83,
          1557.66,
          129.43,
          61.39,
          2435.52,
          464.86,
          288.67,
          1030.51,
          2026.91,
          115.53,
          162.39,
          1316.03,
          1395.41,
          4920.81,
          28.22,
          74.01,
          48.1,
          11015.82,
          300.67,
          723.54,
          87.53,
          172.22,
          894.88,
          16.67,
          195.16,
          879.62,
          361.19,
          1088.26,
          105.75,
          63.93,
          391.4,
          14.53,
          144.03,
          48.81,
          7360.2,
          89.06,
          134.97,
          17.42,
          19.12,
          186.64,
          3.53,
          706.56,
          13121.07,
          110.93,
          118.35,
          17.31,
          23.56,
          494.49,
          158.13,
          163.01,
          333.04,
          472.44,
          18.73,
          2427.18,
          434.85,
          19.16,
          1959.88,
          710.16,
          48.25,
          243.24,
          38.54,
          1483.16,
          562.93,
          29.18,
          1634.13,
          214.14,
          100.79,
          35.97,
          735.7,
          225.59,
          145.12,
          94.27,
          82.21,
          417.47,
          1104.32,
          149.8,
          6.97,
          367.52,
          1576.35,
          52.16,
          4881.84,
          926.3,
          942.53,
          276.64,
          514.62,
          817.32,
          284.48,
          225.98,
          72.77,
          57.7,
          19.67,
          514.79,
          893.53,
          2053.6,
          37.89,
          343.79,
          188.09,
          129.54,
          49.44,
          14.29,
          45.28,
          13.57,
          55.48,
          5319.35,
          30.44,
          3251.76,
          22.48,
          267.32,
          284.39,
          974.14,
          128.13,
          464.94,
          2188.06,
          320.93,
          261.85,
          1834.61,
          261.56,
          114.81,
          546.21,
          272.86,
          2119.54,
          45737.33,
          438.25,
          561.06,
          11434.33,
          3229.24,
          101.13,
          451.83,
          20.24,
          1486.34,
          406.26,
          52.1,
          45.87,
          256.77,
          605.82,
          1569,
          151.46,
          10.19,
          64.19,
          118.57,
          79.47,
          627.28,
          1160.42,
          103.37,
          40.22,
          52.43,
          818.49,
          410.17,
          269.54,
          106.57,
          38.41,
          131.34,
          251.61,
          287.99,
          46.86,
          658.62,
          21.96,
          24.57,
          1008.53,
          6968.9,
          41.29,
          88.64,
          1300.54,
          38.06,
          1263.35,
          202.38,
          56.38,
          119.13,
          809.51,
          643.64,
          244.31,
          466.58,
          2290.69,
          337.59,
          10.65,
          55.13,
          215.32,
          382.85,
          44.8,
          100.99,
          142.06,
          58.52,
          363.74,
          15.93,
          21.28,
          675.83,
          28,
          535.08,
          222.71,
          220.52,
          68.34,
          522.22,
          28.01,
          80.35,
          99.69,
          152.49,
          320.75,
          11.35,
          7029.1,
          1059.38,
          2233.46,
          928.92,
          3845.35,
          3.77,
          343.54,
          3627.08,
          8.34,
          63.32,
          83.72,
          1011.44,
          132.23,
          210.33,
          168.04,
          882.93,
          1757.15,
          1786.04,
          34.76,
          561.65,
          413.73,
          55.6,
          2099.61,
          96.6,
          558.17,
          8.39,
          559.43,
          1216.52,
          1058.36,
          18.31,
          4935.22,
          51.03,
          746.91,
          77.47,
          204.34,
          206.04,
          475.42,
          3598.82,
          41.22,
          875.39,
          8.24,
          641.11,
          35.48,
          2130.04,
          82.8,
          99.02,
          46.4,
          551.51,
          142.79,
          585.08,
          72.75,
          269.33,
          377,
          42.99,
          65.69,
          2748.21,
          93.19,
          363.37,
          480.75,
          16.88,
          925.19,
          408.66,
          122.93,
          32.66,
          14.85,
          45,
          6569.07,
          88.22,
          40.29,
          151.27,
          10.51,
          74.93,
          1370.99,
          1913.84,
          2692.12,
          762.38,
          36.72,
          305.71,
          277.12,
          100.11,
          31.54,
          4634.69,
          7304.03,
          632.65,
          290.98,
          21.77,
          384.22,
          31.64,
          565.36,
          32.76,
          336.92,
          114.91,
          934.52,
          260.66,
          4249.37,
          6676.61,
          291.4,
          146.5,
          38.98,
          34.16,
          120.34,
          153.61,
          1414.88,
          33.63,
          1063.81,
          242.7,
          3377.06,
          123.93,
          93.96,
          1818.41,
          8.95,
          652.84,
          12750.99,
          20.54,
          7840.04,
          1094.33,
          389.97,
          84.59,
          9666.72,
          134.58,
          33.65,
          66.12,
          3.07,
          255.83,
          421.18,
          1377.46,
          6600.63,
          1811.99,
          799.76,
          609.09,
          2761.94,
          33.95,
          302.34,
          334.44,
          556.61,
          64.48,
          4845.27,
          19.68,
          9798.84,
          154.11,
          242.97,
          200.61,
          237.83,
          53.02,
          248.84,
          7.21,
          253.87,
          5880.46,
          577.25,
          4075.18,
          1798.23,
          727.2,
          6173.42,
          1553.7,
          18.68,
          36.3,
          16.03,
          25.35,
          19.32,
          86.8,
          381.91,
          761.67,
          5014.07,
          186.19,
          1227.94,
          294.97,
          2458.05,
          2465.75,
          650.25,
          272.12,
          428.85,
          342.54,
          27.96,
          1635.38,
          58.48,
          40.05,
          1117.66,
          807,
          169.46,
          5768.12,
          55.25,
          551.22,
          83.93,
          990.25,
          14.76,
          808.44,
          67.41,
          55.08,
          1608.11,
          99.75,
          51.41,
          68.72,
          618.96,
          77.54,
          361.72,
          1373.47,
          91.92,
          73.29,
          2961.32,
          87.11,
          170.46,
          4.95,
          461.24,
          577.75,
          59.4,
          66.46,
          35.35,
          248.21,
          4086.5,
          375.03,
          22.11,
          2875.35,
          78.08,
          2013.88,
          201.32,
          298.51,
          3846.06,
          35.93,
          1610.84,
          86.12,
          76.87,
          374.6,
          61.87,
          48.88,
          21.56,
          164.67,
          72.74,
          418.75,
          469.59,
          136.25,
          558.41,
          290.22,
          1129.67,
          2439.37,
          92.02,
          283.55,
          9757.48,
          850.64,
          1159.79,
          20.22,
          1548.97,
          337.86,
          84.21,
          38.74,
          134.09,
          191.73,
          618.85,
          115.99,
          19.46,
          44.75,
          9.23,
          96.13,
          73.96,
          1805.9,
          311.41,
          3707.05,
          2805.18,
          80.86,
          1096.63,
          632.12,
          1302.98,
          131.79,
          35.33,
          674.55,
          1721.24,
          668.38,
          324.62,
          40.93,
          53.42,
          8.49,
          69.89,
          77.42,
          7.2,
          61.29,
          109.15,
          1477.84,
          29.08,
          1162.46,
          109.86,
          5911.35,
          4649.85,
          2259.99,
          42.46,
          314.06,
          1009.99,
          92.16,
          16.5,
          1202.66,
          196.69,
          40.28,
          904.31,
          96.86,
          765.65,
          8.72,
          6355.69,
          28.09,
          1130.15,
          54.37,
          100.87,
          1857.08,
          42.56,
          414.91,
          91.39,
          202.29,
          168.71,
          885.65,
          152.05,
          49.1,
          246.44,
          199.08,
          2039.07,
          436.94,
          37.38,
          47.4,
          260,
          709.7,
          27.42,
          739.06,
          30.47,
          96.96,
          4.21,
          3550.28,
          1188.63,
          1009.93,
          140.7,
          15.95,
          42.35,
          63.78,
          451.61,
          10.41,
          2849.64,
          38.04,
          42.53,
          14.77,
          438.33,
          38.11,
          169.46,
          724.57,
          51.13,
          79.61,
          109.99,
          900.12,
          237.62,
          176.42,
          2084.16,
          43.41,
          46.42,
          1140.95,
          42.69,
          327.41,
          3786.84,
          2012.11,
          471.66,
          662.8,
          119.86,
          2651.21,
          38.96,
          8048.45,
          1939.03,
          457.63,
          170.75,
          1339.42,
          8.66,
          10554.63,
          1749.64,
          355.4,
          148.36,
          2814.57,
          88.85,
          70.82,
          90.44,
          10.72,
          10180.01,
          42.44,
          462.57,
          125.37,
          190.85,
          370.68,
          2400.95,
          7303.05,
          58.05,
          68.64,
          277.07,
          51.99,
          149.67,
          61.1,
          193.81,
          257.48,
          3194.99,
          202.98,
          10.86,
          1477.57,
          382.29,
          881.74,
          7384.18,
          448.26,
          95.57,
          214.48,
          1790.1,
          110.68,
          385.45,
          19.32,
          30.1,
          261.21,
          42.79,
          1828.22,
          29.77,
          147.19,
          39.17,
          87.85,
          7429.63,
          224.29,
          51.2,
          29718.53,
          197.48,
          46.85,
          93.57,
          2694.49,
          174.5,
          26.01,
          1527.97,
          110.86,
          97.98,
          127.83,
          289.88,
          4354.55,
          146.17,
          42.02,
          3705.14,
          945.36,
          49.24,
          68.45,
          44.75,
          40.69,
          130.11,
          337.34,
          280.43,
          103.39,
          435.39,
          1051.52,
          25.85,
          119.37,
          257.92,
          207.22,
          237.8,
          448.47,
          1000.26,
          2184.99,
          1191.2,
          165.71,
          1277.49,
          14.2,
          52.21,
          170.32,
          203.29,
          759.88,
          94.2,
          34.32,
          392.45,
          511.25,
          29.88,
          356.92,
          136.16,
          130.74,
          49.87,
          24.18,
          27587.55,
          1191.58,
          6938.19,
          419.27,
          36,
          11.78,
          20.96,
          26.66,
          29.55,
          1237.4,
          17.64,
          74.23,
          627.19,
          612.92,
          29.08,
          2569.57,
          78.99,
          1345.33,
          15.19,
          59.49,
          57.84,
          1425.71,
          25.26,
          736.16,
          31.96,
          98.17,
          264.95,
          53.21,
          122.8,
          282.38,
          924.8,
          821.17,
          194.08,
          237.77,
          316.28,
          2591.09,
          150.24,
          10364.36,
          657.61,
          241.97,
          120.81,
          41.4,
          159.53,
          536.29,
          10.96,
          4146.28,
          3902.09,
          14.18,
          2118.99,
          837.64,
          345.07,
          5.48,
          8201.33,
          22.67,
          393.98,
          19.29,
          5.21,
          22.92,
          30.9,
          2363.08,
          328.45,
          386.61,
          43.94,
          43.31,
          284.34,
          3913.02,
          180.14,
          364.92,
          12.16,
          147.56,
          113.68,
          281.75,
          240.05,
          87.21,
          40.15,
          90.46,
          467.03,
          608.81,
          808.61,
          637.37,
          232.16,
          360.03,
          260.01,
          273.79,
          44.62,
          268.64,
          87.68,
          37.62,
          832.97,
          1042.54,
          76.16,
          1038.14,
          6296,
          8.79,
          2051.68,
          5295.03,
          80.27,
          3292.02,
          199.43,
          110.71,
          56.68,
          273.34,
          226.88,
          5220.48,
          113.44,
          66.02,
          33.02,
          2273.1,
          19.49,
          5845.81,
          633.85,
          107.51,
          421.08,
          77.2,
          5587.89,
          159.89,
          180.48,
          350.48,
          936.8,
          232.5,
          7497.05,
          1336.35,
          1724.01,
          59.79,
          240.21,
          1785.01,
          318.18,
          38.89,
          45.12,
          90.45,
          2125.12,
          45.05,
          7045.02,
          370.62,
          904.25,
          16.31,
          364.26,
          16.07,
          25.26,
          581.08,
          27.53,
          32.33,
          642.06,
          1068.6,
          99.75,
          226.53,
          68.65,
          236.83,
          1944.87,
          135.77,
          55.43,
          20.46,
          931.87,
          21.41,
          59.75,
          162.49,
          819.4,
          1809.75,
          70.03,
          102.43,
          137.76,
          326.03,
          379.72,
          48.33,
          34.91,
          47.04,
          10.94,
          731.38,
          344.87,
          523.06,
          2424.68,
          2411.43,
          1278.96,
          25.22,
          34.73,
          247.53,
          23.89,
          454.4,
          14.53,
          15.65,
          111.92,
          1700.38,
          35.96,
          141.59,
          203.05,
          56.19,
          40.8,
          117.87,
          1503.05,
          382.33,
          356.61,
          1506.89,
          92.29,
          82.29,
          203.37,
          160.66,
          107.08,
          9705.46,
          3247.54,
          5582.63,
          2426.36,
          824,
          1347.53,
          11.16,
          45.22,
          52.93,
          75.61,
          67.64,
          240.42,
          184.4,
          3802.01,
          1181.67,
          29.93,
          171.33,
          84.04,
          251.06,
          1173.76,
          50.28,
          2570.45,
          158.87,
          56.71,
          5086.08,
          1894.45,
          200.72,
          36.82,
          84.6,
          296.75,
          582.2,
          171.93,
          35.19,
          2037.69,
          722.1,
          140.78,
          129.72,
          12190.98,
          1483.76,
          87.18,
          798.89,
          133.19,
          97.33,
          130.91,
          281.82,
          991.24,
          119.86,
          98.77,
          2495.35,
          200.83,
          348.08,
          131.69,
          13.93,
          31.71,
          60.01,
          90.98,
          1270.7,
          236.87,
          370.91,
          4976.92,
          574.97,
          115.22,
          456.58,
          2642.48,
          61.5,
          1276.88,
          233.58,
          31.98,
          519.42,
          2382.72,
          64.96,
          19.14,
          25.35,
          45.03,
          153.87,
          2800.33,
          3596.03,
          2353.55,
          92.57,
          7974.21,
          87.1,
          736.86,
          33.84,
          14.9,
          39.64,
          139.49,
          1952.43,
          1370.79,
          3501.79,
          63.04,
          451.35,
          119.6,
          59.9,
          99.22,
          1183.82,
          201.77,
          443.66,
          541.76,
          107.66,
          318.83,
          3600.65,
          3936.61,
          78.31,
          42.46,
          14.66,
          83.14,
          215.25,
          1358.02,
          358.84,
          511.57,
          8.65,
          380,
          199.48,
          93.81,
          312.22,
          43.84,
          141.74,
          8717.75,
          2230.12,
          56.4,
          257.52,
          1488.51,
          801.93,
          44.24,
          79.74,
          392.45,
          48.32,
          332.16,
          147.62,
          125.9,
          768.81,
          183.39,
          12.9,
          17.89,
          255.88,
          378.82,
          152.18,
          53.89,
          1001.02,
          495.82,
          24.44,
          21.86,
          47.12,
          670.9,
          412.72,
          14.52,
          103.18,
          97.96,
          700.41,
          646.88,
          1029.96,
          52.09,
          1794.88,
          765.04,
          127.12,
          5183.89,
          36.09,
          366.26,
          157.99,
          1212.88,
          125.19,
          1867.04,
          537.8,
          119.78,
          12.15,
          288.42,
          511.42,
          200.64,
          17.62,
          80.58,
          25.31,
          369.78,
          57.14,
          498.31,
          431.43,
          57.24,
          824.7,
          58.5,
          131.62,
          121.46,
          356.14,
          27.08,
          65.85,
          50.71,
          45,
          19.02,
          193.87,
          1434.51,
          8549.04,
          2239.03,
          22.13,
          34.17,
          94.3,
          384.22,
          178.68,
          79.39,
          199.53,
          37.05,
          68.88,
          549.85,
          48.99,
          681.42,
          66.65,
          2934.16,
          876.88,
          157.33,
          27.37,
          98.16,
          116.11,
          95,
          837.57,
          56.22,
          758.97,
          84.44,
          29.99,
          1487.9,
          600.4,
          34.25,
          31.45,
          249.07,
          59.22,
          5572.18,
          522.46,
          25.31,
          513.33,
          15.7,
          680.65,
          28.34,
          861.3,
          710.36,
          80.2,
          9252.81,
          207.31,
          143.12,
          59.98,
          135.78,
          506.5
         ]
        },
        {
         "name": "Profit Trend Line",
         "type": "scatter",
         "x": [
          0,
          1,
          2,
          3,
          4,
          5,
          6,
          7,
          8,
          9,
          10,
          11,
          12,
          13,
          14,
          15,
          16,
          17,
          18,
          19,
          20,
          21,
          22,
          23,
          24,
          25,
          26,
          27,
          28,
          29,
          30,
          31,
          32,
          33,
          34,
          35,
          36,
          37,
          38,
          39,
          40,
          41,
          42,
          43,
          44,
          45,
          46,
          47,
          48,
          49,
          50,
          51,
          52,
          53,
          54,
          55,
          56,
          57,
          58,
          59,
          60,
          61,
          62,
          63,
          64,
          65,
          66,
          67,
          68,
          69,
          70,
          71,
          72,
          73,
          74,
          75,
          76,
          77,
          78,
          79,
          80,
          81,
          82,
          83,
          84,
          85,
          86,
          87,
          88,
          89,
          90,
          91,
          92,
          93,
          94,
          95,
          96,
          97,
          98,
          99,
          100,
          101,
          102,
          103,
          104,
          105,
          106,
          107,
          108,
          109,
          110,
          111,
          112,
          113,
          114,
          115,
          116,
          117,
          118,
          119,
          120,
          121,
          122,
          123,
          124,
          125,
          126,
          127,
          128,
          129,
          130,
          131,
          132,
          133,
          134,
          135,
          136,
          137,
          138,
          139,
          140,
          141,
          142,
          143,
          144,
          145,
          146,
          147,
          148,
          149,
          150,
          151,
          152,
          153,
          154,
          155,
          156,
          157,
          158,
          159,
          160,
          161,
          162,
          163,
          164,
          165,
          166,
          167,
          168,
          169,
          170,
          171,
          172,
          173,
          174,
          175,
          176,
          177,
          178,
          179,
          180,
          182,
          183,
          184,
          185,
          186,
          187,
          188,
          189,
          190,
          191,
          192,
          193,
          194,
          195,
          196,
          197,
          198,
          199,
          200,
          201,
          202,
          203,
          204,
          205,
          206,
          207,
          208,
          209,
          210,
          211,
          212,
          213,
          214,
          215,
          216,
          217,
          218,
          219,
          220,
          221,
          222,
          223,
          224,
          225,
          226,
          227,
          228,
          229,
          230,
          231,
          232,
          233,
          234,
          235,
          236,
          237,
          238,
          239,
          240,
          241,
          242,
          243,
          244,
          245,
          246,
          247,
          248,
          249,
          250,
          251,
          252,
          253,
          254,
          255,
          256,
          257,
          258,
          259,
          260,
          261,
          262,
          263,
          264,
          265,
          266,
          267,
          268,
          269,
          270,
          272,
          273,
          274,
          275,
          276,
          277,
          278,
          279,
          280,
          281,
          282,
          283,
          284,
          285,
          286,
          287,
          288,
          289,
          290,
          291,
          292,
          293,
          294,
          295,
          296,
          297,
          298,
          299,
          300,
          301,
          302,
          303,
          304,
          305,
          306,
          307,
          308,
          309,
          310,
          311,
          312,
          313,
          314,
          315,
          316,
          317,
          318,
          319,
          320,
          321,
          322,
          323,
          324,
          325,
          326,
          327,
          328,
          329,
          330,
          331,
          332,
          333,
          334,
          335,
          336,
          337,
          338,
          339,
          340,
          341,
          342,
          343,
          344,
          345,
          346,
          347,
          348,
          349,
          350,
          351,
          352,
          353,
          354,
          355,
          356,
          357,
          358,
          359,
          360,
          361,
          362,
          363,
          364,
          365,
          366,
          367,
          368,
          369,
          370,
          371,
          372,
          373,
          374,
          375,
          376,
          377,
          378,
          379,
          380,
          381,
          382,
          383,
          384,
          385,
          386,
          387,
          388,
          389,
          390,
          391,
          392,
          393,
          394,
          395,
          396,
          397,
          398,
          399,
          400,
          401,
          402,
          403,
          404,
          405,
          406,
          407,
          408,
          409,
          410,
          411,
          412,
          413,
          414,
          415,
          416,
          417,
          418,
          419,
          420,
          421,
          422,
          423,
          424,
          425,
          426,
          427,
          428,
          429,
          430,
          431,
          432,
          433,
          434,
          435,
          436,
          437,
          438,
          439,
          440,
          441,
          442,
          443,
          444,
          445,
          446,
          447,
          448,
          449,
          450,
          451,
          452,
          453,
          454,
          455,
          456,
          457,
          458,
          459,
          460,
          461,
          462,
          463,
          464,
          465,
          466,
          467,
          468,
          469,
          470,
          471,
          472,
          473,
          474,
          475,
          476,
          477,
          478,
          479,
          480,
          481,
          482,
          484,
          485,
          486,
          487,
          488,
          489,
          490,
          491,
          492,
          493,
          494,
          495,
          496,
          497,
          498,
          499,
          500,
          501,
          502,
          503,
          504,
          505,
          506,
          507,
          508,
          509,
          510,
          511,
          512,
          513,
          514,
          515,
          516,
          517,
          518,
          519,
          520,
          521,
          522,
          523,
          524,
          525,
          526,
          527,
          528,
          529,
          530,
          531,
          532,
          533,
          534,
          535,
          536,
          537,
          538,
          539,
          540,
          541,
          542,
          543,
          544,
          545,
          546,
          547,
          548,
          549,
          550,
          551,
          552,
          553,
          554,
          555,
          556,
          557,
          558,
          559,
          560,
          561,
          562,
          563,
          564,
          565,
          566,
          567,
          568,
          569,
          570,
          571,
          572,
          573,
          574,
          575,
          576,
          577,
          578,
          579,
          580,
          581,
          582,
          583,
          584,
          585,
          586,
          587,
          588,
          589,
          590,
          591,
          592,
          593,
          594,
          595,
          596,
          597,
          598,
          599,
          600,
          601,
          602,
          603,
          604,
          605,
          606,
          607,
          608,
          609,
          610,
          611,
          612,
          613,
          614,
          615,
          616,
          617,
          618,
          619,
          620,
          621,
          622,
          623,
          624,
          625,
          626,
          627,
          628,
          629,
          630,
          631,
          632,
          633,
          634,
          635,
          636,
          637,
          638,
          639,
          640,
          641,
          642,
          643,
          644,
          645,
          646,
          647,
          648,
          649,
          650,
          651,
          652,
          653,
          654,
          655,
          656,
          657,
          658,
          659,
          661,
          662,
          663,
          664,
          665,
          666,
          667,
          668,
          669,
          670,
          671,
          672,
          673,
          674,
          675,
          676,
          677,
          678,
          679,
          680,
          681,
          682,
          683,
          684,
          685,
          686,
          687,
          688,
          689,
          690,
          691,
          692,
          693,
          694,
          695,
          696,
          697,
          698,
          699,
          701,
          702,
          703,
          704,
          705,
          706,
          707,
          708,
          709,
          710,
          711,
          712,
          713,
          714,
          715,
          716,
          717,
          718,
          719,
          720,
          721,
          722,
          723,
          724,
          725,
          726,
          728,
          729,
          730,
          731,
          732,
          733,
          735,
          737,
          738,
          739,
          740,
          741,
          742,
          743,
          744,
          745,
          746,
          747,
          748,
          749,
          750,
          751,
          752,
          753,
          754,
          755,
          756,
          757,
          758,
          759,
          760,
          761,
          762,
          763,
          764,
          765,
          766,
          767,
          768,
          769,
          770,
          771,
          772,
          773,
          774,
          775,
          776,
          777,
          778,
          779,
          780,
          781,
          782,
          783,
          784,
          785,
          786,
          787,
          788,
          789,
          790,
          791,
          792,
          793,
          794,
          795,
          796,
          797,
          798,
          799,
          800,
          801,
          802,
          803,
          804,
          805,
          806,
          807,
          808,
          809,
          810,
          811,
          812,
          813,
          814,
          815,
          816,
          817,
          818,
          819,
          820,
          821,
          822,
          823,
          824,
          825,
          826,
          827,
          828,
          829,
          830,
          831,
          832,
          833,
          834,
          835,
          836,
          837,
          838,
          839,
          840,
          841,
          842,
          843,
          844,
          845,
          846,
          847,
          848,
          849,
          850,
          851,
          852,
          853,
          854,
          855,
          856,
          857,
          858,
          859,
          860,
          861,
          862,
          863,
          864,
          865,
          866,
          867,
          868,
          869,
          870,
          871,
          872,
          873,
          874,
          875,
          876,
          877,
          878,
          879,
          880,
          881,
          882,
          883,
          884,
          885,
          886,
          887,
          888,
          889,
          890,
          891,
          892,
          893,
          894,
          895,
          896,
          897,
          898,
          899,
          900,
          901,
          902,
          903,
          904,
          905,
          906,
          907,
          908,
          909,
          910,
          911,
          912,
          913,
          914,
          915,
          916,
          917,
          918,
          919,
          920,
          921,
          922,
          923,
          924,
          925,
          926,
          927,
          928,
          929,
          930,
          931,
          932,
          933,
          934,
          935,
          936,
          937,
          938,
          939,
          940,
          941,
          942,
          943,
          944,
          945,
          946,
          947,
          948,
          949,
          950,
          951,
          952,
          953,
          954,
          955,
          956,
          957,
          958,
          959,
          960,
          961,
          962,
          963,
          964,
          965,
          966,
          967,
          968,
          969,
          970,
          971,
          972,
          973,
          974,
          975,
          976,
          978,
          979,
          980,
          981,
          982,
          983,
          984,
          985,
          986,
          987,
          988,
          989,
          990,
          991,
          992,
          993,
          994,
          995,
          996,
          997,
          998,
          999,
          1000,
          1001,
          1002,
          1003,
          1004,
          1005,
          1006,
          1007,
          1008,
          1009,
          1010,
          1011,
          1012,
          1013,
          1014,
          1015,
          1016,
          1017,
          1018,
          1019,
          1020,
          1021,
          1022,
          1023,
          1024,
          1025,
          1026,
          1027,
          1028,
          1029,
          1030,
          1031,
          1032,
          1033,
          1034,
          1035,
          1036,
          1037,
          1038,
          1039,
          1040,
          1041,
          1042,
          1043,
          1044,
          1045,
          1046,
          1047,
          1048,
          1049,
          1050,
          1051,
          1052,
          1053,
          1054,
          1055,
          1056,
          1057,
          1058,
          1059,
          1060,
          1061,
          1062,
          1063,
          1064,
          1065,
          1066,
          1067,
          1068,
          1069,
          1070,
          1071,
          1072,
          1073,
          1074,
          1075,
          1076,
          1077,
          1078,
          1079,
          1080,
          1081,
          1082,
          1083,
          1084,
          1085,
          1086,
          1087,
          1088,
          1089,
          1090,
          1091,
          1092,
          1093,
          1094,
          1095,
          1096,
          1097,
          1098,
          1099,
          1100,
          1101,
          1102,
          1103,
          1104,
          1105,
          1106,
          1107,
          1108,
          1109,
          1110,
          1111,
          1112,
          1113,
          1114,
          1115,
          1116,
          1117,
          1118,
          1119,
          1120,
          1121,
          1122,
          1123,
          1124,
          1125,
          1126,
          1127,
          1128,
          1129,
          1130,
          1131,
          1132,
          1133,
          1134,
          1135,
          1136,
          1137,
          1138,
          1139,
          1140,
          1141,
          1142,
          1143,
          1144,
          1145,
          1146,
          1147,
          1148,
          1149,
          1150,
          1151,
          1152,
          1153,
          1154,
          1155,
          1156,
          1157,
          1158,
          1159,
          1160,
          1161,
          1162,
          1163,
          1164,
          1165,
          1166,
          1167,
          1168,
          1169,
          1170,
          1171,
          1172,
          1173,
          1174,
          1175,
          1176,
          1177,
          1178,
          1179,
          1180,
          1181,
          1182,
          1183,
          1184,
          1185,
          1186,
          1187,
          1188,
          1189,
          1190,
          1191,
          1192,
          1193,
          1194,
          1195,
          1196,
          1197,
          1198,
          1199,
          1200,
          1201,
          1202,
          1203,
          1204,
          1205,
          1206,
          1207,
          1208,
          1209,
          1210,
          1211,
          1212,
          1213,
          1214,
          1215,
          1216,
          1217,
          1218,
          1219,
          1220,
          1221,
          1222,
          1223,
          1224,
          1225,
          1226,
          1227,
          1229,
          1230,
          1231,
          1232,
          1233,
          1234,
          1235,
          1236,
          1237,
          1238,
          1239,
          1240,
          1241,
          1242,
          1243,
          1244,
          1245,
          1246,
          1247,
          1248,
          1249,
          1250,
          1251,
          1252,
          1253,
          1254,
          1255,
          1256,
          1257,
          1258,
          1259,
          1260,
          1261,
          1262,
          1263,
          1264,
          1265,
          1266,
          1267,
          1268,
          1269,
          1270,
          1271,
          1272,
          1273,
          1274,
          1275,
          1276,
          1277,
          1278,
          1279,
          1280,
          1281,
          1282,
          1283,
          1284,
          1285,
          1286,
          1287,
          1288,
          1289,
          1290,
          1291,
          1292,
          1293,
          1294,
          1295,
          1296,
          1297,
          1298,
          1299,
          1300,
          1301,
          1302,
          1303,
          1304,
          1305,
          1306,
          1307,
          1308,
          1309,
          1310,
          1311,
          1312,
          1313,
          1314,
          1315,
          1316,
          1317,
          1318,
          1319,
          1320,
          1321,
          1322,
          1323,
          1324,
          1325,
          1326,
          1327,
          1328,
          1329,
          1330,
          1331,
          1332,
          1333,
          1334,
          1335,
          1336,
          1337,
          1338,
          1339,
          1340,
          1341,
          1342,
          1343,
          1344,
          1345,
          1346,
          1347,
          1348,
          1349,
          1350,
          1351,
          1352,
          1353,
          1354,
          1355,
          1356,
          1357,
          1358,
          1359,
          1360,
          1361,
          1362,
          1363,
          1364,
          1365,
          1366,
          1367,
          1368,
          1369,
          1370,
          1371,
          1372,
          1373,
          1374,
          1375,
          1376,
          1377,
          1378,
          1379,
          1380,
          1381,
          1382,
          1383,
          1384,
          1385,
          1386,
          1387,
          1388,
          1389,
          1390,
          1391,
          1392,
          1393,
          1394,
          1395,
          1396,
          1397,
          1398,
          1399,
          1400,
          1401,
          1402,
          1403,
          1404,
          1405,
          1406,
          1407,
          1408,
          1409,
          1410,
          1411,
          1412,
          1413,
          1414,
          1415,
          1416,
          1417,
          1418,
          1419,
          1420,
          1421,
          1422,
          1423,
          1424,
          1425,
          1426,
          1427,
          1428,
          1429,
          1430,
          1431,
          1432,
          1433,
          1434,
          1435,
          1436,
          1437,
          1438,
          1439,
          1440,
          1441,
          1442,
          1443,
          1444,
          1445,
          1446,
          1447,
          1448,
          1449,
          1450,
          1451,
          1452,
          1453,
          1454,
          1455,
          1456,
          1457,
          1458,
          1459,
          1460,
          1461,
          1462,
          1463,
          1464,
          1465,
          1466,
          1467,
          1468,
          1469,
          1470,
          1471,
          1472,
          1473,
          1474,
          1475,
          1476,
          1477,
          1478,
          1479,
          1480,
          1481,
          1482,
          1483,
          1484,
          1485,
          1486,
          1487,
          1488,
          1489,
          1490,
          1491,
          1492,
          1493,
          1494,
          1495,
          1496,
          1497,
          1498,
          1499,
          1500,
          1501,
          1502,
          1503,
          1504,
          1505,
          1506,
          1508,
          1509,
          1510,
          1511,
          1512,
          1513,
          1514,
          1515,
          1516,
          1517,
          1518,
          1519,
          1520,
          1521,
          1522,
          1523,
          1524,
          1525,
          1526,
          1527,
          1528,
          1529,
          1530,
          1531,
          1532,
          1533,
          1534,
          1535,
          1536,
          1537,
          1538,
          1539,
          1540,
          1541,
          1542,
          1543,
          1544,
          1545,
          1546,
          1547,
          1548,
          1549,
          1550,
          1551,
          1552,
          1553,
          1554,
          1555,
          1556,
          1557,
          1558,
          1559,
          1560,
          1561,
          1562,
          1563,
          1564,
          1565,
          1566,
          1567,
          1568,
          1569,
          1570,
          1571,
          1572,
          1573,
          1574,
          1575,
          1576,
          1577,
          1578,
          1579,
          1580,
          1581,
          1582,
          1583,
          1584,
          1585,
          1586,
          1587,
          1588,
          1589,
          1590,
          1591,
          1592,
          1593,
          1594,
          1595,
          1596,
          1597,
          1598,
          1599,
          1600,
          1601,
          1602,
          1603,
          1604,
          1605,
          1606,
          1607,
          1608,
          1609,
          1610,
          1611,
          1612,
          1613,
          1614,
          1615,
          1616,
          1617,
          1618,
          1619,
          1620,
          1621,
          1622,
          1623,
          1624,
          1625,
          1626,
          1627,
          1628,
          1629,
          1630,
          1631,
          1632,
          1633,
          1634,
          1635,
          1636,
          1637,
          1638,
          1639,
          1640,
          1641,
          1642,
          1643,
          1644,
          1645,
          1646,
          1647,
          1648,
          1649,
          1650,
          1651,
          1652,
          1653,
          1654,
          1655,
          1656,
          1657,
          1658,
          1659,
          1660,
          1661,
          1662,
          1663,
          1664,
          1665,
          1666,
          1667,
          1668,
          1669,
          1670,
          1671,
          1672,
          1673,
          1674,
          1675,
          1676,
          1677,
          1678,
          1679,
          1680,
          1681,
          1682,
          1683,
          1684,
          1685,
          1686,
          1687,
          1688,
          1689,
          1690,
          1691,
          1692,
          1693,
          1694,
          1695,
          1696,
          1697,
          1698,
          1699,
          1700,
          1701,
          1702,
          1703,
          1704,
          1705,
          1706,
          1707,
          1708,
          1709,
          1710,
          1711,
          1712,
          1713,
          1714,
          1715,
          1716,
          1717,
          1718,
          1719,
          1720,
          1721,
          1722,
          1723,
          1724,
          1725,
          1726,
          1727,
          1728,
          1730,
          1731,
          1732,
          1733,
          1734,
          1735,
          1736,
          1737,
          1738,
          1739,
          1740,
          1741,
          1742,
          1743,
          1744,
          1745,
          1746,
          1747,
          1748,
          1749,
          1750,
          1751,
          1752,
          1753,
          1754,
          1755,
          1756,
          1757,
          1758,
          1759,
          1760,
          1761,
          1762,
          1763,
          1764,
          1765,
          1766,
          1767,
          1768,
          1769,
          1770,
          1771,
          1772,
          1773,
          1775,
          1776,
          1777,
          1778,
          1779,
          1780,
          1781,
          1782,
          1783,
          1784,
          1785,
          1786,
          1787,
          1788,
          1789,
          1790,
          1791,
          1792,
          1793,
          1794,
          1795,
          1796,
          1797,
          1798,
          1799,
          1800,
          1801,
          1802,
          1803,
          1804,
          1805,
          1806,
          1807,
          1808,
          1809,
          1810,
          1811,
          1812,
          1813,
          1814,
          1815,
          1816,
          1817,
          1818,
          1819,
          1820,
          1821,
          1822,
          1823,
          1824,
          1825,
          1826,
          1827,
          1828,
          1829,
          1830,
          1831,
          1832,
          1833,
          1834,
          1835,
          1836,
          1837,
          1838,
          1839,
          1840,
          1841,
          1842,
          1843,
          1844,
          1845,
          1846,
          1847,
          1848,
          1849,
          1850,
          1851,
          1852,
          1853,
          1854,
          1855,
          1856,
          1857,
          1858,
          1859,
          1861,
          1862,
          1863,
          1864,
          1865,
          1866,
          1867,
          1868,
          1869,
          1870,
          1871,
          1872,
          1873,
          1874,
          1875,
          1876,
          1877,
          1878,
          1879,
          1880,
          1881,
          1882,
          1883,
          1884,
          1885,
          1886,
          1887,
          1888,
          1889,
          1890,
          1891,
          1892,
          1893,
          1894,
          1895,
          1896,
          1897,
          1898,
          1899,
          1900,
          1901,
          1902,
          1903,
          1904,
          1905,
          1906,
          1907,
          1908,
          1909,
          1910,
          1911,
          1912,
          1913,
          1914,
          1915,
          1916,
          1917,
          1918,
          1919,
          1920,
          1921,
          1922,
          1923,
          1924,
          1925,
          1926,
          1927,
          1928,
          1929,
          1930,
          1931,
          1932,
          1933,
          1934,
          1936,
          1937,
          1938,
          1939,
          1940,
          1941,
          1942,
          1944,
          1945,
          1946,
          1947,
          1948,
          1949,
          1950,
          1951
         ],
         "y": [
          4.56,
          4390.3665,
          -53.8096,
          803.4705,
          -24.03,
          -37.03,
          -0.71,
          -59.82,
          261.8757,
          2.63,
          652.7331,
          314.4813,
          -114.6399,
          384.38,
          -17.49,
          -114.6399,
          -28.2968,
          -5.3072,
          8.894,
          144.69,
          -35.8788,
          209.997,
          3568.096,
          -84.4376,
          24.312,
          25.91382,
          162.666,
          -6923.5992,
          -67.49,
          19.6282,
          -1.6524,
          2.14,
          349.4091,
          -37.5291,
          101.49,
          845.664,
          -308.928,
          -1679.76,
          575.396,
          -2426.55,
          -2426.55,
          -715.778206,
          -144.56,
          7402.32,
          1892.424,
          28.8558,
          173.48,
          117.852,
          34.0104,
          2031.507,
          -190.68,
          325.398,
          22.818,
          116.1,
          -87.96,
          255.42,
          685.6146,
          -16.2,
          2023.75,
          -20.25,
          -3.381,
          1684.4763,
          -2.7048,
          18.658,
          40.2477,
          14.0898,
          -55.84,
          9.82,
          112.06,
          16.79,
          -55.84,
          41.2965,
          1179.0237,
          105.678,
          -37.39,
          149.8887,
          3.04,
          2.706,
          91.956,
          -2.544,
          2.4852,
          -634.7341,
          133.5771,
          251.4084,
          -20.258,
          13.896,
          -172.718,
          -40.684,
          97.86,
          360.24,
          713.88,
          -18.64,
          -111.4,
          -77.03,
          28.5141,
          280.27458,
          -112.4263,
          24.924,
          -2.9095,
          -76.89,
          -35.75,
          -76.89,
          152.6556,
          7.15,
          113.6499,
          -35.4744,
          14.467,
          -99.9864,
          1348.59672,
          -560.81418,
          -66.0445,
          -105.6852,
          15.66,
          1167.158,
          1014.92,
          1.73,
          -133.7,
          -66.62,
          -21.48775,
          44.6775,
          23.595,
          7.59,
          -107.987,
          -36.25,
          -102.5121,
          36.354,
          -243.2365,
          -53.62,
          1103.9724,
          136.3371,
          -12.46,
          -175.86,
          3294.8259,
          35.09,
          785.63,
          -256.519,
          398.358,
          -101.192,
          -3.332,
          -145.082,
          1.108,
          1061.379,
          -53.745,
          0.684,
          -127.008,
          5.7532,
          -2177.986096,
          326.25,
          8.932,
          229.638,
          -22.48,
          78.98,
          144.2928,
          888.1473,
          -46.005,
          128.0253,
          -29.8984,
          52.9166,
          72.1858,
          -122.3733,
          -51.75,
          -1,
          -221.254,
          -11.57,
          -61.87,
          -530.24,
          132.687,
          496.89,
          -135.16,
          15.8952,
          855.9933,
          10.74,
          -1759.58,
          -72.23,
          -27.16,
          -52.344,
          -119.936,
          9.9268,
          -29.172,
          -715.778206,
          -22.82,
          -5.2,
          -83.65,
          24.39,
          -4.6683,
          11.65095,
          0.702,
          5.8625,
          1916.6757,
          10.5,
          993.8346,
          -165.45,
          -141.12,
          1074.44,
          -627.82192,
          411.5172,
          211.232,
          49.788,
          -132.6295,
          -163.63,
          -63.87,
          -175.175,
          -224.9478,
          196.8,
          250.0376,
          -539.59,
          -82.823,
          107.082,
          -27.28375,
          -51.5592,
          -263.56572,
          1273.2087,
          -159.68,
          27.91,
          -81.77,
          -19.208,
          7.44,
          -372.485971,
          1372.6308,
          50.2044,
          236.2371,
          943,
          -2531.4825,
          163.1574,
          -302.225,
          90.62,
          427.1184,
          86.438,
          -4.46,
          -512.872,
          -3.784,
          -82.904,
          1268.8065,
          -53.2962,
          299.6739,
          -15.456,
          16.0494,
          -235.895,
          -41.32,
          7.9,
          521.69,
          496.7968,
          -556.8096,
          -27.7388,
          -128.6872,
          23.2028,
          -568.5351,
          -427.47,
          -18.19,
          -24.05754,
          2583.56148,
          6.0513,
          -67.0565,
          -7.94,
          122.292,
          -2.12,
          -69.07,
          2028.12,
          -63.51,
          -92.05,
          6.11,
          -36.63,
          -2.12,
          -35.9164,
          3042.18,
          -31.755,
          171.8388,
          32.9409,
          131.334,
          -282.0818,
          105.2526,
          -29.0927,
          113.415,
          26.1,
          -2.58,
          2800.12,
          363.552,
          -11.536,
          -6.612,
          -15.5595,
          -108.19,
          46.488,
          159.5297,
          15.3714,
          5924.1123,
          39.5853,
          -66.378,
          -33.34,
          -201.276,
          4637.4072,
          -239.5415,
          21.5142,
          34.068,
          4073.25,
          -179.592,
          -500.38,
          6028.41,
          -161.6328,
          -250.19,
          46.1472,
          -1116.3348,
          1141.794,
          -99.568,
          224.8506,
          -122.133,
          -12.1555,
          -269.0844,
          -566,
          293.14,
          -6.61,
          -57.541,
          -266.22,
          -67.59,
          -239.8656,
          -53.444,
          -22.12,
          484.8492,
          18,
          15.2745,
          26.5857,
          -575.352,
          -51.635,
          -75.44,
          -120.934,
          -1763.7477,
          -15.0995,
          -1763.7477,
          23.5428,
          -276.1128,
          -78.13,
          -64.67094,
          -11.1132,
          107.02,
          18.42,
          349.47,
          -226.3464,
          -281.17584,
          6610.2,
          -103.7124,
          -124.2864,
          -229.68,
          288.09,
          719.4768,
          1192.04,
          1192.04,
          -229.68,
          288.09,
          1030.509,
          261.444,
          -10.36,
          106.7499,
          -246.92616,
          4233.2588,
          102.7686,
          -36.671544,
          20.6448,
          -24.2048,
          -126.05778,
          10.802,
          -678.496,
          90.762,
          -352.814,
          70.028,
          -124.2805,
          40.4823,
          32.86,
          -187.222,
          9.59,
          -655.424,
          -7.58,
          -109.704,
          -19.93,
          4568.6073,
          -258.225,
          38.06,
          -207.28,
          -12.719,
          -51.42,
          -88.6,
          2568.4629,
          9.486,
          -263.65,
          890.181,
          6095.8602,
          -82.83,
          25.04,
          -580.32,
          928.9608,
          -131.6172,
          -82.83,
          25.04,
          930.987,
          -580.32,
          -253.11,
          -16.67,
          40.2,
          3.21,
          38.7,
          -21.91,
          -119.77,
          -168.72,
          -439.62,
          15.42,
          33.924,
          -16.67,
          46.44,
          -17.528,
          -95.816,
          3.852,
          71.7356,
          -79.3208,
          24.096,
          6.972,
          -24.246,
          -605.374,
          -99.55,
          -801.1548,
          797.856,
          422.4525,
          -178.216,
          -26.656,
          -54.622,
          -126.81418,
          1400.1,
          916.6806,
          67.6,
          -224.644,
          14.76,
          10.85,
          97.6626,
          -453.2,
          -207.679788,
          -7.5244,
          -92.961,
          613.89576,
          232.2816,
          -45.07,
          -8.53,
          285.95,
          -209.25,
          -9.1636,
          12.706,
          7.71516,
          192.5169,
          -134.912,
          -5.05,
          -204.16,
          -46.115,
          -20.104,
          -3.496,
          -717.072,
          -62.23,
          131.382,
          -89.292,
          -211.036,
          -13.28,
          -48.68,
          -184.548,
          1220.03784,
          -2.87,
          4.3809,
          -100.744,
          3.384,
          0.346,
          -17.654,
          -13.826,
          -203.67,
          19.57,
          98.12,
          107.11,
          -216.154,
          -6.6096,
          -89.217,
          1.2236,
          4.3148,
          -125.83296,
          122.21,
          -11.1332,
          201.7353,
          -684.78,
          -237.47,
          21.5556,
          -239.315,
          -33.31,
          -74.4796,
          -232.22056,
          18.6438,
          -31.24,
          55.888,
          1.3224,
          455.4207,
          29.332,
          -86,
          -0.49,
          34.3482,
          -66.65,
          35.955,
          -173.0952,
          -96.16,
          263.4,
          37.31,
          -173.0952,
          -96.16,
          104.7213,
          37.31,
          80.6748,
          114.3165,
          1107.408,
          -149.212,
          -21.018,
          -655.529875,
          354.3288,
          -489.4156,
          35.31,
          6.11,
          187.412,
          -6.34,
          92.7222,
          -160.2755,
          396.972,
          -7.04,
          538.52,
          -4.14,
          -31.885,
          -95.2105,
          -193.58,
          -4.301,
          -1570.32,
          27.23,
          -19.0992,
          373.67,
          -14.80188,
          -2561.3235,
          168.9189,
          -6.2,
          19.0647,
          10.56,
          837.6807,
          -4.2,
          -44.1636,
          -4.2,
          -102.662,
          -116.584,
          12.8961,
          -21.3192,
          93.8468,
          17.772,
          -104.57,
          -969.048366,
          4.032,
          -23.6344,
          -71.83,
          -0.74,
          -3.88,
          551.0928,
          17.5053,
          818.546175,
          -17.15,
          -29.54,
          -329.784,
          -2.1,
          829.467,
          111.222,
          22.866,
          115.728,
          909.36,
          -76.4244,
          8.732,
          442.0899,
          455.124,
          624.40164,
          18.922,
          39.3507,
          -229.87,
          329.9787,
          30.49,
          1152.5277,
          -604.406,
          293.66,
          -403.1874,
          -13.77,
          44.9121,
          9.33,
          2593.14,
          1162.76,
          -76.94,
          -40.0088,
          -51.704,
          144.7482,
          -112.189,
          -445.9717763,
          4.1674,
          -335.317125,
          16.0218,
          38.0673,
          -99.43544,
          -97.28,
          139.612,
          -505.76,
          152.4348,
          9.862,
          -232.991,
          -40.2752,
          -53.25,
          -159.25,
          206.517,
          2.125,
          5.884,
          772.04,
          772.04,
          81.91,
          -10.9,
          1232.79,
          2.18,
          67.1075,
          54.9378,
          168.237,
          -169.232,
          1272.5808,
          -5390.738892,
          29.7252,
          -187.11,
          -139.2872,
          108,
          377.154,
          -127.052,
          2169.7464,
          -229.93,
          -93.7352,
          4.53,
          9.78,
          -63.8135,
          325.29,
          -116.05,
          117.38,
          -144.2,
          -46.92,
          70.1937,
          -48.2195,
          -63.8135,
          325.29,
          -115.36,
          -46.92,
          2660.1432,
          -51.116,
          1766.7795,
          85.875,
          6.0927,
          20.2996,
          108.5163,
          48.47148,
          -152.76,
          125.2074,
          281.5344,
          64.266,
          -302.6156,
          5.6916,
          27.0135,
          184.1955,
          4.11,
          28.566,
          2581.5591,
          -25.112,
          17.376,
          24.2604,
          59.4405,
          14.48,
          22.25,
          592.5265,
          232.8,
          38.08,
          -17.03,
          39.627,
          20.496,
          103.83,
          -24.8976,
          776.7744,
          344.544,
          -8.515,
          9.0045,
          -99.7625,
          -3061.82,
          258.6189,
          -6.71,
          -0.01,
          -421.76,
          6.79,
          -421.76,
          -60.145,
          -111.72,
          33.01,
          -111.72,
          297.45716,
          -564.6024,
          -161.475,
          -0.814,
          7.74,
          3985.3089,
          13.9568,
          788.79,
          -70.14,
          531.618,
          -107.5135,
          46.01,
          1489.8,
          -107.5135,
          24.8193,
          -255.1689,
          74.0048,
          109.4248,
          421.3485,
          -373.09,
          -3465.072,
          -11.2815,
          -218.77,
          -9.68,
          -164.3952,
          -8.208,
          -2196.684,
          43.538,
          -11.376,
          533.742,
          -1522.304,
          588.2457,
          151.5654,
          54.9015,
          501.51,
          54.9015,
          727.7361,
          393.42,
          606.0546,
          320.1,
          317.0895,
          250.36272,
          6.0306,
          125.8077,
          44.892,
          3.451,
          -275.253,
          -746.44,
          -274.95,
          -95.0475,
          3.451,
          -275.253,
          -746.44,
          -274.95,
          525.2004,
          -52.647,
          -24.44,
          366.507,
          27.38,
          -12.7088,
          -5.295,
          41.07,
          -94.4909,
          -172.298,
          3285.48,
          46.0368,
          -1.0712,
          4.4104,
          500.958,
          1206.5961,
          82.3101,
          1.2236,
          -15.6312,
          790.5468,
          5.466,
          -149.1182,
          -90.26,
          -326.2316,
          16.898,
          20.14,
          -21.232,
          18.0642,
          -93.25,
          -163.03,
          23.616,
          -11.0732,
          21.7695,
          29.3802,
          100.2984,
          2495.3988,
          -0.11,
          15.236,
          -42.8536,
          -20.79,
          -33.21154,
          -20.79,
          369.9987,
          20.4536,
          542.25,
          69.61,
          -634.8654,
          87.12,
          25.2402,
          -94.674645,
          451.2804,
          44.988,
          -20.7328,
          -164.3948,
          -4793.004,
          1258.7877,
          74.2785,
          52.92,
          -66.35,
          1399.64,
          232.642,
          -409.3736,
          -29.07,
          1909.8855,
          -76.9925,
          297.9696,
          1318.83,
          36.216,
          134.16825,
          253.3032,
          -723.784,
          589.188,
          -1314.992,
          3043.0311,
          -44.624,
          309.254,
          61.2927,
          91.73,
          53.0679,
          -14.6432,
          -127.56,
          282.18,
          -96.338,
          -23.35788,
          -18.2416,
          1428.9104,
          509.9583,
          -255.65,
          -76.54,
          -10.09,
          -92.87,
          -298.886,
          -145.852,
          -27.951,
          -3.6547,
          731.922,
          186.558,
          -138.0368,
          199.1823,
          711.0519,
          -899.675,
          -189.224,
          0.51,
          -52.248,
          70.176,
          -161.924,
          -157.696,
          -56.446,
          33.189,
          -367.165,
          -243.544,
          -337.092,
          68.676,
          481.032,
          -4.018,
          -2.0097,
          -477.372,
          -954.758,
          219.4734,
          -390.768,
          -155.21,
          -6.642,
          27.234,
          -8.398,
          83.7936,
          -77.82372,
          5078.538,
          23.276,
          17.754,
          -3.9312,
          2.4548,
          -537.2797773,
          -14.35982,
          -2870.2776,
          77.9836,
          -200.859,
          -33.2956,
          -90.5855,
          -36.9,
          341.1981,
          -175.13,
          3.96,
          1.6169,
          65.394,
          1.336,
          1674.7542,
          300.0465,
          -28.09,
          -263.1119291,
          -38.808,
          15.984,
          -88.158,
          -76.1068,
          -73.49412,
          -272.860884,
          10.5792,
          1127.5497,
          147.7566,
          69.5451,
          8.53,
          507.633,
          38.23,
          100.1328,
          15.096,
          14.9124,
          -135.226,
          -457.73,
          -268.664,
          -8.28,
          1912.422,
          -739.326,
          -40.53,
          0.696,
          15.528,
          -225.5638,
          -22.72,
          -163.53,
          554.77,
          -38.38,
          -56.35,
          -19.9576,
          -56.35,
          -129.01,
          -628.38,
          616.5357,
          -143.235,
          -123.1816,
          -28.798,
          -273.98,
          -253.778,
          -152.5245,
          -18.85,
          -220.052,
          20.39337,
          38.2812,
          3670.3515,
          21.0035,
          13.536,
          -167.048,
          -31.094,
          -6.202,
          -48.874,
          -144.592,
          -258.566,
          13.508,
          -66.48,
          -52.33,
          -59.06,
          149.166,
          -76.9,
          376.8849,
          -88.6248,
          -662.52,
          9228.2256,
          -32.28,
          -596.268,
          7889.6877,
          1545.80976,
          -16.14,
          -130.424,
          -106.421,
          -16476.838,
          -108.2725,
          -121.05808,
          -51.737,
          116.5063,
          -247.55157,
          -277.20924,
          -93.0645,
          -48.236,
          44.2911,
          43.2752,
          -36.21462,
          7.03296,
          -16.772,
          514.1772,
          235.656,
          3.5581,
          5.3397,
          -807.89,
          123.89175,
          -53.898,
          26.5029,
          90.6246,
          -20.8764,
          6.48324,
          2.332,
          454.4478,
          15.1524,
          -90.7556,
          960.984,
          -13706.464,
          300.9258,
          -40.76,
          -986.524,
          -141.666,
          47.334,
          60.5616,
          -47.243088,
          9.154,
          40.92,
          149.72,
          -52.49232,
          7.96,
          -459.0828,
          -517.17,
          -7.61,
          38.0397,
          -429.86,
          264.1665,
          -47.12,
          -101.246,
          -1.88,
          -11.69,
          250.9806,
          -57.753,
          -47.97,
          -219.07908,
          -18.8784,
          369.2052,
          19.35,
          -967.834,
          -28.45,
          72.78,
          13.2294,
          -88.82,
          15.354,
          -357.924,
          34.302,
          -7.96,
          4407.44,
          -1025.0172,
          429.754356,
          588.54,
          2653.2915,
          -1.84,
          237.0426,
          2502.6852,
          0.688,
          36.906,
          -216.0298,
          -45.472,
          16.1364,
          -29.61,
          125.724,
          114.882,
          -14.448,
          -42.546,
          14,
          52.988,
          285.4737,
          10.508,
          1448.7309,
          1.004,
          -521.09,
          -29.49,
          386.0067,
          -1867.97,
          -1920.9336,
          -37.1752,
          -213.4028,
          -15.48,
          -50.245,
          -387.1044,
          -55.97,
          -66.2473,
          -171.1577,
          624.239,
          -14.3241,
          604.0191,
          -11.6316,
          442.3659,
          -259.756,
          1469.7276,
          -83.55306,
          -16.89,
          25.51,
          -850.6524,
          98.5251,
          214.23,
          21.8834,
          290.202,
          12.146,
          5.687,
          -181.102,
          882.93,
          6.6804,
          46.29,
          177.79,
          -14.9904,
          638.3811,
          17.652,
          739.674,
          -23.156,
          -10.435,
          -78.91668,
          -13562.63741,
          -63.35,
          -8.904,
          88.72,
          7.2519,
          -191.49,
          -1330.5,
          1320.5496,
          1585.503,
          526.0422,
          -40.432,
          -88.61,
          109.16,
          -136.122,
          -27.375,
          -435.7575,
          682.53,
          -277.222,
          -266.686,
          -12.278,
          265.1118,
          9.5608,
          390.0984,
          46.65,
          -1250.746,
          374.904,
          -528.836,
          -272.7132,
          -162.694,
          -115.9039,
          -729.988,
          -133.546,
          272.694,
          -61.6,
          66.852,
          17.8398,
          976.2672,
          23.2047,
          183.843,
          167.463,
          1307.2692,
          -15.8184,
          -55.8324,
          550.3808,
          1.68,
          450.4596,
          8798.1831,
          -5.385,
          3031.9724,
          138.018,
          38.874,
          -45.528,
          567.59,
          -28.45,
          -14.225,
          -601.804,
          38.406,
          53.1144,
          8.742,
          636.522,
          4554.4347,
          618.19308,
          -15.1844,
          -61.194,
          18.174,
          -49.53,
          -407.85,
          -191.2576,
          196.52328,
          -343.868,
          -3971.0628,
          -18.4782,
          -381.8412,
          12.5504,
          45.3324,
          33.66,
          15.678,
          52.776,
          -162.8244,
          -6.93082,
          -118.54,
          2963.48,
          398.3025,
          709.852,
          80.8092,
          371.272,
          77.0008954,
          27.9686,
          -66.77958,
          -144.9188,
          -5.0716,
          -1.18,
          -203.098,
          -48.57,
          -48.57,
          -47.28,
          722.241,
          -161,
          848.3646,
          -88.8408,
          1208.9904,
          9.9912,
          126.225,
          187.7628,
          295.9065,
          -2111.36,
          -9.13,
          357.428,
          40.3512,
          27.6345,
          751.58,
          -663.5142,
          -157.56,
          -87.99804,
          -35.2904,
          -74.8836,
          -98.056,
          631.33,
          -22.176,
          -214.104,
          -26.936,
          -324.73,
          1500.12,
          -313.0218,
          -192.5532,
          -464.282,
          156.7434,
          110.118,
          -42.588,
          -222.95,
          7.6245,
          -1676.612,
          45.1278,
          -52.864,
          45.378,
          4949.916,
          1055.604,
          359.83,
          -69.874,
          -135.74,
          -14.52,
          171.2649,
          138.222,
          711.2448,
          -1084.846963,
          -156.772,
          -37.6,
          1389.5772,
          -222.816,
          -133.71,
          2653.7814,
          10.32,
          997.38144,
          -36.0308,
          -28.954,
          -85.022,
          99.198,
          136.0314,
          -100.072,
          -12.0267,
          122.508,
          -12.0267,
          34.068,
          2.97,
          385.3029,
          187.2,
          779.4723,
          27.726,
          244.464,
          -473.578,
          -96.05,
          -270.85,
          800.2551,
          -50.4,
          -348.754,
          -550.43,
          -52.12,
          -27.005,
          74.6385,
          -122.235,
          427.0065,
          -190.49,
          -8.77,
          -7.685,
          -82.5592,
          18.1475,
          2.806,
          -132.426,
          -411.236,
          -48.972,
          62.298,
          -119.32,
          756.6747,
          -222.343,
          -1537.1356,
          52.6976,
          -78.19416,
          465.4395,
          -89.27,
          385.37,
          147,
          -1045.016,
          167.16,
          -344.82,
          -61.5276,
          -41.9727,
          -1.56,
          -100.24,
          -262.62,
          1019.7096,
          19.04,
          -1069.72,
          19.04,
          1408.1865,
          -1069.72,
          2000.11,
          -45.64,
          204.49,
          -1455.9972,
          -22.56,
          -1191.526,
          -45.01,
          39.21,
          100.38,
          79.4232,
          -15.0904,
          -60.564,
          -1473.906,
          -343.126,
          66.36,
          -162.918,
          859.7178,
          -23.072,
          650.3,
          -154.307,
          269.94,
          63.0591,
          139.5801,
          109.67,
          395.308,
          104.9145,
          24.59,
          -458.744,
          -9.177,
          -121.75,
          24.35,
          -34.7645,
          -7.3416,
          35.29,
          -100.17,
          -3.948,
          1633.986,
          -2002.6314,
          -126.208,
          -5.54,
          -68.432,
          733.2822,
          -905.9904,
          -21.63242,
          -35.04,
          5.98,
          -35.04,
          149.53,
          608.262,
          -570.1696,
          1.278,
          424.29,
          -3.71956,
          101.972,
          -16.6348,
          765.75,
          -335.041,
          35.2797,
          -188.034,
          322.122,
          366.54,
          -439.908,
          1087.716,
          9.204,
          257.0832,
          0.7854,
          88.56,
          12.726,
          160.8066,
          -1596.7458,
          1388.3559,
          109.836,
          -93.85,
          82.7034,
          -93.85,
          0.37,
          1947.67,
          109.836,
          128.03,
          31.752,
          117.208,
          0.37,
          1240.25,
          -533.232,
          -61.59,
          -46.25,
          1240.25,
          -32.0268,
          -45.816,
          30.63,
          -6.835,
          7024.2069,
          -137.494,
          308.67,
          -223.944,
          36.495,
          255.7692,
          1656.6555,
          2639.01,
          395.76,
          -39.396,
          -89.5,
          28.4,
          103.2723,
          215.718,
          106.9848,
          3.54,
          40.284,
          90.024,
          2.232,
          840.051,
          61.47,
          18.27,
          -513.79042,
          23.87,
          61.47,
          18.27,
          -513.79042,
          35.805,
          265.9605,
          -20.3205,
          -88.04,
          180.2349,
          29.5251,
          1261.4718,
          -59.96376,
          89.4148,
          27.0273,
          -150.2604,
          4899.1288,
          44.712,
          -22.626,
          4260.112,
          -25.14,
          309.7116,
          -128.856,
          -36.946,
          -274.498,
          0.588,
          -251.4039,
          -2.345,
          67.6062,
          -46.5244,
          200.0172,
          -39.606,
          311.73,
          -50.75,
          2225.07612,
          -338.180832,
          -136.252,
          -25.76,
          -45.21,
          -286.245,
          16.12,
          -815.9008,
          15.808,
          29.17,
          -48.97,
          84.05,
          17.8365,
          -20.2228,
          381.618,
          -177.058,
          164.082,
          -54.63,
          690.1794,
          1507.6431,
          801.7468,
          -139.18256,
          881.4681,
          3.84,
          -21.03,
          117.5208,
          -30.808,
          524.3172,
          21.78,
          -98.35,
          270.7905,
          223.416,
          -93.9274,
          246.2748,
          93.9504,
          29.98,
          -121.2,
          10.7824,
          2008.71,
          -80.53,
          -48.958,
          -32.816,
          -15.61,
          23.616,
          -1748.012,
          -180.152,
          8.388,
          9.9399,
          -66.171,
          51.2187,
          380.468,
          -89.418,
          9.252,
          -1197.042,
          -103.224,
          -84.6288,
          2755.6422,
          -256.018,
          -41.77,
          -1014.11,
          17.4294,
          -178.8696,
          -74.64,
          65.41,
          -25.634,
          -37.562,
          -449.694,
          -66.248,
          501.69,
          566.6073,
          -57.56,
          164.0613,
          218.2332,
          1049.03,
          -102.93,
          1049.03,
          664.518,
          105.7,
          -21.06,
          -5.08,
          1289.382,
          -191.548,
          -29.003,
          2860.9332,
          2692.4421,
          2.0672,
          111.0525,
          -1963.752,
          -60.704,
          -37.789,
          7576.11,
          -43.26,
          -44.436,
          4.85,
          3.5949,
          15.8148,
          -69.91,
          1630.5252,
          -457.16,
          266.7609,
          -159.3028,
          29.8839,
          52.764,
          2699.9838,
          -170.98,
          -95.6186,
          -2.376,
          -18.3216,
          -82.64,
          31.59,
          165.6345,
          19.308,
          0.33,
          -35.26,
          322.2507,
          -221.5,
          206.352,
          439.7853,
          -149.4573,
          21.096,
          1166.628,
          -40.6042,
          -294.084,
          55.5552,
          -535.332,
          -208.7204,
          38.886,
          719.3526,
          -12.87678,
          618.1308,
          -14140.7016,
          -8.876,
          14.754,
          669.612,
          213,
          -8.3881,
          4.90176,
          76.3899,
          -36.77,
          87.03,
          -582.648,
          3602.1312,
          -582.648,
          -66.585,
          441.594,
          394.17,
          13.4481,
          4033.6089,
          141.7824,
          74.1819,
          82.31,
          -2.352,
          1059.288,
          -246.2761,
          55.1946,
          -307.2965,
          -16.06374,
          -160.3847,
          732.2698,
          270.8743,
          333.7605,
          -120.59,
          -12.078,
          1231.6569,
          219.5442,
          -185.17,
          31.1328,
          -231.05,
          -165.5949204,
          -21.684,
          4861.0638,
          -83.75,
          565.18,
          -38.72,
          65.07702,
          10.9592,
          17.4294,
          -32.6664,
          -13.1352,
          22.3077,
          443.0214,
          -1220.9145,
          -27.1492,
          -106.3424,
          44.9768,
          689.328,
          -33.586,
          69.7672,
          -52.8228,
          7.31,
          642.9903,
          12.71,
          28.288,
          112.1181,
          565.386,
          -230.9528,
          -61.62804,
          70.6767,
          95.0544,
          224.9607,
          -89.572,
          33.3477,
          -34.592,
          -24.63,
          -536.242,
          -125.86,
          36.1641,
          17.1028,
          1269.38196,
          137.68794,
          882.4824,
          6.384,
          5.2955,
          170.7957,
          16.092,
          274.0788,
          -3.782,
          10.7985,
          15.246,
          -103.624,
          -57.824,
          18.218,
          25.058,
          11.82,
          28.152,
          -237.544,
          1037.1045,
          -94.59,
          -293.74,
          1039.7541,
          -49.1868,
          -152.7448,
          41.3,
          47.61,
          -23.5,
          1282.496,
          17.2,
          1184.12,
          1474.8704,
          19.78,
          929.7957,
          -7.25,
          31.2018,
          -75.9004,
          52.1709,
          -159.86,
          165.8898,
          75.01,
          2267.22,
          97.16,
          -20.65,
          67.864,
          -14.075,
          -78.7592,
          402.066,
          11.95,
          1773.6105,
          4.1822,
          39.1299,
          1660.92,
          638.028,
          138.4968,
          -6.734,
          -25.38,
          -203.27,
          -807.59,
          118.6317,
          23.304,
          -807.59,
          150.72,
          19.42,
          3.13,
          1141.07,
          -203.27,
          10.01,
          313.812,
          -39.18625,
          -1.89,
          4.29,
          -122.77,
          683.9556,
          -16.64,
          -59.73,
          -633.441237,
          72.984,
          240.1752,
          -11.248,
          9.6117,
          -299.8142,
          13.8,
          4.392,
          -236.25,
          36.02,
          -50.64,
          510.489,
          -20.18226,
          -156.9722,
          384.5043,
          44.52,
          -48.875,
          881.0472,
          -233.840688,
          -139.076,
          -64.664,
          1644.0768,
          -350.4395,
          4.2028,
          -44.068,
          -100.51,
          -17.75,
          1374.948,
          -677.872,
          1623.9495,
          -122.835,
          252.488,
          -88.585,
          -485.68,
          -16.37,
          -94.2586,
          6.3308,
          -66.8236,
          971.622,
          -134.512,
          -4075.933992,
          -18.5588,
          220.3572,
          47.73,
          28.526,
          -87.46,
          -3.948,
          28.1826,
          -51.66,
          -193.914,
          57.546,
          -333.4254,
          12.264,
          -283.9914,
          -195.342,
          -89.7092,
          -44.415,
          167.334,
          65.598,
          0.258,
          63.222,
          -29.666,
          -1319.5,
          262.2,
          -119.812,
          -9.108,
          172.5644,
          45.078,
          -110.376,
          1951.3,
          1538.7828,
          32.83,
          51.59,
          969.42,
          553.3317,
          -30.45,
          55.0206,
          -43.65504,
          -577.304,
          -1535.4864,
          -159.32,
          -74.088,
          -137.522,
          -11.816,
          238.9338,
          -105.126,
          95.388,
          261.3858,
          -135.46,
          -31.68825,
          690.7038,
          -13.068,
          -25.104,
          1.9504,
          -340.5311,
          462.921,
          -131.16,
          -11.83,
          -65.58,
          596.808,
          470.338,
          401.85,
          710.6724,
          -92.32,
          -1764.29,
          527.8776,
          34.52,
          3576.8841,
          20.38,
          31.11,
          358.2954,
          8.322,
          24.018,
          -269.7555,
          710.8074,
          -2133.278,
          80.0712,
          896.406,
          352.8798,
          68.676,
          -15.92,
          -114.2,
          -25,
          255.1482,
          39.4266,
          -722.23,
          30.024,
          0.4266,
          66.216,
          -164.18,
          -79.4,
          23.046,
          -127.3,
          -52.77,
          -781.1342,
          -23.296,
          58.812,
          4.0443,
          -10.3684,
          989.8119,
          2861.01,
          1544.9307,
          125.9982,
          -92.9292,
          -39.809,
          -29.0656,
          -19.2972,
          40.6556,
          137.6757,
          -62,
          47.5272,
          379.3965,
          -41.83,
          372.402,
          -116.3455,
          1304.9,
          605.0472,
          107.45462,
          18.41,
          65.63,
          -7.73,
          -47.99525,
          66.22,
          -23.53,
          10.68,
          58.2636,
          -42.1705,
          66.36222,
          -1.904,
          -37.048,
          -56.888,
          -189.714,
          1628.37,
          -4.48,
          43.6917,
          349.0593,
          1.992,
          -22.01,
          426.46032,
          19.5546,
          152.482,
          374.625,
          -3.2448,
          6384.4389,
          -116.76,
          -160.952,
          -41.87,
          -24.7104,
          349.485
         ]
        }
       ],
       "layout": {
        "template": {
         "data": {
          "bar": [
           {
            "error_x": {
             "color": "#2a3f5f"
            },
            "error_y": {
             "color": "#2a3f5f"
            },
            "marker": {
             "line": {
              "color": "#E5ECF6",
              "width": 0.5
             },
             "pattern": {
              "fillmode": "overlay",
              "size": 10,
              "solidity": 0.2
             }
            },
            "type": "bar"
           }
          ],
          "barpolar": [
           {
            "marker": {
             "line": {
              "color": "#E5ECF6",
              "width": 0.5
             },
             "pattern": {
              "fillmode": "overlay",
              "size": 10,
              "solidity": 0.2
             }
            },
            "type": "barpolar"
           }
          ],
          "carpet": [
           {
            "aaxis": {
             "endlinecolor": "#2a3f5f",
             "gridcolor": "white",
             "linecolor": "white",
             "minorgridcolor": "white",
             "startlinecolor": "#2a3f5f"
            },
            "baxis": {
             "endlinecolor": "#2a3f5f",
             "gridcolor": "white",
             "linecolor": "white",
             "minorgridcolor": "white",
             "startlinecolor": "#2a3f5f"
            },
            "type": "carpet"
           }
          ],
          "choropleth": [
           {
            "colorbar": {
             "outlinewidth": 0,
             "ticks": ""
            },
            "type": "choropleth"
           }
          ],
          "contour": [
           {
            "colorbar": {
             "outlinewidth": 0,
             "ticks": ""
            },
            "colorscale": [
             [
              0,
              "#0d0887"
             ],
             [
              0.1111111111111111,
              "#46039f"
             ],
             [
              0.2222222222222222,
              "#7201a8"
             ],
             [
              0.3333333333333333,
              "#9c179e"
             ],
             [
              0.4444444444444444,
              "#bd3786"
             ],
             [
              0.5555555555555556,
              "#d8576b"
             ],
             [
              0.6666666666666666,
              "#ed7953"
             ],
             [
              0.7777777777777778,
              "#fb9f3a"
             ],
             [
              0.8888888888888888,
              "#fdca26"
             ],
             [
              1,
              "#f0f921"
             ]
            ],
            "type": "contour"
           }
          ],
          "contourcarpet": [
           {
            "colorbar": {
             "outlinewidth": 0,
             "ticks": ""
            },
            "type": "contourcarpet"
           }
          ],
          "heatmap": [
           {
            "colorbar": {
             "outlinewidth": 0,
             "ticks": ""
            },
            "colorscale": [
             [
              0,
              "#0d0887"
             ],
             [
              0.1111111111111111,
              "#46039f"
             ],
             [
              0.2222222222222222,
              "#7201a8"
             ],
             [
              0.3333333333333333,
              "#9c179e"
             ],
             [
              0.4444444444444444,
              "#bd3786"
             ],
             [
              0.5555555555555556,
              "#d8576b"
             ],
             [
              0.6666666666666666,
              "#ed7953"
             ],
             [
              0.7777777777777778,
              "#fb9f3a"
             ],
             [
              0.8888888888888888,
              "#fdca26"
             ],
             [
              1,
              "#f0f921"
             ]
            ],
            "type": "heatmap"
           }
          ],
          "heatmapgl": [
           {
            "colorbar": {
             "outlinewidth": 0,
             "ticks": ""
            },
            "colorscale": [
             [
              0,
              "#0d0887"
             ],
             [
              0.1111111111111111,
              "#46039f"
             ],
             [
              0.2222222222222222,
              "#7201a8"
             ],
             [
              0.3333333333333333,
              "#9c179e"
             ],
             [
              0.4444444444444444,
              "#bd3786"
             ],
             [
              0.5555555555555556,
              "#d8576b"
             ],
             [
              0.6666666666666666,
              "#ed7953"
             ],
             [
              0.7777777777777778,
              "#fb9f3a"
             ],
             [
              0.8888888888888888,
              "#fdca26"
             ],
             [
              1,
              "#f0f921"
             ]
            ],
            "type": "heatmapgl"
           }
          ],
          "histogram": [
           {
            "marker": {
             "pattern": {
              "fillmode": "overlay",
              "size": 10,
              "solidity": 0.2
             }
            },
            "type": "histogram"
           }
          ],
          "histogram2d": [
           {
            "colorbar": {
             "outlinewidth": 0,
             "ticks": ""
            },
            "colorscale": [
             [
              0,
              "#0d0887"
             ],
             [
              0.1111111111111111,
              "#46039f"
             ],
             [
              0.2222222222222222,
              "#7201a8"
             ],
             [
              0.3333333333333333,
              "#9c179e"
             ],
             [
              0.4444444444444444,
              "#bd3786"
             ],
             [
              0.5555555555555556,
              "#d8576b"
             ],
             [
              0.6666666666666666,
              "#ed7953"
             ],
             [
              0.7777777777777778,
              "#fb9f3a"
             ],
             [
              0.8888888888888888,
              "#fdca26"
             ],
             [
              1,
              "#f0f921"
             ]
            ],
            "type": "histogram2d"
           }
          ],
          "histogram2dcontour": [
           {
            "colorbar": {
             "outlinewidth": 0,
             "ticks": ""
            },
            "colorscale": [
             [
              0,
              "#0d0887"
             ],
             [
              0.1111111111111111,
              "#46039f"
             ],
             [
              0.2222222222222222,
              "#7201a8"
             ],
             [
              0.3333333333333333,
              "#9c179e"
             ],
             [
              0.4444444444444444,
              "#bd3786"
             ],
             [
              0.5555555555555556,
              "#d8576b"
             ],
             [
              0.6666666666666666,
              "#ed7953"
             ],
             [
              0.7777777777777778,
              "#fb9f3a"
             ],
             [
              0.8888888888888888,
              "#fdca26"
             ],
             [
              1,
              "#f0f921"
             ]
            ],
            "type": "histogram2dcontour"
           }
          ],
          "mesh3d": [
           {
            "colorbar": {
             "outlinewidth": 0,
             "ticks": ""
            },
            "type": "mesh3d"
           }
          ],
          "parcoords": [
           {
            "line": {
             "colorbar": {
              "outlinewidth": 0,
              "ticks": ""
             }
            },
            "type": "parcoords"
           }
          ],
          "pie": [
           {
            "automargin": true,
            "type": "pie"
           }
          ],
          "scatter": [
           {
            "fillpattern": {
             "fillmode": "overlay",
             "size": 10,
             "solidity": 0.2
            },
            "type": "scatter"
           }
          ],
          "scatter3d": [
           {
            "line": {
             "colorbar": {
              "outlinewidth": 0,
              "ticks": ""
             }
            },
            "marker": {
             "colorbar": {
              "outlinewidth": 0,
              "ticks": ""
             }
            },
            "type": "scatter3d"
           }
          ],
          "scattercarpet": [
           {
            "marker": {
             "colorbar": {
              "outlinewidth": 0,
              "ticks": ""
             }
            },
            "type": "scattercarpet"
           }
          ],
          "scattergeo": [
           {
            "marker": {
             "colorbar": {
              "outlinewidth": 0,
              "ticks": ""
             }
            },
            "type": "scattergeo"
           }
          ],
          "scattergl": [
           {
            "marker": {
             "colorbar": {
              "outlinewidth": 0,
              "ticks": ""
             }
            },
            "type": "scattergl"
           }
          ],
          "scattermapbox": [
           {
            "marker": {
             "colorbar": {
              "outlinewidth": 0,
              "ticks": ""
             }
            },
            "type": "scattermapbox"
           }
          ],
          "scatterpolar": [
           {
            "marker": {
             "colorbar": {
              "outlinewidth": 0,
              "ticks": ""
             }
            },
            "type": "scatterpolar"
           }
          ],
          "scatterpolargl": [
           {
            "marker": {
             "colorbar": {
              "outlinewidth": 0,
              "ticks": ""
             }
            },
            "type": "scatterpolargl"
           }
          ],
          "scatterternary": [
           {
            "marker": {
             "colorbar": {
              "outlinewidth": 0,
              "ticks": ""
             }
            },
            "type": "scatterternary"
           }
          ],
          "surface": [
           {
            "colorbar": {
             "outlinewidth": 0,
             "ticks": ""
            },
            "colorscale": [
             [
              0,
              "#0d0887"
             ],
             [
              0.1111111111111111,
              "#46039f"
             ],
             [
              0.2222222222222222,
              "#7201a8"
             ],
             [
              0.3333333333333333,
              "#9c179e"
             ],
             [
              0.4444444444444444,
              "#bd3786"
             ],
             [
              0.5555555555555556,
              "#d8576b"
             ],
             [
              0.6666666666666666,
              "#ed7953"
             ],
             [
              0.7777777777777778,
              "#fb9f3a"
             ],
             [
              0.8888888888888888,
              "#fdca26"
             ],
             [
              1,
              "#f0f921"
             ]
            ],
            "type": "surface"
           }
          ],
          "table": [
           {
            "cells": {
             "fill": {
              "color": "#EBF0F8"
             },
             "line": {
              "color": "white"
             }
            },
            "header": {
             "fill": {
              "color": "#C8D4E3"
             },
             "line": {
              "color": "white"
             }
            },
            "type": "table"
           }
          ]
         },
         "layout": {
          "annotationdefaults": {
           "arrowcolor": "#2a3f5f",
           "arrowhead": 0,
           "arrowwidth": 1
          },
          "autotypenumbers": "strict",
          "coloraxis": {
           "colorbar": {
            "outlinewidth": 0,
            "ticks": ""
           }
          },
          "colorscale": {
           "diverging": [
            [
             0,
             "#8e0152"
            ],
            [
             0.1,
             "#c51b7d"
            ],
            [
             0.2,
             "#de77ae"
            ],
            [
             0.3,
             "#f1b6da"
            ],
            [
             0.4,
             "#fde0ef"
            ],
            [
             0.5,
             "#f7f7f7"
            ],
            [
             0.6,
             "#e6f5d0"
            ],
            [
             0.7,
             "#b8e186"
            ],
            [
             0.8,
             "#7fbc41"
            ],
            [
             0.9,
             "#4d9221"
            ],
            [
             1,
             "#276419"
            ]
           ],
           "sequential": [
            [
             0,
             "#0d0887"
            ],
            [
             0.1111111111111111,
             "#46039f"
            ],
            [
             0.2222222222222222,
             "#7201a8"
            ],
            [
             0.3333333333333333,
             "#9c179e"
            ],
            [
             0.4444444444444444,
             "#bd3786"
            ],
            [
             0.5555555555555556,
             "#d8576b"
            ],
            [
             0.6666666666666666,
             "#ed7953"
            ],
            [
             0.7777777777777778,
             "#fb9f3a"
            ],
            [
             0.8888888888888888,
             "#fdca26"
            ],
            [
             1,
             "#f0f921"
            ]
           ],
           "sequentialminus": [
            [
             0,
             "#0d0887"
            ],
            [
             0.1111111111111111,
             "#46039f"
            ],
            [
             0.2222222222222222,
             "#7201a8"
            ],
            [
             0.3333333333333333,
             "#9c179e"
            ],
            [
             0.4444444444444444,
             "#bd3786"
            ],
            [
             0.5555555555555556,
             "#d8576b"
            ],
            [
             0.6666666666666666,
             "#ed7953"
            ],
            [
             0.7777777777777778,
             "#fb9f3a"
            ],
            [
             0.8888888888888888,
             "#fdca26"
            ],
            [
             1,
             "#f0f921"
            ]
           ]
          },
          "colorway": [
           "#636efa",
           "#EF553B",
           "#00cc96",
           "#ab63fa",
           "#FFA15A",
           "#19d3f3",
           "#FF6692",
           "#B6E880",
           "#FF97FF",
           "#FECB52"
          ],
          "font": {
           "color": "#2a3f5f"
          },
          "geo": {
           "bgcolor": "white",
           "lakecolor": "white",
           "landcolor": "#E5ECF6",
           "showlakes": true,
           "showland": true,
           "subunitcolor": "white"
          },
          "hoverlabel": {
           "align": "left"
          },
          "hovermode": "closest",
          "mapbox": {
           "style": "light"
          },
          "paper_bgcolor": "white",
          "plot_bgcolor": "#E5ECF6",
          "polar": {
           "angularaxis": {
            "gridcolor": "white",
            "linecolor": "white",
            "ticks": ""
           },
           "bgcolor": "#E5ECF6",
           "radialaxis": {
            "gridcolor": "white",
            "linecolor": "white",
            "ticks": ""
           }
          },
          "scene": {
           "xaxis": {
            "backgroundcolor": "#E5ECF6",
            "gridcolor": "white",
            "gridwidth": 2,
            "linecolor": "white",
            "showbackground": true,
            "ticks": "",
            "zerolinecolor": "white"
           },
           "yaxis": {
            "backgroundcolor": "#E5ECF6",
            "gridcolor": "white",
            "gridwidth": 2,
            "linecolor": "white",
            "showbackground": true,
            "ticks": "",
            "zerolinecolor": "white"
           },
           "zaxis": {
            "backgroundcolor": "#E5ECF6",
            "gridcolor": "white",
            "gridwidth": 2,
            "linecolor": "white",
            "showbackground": true,
            "ticks": "",
            "zerolinecolor": "white"
           }
          },
          "shapedefaults": {
           "line": {
            "color": "#2a3f5f"
           }
          },
          "ternary": {
           "aaxis": {
            "gridcolor": "white",
            "linecolor": "white",
            "ticks": ""
           },
           "baxis": {
            "gridcolor": "white",
            "linecolor": "white",
            "ticks": ""
           },
           "bgcolor": "#E5ECF6",
           "caxis": {
            "gridcolor": "white",
            "linecolor": "white",
            "ticks": ""
           }
          },
          "title": {
           "x": 0.05
          },
          "xaxis": {
           "automargin": true,
           "gridcolor": "white",
           "linecolor": "white",
           "ticks": "",
           "title": {
            "standoff": 15
           },
           "zerolinecolor": "white",
           "zerolinewidth": 2
          },
          "yaxis": {
           "automargin": true,
           "gridcolor": "white",
           "linecolor": "white",
           "ticks": "",
           "title": {
            "standoff": 15
           },
           "zerolinecolor": "white",
           "zerolinewidth": 2
          }
         }
        },
        "title": {
         "font": {
          "size": 25
         },
         "text": "Sales/Profits Line plot"
        },
        "xaxis": {
         "title": {
          "font": {
           "size": 18
          },
          "text": "Months"
         }
        },
        "yaxis": {
         "title": {
          "font": {
           "size": 18
          },
          "text": "Sales/Profit"
         }
        }
       }
      },
      "text/html": [
       "<div>                            <div id=\"c313f667-c332-42bd-9bf1-9a6a32c133ba\" class=\"plotly-graph-div\" style=\"height:525px; width:100%;\"></div>            <script type=\"text/javascript\">                require([\"plotly\"], function(Plotly) {                    window.PLOTLYENV=window.PLOTLYENV || {};                                    if (document.getElementById(\"c313f667-c332-42bd-9bf1-9a6a32c133ba\")) {                    Plotly.newPlot(                        \"c313f667-c332-42bd-9bf1-9a6a32c133ba\",                        [{\"name\":\"Sales Trend Line\",\"x\":[0,1,2,3,4,5,6,7,8,9,10,11,12,13,14,15,16,17,18,19,20,21,22,23,24,25,26,27,28,29,30,31,32,33,34,35,36,37,38,39,40,41,42,43,44,45,46,47,48,49,50,51,52,53,54,55,56,57,58,59,60,61,62,63,64,65,66,67,68,69,70,71,72,73,74,75,76,77,78,79,80,81,82,83,84,85,86,87,88,89,90,91,92,93,94,95,96,97,98,99,100,101,102,103,104,105,106,107,108,109,110,111,112,113,114,115,116,117,118,119,120,121,122,123,124,125,126,127,128,129,130,131,132,133,134,135,136,137,138,139,140,141,142,143,144,145,146,147,148,149,150,151,152,153,154,155,156,157,158,159,160,161,162,163,164,165,166,167,168,169,170,171,172,173,174,175,176,177,178,179,180,182,183,184,185,186,187,188,189,190,191,192,193,194,195,196,197,198,199,200,201,202,203,204,205,206,207,208,209,210,211,212,213,214,215,216,217,218,219,220,221,222,223,224,225,226,227,228,229,230,231,232,233,234,235,236,237,238,239,240,241,242,243,244,245,246,247,248,249,250,251,252,253,254,255,256,257,258,259,260,261,262,263,264,265,266,267,268,269,270,272,273,274,275,276,277,278,279,280,281,282,283,284,285,286,287,288,289,290,291,292,293,294,295,296,297,298,299,300,301,302,303,304,305,306,307,308,309,310,311,312,313,314,315,316,317,318,319,320,321,322,323,324,325,326,327,328,329,330,331,332,333,334,335,336,337,338,339,340,341,342,343,344,345,346,347,348,349,350,351,352,353,354,355,356,357,358,359,360,361,362,363,364,365,366,367,368,369,370,371,372,373,374,375,376,377,378,379,380,381,382,383,384,385,386,387,388,389,390,391,392,393,394,395,396,397,398,399,400,401,402,403,404,405,406,407,408,409,410,411,412,413,414,415,416,417,418,419,420,421,422,423,424,425,426,427,428,429,430,431,432,433,434,435,436,437,438,439,440,441,442,443,444,445,446,447,448,449,450,451,452,453,454,455,456,457,458,459,460,461,462,463,464,465,466,467,468,469,470,471,472,473,474,475,476,477,478,479,480,481,482,484,485,486,487,488,489,490,491,492,493,494,495,496,497,498,499,500,501,502,503,504,505,506,507,508,509,510,511,512,513,514,515,516,517,518,519,520,521,522,523,524,525,526,527,528,529,530,531,532,533,534,535,536,537,538,539,540,541,542,543,544,545,546,547,548,549,550,551,552,553,554,555,556,557,558,559,560,561,562,563,564,565,566,567,568,569,570,571,572,573,574,575,576,577,578,579,580,581,582,583,584,585,586,587,588,589,590,591,592,593,594,595,596,597,598,599,600,601,602,603,604,605,606,607,608,609,610,611,612,613,614,615,616,617,618,619,620,621,622,623,624,625,626,627,628,629,630,631,632,633,634,635,636,637,638,639,640,641,642,643,644,645,646,647,648,649,650,651,652,653,654,655,656,657,658,659,661,662,663,664,665,666,667,668,669,670,671,672,673,674,675,676,677,678,679,680,681,682,683,684,685,686,687,688,689,690,691,692,693,694,695,696,697,698,699,701,702,703,704,705,706,707,708,709,710,711,712,713,714,715,716,717,718,719,720,721,722,723,724,725,726,728,729,730,731,732,733,735,737,738,739,740,741,742,743,744,745,746,747,748,749,750,751,752,753,754,755,756,757,758,759,760,761,762,763,764,765,766,767,768,769,770,771,772,773,774,775,776,777,778,779,780,781,782,783,784,785,786,787,788,789,790,791,792,793,794,795,796,797,798,799,800,801,802,803,804,805,806,807,808,809,810,811,812,813,814,815,816,817,818,819,820,821,822,823,824,825,826,827,828,829,830,831,832,833,834,835,836,837,838,839,840,841,842,843,844,845,846,847,848,849,850,851,852,853,854,855,856,857,858,859,860,861,862,863,864,865,866,867,868,869,870,871,872,873,874,875,876,877,878,879,880,881,882,883,884,885,886,887,888,889,890,891,892,893,894,895,896,897,898,899,900,901,902,903,904,905,906,907,908,909,910,911,912,913,914,915,916,917,918,919,920,921,922,923,924,925,926,927,928,929,930,931,932,933,934,935,936,937,938,939,940,941,942,943,944,945,946,947,948,949,950,951,952,953,954,955,956,957,958,959,960,961,962,963,964,965,966,967,968,969,970,971,972,973,974,975,976,978,979,980,981,982,983,984,985,986,987,988,989,990,991,992,993,994,995,996,997,998,999,1000,1001,1002,1003,1004,1005,1006,1007,1008,1009,1010,1011,1012,1013,1014,1015,1016,1017,1018,1019,1020,1021,1022,1023,1024,1025,1026,1027,1028,1029,1030,1031,1032,1033,1034,1035,1036,1037,1038,1039,1040,1041,1042,1043,1044,1045,1046,1047,1048,1049,1050,1051,1052,1053,1054,1055,1056,1057,1058,1059,1060,1061,1062,1063,1064,1065,1066,1067,1068,1069,1070,1071,1072,1073,1074,1075,1076,1077,1078,1079,1080,1081,1082,1083,1084,1085,1086,1087,1088,1089,1090,1091,1092,1093,1094,1095,1096,1097,1098,1099,1100,1101,1102,1103,1104,1105,1106,1107,1108,1109,1110,1111,1112,1113,1114,1115,1116,1117,1118,1119,1120,1121,1122,1123,1124,1125,1126,1127,1128,1129,1130,1131,1132,1133,1134,1135,1136,1137,1138,1139,1140,1141,1142,1143,1144,1145,1146,1147,1148,1149,1150,1151,1152,1153,1154,1155,1156,1157,1158,1159,1160,1161,1162,1163,1164,1165,1166,1167,1168,1169,1170,1171,1172,1173,1174,1175,1176,1177,1178,1179,1180,1181,1182,1183,1184,1185,1186,1187,1188,1189,1190,1191,1192,1193,1194,1195,1196,1197,1198,1199,1200,1201,1202,1203,1204,1205,1206,1207,1208,1209,1210,1211,1212,1213,1214,1215,1216,1217,1218,1219,1220,1221,1222,1223,1224,1225,1226,1227,1229,1230,1231,1232,1233,1234,1235,1236,1237,1238,1239,1240,1241,1242,1243,1244,1245,1246,1247,1248,1249,1250,1251,1252,1253,1254,1255,1256,1257,1258,1259,1260,1261,1262,1263,1264,1265,1266,1267,1268,1269,1270,1271,1272,1273,1274,1275,1276,1277,1278,1279,1280,1281,1282,1283,1284,1285,1286,1287,1288,1289,1290,1291,1292,1293,1294,1295,1296,1297,1298,1299,1300,1301,1302,1303,1304,1305,1306,1307,1308,1309,1310,1311,1312,1313,1314,1315,1316,1317,1318,1319,1320,1321,1322,1323,1324,1325,1326,1327,1328,1329,1330,1331,1332,1333,1334,1335,1336,1337,1338,1339,1340,1341,1342,1343,1344,1345,1346,1347,1348,1349,1350,1351,1352,1353,1354,1355,1356,1357,1358,1359,1360,1361,1362,1363,1364,1365,1366,1367,1368,1369,1370,1371,1372,1373,1374,1375,1376,1377,1378,1379,1380,1381,1382,1383,1384,1385,1386,1387,1388,1389,1390,1391,1392,1393,1394,1395,1396,1397,1398,1399,1400,1401,1402,1403,1404,1405,1406,1407,1408,1409,1410,1411,1412,1413,1414,1415,1416,1417,1418,1419,1420,1421,1422,1423,1424,1425,1426,1427,1428,1429,1430,1431,1432,1433,1434,1435,1436,1437,1438,1439,1440,1441,1442,1443,1444,1445,1446,1447,1448,1449,1450,1451,1452,1453,1454,1455,1456,1457,1458,1459,1460,1461,1462,1463,1464,1465,1466,1467,1468,1469,1470,1471,1472,1473,1474,1475,1476,1477,1478,1479,1480,1481,1482,1483,1484,1485,1486,1487,1488,1489,1490,1491,1492,1493,1494,1495,1496,1497,1498,1499,1500,1501,1502,1503,1504,1505,1506,1508,1509,1510,1511,1512,1513,1514,1515,1516,1517,1518,1519,1520,1521,1522,1523,1524,1525,1526,1527,1528,1529,1530,1531,1532,1533,1534,1535,1536,1537,1538,1539,1540,1541,1542,1543,1544,1545,1546,1547,1548,1549,1550,1551,1552,1553,1554,1555,1556,1557,1558,1559,1560,1561,1562,1563,1564,1565,1566,1567,1568,1569,1570,1571,1572,1573,1574,1575,1576,1577,1578,1579,1580,1581,1582,1583,1584,1585,1586,1587,1588,1589,1590,1591,1592,1593,1594,1595,1596,1597,1598,1599,1600,1601,1602,1603,1604,1605,1606,1607,1608,1609,1610,1611,1612,1613,1614,1615,1616,1617,1618,1619,1620,1621,1622,1623,1624,1625,1626,1627,1628,1629,1630,1631,1632,1633,1634,1635,1636,1637,1638,1639,1640,1641,1642,1643,1644,1645,1646,1647,1648,1649,1650,1651,1652,1653,1654,1655,1656,1657,1658,1659,1660,1661,1662,1663,1664,1665,1666,1667,1668,1669,1670,1671,1672,1673,1674,1675,1676,1677,1678,1679,1680,1681,1682,1683,1684,1685,1686,1687,1688,1689,1690,1691,1692,1693,1694,1695,1696,1697,1698,1699,1700,1701,1702,1703,1704,1705,1706,1707,1708,1709,1710,1711,1712,1713,1714,1715,1716,1717,1718,1719,1720,1721,1722,1723,1724,1725,1726,1727,1728,1730,1731,1732,1733,1734,1735,1736,1737,1738,1739,1740,1741,1742,1743,1744,1745,1746,1747,1748,1749,1750,1751,1752,1753,1754,1755,1756,1757,1758,1759,1760,1761,1762,1763,1764,1765,1766,1767,1768,1769,1770,1771,1772,1773,1775,1776,1777,1778,1779,1780,1781,1782,1783,1784,1785,1786,1787,1788,1789,1790,1791,1792,1793,1794,1795,1796,1797,1798,1799,1800,1801,1802,1803,1804,1805,1806,1807,1808,1809,1810,1811,1812,1813,1814,1815,1816,1817,1818,1819,1820,1821,1822,1823,1824,1825,1826,1827,1828,1829,1830,1831,1832,1833,1834,1835,1836,1837,1838,1839,1840,1841,1842,1843,1844,1845,1846,1847,1848,1849,1850,1851,1852,1853,1854,1855,1856,1857,1858,1859,1861,1862,1863,1864,1865,1866,1867,1868,1869,1870,1871,1872,1873,1874,1875,1876,1877,1878,1879,1880,1881,1882,1883,1884,1885,1886,1887,1888,1889,1890,1891,1892,1893,1894,1895,1896,1897,1898,1899,1900,1901,1902,1903,1904,1905,1906,1907,1908,1909,1910,1911,1912,1913,1914,1915,1916,1917,1918,1919,1920,1921,1922,1923,1924,1925,1926,1927,1928,1929,1930,1931,1932,1933,1934,1936,1937,1938,1939,1940,1941,1942,1944,1945,1946,1947,1948,1949,1950,1951],\"y\":[13.01,6362.85,211.15,1164.45,22.23,13.99,14.26,33.47,379.53,18.8,945.99,455.77,231.79,1876.69,293.06,914.29,67.49,2.25,54.78,424.68,40.17,783.55,3838.14,58.68,53.1,647.07,627.04,3267.55,110.19,73.55,29.57,22.85,506.39,4.0,589.8,1225.6,1239.06,4083.19,4902.38,5718.85,1400.53,1821.89,90.98,10728.0,3127.69,41.82,2875.72,170.8,53.54,3363.53,132.08,45.34,216.04,6276.34,2664.4,1526.68,1952.56,303.59,9459.94,1233.32,47.31,2441.27,11.13,29.5,58.33,20.42,26.07,122.23,228.46,77.61,99.94,59.85,1708.73,94.97,10.23,217.23,101.74,84.52,312.59,64.4,14.65,453.62,193.59,929.57,62.46,28.11,5.5,667.84,292.23,772.56,1050.08,33.82,715.55,45.63,1839.91,130.62,6945.16,30.94,3.42,901.81,186.59,250.5,221.24,46.65,164.71,79.68,53.26,203.49,2356.01,224.12,140.3,28.2,71.55,3108.98,12599.55,34.65,85.79,17.61,27.3,64.75,62.98,21.2,173.32,42.29,730.37,450.49,58.8,120.47,1599.96,197.59,33.04,27.45,4775.11,57.41,2809.87,79.93,873.18,798.69,792.11,28.73,109.74,1543.55,1332.82,34.64,52.47,26.38,304.34,1300.81,67.86,747.28,18.67,210.77,209.12,1287.17,46.17,899.81,68.46,885.23,836.47,189.83,61.52,8.3,416.95,18.71,40.95,1155.73,192.3,748.1,102.54,70.16,1240.57,280.62,3206.94,43.08,66.55,103.49,192.18,89.76,28.46,1170.21,243.32,8.53,40.3,111.88,73.97,111.86,18.49,212.89,5555.6,55.54,1440.34,84.76,104.84,1714.93,107.95,1967.98,394.1,266.39,51.82,9539.6,109.86,1426.51,2331.9,27.47,460.87,394.51,38.65,279.83,126.9,22.82,188.66,1845.23,37.16,43.65,31.44,64.59,461.94,1216.32,1989.32,72.76,400.47,1531.31,919.09,236.46,73.82,243.11,952.26,355.92,101.71,1766.68,29.02,159.51,1838.85,35.48,434.31,19.86,23.26,51.83,32.4,492.9,1081.54,1132.84,143.63,73.04,33.35,60.24,718.03,179.51,73.18,8.82,5976.09,8.77,20.87,25.7,229.57,66.7,217.0,31670.6,239.82,66.71,87.16,101.26,17.4,52.93,8637.44,59.95,5062.49,646.97,946.29,123.0,152.54,89.79,199.76,480.37,5.76,3112.13,2589.01,1893.93,211.13,25.39,87.27,403.25,414.49,469.69,8585.67,57.37,66.32,18.75,188.51,6720.88,102.21,31.18,267.53,43046.2,330.21,6831.37,10331.09,83.86,1707.84,66.88,274.91,1128.74,805.99,1066.54,65.74,5.84,405.57,32.6,515.88,25.06,578.24,116.93,170.45,285.87,20.37,17.44,702.68,67.24,24.27,38.53,4910.72,116.8,32.39,227.79,5679.59,102.32,1494.63,46.23,279.28,70.06,81.82,13.16,205.98,31.46,948.97,136.99,99.36,9580.0,28.32,2309.49,1232.01,506.38,1042.72,1769.91,6686.34,4620.05,1912.98,4170.87,818.81,34.11,154.71,192.33,6901.25,148.94,200.68,29.92,19.73,615.54,261.34,202.41,793.39,54.04,832.14,221.06,58.67,101.06,1429.81,34.97,308.86,485.01,81.14,10.11,6621.17,253.78,69.96,2716.09,21.34,17.42,49.81,3722.41,95.1,734.74,1882.87,8834.58,78.54,605.1,355.84,1346.32,292.18,322.03,2470.84,5250.66,1423.35,1154.12,32.5,193.95,158.8,274.26,83.16,261.93,210.1,6499.87,351.56,87.89,6.5,68.56,20.79,67.91,40.37,122.25,206.09,66.9,43.13,11.21,100.38,66.32,1178.32,2016.32,612.25,313.63,397.17,63.48,47.64,1545.58,2104.99,353.1,257.52,411.64,17.59,141.54,905.4,243.86,39.97,92.96,1362.2,336.64,429.33,44.66,1619.95,56.44,56.73,64.41,344.57,279.01,614.99,76.23,99.92,79.4,15.49,18.59,834.08,50.88,958.46,368.84,30.86,568.25,126.66,93.82,8332.91,5.9,80.23,2044.9,53.3,21.93,28.46,89.91,138.51,41.96,300.63,240.46,74.08,5.28,50.83,39.26,606.51,64.89,267.2,86.79,292.37,682.79,125.77,31.24,74.77,127.81,78.59,497.11,27.02,27.67,1033.56,19.97,660.03,199.12,63.14,44.85,49.78,16.62,517.68,573.31,140.23,594.44,228.5,191.1,28.05,151.77,57.13,116.92,151.6,31.73,85.26,16.6,2285.41,513.52,346.52,499.31,73.1,2115.06,47.95,134.38,76.77,782.0,15.73,1719.07,8.41,104.95,166.59,396.19,98.7,1782.44,72.11,124.81,881.32,41.6,1497.22,244.81,4.55,27.63,31.21,1214.03,3.51,120.12,7.01,1452.18,619.38,18.69,8.8,477.2,2848.38,38.58,810.47,72.83,63.66,127.22,432.44,12.18,950.43,25.37,6963.67,160.17,7.47,370.81,119.99,650.7,11.41,680.39,75.52,2354.54,79.06,65.14,640.71,659.6,1137.6,151.55,57.03,347.23,478.23,93.82,1670.33,100.59,598.38,39.36,322.77,65.09,98.96,13546.94,6401.65,617.4,157.78,26.31,209.78,17.83,2527.79,121.87,659.42,403.53,55.17,377.44,286.4,664.34,473.53,220.92,196.41,54.08,47.18,30.87,309.05,299.3,45.24,51.02,2291.39,9492.92,318.47,586.96,11272.77,144.33,270.55,79.62,479.79,108.99,3527.82,4698.21,43.08,258.93,277.6,168.04,703.46,103.61,3144.56,2653.02,66.81,90.52,55.97,311.66,9862.51,177.41,406.91,1332.09,105.5,101.73,37.7,75.81,2630.0,333.02,27.76,3855.28,192.49,2560.55,227.67,8.83,34.41,157.27,1013.84,110.75,181.46,1076.3,21.46,3506.78,267.69,39.15,266.95,20552.55,87.8,3741.39,149.32,177.01,35.16,88.84,696.96,149.41,4556.63,2948.61,517.85,2373.32,325.73,127.94,1350.94,75.17,1125.76,746.03,593.33,13.05,58.95,3672.89,374.81,43.27,11.74,5258.94,66.74,1282.67,208.83,228.3,129.53,55.68,568.24,162.91,97.65,1018.61,24.52,5775.81,1878.24,1634.67,9280.72,1348.83,564.98,129.48,8216.28,152.11,35.97,85.64,2508.15,225.62,610.65,699.24,2346.03,33.77,172.79,19.66,604.35,3.13,38.65,378.23,7.15,29.85,69.75,852.53,219.66,81.9,2343.34,327.61,1054.69,4429.69,878.34,676.57,459.55,536.9,8.74,182.33,131.26,240.6,236.88,2710.47,8354.73,48.3,58.81,47.38,637.76,2156.06,761.16,682.68,73.44,2997.07,282.85,20.03,84.56,70.71,51.86,56.24,627.78,283.44,8.3,10.04,981.65,1748.69,119.29,3.08,69.46,1145.72,26.37,53.44,57.34,79.02,25.45,110.72,46.94,26.18,28.66,123.18,1533.59,2.77,31.55,42.58,145.36,3616.52,7.96,389.59,447.89,1420.84,111.97,355.21,536.23,38.81,2144.92,484.56,471.21,182.61,36.58,2376.12,1020.08,65.2,22.59,121.36,2013.67,1824.33,107.65,165.21,25.15,4285.56,631.37,267.83,21.46,2767.95,123.03,431.84,2366.51,291.64,252.36,575.07,1781.66,940.64,439.27,4410.19,552.89,621.56,88.83,307.65,76.91,151.34,290.24,971.4,193.51,157.81,19.44,4636.63,739.07,157.64,42.16,14.08,256.73,18.59,58.83,1557.66,129.43,61.39,2435.52,464.86,288.67,1030.51,2026.91,115.53,162.39,1316.03,1395.41,4920.81,28.22,74.01,48.1,11015.82,300.67,723.54,87.53,172.22,894.88,16.67,195.16,879.62,361.19,1088.26,105.75,63.93,391.4,14.53,144.03,48.81,7360.2,89.06,134.97,17.42,19.12,186.64,3.53,706.56,13121.07,110.93,118.35,17.31,23.56,494.49,158.13,163.01,333.04,472.44,18.73,2427.18,434.85,19.16,1959.88,710.16,48.25,243.24,38.54,1483.16,562.93,29.18,1634.13,214.14,100.79,35.97,735.7,225.59,145.12,94.27,82.21,417.47,1104.32,149.8,6.97,367.52,1576.35,52.16,4881.84,926.3,942.53,276.64,514.62,817.32,284.48,225.98,72.77,57.7,19.67,514.79,893.53,2053.6,37.89,343.79,188.09,129.54,49.44,14.29,45.28,13.57,55.48,5319.35,30.44,3251.76,22.48,267.32,284.39,974.14,128.13,464.94,2188.06,320.93,261.85,1834.61,261.56,114.81,546.21,272.86,2119.54,45737.33,438.25,561.06,11434.33,3229.24,101.13,451.83,20.24,1486.34,406.26,52.1,45.87,256.77,605.82,1569.0,151.46,10.19,64.19,118.57,79.47,627.28,1160.42,103.37,40.22,52.43,818.49,410.17,269.54,106.57,38.41,131.34,251.61,287.99,46.86,658.62,21.96,24.57,1008.53,6968.9,41.29,88.64,1300.54,38.06,1263.35,202.38,56.38,119.13,809.51,643.64,244.31,466.58,2290.69,337.59,10.65,55.13,215.32,382.85,44.8,100.99,142.06,58.52,363.74,15.93,21.28,675.83,28.0,535.08,222.71,220.52,68.34,522.22,28.01,80.35,99.69,152.49,320.75,11.35,7029.1,1059.38,2233.46,928.92,3845.35,3.77,343.54,3627.08,8.34,63.32,83.72,1011.44,132.23,210.33,168.04,882.93,1757.15,1786.04,34.76,561.65,413.73,55.6,2099.61,96.6,558.17,8.39,559.43,1216.52,1058.36,18.31,4935.22,51.03,746.91,77.47,204.34,206.04,475.42,3598.82,41.22,875.39,8.24,641.11,35.48,2130.04,82.8,99.02,46.4,551.51,142.79,585.08,72.75,269.33,377.0,42.99,65.69,2748.21,93.19,363.37,480.75,16.88,925.19,408.66,122.93,32.66,14.85,45.0,6569.07,88.22,40.29,151.27,10.51,74.93,1370.99,1913.84,2692.12,762.38,36.72,305.71,277.12,100.11,31.54,4634.69,7304.03,632.65,290.98,21.77,384.22,31.64,565.36,32.76,336.92,114.91,934.52,260.66,4249.37,6676.61,291.4,146.5,38.98,34.16,120.34,153.61,1414.88,33.63,1063.81,242.7,3377.06,123.93,93.96,1818.41,8.95,652.84,12750.99,20.54,7840.04,1094.33,389.97,84.59,9666.72,134.58,33.65,66.12,3.07,255.83,421.18,1377.46,6600.63,1811.99,799.76,609.09,2761.94,33.95,302.34,334.44,556.61,64.48,4845.27,19.68,9798.84,154.11,242.97,200.61,237.83,53.02,248.84,7.21,253.87,5880.46,577.25,4075.18,1798.23,727.2,6173.42,1553.7,18.68,36.3,16.03,25.35,19.32,86.8,381.91,761.67,5014.07,186.19,1227.94,294.97,2458.05,2465.75,650.25,272.12,428.85,342.54,27.96,1635.38,58.48,40.05,1117.66,807.0,169.46,5768.12,55.25,551.22,83.93,990.25,14.76,808.44,67.41,55.08,1608.11,99.75,51.41,68.72,618.96,77.54,361.72,1373.47,91.92,73.29,2961.32,87.11,170.46,4.95,461.24,577.75,59.4,66.46,35.35,248.21,4086.5,375.03,22.11,2875.35,78.08,2013.88,201.32,298.51,3846.06,35.93,1610.84,86.12,76.87,374.6,61.87,48.88,21.56,164.67,72.74,418.75,469.59,136.25,558.41,290.22,1129.67,2439.37,92.02,283.55,9757.48,850.64,1159.79,20.22,1548.97,337.86,84.21,38.74,134.09,191.73,618.85,115.99,19.46,44.75,9.23,96.13,73.96,1805.9,311.41,3707.05,2805.18,80.86,1096.63,632.12,1302.98,131.79,35.33,674.55,1721.24,668.38,324.62,40.93,53.42,8.49,69.89,77.42,7.2,61.29,109.15,1477.84,29.08,1162.46,109.86,5911.35,4649.85,2259.99,42.46,314.06,1009.99,92.16,16.5,1202.66,196.69,40.28,904.31,96.86,765.65,8.72,6355.69,28.09,1130.15,54.37,100.87,1857.08,42.56,414.91,91.39,202.29,168.71,885.65,152.05,49.1,246.44,199.08,2039.07,436.94,37.38,47.4,260.0,709.7,27.42,739.06,30.47,96.96,4.21,3550.28,1188.63,1009.93,140.7,15.95,42.35,63.78,451.61,10.41,2849.64,38.04,42.53,14.77,438.33,38.11,169.46,724.57,51.13,79.61,109.99,900.12,237.62,176.42,2084.16,43.41,46.42,1140.95,42.69,327.41,3786.84,2012.11,471.66,662.8,119.86,2651.21,38.96,8048.45,1939.03,457.63,170.75,1339.42,8.66,10554.63,1749.64,355.4,148.36,2814.57,88.85,70.82,90.44,10.72,10180.01,42.44,462.57,125.37,190.85,370.68,2400.95,7303.05,58.05,68.64,277.07,51.99,149.67,61.1,193.81,257.48,3194.99,202.98,10.86,1477.57,382.29,881.74,7384.18,448.26,95.57,214.48,1790.1,110.68,385.45,19.32,30.1,261.21,42.79,1828.22,29.77,147.19,39.17,87.85,7429.63,224.29,51.2,29718.53,197.48,46.85,93.57,2694.49,174.5,26.01,1527.97,110.86,97.98,127.83,289.88,4354.55,146.17,42.02,3705.14,945.36,49.24,68.45,44.75,40.69,130.11,337.34,280.43,103.39,435.39,1051.52,25.85,119.37,257.92,207.22,237.8,448.47,1000.26,2184.99,1191.2,165.71,1277.49,14.2,52.21,170.32,203.29,759.88,94.2,34.32,392.45,511.25,29.88,356.92,136.16,130.74,49.87,24.18,27587.55,1191.58,6938.19,419.27,36.0,11.78,20.96,26.66,29.55,1237.4,17.64,74.23,627.19,612.92,29.08,2569.57,78.99,1345.33,15.19,59.49,57.84,1425.71,25.26,736.16,31.96,98.17,264.95,53.21,122.8,282.38,924.8,821.17,194.08,237.77,316.28,2591.09,150.24,10364.36,657.61,241.97,120.81,41.4,159.53,536.29,10.96,4146.28,3902.09,14.18,2118.99,837.64,345.07,5.48,8201.33,22.67,393.98,19.29,5.21,22.92,30.9,2363.08,328.45,386.61,43.94,43.31,284.34,3913.02,180.14,364.92,12.16,147.56,113.68,281.75,240.05,87.21,40.15,90.46,467.03,608.81,808.61,637.37,232.16,360.03,260.01,273.79,44.62,268.64,87.68,37.62,832.97,1042.54,76.16,1038.14,6296.0,8.79,2051.68,5295.03,80.27,3292.02,199.43,110.71,56.68,273.34,226.88,5220.48,113.44,66.02,33.02,2273.1,19.49,5845.81,633.85,107.51,421.08,77.2,5587.89,159.89,180.48,350.48,936.8,232.5,7497.05,1336.35,1724.01,59.79,240.21,1785.01,318.18,38.89,45.12,90.45,2125.12,45.05,7045.02,370.62,904.25,16.31,364.26,16.07,25.26,581.08,27.53,32.33,642.06,1068.6,99.75,226.53,68.65,236.83,1944.87,135.77,55.43,20.46,931.87,21.41,59.75,162.49,819.4,1809.75,70.03,102.43,137.76,326.03,379.72,48.33,34.91,47.04,10.94,731.38,344.87,523.06,2424.68,2411.43,1278.96,25.22,34.73,247.53,23.89,454.4,14.53,15.65,111.92,1700.38,35.96,141.59,203.05,56.19,40.8,117.87,1503.05,382.33,356.61,1506.89,92.29,82.29,203.37,160.66,107.08,9705.46,3247.54,5582.63,2426.36,824.0,1347.53,11.16,45.22,52.93,75.61,67.64,240.42,184.4,3802.01,1181.67,29.93,171.33,84.04,251.06,1173.76,50.28,2570.45,158.87,56.71,5086.08,1894.45,200.72,36.82,84.6,296.75,582.2,171.93,35.19,2037.69,722.1,140.78,129.72,12190.98,1483.76,87.18,798.89,133.19,97.33,130.91,281.82,991.24,119.86,98.77,2495.35,200.83,348.08,131.69,13.93,31.71,60.01,90.98,1270.7,236.87,370.91,4976.92,574.97,115.22,456.58,2642.48,61.5,1276.88,233.58,31.98,519.42,2382.72,64.96,19.14,25.35,45.03,153.87,2800.33,3596.03,2353.55,92.57,7974.21,87.1,736.86,33.84,14.9,39.64,139.49,1952.43,1370.79,3501.79,63.04,451.35,119.6,59.9,99.22,1183.82,201.77,443.66,541.76,107.66,318.83,3600.65,3936.61,78.31,42.46,14.66,83.14,215.25,1358.02,358.84,511.57,8.65,380.0,199.48,93.81,312.22,43.84,141.74,8717.75,2230.12,56.4,257.52,1488.51,801.93,44.24,79.74,392.45,48.32,332.16,147.62,125.9,768.81,183.39,12.9,17.89,255.88,378.82,152.18,53.89,1001.02,495.82,24.44,21.86,47.12,670.9,412.72,14.52,103.18,97.96,700.41,646.88,1029.96,52.09,1794.88,765.04,127.12,5183.89,36.09,366.26,157.99,1212.88,125.19,1867.04,537.8,119.78,12.15,288.42,511.42,200.64,17.62,80.58,25.31,369.78,57.14,498.31,431.43,57.24,824.7,58.5,131.62,121.46,356.14,27.08,65.85,50.71,45.0,19.02,193.87,1434.51,8549.04,2239.03,22.13,34.17,94.3,384.22,178.68,79.39,199.53,37.05,68.88,549.85,48.99,681.42,66.65,2934.16,876.88,157.33,27.37,98.16,116.11,95.0,837.57,56.22,758.97,84.44,29.99,1487.9,600.4,34.25,31.45,249.07,59.22,5572.18,522.46,25.31,513.33,15.7,680.65,28.34,861.3,710.36,80.2,9252.81,207.31,143.12,59.98,135.78,506.5],\"type\":\"scatter\"},{\"name\":\"Profit Trend Line\",\"x\":[0,1,2,3,4,5,6,7,8,9,10,11,12,13,14,15,16,17,18,19,20,21,22,23,24,25,26,27,28,29,30,31,32,33,34,35,36,37,38,39,40,41,42,43,44,45,46,47,48,49,50,51,52,53,54,55,56,57,58,59,60,61,62,63,64,65,66,67,68,69,70,71,72,73,74,75,76,77,78,79,80,81,82,83,84,85,86,87,88,89,90,91,92,93,94,95,96,97,98,99,100,101,102,103,104,105,106,107,108,109,110,111,112,113,114,115,116,117,118,119,120,121,122,123,124,125,126,127,128,129,130,131,132,133,134,135,136,137,138,139,140,141,142,143,144,145,146,147,148,149,150,151,152,153,154,155,156,157,158,159,160,161,162,163,164,165,166,167,168,169,170,171,172,173,174,175,176,177,178,179,180,182,183,184,185,186,187,188,189,190,191,192,193,194,195,196,197,198,199,200,201,202,203,204,205,206,207,208,209,210,211,212,213,214,215,216,217,218,219,220,221,222,223,224,225,226,227,228,229,230,231,232,233,234,235,236,237,238,239,240,241,242,243,244,245,246,247,248,249,250,251,252,253,254,255,256,257,258,259,260,261,262,263,264,265,266,267,268,269,270,272,273,274,275,276,277,278,279,280,281,282,283,284,285,286,287,288,289,290,291,292,293,294,295,296,297,298,299,300,301,302,303,304,305,306,307,308,309,310,311,312,313,314,315,316,317,318,319,320,321,322,323,324,325,326,327,328,329,330,331,332,333,334,335,336,337,338,339,340,341,342,343,344,345,346,347,348,349,350,351,352,353,354,355,356,357,358,359,360,361,362,363,364,365,366,367,368,369,370,371,372,373,374,375,376,377,378,379,380,381,382,383,384,385,386,387,388,389,390,391,392,393,394,395,396,397,398,399,400,401,402,403,404,405,406,407,408,409,410,411,412,413,414,415,416,417,418,419,420,421,422,423,424,425,426,427,428,429,430,431,432,433,434,435,436,437,438,439,440,441,442,443,444,445,446,447,448,449,450,451,452,453,454,455,456,457,458,459,460,461,462,463,464,465,466,467,468,469,470,471,472,473,474,475,476,477,478,479,480,481,482,484,485,486,487,488,489,490,491,492,493,494,495,496,497,498,499,500,501,502,503,504,505,506,507,508,509,510,511,512,513,514,515,516,517,518,519,520,521,522,523,524,525,526,527,528,529,530,531,532,533,534,535,536,537,538,539,540,541,542,543,544,545,546,547,548,549,550,551,552,553,554,555,556,557,558,559,560,561,562,563,564,565,566,567,568,569,570,571,572,573,574,575,576,577,578,579,580,581,582,583,584,585,586,587,588,589,590,591,592,593,594,595,596,597,598,599,600,601,602,603,604,605,606,607,608,609,610,611,612,613,614,615,616,617,618,619,620,621,622,623,624,625,626,627,628,629,630,631,632,633,634,635,636,637,638,639,640,641,642,643,644,645,646,647,648,649,650,651,652,653,654,655,656,657,658,659,661,662,663,664,665,666,667,668,669,670,671,672,673,674,675,676,677,678,679,680,681,682,683,684,685,686,687,688,689,690,691,692,693,694,695,696,697,698,699,701,702,703,704,705,706,707,708,709,710,711,712,713,714,715,716,717,718,719,720,721,722,723,724,725,726,728,729,730,731,732,733,735,737,738,739,740,741,742,743,744,745,746,747,748,749,750,751,752,753,754,755,756,757,758,759,760,761,762,763,764,765,766,767,768,769,770,771,772,773,774,775,776,777,778,779,780,781,782,783,784,785,786,787,788,789,790,791,792,793,794,795,796,797,798,799,800,801,802,803,804,805,806,807,808,809,810,811,812,813,814,815,816,817,818,819,820,821,822,823,824,825,826,827,828,829,830,831,832,833,834,835,836,837,838,839,840,841,842,843,844,845,846,847,848,849,850,851,852,853,854,855,856,857,858,859,860,861,862,863,864,865,866,867,868,869,870,871,872,873,874,875,876,877,878,879,880,881,882,883,884,885,886,887,888,889,890,891,892,893,894,895,896,897,898,899,900,901,902,903,904,905,906,907,908,909,910,911,912,913,914,915,916,917,918,919,920,921,922,923,924,925,926,927,928,929,930,931,932,933,934,935,936,937,938,939,940,941,942,943,944,945,946,947,948,949,950,951,952,953,954,955,956,957,958,959,960,961,962,963,964,965,966,967,968,969,970,971,972,973,974,975,976,978,979,980,981,982,983,984,985,986,987,988,989,990,991,992,993,994,995,996,997,998,999,1000,1001,1002,1003,1004,1005,1006,1007,1008,1009,1010,1011,1012,1013,1014,1015,1016,1017,1018,1019,1020,1021,1022,1023,1024,1025,1026,1027,1028,1029,1030,1031,1032,1033,1034,1035,1036,1037,1038,1039,1040,1041,1042,1043,1044,1045,1046,1047,1048,1049,1050,1051,1052,1053,1054,1055,1056,1057,1058,1059,1060,1061,1062,1063,1064,1065,1066,1067,1068,1069,1070,1071,1072,1073,1074,1075,1076,1077,1078,1079,1080,1081,1082,1083,1084,1085,1086,1087,1088,1089,1090,1091,1092,1093,1094,1095,1096,1097,1098,1099,1100,1101,1102,1103,1104,1105,1106,1107,1108,1109,1110,1111,1112,1113,1114,1115,1116,1117,1118,1119,1120,1121,1122,1123,1124,1125,1126,1127,1128,1129,1130,1131,1132,1133,1134,1135,1136,1137,1138,1139,1140,1141,1142,1143,1144,1145,1146,1147,1148,1149,1150,1151,1152,1153,1154,1155,1156,1157,1158,1159,1160,1161,1162,1163,1164,1165,1166,1167,1168,1169,1170,1171,1172,1173,1174,1175,1176,1177,1178,1179,1180,1181,1182,1183,1184,1185,1186,1187,1188,1189,1190,1191,1192,1193,1194,1195,1196,1197,1198,1199,1200,1201,1202,1203,1204,1205,1206,1207,1208,1209,1210,1211,1212,1213,1214,1215,1216,1217,1218,1219,1220,1221,1222,1223,1224,1225,1226,1227,1229,1230,1231,1232,1233,1234,1235,1236,1237,1238,1239,1240,1241,1242,1243,1244,1245,1246,1247,1248,1249,1250,1251,1252,1253,1254,1255,1256,1257,1258,1259,1260,1261,1262,1263,1264,1265,1266,1267,1268,1269,1270,1271,1272,1273,1274,1275,1276,1277,1278,1279,1280,1281,1282,1283,1284,1285,1286,1287,1288,1289,1290,1291,1292,1293,1294,1295,1296,1297,1298,1299,1300,1301,1302,1303,1304,1305,1306,1307,1308,1309,1310,1311,1312,1313,1314,1315,1316,1317,1318,1319,1320,1321,1322,1323,1324,1325,1326,1327,1328,1329,1330,1331,1332,1333,1334,1335,1336,1337,1338,1339,1340,1341,1342,1343,1344,1345,1346,1347,1348,1349,1350,1351,1352,1353,1354,1355,1356,1357,1358,1359,1360,1361,1362,1363,1364,1365,1366,1367,1368,1369,1370,1371,1372,1373,1374,1375,1376,1377,1378,1379,1380,1381,1382,1383,1384,1385,1386,1387,1388,1389,1390,1391,1392,1393,1394,1395,1396,1397,1398,1399,1400,1401,1402,1403,1404,1405,1406,1407,1408,1409,1410,1411,1412,1413,1414,1415,1416,1417,1418,1419,1420,1421,1422,1423,1424,1425,1426,1427,1428,1429,1430,1431,1432,1433,1434,1435,1436,1437,1438,1439,1440,1441,1442,1443,1444,1445,1446,1447,1448,1449,1450,1451,1452,1453,1454,1455,1456,1457,1458,1459,1460,1461,1462,1463,1464,1465,1466,1467,1468,1469,1470,1471,1472,1473,1474,1475,1476,1477,1478,1479,1480,1481,1482,1483,1484,1485,1486,1487,1488,1489,1490,1491,1492,1493,1494,1495,1496,1497,1498,1499,1500,1501,1502,1503,1504,1505,1506,1508,1509,1510,1511,1512,1513,1514,1515,1516,1517,1518,1519,1520,1521,1522,1523,1524,1525,1526,1527,1528,1529,1530,1531,1532,1533,1534,1535,1536,1537,1538,1539,1540,1541,1542,1543,1544,1545,1546,1547,1548,1549,1550,1551,1552,1553,1554,1555,1556,1557,1558,1559,1560,1561,1562,1563,1564,1565,1566,1567,1568,1569,1570,1571,1572,1573,1574,1575,1576,1577,1578,1579,1580,1581,1582,1583,1584,1585,1586,1587,1588,1589,1590,1591,1592,1593,1594,1595,1596,1597,1598,1599,1600,1601,1602,1603,1604,1605,1606,1607,1608,1609,1610,1611,1612,1613,1614,1615,1616,1617,1618,1619,1620,1621,1622,1623,1624,1625,1626,1627,1628,1629,1630,1631,1632,1633,1634,1635,1636,1637,1638,1639,1640,1641,1642,1643,1644,1645,1646,1647,1648,1649,1650,1651,1652,1653,1654,1655,1656,1657,1658,1659,1660,1661,1662,1663,1664,1665,1666,1667,1668,1669,1670,1671,1672,1673,1674,1675,1676,1677,1678,1679,1680,1681,1682,1683,1684,1685,1686,1687,1688,1689,1690,1691,1692,1693,1694,1695,1696,1697,1698,1699,1700,1701,1702,1703,1704,1705,1706,1707,1708,1709,1710,1711,1712,1713,1714,1715,1716,1717,1718,1719,1720,1721,1722,1723,1724,1725,1726,1727,1728,1730,1731,1732,1733,1734,1735,1736,1737,1738,1739,1740,1741,1742,1743,1744,1745,1746,1747,1748,1749,1750,1751,1752,1753,1754,1755,1756,1757,1758,1759,1760,1761,1762,1763,1764,1765,1766,1767,1768,1769,1770,1771,1772,1773,1775,1776,1777,1778,1779,1780,1781,1782,1783,1784,1785,1786,1787,1788,1789,1790,1791,1792,1793,1794,1795,1796,1797,1798,1799,1800,1801,1802,1803,1804,1805,1806,1807,1808,1809,1810,1811,1812,1813,1814,1815,1816,1817,1818,1819,1820,1821,1822,1823,1824,1825,1826,1827,1828,1829,1830,1831,1832,1833,1834,1835,1836,1837,1838,1839,1840,1841,1842,1843,1844,1845,1846,1847,1848,1849,1850,1851,1852,1853,1854,1855,1856,1857,1858,1859,1861,1862,1863,1864,1865,1866,1867,1868,1869,1870,1871,1872,1873,1874,1875,1876,1877,1878,1879,1880,1881,1882,1883,1884,1885,1886,1887,1888,1889,1890,1891,1892,1893,1894,1895,1896,1897,1898,1899,1900,1901,1902,1903,1904,1905,1906,1907,1908,1909,1910,1911,1912,1913,1914,1915,1916,1917,1918,1919,1920,1921,1922,1923,1924,1925,1926,1927,1928,1929,1930,1931,1932,1933,1934,1936,1937,1938,1939,1940,1941,1942,1944,1945,1946,1947,1948,1949,1950,1951],\"y\":[4.56,4390.3665,-53.8096,803.4705,-24.03,-37.03,-0.71,-59.82,261.8757,2.63,652.7331,314.4813,-114.6399,384.38,-17.49,-114.6399,-28.2968,-5.3072,8.894,144.69,-35.8788,209.997,3568.096,-84.4376,24.312,25.91382,162.666,-6923.5992,-67.49,19.6282,-1.6524,2.14,349.4091,-37.5291,101.49,845.664,-308.928,-1679.76,575.396,-2426.55,-2426.55,-715.778206,-144.56,7402.32,1892.424,28.8558,173.48,117.852,34.0104,2031.507,-190.68,325.398,22.818,116.1,-87.96,255.42,685.6146,-16.2,2023.75,-20.25,-3.381,1684.4763,-2.7048,18.658,40.2477,14.0898,-55.84,9.82,112.06,16.79,-55.84,41.2965,1179.0237,105.678,-37.39,149.8887,3.04,2.706,91.956,-2.544,2.4852,-634.7341,133.5771,251.4084,-20.258,13.896,-172.718,-40.684,97.86,360.24,713.88,-18.64,-111.4,-77.03,28.5141,280.27458,-112.4263,24.924,-2.9095,-76.89,-35.75,-76.89,152.6556,7.15,113.6499,-35.4744,14.467,-99.9864,1348.59672,-560.81418,-66.0445,-105.6852,15.66,1167.158,1014.92,1.73,-133.7,-66.62,-21.48775,44.6775,23.595,7.59,-107.987,-36.25,-102.5121,36.354,-243.2365,-53.62,1103.9724,136.3371,-12.46,-175.86,3294.8259,35.09,785.63,-256.519,398.358,-101.192,-3.332,-145.082,1.108,1061.379,-53.745,0.684,-127.008,5.7532,-2177.986096,326.25,8.932,229.638,-22.48,78.98,144.2928,888.1473,-46.005,128.0253,-29.8984,52.9166,72.1858,-122.3733,-51.75,-1.0,-221.254,-11.57,-61.87,-530.24,132.687,496.89,-135.16,15.8952,855.9933,10.74,-1759.58,-72.23,-27.16,-52.344,-119.936,9.9268,-29.172,-715.778206,-22.82,-5.2,-83.65,24.39,-4.6683,11.65095,0.702,5.8625,1916.6757,10.5,993.8346,-165.45,-141.12,1074.44,-627.82192,411.5172,211.232,49.788,-132.6295,-163.63,-63.87,-175.175,-224.9478,196.8,250.0376,-539.59,-82.823,107.082,-27.28375,-51.5592,-263.56572,1273.2087,-159.68,27.91,-81.77,-19.208,7.44,-372.485971,1372.6308,50.2044,236.2371,943.0,-2531.4825,163.1574,-302.225,90.62,427.1184,86.438,-4.46,-512.872,-3.784,-82.904,1268.8065,-53.2962,299.6739,-15.456,16.0494,-235.895,-41.32,7.9,521.69,496.7968,-556.8096,-27.7388,-128.6872,23.2028,-568.5351,-427.47,-18.19,-24.05754,2583.56148,6.0513,-67.0565,-7.94,122.292,-2.12,-69.07,2028.12,-63.51,-92.05,6.11,-36.63,-2.12,-35.9164,3042.18,-31.755,171.8388,32.9409,131.334,-282.0818,105.2526,-29.0927,113.415,26.1,-2.58,2800.12,363.552,-11.536,-6.612,-15.5595,-108.19,46.488,159.5297,15.3714,5924.1123,39.5853,-66.378,-33.34,-201.276,4637.4072,-239.5415,21.5142,34.068,4073.25,-179.592,-500.38,6028.41,-161.6328,-250.19,46.1472,-1116.3348,1141.794,-99.568,224.8506,-122.133,-12.1555,-269.0844,-566.0,293.14,-6.61,-57.541,-266.22,-67.59,-239.8656,-53.444,-22.12,484.8492,18.0,15.2745,26.5857,-575.352,-51.635,-75.44,-120.934,-1763.7477,-15.0995,-1763.7477,23.5428,-276.1128,-78.13,-64.67094,-11.1132,107.02,18.42,349.47,-226.3464,-281.17584,6610.2,-103.7124,-124.2864,-229.68,288.09,719.4768,1192.04,1192.04,-229.68,288.09,1030.509,261.444,-10.36,106.7499,-246.92616,4233.2588,102.7686,-36.671544,20.6448,-24.2048,-126.05778,10.802,-678.496,90.762,-352.814,70.028,-124.2805,40.4823,32.86,-187.222,9.59,-655.424,-7.58,-109.704,-19.93,4568.6073,-258.225,38.06,-207.28,-12.719,-51.42,-88.6,2568.4629,9.486,-263.65,890.181,6095.8602,-82.83,25.04,-580.32,928.9608,-131.6172,-82.83,25.04,930.987,-580.32,-253.11,-16.67,40.2,3.21,38.7,-21.91,-119.77,-168.72,-439.62,15.42,33.924,-16.67,46.44,-17.528,-95.816,3.852,71.7356,-79.3208,24.096,6.972,-24.246,-605.374,-99.55,-801.1548,797.856,422.4525,-178.216,-26.656,-54.622,-126.81418,1400.1,916.6806,67.6,-224.644,14.76,10.85,97.6626,-453.2,-207.679788,-7.5244,-92.961,613.89576,232.2816,-45.07,-8.53,285.95,-209.25,-9.1636,12.706,7.71516,192.5169,-134.912,-5.05,-204.16,-46.115,-20.104,-3.496,-717.072,-62.23,131.382,-89.292,-211.036,-13.28,-48.68,-184.548,1220.03784,-2.87,4.3809,-100.744,3.384,0.346,-17.654,-13.826,-203.67,19.57,98.12,107.11,-216.154,-6.6096,-89.217,1.2236,4.3148,-125.83296,122.21,-11.1332,201.7353,-684.78,-237.47,21.5556,-239.315,-33.31,-74.4796,-232.22056,18.6438,-31.24,55.888,1.3224,455.4207,29.332,-86.0,-0.49,34.3482,-66.65,35.955,-173.0952,-96.16,263.4,37.31,-173.0952,-96.16,104.7213,37.31,80.6748,114.3165,1107.408,-149.212,-21.018,-655.529875,354.3288,-489.4156,35.31,6.11,187.412,-6.34,92.7222,-160.2755,396.972,-7.04,538.52,-4.14,-31.885,-95.2105,-193.58,-4.301,-1570.32,27.23,-19.0992,373.67,-14.80188,-2561.3235,168.9189,-6.2,19.0647,10.56,837.6807,-4.2,-44.1636,-4.2,-102.662,-116.584,12.8961,-21.3192,93.8468,17.772,-104.57,-969.048366,4.032,-23.6344,-71.83,-0.74,-3.88,551.0928,17.5053,818.546175,-17.15,-29.54,-329.784,-2.1,829.467,111.222,22.866,115.728,909.36,-76.4244,8.732,442.0899,455.124,624.40164,18.922,39.3507,-229.87,329.9787,30.49,1152.5277,-604.406,293.66,-403.1874,-13.77,44.9121,9.33,2593.14,1162.76,-76.94,-40.0088,-51.704,144.7482,-112.189,-445.9717763,4.1674,-335.317125,16.0218,38.0673,-99.43544,-97.28,139.612,-505.76,152.4348,9.862,-232.991,-40.2752,-53.25,-159.25,206.517,2.125,5.884,772.04,772.04,81.91,-10.9,1232.79,2.18,67.1075,54.9378,168.237,-169.232,1272.5808,-5390.738892,29.7252,-187.11,-139.2872,108.0,377.154,-127.052,2169.7464,-229.93,-93.7352,4.53,9.78,-63.8135,325.29,-116.05,117.38,-144.2,-46.92,70.1937,-48.2195,-63.8135,325.29,-115.36,-46.92,2660.1432,-51.116,1766.7795,85.875,6.0927,20.2996,108.5163,48.47148,-152.76,125.2074,281.5344,64.266,-302.6156,5.6916,27.0135,184.1955,4.11,28.566,2581.5591,-25.112,17.376,24.2604,59.4405,14.48,22.25,592.5265,232.8,38.08,-17.03,39.627,20.496,103.83,-24.8976,776.7744,344.544,-8.515,9.0045,-99.7625,-3061.82,258.6189,-6.71,-0.01,-421.76,6.79,-421.76,-60.145,-111.72,33.01,-111.72,297.45716,-564.6024,-161.475,-0.814,7.74,3985.3089,13.9568,788.79,-70.14,531.618,-107.5135,46.01,1489.8,-107.5135,24.8193,-255.1689,74.0048,109.4248,421.3485,-373.09,-3465.072,-11.2815,-218.77,-9.68,-164.3952,-8.208,-2196.684,43.538,-11.376,533.742,-1522.304,588.2457,151.5654,54.9015,501.51,54.9015,727.7361,393.42,606.0546,320.1,317.0895,250.36272,6.0306,125.8077,44.892,3.451,-275.253,-746.44,-274.95,-95.0475,3.451,-275.253,-746.44,-274.95,525.2004,-52.647,-24.44,366.507,27.38,-12.7088,-5.295,41.07,-94.4909,-172.298,3285.48,46.0368,-1.0712,4.4104,500.958,1206.5961,82.3101,1.2236,-15.6312,790.5468,5.466,-149.1182,-90.26,-326.2316,16.898,20.14,-21.232,18.0642,-93.25,-163.03,23.616,-11.0732,21.7695,29.3802,100.2984,2495.3988,-0.11,15.236,-42.8536,-20.79,-33.21154,-20.79,369.9987,20.4536,542.25,69.61,-634.8654,87.12,25.2402,-94.674645,451.2804,44.988,-20.7328,-164.3948,-4793.004,1258.7877,74.2785,52.92,-66.35,1399.64,232.642,-409.3736,-29.07,1909.8855,-76.9925,297.9696,1318.83,36.216,134.16825,253.3032,-723.784,589.188,-1314.992,3043.0311,-44.624,309.254,61.2927,91.73,53.0679,-14.6432,-127.56,282.18,-96.338,-23.35788,-18.2416,1428.9104,509.9583,-255.65,-76.54,-10.09,-92.87,-298.886,-145.852,-27.951,-3.6547,731.922,186.558,-138.0368,199.1823,711.0519,-899.675,-189.224,0.51,-52.248,70.176,-161.924,-157.696,-56.446,33.189,-367.165,-243.544,-337.092,68.676,481.032,-4.018,-2.0097,-477.372,-954.758,219.4734,-390.768,-155.21,-6.642,27.234,-8.398,83.7936,-77.82372,5078.538,23.276,17.754,-3.9312,2.4548,-537.2797773,-14.35982,-2870.2776,77.9836,-200.859,-33.2956,-90.5855,-36.9,341.1981,-175.13,3.96,1.6169,65.394,1.336,1674.7542,300.0465,-28.09,-263.1119291,-38.808,15.984,-88.158,-76.1068,-73.49412,-272.860884,10.5792,1127.5497,147.7566,69.5451,8.53,507.633,38.23,100.1328,15.096,14.9124,-135.226,-457.73,-268.664,-8.28,1912.422,-739.326,-40.53,0.696,15.528,-225.5638,-22.72,-163.53,554.77,-38.38,-56.35,-19.9576,-56.35,-129.01,-628.38,616.5357,-143.235,-123.1816,-28.798,-273.98,-253.778,-152.5245,-18.85,-220.052,20.39337,38.2812,3670.3515,21.0035,13.536,-167.048,-31.094,-6.202,-48.874,-144.592,-258.566,13.508,-66.48,-52.33,-59.06,149.166,-76.9,376.8849,-88.6248,-662.52,9228.2256,-32.28,-596.268,7889.6877,1545.80976,-16.14,-130.424,-106.421,-16476.838,-108.2725,-121.05808,-51.737,116.5063,-247.55157,-277.20924,-93.0645,-48.236,44.2911,43.2752,-36.21462,7.03296,-16.772,514.1772,235.656,3.5581,5.3397,-807.89,123.89175,-53.898,26.5029,90.6246,-20.8764,6.48324,2.332,454.4478,15.1524,-90.7556,960.984,-13706.464,300.9258,-40.76,-986.524,-141.666,47.334,60.5616,-47.243088,9.154,40.92,149.72,-52.49232,7.96,-459.0828,-517.17,-7.61,38.0397,-429.86,264.1665,-47.12,-101.246,-1.88,-11.69,250.9806,-57.753,-47.97,-219.07908,-18.8784,369.2052,19.35,-967.834,-28.45,72.78,13.2294,-88.82,15.354,-357.924,34.302,-7.96,4407.44,-1025.0172,429.754356,588.54,2653.2915,-1.84,237.0426,2502.6852,0.688,36.906,-216.0298,-45.472,16.1364,-29.61,125.724,114.882,-14.448,-42.546,14.0,52.988,285.4737,10.508,1448.7309,1.004,-521.09,-29.49,386.0067,-1867.97,-1920.9336,-37.1752,-213.4028,-15.48,-50.245,-387.1044,-55.97,-66.2473,-171.1577,624.239,-14.3241,604.0191,-11.6316,442.3659,-259.756,1469.7276,-83.55306,-16.89,25.51,-850.6524,98.5251,214.23,21.8834,290.202,12.146,5.687,-181.102,882.93,6.6804,46.29,177.79,-14.9904,638.3811,17.652,739.674,-23.156,-10.435,-78.91668,-13562.63741,-63.35,-8.904,88.72,7.2519,-191.49,-1330.5,1320.5496,1585.503,526.0422,-40.432,-88.61,109.16,-136.122,-27.375,-435.7575,682.53,-277.222,-266.686,-12.278,265.1118,9.5608,390.0984,46.65,-1250.746,374.904,-528.836,-272.7132,-162.694,-115.9039,-729.988,-133.546,272.694,-61.6,66.852,17.8398,976.2672,23.2047,183.843,167.463,1307.2692,-15.8184,-55.8324,550.3808,1.68,450.4596,8798.1831,-5.385,3031.9724,138.018,38.874,-45.528,567.59,-28.45,-14.225,-601.804,38.406,53.1144,8.742,636.522,4554.4347,618.19308,-15.1844,-61.194,18.174,-49.53,-407.85,-191.2576,196.52328,-343.868,-3971.0628,-18.4782,-381.8412,12.5504,45.3324,33.66,15.678,52.776,-162.8244,-6.93082,-118.54,2963.48,398.3025,709.852,80.8092,371.272,77.0008954,27.9686,-66.77958,-144.9188,-5.0716,-1.18,-203.098,-48.57,-48.57,-47.28,722.241,-161.0,848.3646,-88.8408,1208.9904,9.9912,126.225,187.7628,295.9065,-2111.36,-9.13,357.428,40.3512,27.6345,751.58,-663.5142,-157.56,-87.99804,-35.2904,-74.8836,-98.056,631.33,-22.176,-214.104,-26.936,-324.73,1500.12,-313.0218,-192.5532,-464.282,156.7434,110.118,-42.588,-222.95,7.6245,-1676.612,45.1278,-52.864,45.378,4949.916,1055.604,359.83,-69.874,-135.74,-14.52,171.2649,138.222,711.2448,-1084.846963,-156.772,-37.6,1389.5772,-222.816,-133.71,2653.7814,10.32,997.38144,-36.0308,-28.954,-85.022,99.198,136.0314,-100.072,-12.0267,122.508,-12.0267,34.068,2.97,385.3029,187.2,779.4723,27.726,244.464,-473.578,-96.05,-270.85,800.2551,-50.4,-348.754,-550.43,-52.12,-27.005,74.6385,-122.235,427.0065,-190.49,-8.77,-7.685,-82.5592,18.1475,2.806,-132.426,-411.236,-48.972,62.298,-119.32,756.6747,-222.343,-1537.1356,52.6976,-78.19416,465.4395,-89.27,385.37,147.0,-1045.016,167.16,-344.82,-61.5276,-41.9727,-1.56,-100.24,-262.62,1019.7096,19.04,-1069.72,19.04,1408.1865,-1069.72,2000.11,-45.64,204.49,-1455.9972,-22.56,-1191.526,-45.01,39.21,100.38,79.4232,-15.0904,-60.564,-1473.906,-343.126,66.36,-162.918,859.7178,-23.072,650.3,-154.307,269.94,63.0591,139.5801,109.67,395.308,104.9145,24.59,-458.744,-9.177,-121.75,24.35,-34.7645,-7.3416,35.29,-100.17,-3.948,1633.986,-2002.6314,-126.208,-5.54,-68.432,733.2822,-905.9904,-21.63242,-35.04,5.98,-35.04,149.53,608.262,-570.1696,1.278,424.29,-3.71956,101.972,-16.6348,765.75,-335.041,35.2797,-188.034,322.122,366.54,-439.908,1087.716,9.204,257.0832,0.7854,88.56,12.726,160.8066,-1596.7458,1388.3559,109.836,-93.85,82.7034,-93.85,0.37,1947.67,109.836,128.03,31.752,117.208,0.37,1240.25,-533.232,-61.59,-46.25,1240.25,-32.0268,-45.816,30.63,-6.835,7024.2069,-137.494,308.67,-223.944,36.495,255.7692,1656.6555,2639.01,395.76,-39.396,-89.5,28.4,103.2723,215.718,106.9848,3.54,40.284,90.024,2.232,840.051,61.47,18.27,-513.79042,23.87,61.47,18.27,-513.79042,35.805,265.9605,-20.3205,-88.04,180.2349,29.5251,1261.4718,-59.96376,89.4148,27.0273,-150.2604,4899.1288,44.712,-22.626,4260.112,-25.14,309.7116,-128.856,-36.946,-274.498,0.588,-251.4039,-2.345,67.6062,-46.5244,200.0172,-39.606,311.73,-50.75,2225.07612,-338.180832,-136.252,-25.76,-45.21,-286.245,16.12,-815.9008,15.808,29.17,-48.97,84.05,17.8365,-20.2228,381.618,-177.058,164.082,-54.63,690.1794,1507.6431,801.7468,-139.18256,881.4681,3.84,-21.03,117.5208,-30.808,524.3172,21.78,-98.35,270.7905,223.416,-93.9274,246.2748,93.9504,29.98,-121.2,10.7824,2008.71,-80.53,-48.958,-32.816,-15.61,23.616,-1748.012,-180.152,8.388,9.9399,-66.171,51.2187,380.468,-89.418,9.252,-1197.042,-103.224,-84.6288,2755.6422,-256.018,-41.77,-1014.11,17.4294,-178.8696,-74.64,65.41,-25.634,-37.562,-449.694,-66.248,501.69,566.6073,-57.56,164.0613,218.2332,1049.03,-102.93,1049.03,664.518,105.7,-21.06,-5.08,1289.382,-191.548,-29.003,2860.9332,2692.4421,2.0672,111.0525,-1963.752,-60.704,-37.789,7576.11,-43.26,-44.436,4.85,3.5949,15.8148,-69.91,1630.5252,-457.16,266.7609,-159.3028,29.8839,52.764,2699.9838,-170.98,-95.6186,-2.376,-18.3216,-82.64,31.59,165.6345,19.308,0.33,-35.26,322.2507,-221.5,206.352,439.7853,-149.4573,21.096,1166.628,-40.6042,-294.084,55.5552,-535.332,-208.7204,38.886,719.3526,-12.87678,618.1308,-14140.7016,-8.876,14.754,669.612,213.0,-8.3881,4.90176,76.3899,-36.77,87.03,-582.648,3602.1312,-582.648,-66.585,441.594,394.17,13.4481,4033.6089,141.7824,74.1819,82.31,-2.352,1059.288,-246.2761,55.1946,-307.2965,-16.06374,-160.3847,732.2698,270.8743,333.7605,-120.59,-12.078,1231.6569,219.5442,-185.17,31.1328,-231.05,-165.5949204,-21.684,4861.0638,-83.75,565.18,-38.72,65.07702,10.9592,17.4294,-32.6664,-13.1352,22.3077,443.0214,-1220.9145,-27.1492,-106.3424,44.9768,689.328,-33.586,69.7672,-52.8228,7.31,642.9903,12.71,28.288,112.1181,565.386,-230.9528,-61.62804,70.6767,95.0544,224.9607,-89.572,33.3477,-34.592,-24.63,-536.242,-125.86,36.1641,17.1028,1269.38196,137.68794,882.4824,6.384,5.2955,170.7957,16.092,274.0788,-3.782,10.7985,15.246,-103.624,-57.824,18.218,25.058,11.82,28.152,-237.544,1037.1045,-94.59,-293.74,1039.7541,-49.1868,-152.7448,41.3,47.61,-23.5,1282.496,17.2,1184.12,1474.8704,19.78,929.7957,-7.25,31.2018,-75.9004,52.1709,-159.86,165.8898,75.01,2267.22,97.16,-20.65,67.864,-14.075,-78.7592,402.066,11.95,1773.6105,4.1822,39.1299,1660.92,638.028,138.4968,-6.734,-25.38,-203.27,-807.59,118.6317,23.304,-807.59,150.72,19.42,3.13,1141.07,-203.27,10.01,313.812,-39.18625,-1.89,4.29,-122.77,683.9556,-16.64,-59.73,-633.441237,72.984,240.1752,-11.248,9.6117,-299.8142,13.8,4.392,-236.25,36.02,-50.64,510.489,-20.18226,-156.9722,384.5043,44.52,-48.875,881.0472,-233.840688,-139.076,-64.664,1644.0768,-350.4395,4.2028,-44.068,-100.51,-17.75,1374.948,-677.872,1623.9495,-122.835,252.488,-88.585,-485.68,-16.37,-94.2586,6.3308,-66.8236,971.622,-134.512,-4075.933992,-18.5588,220.3572,47.73,28.526,-87.46,-3.948,28.1826,-51.66,-193.914,57.546,-333.4254,12.264,-283.9914,-195.342,-89.7092,-44.415,167.334,65.598,0.258,63.222,-29.666,-1319.5,262.2,-119.812,-9.108,172.5644,45.078,-110.376,1951.3,1538.7828,32.83,51.59,969.42,553.3317,-30.45,55.0206,-43.65504,-577.304,-1535.4864,-159.32,-74.088,-137.522,-11.816,238.9338,-105.126,95.388,261.3858,-135.46,-31.68825,690.7038,-13.068,-25.104,1.9504,-340.5311,462.921,-131.16,-11.83,-65.58,596.808,470.338,401.85,710.6724,-92.32,-1764.29,527.8776,34.52,3576.8841,20.38,31.11,358.2954,8.322,24.018,-269.7555,710.8074,-2133.278,80.0712,896.406,352.8798,68.676,-15.92,-114.2,-25.0,255.1482,39.4266,-722.23,30.024,0.4266,66.216,-164.18,-79.4,23.046,-127.3,-52.77,-781.1342,-23.296,58.812,4.0443,-10.3684,989.8119,2861.01,1544.9307,125.9982,-92.9292,-39.809,-29.0656,-19.2972,40.6556,137.6757,-62.0,47.5272,379.3965,-41.83,372.402,-116.3455,1304.9,605.0472,107.45462,18.41,65.63,-7.73,-47.99525,66.22,-23.53,10.68,58.2636,-42.1705,66.36222,-1.904,-37.048,-56.888,-189.714,1628.37,-4.48,43.6917,349.0593,1.992,-22.01,426.46032,19.5546,152.482,374.625,-3.2448,6384.4389,-116.76,-160.952,-41.87,-24.7104,349.485],\"type\":\"scatter\"}],                        {\"template\":{\"data\":{\"barpolar\":[{\"marker\":{\"line\":{\"color\":\"#E5ECF6\",\"width\":0.5},\"pattern\":{\"fillmode\":\"overlay\",\"size\":10,\"solidity\":0.2}},\"type\":\"barpolar\"}],\"bar\":[{\"error_x\":{\"color\":\"#2a3f5f\"},\"error_y\":{\"color\":\"#2a3f5f\"},\"marker\":{\"line\":{\"color\":\"#E5ECF6\",\"width\":0.5},\"pattern\":{\"fillmode\":\"overlay\",\"size\":10,\"solidity\":0.2}},\"type\":\"bar\"}],\"carpet\":[{\"aaxis\":{\"endlinecolor\":\"#2a3f5f\",\"gridcolor\":\"white\",\"linecolor\":\"white\",\"minorgridcolor\":\"white\",\"startlinecolor\":\"#2a3f5f\"},\"baxis\":{\"endlinecolor\":\"#2a3f5f\",\"gridcolor\":\"white\",\"linecolor\":\"white\",\"minorgridcolor\":\"white\",\"startlinecolor\":\"#2a3f5f\"},\"type\":\"carpet\"}],\"choropleth\":[{\"colorbar\":{\"outlinewidth\":0,\"ticks\":\"\"},\"type\":\"choropleth\"}],\"contourcarpet\":[{\"colorbar\":{\"outlinewidth\":0,\"ticks\":\"\"},\"type\":\"contourcarpet\"}],\"contour\":[{\"colorbar\":{\"outlinewidth\":0,\"ticks\":\"\"},\"colorscale\":[[0.0,\"#0d0887\"],[0.1111111111111111,\"#46039f\"],[0.2222222222222222,\"#7201a8\"],[0.3333333333333333,\"#9c179e\"],[0.4444444444444444,\"#bd3786\"],[0.5555555555555556,\"#d8576b\"],[0.6666666666666666,\"#ed7953\"],[0.7777777777777778,\"#fb9f3a\"],[0.8888888888888888,\"#fdca26\"],[1.0,\"#f0f921\"]],\"type\":\"contour\"}],\"heatmapgl\":[{\"colorbar\":{\"outlinewidth\":0,\"ticks\":\"\"},\"colorscale\":[[0.0,\"#0d0887\"],[0.1111111111111111,\"#46039f\"],[0.2222222222222222,\"#7201a8\"],[0.3333333333333333,\"#9c179e\"],[0.4444444444444444,\"#bd3786\"],[0.5555555555555556,\"#d8576b\"],[0.6666666666666666,\"#ed7953\"],[0.7777777777777778,\"#fb9f3a\"],[0.8888888888888888,\"#fdca26\"],[1.0,\"#f0f921\"]],\"type\":\"heatmapgl\"}],\"heatmap\":[{\"colorbar\":{\"outlinewidth\":0,\"ticks\":\"\"},\"colorscale\":[[0.0,\"#0d0887\"],[0.1111111111111111,\"#46039f\"],[0.2222222222222222,\"#7201a8\"],[0.3333333333333333,\"#9c179e\"],[0.4444444444444444,\"#bd3786\"],[0.5555555555555556,\"#d8576b\"],[0.6666666666666666,\"#ed7953\"],[0.7777777777777778,\"#fb9f3a\"],[0.8888888888888888,\"#fdca26\"],[1.0,\"#f0f921\"]],\"type\":\"heatmap\"}],\"histogram2dcontour\":[{\"colorbar\":{\"outlinewidth\":0,\"ticks\":\"\"},\"colorscale\":[[0.0,\"#0d0887\"],[0.1111111111111111,\"#46039f\"],[0.2222222222222222,\"#7201a8\"],[0.3333333333333333,\"#9c179e\"],[0.4444444444444444,\"#bd3786\"],[0.5555555555555556,\"#d8576b\"],[0.6666666666666666,\"#ed7953\"],[0.7777777777777778,\"#fb9f3a\"],[0.8888888888888888,\"#fdca26\"],[1.0,\"#f0f921\"]],\"type\":\"histogram2dcontour\"}],\"histogram2d\":[{\"colorbar\":{\"outlinewidth\":0,\"ticks\":\"\"},\"colorscale\":[[0.0,\"#0d0887\"],[0.1111111111111111,\"#46039f\"],[0.2222222222222222,\"#7201a8\"],[0.3333333333333333,\"#9c179e\"],[0.4444444444444444,\"#bd3786\"],[0.5555555555555556,\"#d8576b\"],[0.6666666666666666,\"#ed7953\"],[0.7777777777777778,\"#fb9f3a\"],[0.8888888888888888,\"#fdca26\"],[1.0,\"#f0f921\"]],\"type\":\"histogram2d\"}],\"histogram\":[{\"marker\":{\"pattern\":{\"fillmode\":\"overlay\",\"size\":10,\"solidity\":0.2}},\"type\":\"histogram\"}],\"mesh3d\":[{\"colorbar\":{\"outlinewidth\":0,\"ticks\":\"\"},\"type\":\"mesh3d\"}],\"parcoords\":[{\"line\":{\"colorbar\":{\"outlinewidth\":0,\"ticks\":\"\"}},\"type\":\"parcoords\"}],\"pie\":[{\"automargin\":true,\"type\":\"pie\"}],\"scatter3d\":[{\"line\":{\"colorbar\":{\"outlinewidth\":0,\"ticks\":\"\"}},\"marker\":{\"colorbar\":{\"outlinewidth\":0,\"ticks\":\"\"}},\"type\":\"scatter3d\"}],\"scattercarpet\":[{\"marker\":{\"colorbar\":{\"outlinewidth\":0,\"ticks\":\"\"}},\"type\":\"scattercarpet\"}],\"scattergeo\":[{\"marker\":{\"colorbar\":{\"outlinewidth\":0,\"ticks\":\"\"}},\"type\":\"scattergeo\"}],\"scattergl\":[{\"marker\":{\"colorbar\":{\"outlinewidth\":0,\"ticks\":\"\"}},\"type\":\"scattergl\"}],\"scattermapbox\":[{\"marker\":{\"colorbar\":{\"outlinewidth\":0,\"ticks\":\"\"}},\"type\":\"scattermapbox\"}],\"scatterpolargl\":[{\"marker\":{\"colorbar\":{\"outlinewidth\":0,\"ticks\":\"\"}},\"type\":\"scatterpolargl\"}],\"scatterpolar\":[{\"marker\":{\"colorbar\":{\"outlinewidth\":0,\"ticks\":\"\"}},\"type\":\"scatterpolar\"}],\"scatter\":[{\"fillpattern\":{\"fillmode\":\"overlay\",\"size\":10,\"solidity\":0.2},\"type\":\"scatter\"}],\"scatterternary\":[{\"marker\":{\"colorbar\":{\"outlinewidth\":0,\"ticks\":\"\"}},\"type\":\"scatterternary\"}],\"surface\":[{\"colorbar\":{\"outlinewidth\":0,\"ticks\":\"\"},\"colorscale\":[[0.0,\"#0d0887\"],[0.1111111111111111,\"#46039f\"],[0.2222222222222222,\"#7201a8\"],[0.3333333333333333,\"#9c179e\"],[0.4444444444444444,\"#bd3786\"],[0.5555555555555556,\"#d8576b\"],[0.6666666666666666,\"#ed7953\"],[0.7777777777777778,\"#fb9f3a\"],[0.8888888888888888,\"#fdca26\"],[1.0,\"#f0f921\"]],\"type\":\"surface\"}],\"table\":[{\"cells\":{\"fill\":{\"color\":\"#EBF0F8\"},\"line\":{\"color\":\"white\"}},\"header\":{\"fill\":{\"color\":\"#C8D4E3\"},\"line\":{\"color\":\"white\"}},\"type\":\"table\"}]},\"layout\":{\"annotationdefaults\":{\"arrowcolor\":\"#2a3f5f\",\"arrowhead\":0,\"arrowwidth\":1},\"autotypenumbers\":\"strict\",\"coloraxis\":{\"colorbar\":{\"outlinewidth\":0,\"ticks\":\"\"}},\"colorscale\":{\"diverging\":[[0,\"#8e0152\"],[0.1,\"#c51b7d\"],[0.2,\"#de77ae\"],[0.3,\"#f1b6da\"],[0.4,\"#fde0ef\"],[0.5,\"#f7f7f7\"],[0.6,\"#e6f5d0\"],[0.7,\"#b8e186\"],[0.8,\"#7fbc41\"],[0.9,\"#4d9221\"],[1,\"#276419\"]],\"sequential\":[[0.0,\"#0d0887\"],[0.1111111111111111,\"#46039f\"],[0.2222222222222222,\"#7201a8\"],[0.3333333333333333,\"#9c179e\"],[0.4444444444444444,\"#bd3786\"],[0.5555555555555556,\"#d8576b\"],[0.6666666666666666,\"#ed7953\"],[0.7777777777777778,\"#fb9f3a\"],[0.8888888888888888,\"#fdca26\"],[1.0,\"#f0f921\"]],\"sequentialminus\":[[0.0,\"#0d0887\"],[0.1111111111111111,\"#46039f\"],[0.2222222222222222,\"#7201a8\"],[0.3333333333333333,\"#9c179e\"],[0.4444444444444444,\"#bd3786\"],[0.5555555555555556,\"#d8576b\"],[0.6666666666666666,\"#ed7953\"],[0.7777777777777778,\"#fb9f3a\"],[0.8888888888888888,\"#fdca26\"],[1.0,\"#f0f921\"]]},\"colorway\":[\"#636efa\",\"#EF553B\",\"#00cc96\",\"#ab63fa\",\"#FFA15A\",\"#19d3f3\",\"#FF6692\",\"#B6E880\",\"#FF97FF\",\"#FECB52\"],\"font\":{\"color\":\"#2a3f5f\"},\"geo\":{\"bgcolor\":\"white\",\"lakecolor\":\"white\",\"landcolor\":\"#E5ECF6\",\"showlakes\":true,\"showland\":true,\"subunitcolor\":\"white\"},\"hoverlabel\":{\"align\":\"left\"},\"hovermode\":\"closest\",\"mapbox\":{\"style\":\"light\"},\"paper_bgcolor\":\"white\",\"plot_bgcolor\":\"#E5ECF6\",\"polar\":{\"angularaxis\":{\"gridcolor\":\"white\",\"linecolor\":\"white\",\"ticks\":\"\"},\"bgcolor\":\"#E5ECF6\",\"radialaxis\":{\"gridcolor\":\"white\",\"linecolor\":\"white\",\"ticks\":\"\"}},\"scene\":{\"xaxis\":{\"backgroundcolor\":\"#E5ECF6\",\"gridcolor\":\"white\",\"gridwidth\":2,\"linecolor\":\"white\",\"showbackground\":true,\"ticks\":\"\",\"zerolinecolor\":\"white\"},\"yaxis\":{\"backgroundcolor\":\"#E5ECF6\",\"gridcolor\":\"white\",\"gridwidth\":2,\"linecolor\":\"white\",\"showbackground\":true,\"ticks\":\"\",\"zerolinecolor\":\"white\"},\"zaxis\":{\"backgroundcolor\":\"#E5ECF6\",\"gridcolor\":\"white\",\"gridwidth\":2,\"linecolor\":\"white\",\"showbackground\":true,\"ticks\":\"\",\"zerolinecolor\":\"white\"}},\"shapedefaults\":{\"line\":{\"color\":\"#2a3f5f\"}},\"ternary\":{\"aaxis\":{\"gridcolor\":\"white\",\"linecolor\":\"white\",\"ticks\":\"\"},\"baxis\":{\"gridcolor\":\"white\",\"linecolor\":\"white\",\"ticks\":\"\"},\"bgcolor\":\"#E5ECF6\",\"caxis\":{\"gridcolor\":\"white\",\"linecolor\":\"white\",\"ticks\":\"\"}},\"title\":{\"x\":0.05},\"xaxis\":{\"automargin\":true,\"gridcolor\":\"white\",\"linecolor\":\"white\",\"ticks\":\"\",\"title\":{\"standoff\":15},\"zerolinecolor\":\"white\",\"zerolinewidth\":2},\"yaxis\":{\"automargin\":true,\"gridcolor\":\"white\",\"linecolor\":\"white\",\"ticks\":\"\",\"title\":{\"standoff\":15},\"zerolinecolor\":\"white\",\"zerolinewidth\":2}}},\"title\":{\"font\":{\"size\":25},\"text\":\"Sales/Profits Line plot\"},\"xaxis\":{\"title\":{\"font\":{\"size\":18},\"text\":\"Months\"}},\"yaxis\":{\"title\":{\"font\":{\"size\":18},\"text\":\"Sales/Profit\"}}},                        {\"responsive\": true}                    ).then(function(){\n",
       "                            \n",
       "var gd = document.getElementById('c313f667-c332-42bd-9bf1-9a6a32c133ba');\n",
       "var x = new MutationObserver(function (mutations, observer) {{\n",
       "        var display = window.getComputedStyle(gd).display;\n",
       "        if (!display || display === 'none') {{\n",
       "            console.log([gd, 'removed!']);\n",
       "            Plotly.purge(gd);\n",
       "            observer.disconnect();\n",
       "        }}\n",
       "}});\n",
       "\n",
       "// Listen for the removal of the full notebook cells\n",
       "var notebookContainer = gd.closest('#notebook-container');\n",
       "if (notebookContainer) {{\n",
       "    x.observe(notebookContainer, {childList: true});\n",
       "}}\n",
       "\n",
       "// Listen for the clearing of the current output cell\n",
       "var outputEl = gd.closest('.output');\n",
       "if (outputEl) {{\n",
       "    x.observe(outputEl, {childList: true});\n",
       "}}\n",
       "\n",
       "                        })                };                });            </script>        </div>"
      ]
     },
     "metadata": {},
     "output_type": "display_data"
    }
   ],
   "source": [
    "data=[go.Scatter(y=df['sales'],x=df.index,name='Sales Trend Line'),\n",
    "      go.Scatter(y=df['profit'],x=df.index,name='Profit Trend Line')]\n",
    "\n",
    "layout = go.Layout(title='Sales/Profits Line plot',titlefont=(dict(size=25)),\n",
    "                   xaxis=dict(title='Months',titlefont=(dict(size=18))),\n",
    "                   yaxis=dict(title='Sales/Profit',titlefont=(dict(size=18))))\n",
    "\n",
    "iplot(dict(data=data,layout=layout))"
   ]
  },
  {
   "cell_type": "markdown",
   "id": "8b14a2bf",
   "metadata": {},
   "source": [
    "- **This line plot clearly shows that most sales were between 0 - 48k and profit trends were on average during these periods.**\n",
    "\n",
    "- **However, there were cases of loss especially close to mid-year, where we had the highest sales of about 45.7k but the lowest profit of -16.7k.**\n",
    "\n",
    "- **This could be a result of many things such as extreme discount sales, massive returns, late delivery timeframe, etc further analysis could be done to determine what exactly contributed to a massive loss despite the high sales.**"
   ]
  },
  {
   "cell_type": "code",
   "execution_count": 24,
   "id": "b2cf772a",
   "metadata": {},
   "outputs": [
    {
     "data": {
      "application/vnd.plotly.v1+json": {
       "config": {
        "linkText": "Export to plot.ly",
        "plotlyServerURL": "https://plot.ly",
        "showLink": false
       },
       "data": [
        {
         "hoverinfo": "label+percent",
         "labels": [
          "5% Discount",
          "3% Discount",
          "2% Discount",
          "1% Discount",
          "4% Discount",
          "9% Discount",
          "7% Discount",
          "6% Discount",
          "0% Discount",
          "10% Discount",
          "8% Discount",
          "17% Discount",
          "21% Discount"
         ],
         "marker": {
          "line": {
           "width": 1
          }
         },
         "textinfo": "label+percent",
         "type": "pie",
         "values": [
          193,
          190,
          189,
          185,
          180,
          178,
          177,
          176,
          166,
          153,
          147,
          1,
          1
         ]
        }
       ],
       "layout": {
        "template": {
         "data": {
          "bar": [
           {
            "error_x": {
             "color": "#2a3f5f"
            },
            "error_y": {
             "color": "#2a3f5f"
            },
            "marker": {
             "line": {
              "color": "#E5ECF6",
              "width": 0.5
             },
             "pattern": {
              "fillmode": "overlay",
              "size": 10,
              "solidity": 0.2
             }
            },
            "type": "bar"
           }
          ],
          "barpolar": [
           {
            "marker": {
             "line": {
              "color": "#E5ECF6",
              "width": 0.5
             },
             "pattern": {
              "fillmode": "overlay",
              "size": 10,
              "solidity": 0.2
             }
            },
            "type": "barpolar"
           }
          ],
          "carpet": [
           {
            "aaxis": {
             "endlinecolor": "#2a3f5f",
             "gridcolor": "white",
             "linecolor": "white",
             "minorgridcolor": "white",
             "startlinecolor": "#2a3f5f"
            },
            "baxis": {
             "endlinecolor": "#2a3f5f",
             "gridcolor": "white",
             "linecolor": "white",
             "minorgridcolor": "white",
             "startlinecolor": "#2a3f5f"
            },
            "type": "carpet"
           }
          ],
          "choropleth": [
           {
            "colorbar": {
             "outlinewidth": 0,
             "ticks": ""
            },
            "type": "choropleth"
           }
          ],
          "contour": [
           {
            "colorbar": {
             "outlinewidth": 0,
             "ticks": ""
            },
            "colorscale": [
             [
              0,
              "#0d0887"
             ],
             [
              0.1111111111111111,
              "#46039f"
             ],
             [
              0.2222222222222222,
              "#7201a8"
             ],
             [
              0.3333333333333333,
              "#9c179e"
             ],
             [
              0.4444444444444444,
              "#bd3786"
             ],
             [
              0.5555555555555556,
              "#d8576b"
             ],
             [
              0.6666666666666666,
              "#ed7953"
             ],
             [
              0.7777777777777778,
              "#fb9f3a"
             ],
             [
              0.8888888888888888,
              "#fdca26"
             ],
             [
              1,
              "#f0f921"
             ]
            ],
            "type": "contour"
           }
          ],
          "contourcarpet": [
           {
            "colorbar": {
             "outlinewidth": 0,
             "ticks": ""
            },
            "type": "contourcarpet"
           }
          ],
          "heatmap": [
           {
            "colorbar": {
             "outlinewidth": 0,
             "ticks": ""
            },
            "colorscale": [
             [
              0,
              "#0d0887"
             ],
             [
              0.1111111111111111,
              "#46039f"
             ],
             [
              0.2222222222222222,
              "#7201a8"
             ],
             [
              0.3333333333333333,
              "#9c179e"
             ],
             [
              0.4444444444444444,
              "#bd3786"
             ],
             [
              0.5555555555555556,
              "#d8576b"
             ],
             [
              0.6666666666666666,
              "#ed7953"
             ],
             [
              0.7777777777777778,
              "#fb9f3a"
             ],
             [
              0.8888888888888888,
              "#fdca26"
             ],
             [
              1,
              "#f0f921"
             ]
            ],
            "type": "heatmap"
           }
          ],
          "heatmapgl": [
           {
            "colorbar": {
             "outlinewidth": 0,
             "ticks": ""
            },
            "colorscale": [
             [
              0,
              "#0d0887"
             ],
             [
              0.1111111111111111,
              "#46039f"
             ],
             [
              0.2222222222222222,
              "#7201a8"
             ],
             [
              0.3333333333333333,
              "#9c179e"
             ],
             [
              0.4444444444444444,
              "#bd3786"
             ],
             [
              0.5555555555555556,
              "#d8576b"
             ],
             [
              0.6666666666666666,
              "#ed7953"
             ],
             [
              0.7777777777777778,
              "#fb9f3a"
             ],
             [
              0.8888888888888888,
              "#fdca26"
             ],
             [
              1,
              "#f0f921"
             ]
            ],
            "type": "heatmapgl"
           }
          ],
          "histogram": [
           {
            "marker": {
             "pattern": {
              "fillmode": "overlay",
              "size": 10,
              "solidity": 0.2
             }
            },
            "type": "histogram"
           }
          ],
          "histogram2d": [
           {
            "colorbar": {
             "outlinewidth": 0,
             "ticks": ""
            },
            "colorscale": [
             [
              0,
              "#0d0887"
             ],
             [
              0.1111111111111111,
              "#46039f"
             ],
             [
              0.2222222222222222,
              "#7201a8"
             ],
             [
              0.3333333333333333,
              "#9c179e"
             ],
             [
              0.4444444444444444,
              "#bd3786"
             ],
             [
              0.5555555555555556,
              "#d8576b"
             ],
             [
              0.6666666666666666,
              "#ed7953"
             ],
             [
              0.7777777777777778,
              "#fb9f3a"
             ],
             [
              0.8888888888888888,
              "#fdca26"
             ],
             [
              1,
              "#f0f921"
             ]
            ],
            "type": "histogram2d"
           }
          ],
          "histogram2dcontour": [
           {
            "colorbar": {
             "outlinewidth": 0,
             "ticks": ""
            },
            "colorscale": [
             [
              0,
              "#0d0887"
             ],
             [
              0.1111111111111111,
              "#46039f"
             ],
             [
              0.2222222222222222,
              "#7201a8"
             ],
             [
              0.3333333333333333,
              "#9c179e"
             ],
             [
              0.4444444444444444,
              "#bd3786"
             ],
             [
              0.5555555555555556,
              "#d8576b"
             ],
             [
              0.6666666666666666,
              "#ed7953"
             ],
             [
              0.7777777777777778,
              "#fb9f3a"
             ],
             [
              0.8888888888888888,
              "#fdca26"
             ],
             [
              1,
              "#f0f921"
             ]
            ],
            "type": "histogram2dcontour"
           }
          ],
          "mesh3d": [
           {
            "colorbar": {
             "outlinewidth": 0,
             "ticks": ""
            },
            "type": "mesh3d"
           }
          ],
          "parcoords": [
           {
            "line": {
             "colorbar": {
              "outlinewidth": 0,
              "ticks": ""
             }
            },
            "type": "parcoords"
           }
          ],
          "pie": [
           {
            "automargin": true,
            "type": "pie"
           }
          ],
          "scatter": [
           {
            "fillpattern": {
             "fillmode": "overlay",
             "size": 10,
             "solidity": 0.2
            },
            "type": "scatter"
           }
          ],
          "scatter3d": [
           {
            "line": {
             "colorbar": {
              "outlinewidth": 0,
              "ticks": ""
             }
            },
            "marker": {
             "colorbar": {
              "outlinewidth": 0,
              "ticks": ""
             }
            },
            "type": "scatter3d"
           }
          ],
          "scattercarpet": [
           {
            "marker": {
             "colorbar": {
              "outlinewidth": 0,
              "ticks": ""
             }
            },
            "type": "scattercarpet"
           }
          ],
          "scattergeo": [
           {
            "marker": {
             "colorbar": {
              "outlinewidth": 0,
              "ticks": ""
             }
            },
            "type": "scattergeo"
           }
          ],
          "scattergl": [
           {
            "marker": {
             "colorbar": {
              "outlinewidth": 0,
              "ticks": ""
             }
            },
            "type": "scattergl"
           }
          ],
          "scattermapbox": [
           {
            "marker": {
             "colorbar": {
              "outlinewidth": 0,
              "ticks": ""
             }
            },
            "type": "scattermapbox"
           }
          ],
          "scatterpolar": [
           {
            "marker": {
             "colorbar": {
              "outlinewidth": 0,
              "ticks": ""
             }
            },
            "type": "scatterpolar"
           }
          ],
          "scatterpolargl": [
           {
            "marker": {
             "colorbar": {
              "outlinewidth": 0,
              "ticks": ""
             }
            },
            "type": "scatterpolargl"
           }
          ],
          "scatterternary": [
           {
            "marker": {
             "colorbar": {
              "outlinewidth": 0,
              "ticks": ""
             }
            },
            "type": "scatterternary"
           }
          ],
          "surface": [
           {
            "colorbar": {
             "outlinewidth": 0,
             "ticks": ""
            },
            "colorscale": [
             [
              0,
              "#0d0887"
             ],
             [
              0.1111111111111111,
              "#46039f"
             ],
             [
              0.2222222222222222,
              "#7201a8"
             ],
             [
              0.3333333333333333,
              "#9c179e"
             ],
             [
              0.4444444444444444,
              "#bd3786"
             ],
             [
              0.5555555555555556,
              "#d8576b"
             ],
             [
              0.6666666666666666,
              "#ed7953"
             ],
             [
              0.7777777777777778,
              "#fb9f3a"
             ],
             [
              0.8888888888888888,
              "#fdca26"
             ],
             [
              1,
              "#f0f921"
             ]
            ],
            "type": "surface"
           }
          ],
          "table": [
           {
            "cells": {
             "fill": {
              "color": "#EBF0F8"
             },
             "line": {
              "color": "white"
             }
            },
            "header": {
             "fill": {
              "color": "#C8D4E3"
             },
             "line": {
              "color": "white"
             }
            },
            "type": "table"
           }
          ]
         },
         "layout": {
          "annotationdefaults": {
           "arrowcolor": "#2a3f5f",
           "arrowhead": 0,
           "arrowwidth": 1
          },
          "autotypenumbers": "strict",
          "coloraxis": {
           "colorbar": {
            "outlinewidth": 0,
            "ticks": ""
           }
          },
          "colorscale": {
           "diverging": [
            [
             0,
             "#8e0152"
            ],
            [
             0.1,
             "#c51b7d"
            ],
            [
             0.2,
             "#de77ae"
            ],
            [
             0.3,
             "#f1b6da"
            ],
            [
             0.4,
             "#fde0ef"
            ],
            [
             0.5,
             "#f7f7f7"
            ],
            [
             0.6,
             "#e6f5d0"
            ],
            [
             0.7,
             "#b8e186"
            ],
            [
             0.8,
             "#7fbc41"
            ],
            [
             0.9,
             "#4d9221"
            ],
            [
             1,
             "#276419"
            ]
           ],
           "sequential": [
            [
             0,
             "#0d0887"
            ],
            [
             0.1111111111111111,
             "#46039f"
            ],
            [
             0.2222222222222222,
             "#7201a8"
            ],
            [
             0.3333333333333333,
             "#9c179e"
            ],
            [
             0.4444444444444444,
             "#bd3786"
            ],
            [
             0.5555555555555556,
             "#d8576b"
            ],
            [
             0.6666666666666666,
             "#ed7953"
            ],
            [
             0.7777777777777778,
             "#fb9f3a"
            ],
            [
             0.8888888888888888,
             "#fdca26"
            ],
            [
             1,
             "#f0f921"
            ]
           ],
           "sequentialminus": [
            [
             0,
             "#0d0887"
            ],
            [
             0.1111111111111111,
             "#46039f"
            ],
            [
             0.2222222222222222,
             "#7201a8"
            ],
            [
             0.3333333333333333,
             "#9c179e"
            ],
            [
             0.4444444444444444,
             "#bd3786"
            ],
            [
             0.5555555555555556,
             "#d8576b"
            ],
            [
             0.6666666666666666,
             "#ed7953"
            ],
            [
             0.7777777777777778,
             "#fb9f3a"
            ],
            [
             0.8888888888888888,
             "#fdca26"
            ],
            [
             1,
             "#f0f921"
            ]
           ]
          },
          "colorway": [
           "#636efa",
           "#EF553B",
           "#00cc96",
           "#ab63fa",
           "#FFA15A",
           "#19d3f3",
           "#FF6692",
           "#B6E880",
           "#FF97FF",
           "#FECB52"
          ],
          "font": {
           "color": "#2a3f5f"
          },
          "geo": {
           "bgcolor": "white",
           "lakecolor": "white",
           "landcolor": "#E5ECF6",
           "showlakes": true,
           "showland": true,
           "subunitcolor": "white"
          },
          "hoverlabel": {
           "align": "left"
          },
          "hovermode": "closest",
          "mapbox": {
           "style": "light"
          },
          "paper_bgcolor": "white",
          "plot_bgcolor": "#E5ECF6",
          "polar": {
           "angularaxis": {
            "gridcolor": "white",
            "linecolor": "white",
            "ticks": ""
           },
           "bgcolor": "#E5ECF6",
           "radialaxis": {
            "gridcolor": "white",
            "linecolor": "white",
            "ticks": ""
           }
          },
          "scene": {
           "xaxis": {
            "backgroundcolor": "#E5ECF6",
            "gridcolor": "white",
            "gridwidth": 2,
            "linecolor": "white",
            "showbackground": true,
            "ticks": "",
            "zerolinecolor": "white"
           },
           "yaxis": {
            "backgroundcolor": "#E5ECF6",
            "gridcolor": "white",
            "gridwidth": 2,
            "linecolor": "white",
            "showbackground": true,
            "ticks": "",
            "zerolinecolor": "white"
           },
           "zaxis": {
            "backgroundcolor": "#E5ECF6",
            "gridcolor": "white",
            "gridwidth": 2,
            "linecolor": "white",
            "showbackground": true,
            "ticks": "",
            "zerolinecolor": "white"
           }
          },
          "shapedefaults": {
           "line": {
            "color": "#2a3f5f"
           }
          },
          "ternary": {
           "aaxis": {
            "gridcolor": "white",
            "linecolor": "white",
            "ticks": ""
           },
           "baxis": {
            "gridcolor": "white",
            "linecolor": "white",
            "ticks": ""
           },
           "bgcolor": "#E5ECF6",
           "caxis": {
            "gridcolor": "white",
            "linecolor": "white",
            "ticks": ""
           }
          },
          "title": {
           "x": 0.05
          },
          "xaxis": {
           "automargin": true,
           "gridcolor": "white",
           "linecolor": "white",
           "ticks": "",
           "title": {
            "standoff": 15
           },
           "zerolinecolor": "white",
           "zerolinewidth": 2
          },
          "yaxis": {
           "automargin": true,
           "gridcolor": "white",
           "linecolor": "white",
           "ticks": "",
           "title": {
            "standoff": 15
           },
           "zerolinecolor": "white",
           "zerolinewidth": 2
          }
         }
        },
        "title": {
         "font": {
          "size": 20
         },
         "text": "Discount Pie Plot"
        }
       }
      },
      "text/html": [
       "<div>                            <div id=\"0b72f85b-74d6-458a-a7d2-9c06e5e57321\" class=\"plotly-graph-div\" style=\"height:525px; width:100%;\"></div>            <script type=\"text/javascript\">                require([\"plotly\"], function(Plotly) {                    window.PLOTLYENV=window.PLOTLYENV || {};                                    if (document.getElementById(\"0b72f85b-74d6-458a-a7d2-9c06e5e57321\")) {                    Plotly.newPlot(                        \"0b72f85b-74d6-458a-a7d2-9c06e5e57321\",                        [{\"hoverinfo\":\"label+percent\",\"labels\":[\"5% Discount\",\"3% Discount\",\"2% Discount\",\"1% Discount\",\"4% Discount\",\"9% Discount\",\"7% Discount\",\"6% Discount\",\"0% Discount\",\"10% Discount\",\"8% Discount\",\"17% Discount\",\"21% Discount\"],\"marker\":{\"line\":{\"width\":1}},\"textinfo\":\"label+percent\",\"values\":[193,190,189,185,180,178,177,176,166,153,147,1,1],\"type\":\"pie\"}],                        {\"template\":{\"data\":{\"barpolar\":[{\"marker\":{\"line\":{\"color\":\"#E5ECF6\",\"width\":0.5},\"pattern\":{\"fillmode\":\"overlay\",\"size\":10,\"solidity\":0.2}},\"type\":\"barpolar\"}],\"bar\":[{\"error_x\":{\"color\":\"#2a3f5f\"},\"error_y\":{\"color\":\"#2a3f5f\"},\"marker\":{\"line\":{\"color\":\"#E5ECF6\",\"width\":0.5},\"pattern\":{\"fillmode\":\"overlay\",\"size\":10,\"solidity\":0.2}},\"type\":\"bar\"}],\"carpet\":[{\"aaxis\":{\"endlinecolor\":\"#2a3f5f\",\"gridcolor\":\"white\",\"linecolor\":\"white\",\"minorgridcolor\":\"white\",\"startlinecolor\":\"#2a3f5f\"},\"baxis\":{\"endlinecolor\":\"#2a3f5f\",\"gridcolor\":\"white\",\"linecolor\":\"white\",\"minorgridcolor\":\"white\",\"startlinecolor\":\"#2a3f5f\"},\"type\":\"carpet\"}],\"choropleth\":[{\"colorbar\":{\"outlinewidth\":0,\"ticks\":\"\"},\"type\":\"choropleth\"}],\"contourcarpet\":[{\"colorbar\":{\"outlinewidth\":0,\"ticks\":\"\"},\"type\":\"contourcarpet\"}],\"contour\":[{\"colorbar\":{\"outlinewidth\":0,\"ticks\":\"\"},\"colorscale\":[[0.0,\"#0d0887\"],[0.1111111111111111,\"#46039f\"],[0.2222222222222222,\"#7201a8\"],[0.3333333333333333,\"#9c179e\"],[0.4444444444444444,\"#bd3786\"],[0.5555555555555556,\"#d8576b\"],[0.6666666666666666,\"#ed7953\"],[0.7777777777777778,\"#fb9f3a\"],[0.8888888888888888,\"#fdca26\"],[1.0,\"#f0f921\"]],\"type\":\"contour\"}],\"heatmapgl\":[{\"colorbar\":{\"outlinewidth\":0,\"ticks\":\"\"},\"colorscale\":[[0.0,\"#0d0887\"],[0.1111111111111111,\"#46039f\"],[0.2222222222222222,\"#7201a8\"],[0.3333333333333333,\"#9c179e\"],[0.4444444444444444,\"#bd3786\"],[0.5555555555555556,\"#d8576b\"],[0.6666666666666666,\"#ed7953\"],[0.7777777777777778,\"#fb9f3a\"],[0.8888888888888888,\"#fdca26\"],[1.0,\"#f0f921\"]],\"type\":\"heatmapgl\"}],\"heatmap\":[{\"colorbar\":{\"outlinewidth\":0,\"ticks\":\"\"},\"colorscale\":[[0.0,\"#0d0887\"],[0.1111111111111111,\"#46039f\"],[0.2222222222222222,\"#7201a8\"],[0.3333333333333333,\"#9c179e\"],[0.4444444444444444,\"#bd3786\"],[0.5555555555555556,\"#d8576b\"],[0.6666666666666666,\"#ed7953\"],[0.7777777777777778,\"#fb9f3a\"],[0.8888888888888888,\"#fdca26\"],[1.0,\"#f0f921\"]],\"type\":\"heatmap\"}],\"histogram2dcontour\":[{\"colorbar\":{\"outlinewidth\":0,\"ticks\":\"\"},\"colorscale\":[[0.0,\"#0d0887\"],[0.1111111111111111,\"#46039f\"],[0.2222222222222222,\"#7201a8\"],[0.3333333333333333,\"#9c179e\"],[0.4444444444444444,\"#bd3786\"],[0.5555555555555556,\"#d8576b\"],[0.6666666666666666,\"#ed7953\"],[0.7777777777777778,\"#fb9f3a\"],[0.8888888888888888,\"#fdca26\"],[1.0,\"#f0f921\"]],\"type\":\"histogram2dcontour\"}],\"histogram2d\":[{\"colorbar\":{\"outlinewidth\":0,\"ticks\":\"\"},\"colorscale\":[[0.0,\"#0d0887\"],[0.1111111111111111,\"#46039f\"],[0.2222222222222222,\"#7201a8\"],[0.3333333333333333,\"#9c179e\"],[0.4444444444444444,\"#bd3786\"],[0.5555555555555556,\"#d8576b\"],[0.6666666666666666,\"#ed7953\"],[0.7777777777777778,\"#fb9f3a\"],[0.8888888888888888,\"#fdca26\"],[1.0,\"#f0f921\"]],\"type\":\"histogram2d\"}],\"histogram\":[{\"marker\":{\"pattern\":{\"fillmode\":\"overlay\",\"size\":10,\"solidity\":0.2}},\"type\":\"histogram\"}],\"mesh3d\":[{\"colorbar\":{\"outlinewidth\":0,\"ticks\":\"\"},\"type\":\"mesh3d\"}],\"parcoords\":[{\"line\":{\"colorbar\":{\"outlinewidth\":0,\"ticks\":\"\"}},\"type\":\"parcoords\"}],\"pie\":[{\"automargin\":true,\"type\":\"pie\"}],\"scatter3d\":[{\"line\":{\"colorbar\":{\"outlinewidth\":0,\"ticks\":\"\"}},\"marker\":{\"colorbar\":{\"outlinewidth\":0,\"ticks\":\"\"}},\"type\":\"scatter3d\"}],\"scattercarpet\":[{\"marker\":{\"colorbar\":{\"outlinewidth\":0,\"ticks\":\"\"}},\"type\":\"scattercarpet\"}],\"scattergeo\":[{\"marker\":{\"colorbar\":{\"outlinewidth\":0,\"ticks\":\"\"}},\"type\":\"scattergeo\"}],\"scattergl\":[{\"marker\":{\"colorbar\":{\"outlinewidth\":0,\"ticks\":\"\"}},\"type\":\"scattergl\"}],\"scattermapbox\":[{\"marker\":{\"colorbar\":{\"outlinewidth\":0,\"ticks\":\"\"}},\"type\":\"scattermapbox\"}],\"scatterpolargl\":[{\"marker\":{\"colorbar\":{\"outlinewidth\":0,\"ticks\":\"\"}},\"type\":\"scatterpolargl\"}],\"scatterpolar\":[{\"marker\":{\"colorbar\":{\"outlinewidth\":0,\"ticks\":\"\"}},\"type\":\"scatterpolar\"}],\"scatter\":[{\"fillpattern\":{\"fillmode\":\"overlay\",\"size\":10,\"solidity\":0.2},\"type\":\"scatter\"}],\"scatterternary\":[{\"marker\":{\"colorbar\":{\"outlinewidth\":0,\"ticks\":\"\"}},\"type\":\"scatterternary\"}],\"surface\":[{\"colorbar\":{\"outlinewidth\":0,\"ticks\":\"\"},\"colorscale\":[[0.0,\"#0d0887\"],[0.1111111111111111,\"#46039f\"],[0.2222222222222222,\"#7201a8\"],[0.3333333333333333,\"#9c179e\"],[0.4444444444444444,\"#bd3786\"],[0.5555555555555556,\"#d8576b\"],[0.6666666666666666,\"#ed7953\"],[0.7777777777777778,\"#fb9f3a\"],[0.8888888888888888,\"#fdca26\"],[1.0,\"#f0f921\"]],\"type\":\"surface\"}],\"table\":[{\"cells\":{\"fill\":{\"color\":\"#EBF0F8\"},\"line\":{\"color\":\"white\"}},\"header\":{\"fill\":{\"color\":\"#C8D4E3\"},\"line\":{\"color\":\"white\"}},\"type\":\"table\"}]},\"layout\":{\"annotationdefaults\":{\"arrowcolor\":\"#2a3f5f\",\"arrowhead\":0,\"arrowwidth\":1},\"autotypenumbers\":\"strict\",\"coloraxis\":{\"colorbar\":{\"outlinewidth\":0,\"ticks\":\"\"}},\"colorscale\":{\"diverging\":[[0,\"#8e0152\"],[0.1,\"#c51b7d\"],[0.2,\"#de77ae\"],[0.3,\"#f1b6da\"],[0.4,\"#fde0ef\"],[0.5,\"#f7f7f7\"],[0.6,\"#e6f5d0\"],[0.7,\"#b8e186\"],[0.8,\"#7fbc41\"],[0.9,\"#4d9221\"],[1,\"#276419\"]],\"sequential\":[[0.0,\"#0d0887\"],[0.1111111111111111,\"#46039f\"],[0.2222222222222222,\"#7201a8\"],[0.3333333333333333,\"#9c179e\"],[0.4444444444444444,\"#bd3786\"],[0.5555555555555556,\"#d8576b\"],[0.6666666666666666,\"#ed7953\"],[0.7777777777777778,\"#fb9f3a\"],[0.8888888888888888,\"#fdca26\"],[1.0,\"#f0f921\"]],\"sequentialminus\":[[0.0,\"#0d0887\"],[0.1111111111111111,\"#46039f\"],[0.2222222222222222,\"#7201a8\"],[0.3333333333333333,\"#9c179e\"],[0.4444444444444444,\"#bd3786\"],[0.5555555555555556,\"#d8576b\"],[0.6666666666666666,\"#ed7953\"],[0.7777777777777778,\"#fb9f3a\"],[0.8888888888888888,\"#fdca26\"],[1.0,\"#f0f921\"]]},\"colorway\":[\"#636efa\",\"#EF553B\",\"#00cc96\",\"#ab63fa\",\"#FFA15A\",\"#19d3f3\",\"#FF6692\",\"#B6E880\",\"#FF97FF\",\"#FECB52\"],\"font\":{\"color\":\"#2a3f5f\"},\"geo\":{\"bgcolor\":\"white\",\"lakecolor\":\"white\",\"landcolor\":\"#E5ECF6\",\"showlakes\":true,\"showland\":true,\"subunitcolor\":\"white\"},\"hoverlabel\":{\"align\":\"left\"},\"hovermode\":\"closest\",\"mapbox\":{\"style\":\"light\"},\"paper_bgcolor\":\"white\",\"plot_bgcolor\":\"#E5ECF6\",\"polar\":{\"angularaxis\":{\"gridcolor\":\"white\",\"linecolor\":\"white\",\"ticks\":\"\"},\"bgcolor\":\"#E5ECF6\",\"radialaxis\":{\"gridcolor\":\"white\",\"linecolor\":\"white\",\"ticks\":\"\"}},\"scene\":{\"xaxis\":{\"backgroundcolor\":\"#E5ECF6\",\"gridcolor\":\"white\",\"gridwidth\":2,\"linecolor\":\"white\",\"showbackground\":true,\"ticks\":\"\",\"zerolinecolor\":\"white\"},\"yaxis\":{\"backgroundcolor\":\"#E5ECF6\",\"gridcolor\":\"white\",\"gridwidth\":2,\"linecolor\":\"white\",\"showbackground\":true,\"ticks\":\"\",\"zerolinecolor\":\"white\"},\"zaxis\":{\"backgroundcolor\":\"#E5ECF6\",\"gridcolor\":\"white\",\"gridwidth\":2,\"linecolor\":\"white\",\"showbackground\":true,\"ticks\":\"\",\"zerolinecolor\":\"white\"}},\"shapedefaults\":{\"line\":{\"color\":\"#2a3f5f\"}},\"ternary\":{\"aaxis\":{\"gridcolor\":\"white\",\"linecolor\":\"white\",\"ticks\":\"\"},\"baxis\":{\"gridcolor\":\"white\",\"linecolor\":\"white\",\"ticks\":\"\"},\"bgcolor\":\"#E5ECF6\",\"caxis\":{\"gridcolor\":\"white\",\"linecolor\":\"white\",\"ticks\":\"\"}},\"title\":{\"x\":0.05},\"xaxis\":{\"automargin\":true,\"gridcolor\":\"white\",\"linecolor\":\"white\",\"ticks\":\"\",\"title\":{\"standoff\":15},\"zerolinecolor\":\"white\",\"zerolinewidth\":2},\"yaxis\":{\"automargin\":true,\"gridcolor\":\"white\",\"linecolor\":\"white\",\"ticks\":\"\",\"title\":{\"standoff\":15},\"zerolinecolor\":\"white\",\"zerolinewidth\":2}}},\"title\":{\"font\":{\"size\":20},\"text\":\"Discount Pie Plot\"}},                        {\"responsive\": true}                    ).then(function(){\n",
       "                            \n",
       "var gd = document.getElementById('0b72f85b-74d6-458a-a7d2-9c06e5e57321');\n",
       "var x = new MutationObserver(function (mutations, observer) {{\n",
       "        var display = window.getComputedStyle(gd).display;\n",
       "        if (!display || display === 'none') {{\n",
       "            console.log([gd, 'removed!']);\n",
       "            Plotly.purge(gd);\n",
       "            observer.disconnect();\n",
       "        }}\n",
       "}});\n",
       "\n",
       "// Listen for the removal of the full notebook cells\n",
       "var notebookContainer = gd.closest('#notebook-container');\n",
       "if (notebookContainer) {{\n",
       "    x.observe(notebookContainer, {childList: true});\n",
       "}}\n",
       "\n",
       "// Listen for the clearing of the current output cell\n",
       "var outputEl = gd.closest('.output');\n",
       "if (outputEl) {{\n",
       "    x.observe(outputEl, {childList: true});\n",
       "}}\n",
       "\n",
       "                        })                };                });            </script>        </div>"
      ]
     },
     "metadata": {},
     "output_type": "display_data"
    }
   ],
   "source": [
    "labels = ['5% Discount','3% Discount','2% Discount','1% Discount','4% Discount','9% Discount',\n",
    "          '7% Discount','6% Discount','0% Discount','10% Discount','8% Discount','17% Discount', '21% Discount']\n",
    "\n",
    "trace_pie = go.Pie(labels=labels,\n",
    "                   values=df['discount'].value_counts(),\n",
    "                   textinfo='label+percent',hoverinfo='label+percent',\n",
    "                   marker=dict(line=dict(width=1)),)\n",
    "\n",
    "layout = go.Layout(title='Discount Pie Plot' ,titlefont=dict(size=20))\n",
    "\n",
    "iplot(dict(data=trace_pie,layout=layout))"
   ]
  },
  {
   "cell_type": "markdown",
   "id": "67d8dd4b",
   "metadata": {},
   "source": [
    "**The above plot shows the percentage of discounts given by the US Super Store.**\n",
    "\n",
    "- **The highest discount given on product was 5%.**\n",
    "\n",
    "- **The least discount given on a product was 17% and 21% respectively.** "
   ]
  },
  {
   "cell_type": "markdown",
   "id": "b2765aed",
   "metadata": {},
   "source": [
    "# CONCLUSION\n",
    "\n",
    "The following conclusion was derived from the analysis:\n",
    "\n",
    "- **The dataset contains sales transactions for 2015, from the analysis, the store operates in 4 regions and 49 states.**\n",
    "\n",
    "\n",
    "- **This analysis shows that `California` and `New York` had more sales and profit than other states, while `Florida` and `Washington` made losses.**\n",
    "\n",
    "\n",
    "- **The `Eastern region` had more sales and profit amongst other other region. The `Southern region` had losses.**\n",
    "\n",
    "\n",
    "- **The analysis also shows that more sales were made from office furniture, chairs, and chairmats, telephone and communications, etc while very low sales were made on rubber bands, labels, scissors, rubber, and trimmers, etc.**\n",
    "\n",
    "\n",
    "- **There was a massive quantity/count of products sold on paper, binders and binders accessories, telephone and communication, office furniture etc**\n",
    "\n",
    "\n",
    "- **That most sales were between 0 - 48k and profit trends were on average during these periods.**\n",
    "\n",
    "\n",
    "- **The highest sales made was about 45.7k but the profit was at its lowest during this period at about -16.7k.**\n",
    "\n",
    "\n",
    "-  **The highest discount given on product was 5%, the least discount given on a product was 17% and 21% respectively.**\n",
    "\n"
   ]
  },
  {
   "cell_type": "markdown",
   "id": "706fc22e",
   "metadata": {},
   "source": [
    "## The problem the insight generated could solve for an E-commerce Company\n",
    "\n",
    "- This analysis would help companies solve inventory problems as we can see exactly the product that is more in demand and contributes more profit and sales to the organization. This would help management decide to either eliminate/enhance the stocking of products that contribute to very low sales and profit.\n",
    "\n",
    "- Customers Behavior is a very important factor to consider in an e-commerce company, as this would help put recommendation systems in place which would lead to more sales.\n",
    "\n",
    "- Storage location is another critical dilemma faced by most e-commerce companies, as they would love to be closer to their customers for faster delivery and reduced delivery services.\n",
    "\n"
   ]
  },
  {
   "cell_type": "markdown",
   "id": "54ed5efd",
   "metadata": {},
   "source": [
    "## My advice to any Ecommerce platform using the analyzed data, would be to;\n",
    "\n",
    "- Locate its storehouse in the eastern region of the country.\n",
    "\n",
    "- To also consider implementing 'recommenders systems' as we know per time the shopping behavior and pattern of our customers.\n",
    "\n",
    "- lastly, I would say we invest more in marketing goods with higher sales and profit, and think of ways to enhance low-selling products. If after 2-3 months of enhancing the low-selling product, it still generates low sales, the product should be dropped. \n",
    "\n",
    "**Other advise could be explored by further analysing the data, as the insight gotten was for a specific problem faced by an E-commerce company.**"
   ]
  },
  {
   "cell_type": "markdown",
   "id": "cb3b1a92",
   "metadata": {},
   "source": [
    "## From my understanding of business processes, the assumptions or insights I would make from an external overview of the platforms as it pertains to customers' patronage and engagements would be:\n",
    "\n",
    "- Social Media Awareness/interaction: Using the social media platforms for a `demo E-commerce company`, there seem to be  less interaction, the platform does not show if individuals or groups have used the platform before, and it does not give off a customer satisfaction insight if anything has happened. A value proposition is not very much evident.\n",
    "\n",
    "\n",
    "- User-Friendly Website: The website is not very user friendly, as the categories are not very classified easily for faster shopping. This might create a shorter retention rate on the website.\n",
    "\n",
    "\n",
    "- Recommenders Systems: There is absence of a recommenders system, with the use of recommender systems, customers who visit the website would have a good shopping experience, those who have no idea what to shop on would be recommended products  that best suits their online or shopping behaviour. This would lead to patronage and enagagements on the platforms."
   ]
  },
  {
   "cell_type": "markdown",
   "id": "a3b37688",
   "metadata": {},
   "source": [
    "### Peradventure there is an increase in churn, the analysis would be carried out to figure out why, and recommendations made to correct such errors such as understanding customers' shopping behaviour and putting measures in place for a recommenders system"
   ]
  },
  {
   "cell_type": "markdown",
   "id": "2a1b49b9",
   "metadata": {},
   "source": [
    "## The Top 3 metrics to define the success of the product are:\n",
    "\n",
    "- `Sales Matrics`\n",
    "\n",
    "- `Financial metrics`\n",
    "\n",
    "- `Marketing metrics`\n",
    "\n",
    "\n",
    "- **Sales Matrics**: The goal of any organization is to make sales and profit. These matrics are a good indicator of any successful business. They would help determine if the company is making sales or not. \n",
    "\n",
    "                  income from customers - returned goods\n",
    "\n",
    "in this metrics, this is where we calculate\n",
    "\n",
    "- sales cycle length\n",
    "\n",
    "- average selling price\n",
    "\n",
    "- averege profit margin\n",
    "\n",
    "- average purchases value\n",
    "\n",
    "\n",
    "- `Financial metrics`: These are financial performance that track sales turnover, profits, expenditures, assets, liabilities, and capital. They are used to track business processes, improve operational efficiency, and assist in planning and strategy formulation.\n",
    "\n",
    "\n",
    "`Marketing metrics`: Marketing is that segment of the business that helps create awareness for the company. One of the company's goal or objective is to reach more customers and making more sales, these matrics is very important  to consider, as we look at the following;\n",
    "\n",
    "- conversion rate\n",
    "\n",
    "- seo metrics\n",
    "\n",
    "- website traffic\n",
    "\n",
    " "
   ]
  },
  {
   "cell_type": "markdown",
   "id": "cbb24b7a",
   "metadata": {},
   "source": [
    "## Using Data to ensure the product is profitable\n",
    "\n",
    "- With the use of data, good decision making is fueled and this enables the company determine the best metrics to be used. This can drive profitbility and growth of the product.\n",
    "\n",
    "\n",
    "- Data enusres product profitability through enabling the company to monitor their stock closely so they don’t over order and always have stock on hand to meet demand. With data, managing inventory means ordering is more efficient and you can take advantage of price changes and new stock. This way, wastage is reduced, customer demand is met, the product is profitable.\n",
    "\n",
    "\n",
    "- Data enables salespeople meet or exceed customers expectaion by having access to consolidated customer data that shows what products and sub-product groups your customers buy enables sales reps to assist customers to use their budgets efficiently and reduce the number of at-risk customers.\n",
    "\n",
    "\n",
    "-  Data also helps you find more up-sell opportunities in your sales data, this way more sales is made to aid product profitability."
   ]
  },
  {
   "cell_type": "markdown",
   "id": "b814a7fe",
   "metadata": {},
   "source": [
    "### N:B - Other areas in the data can be analyzed to geneate further insigth as i focused on using this data to answer some major problem that could be faced by an E-commerce Platform."
   ]
  },
  {
   "cell_type": "code",
   "execution_count": null,
   "id": "fd81e79b",
   "metadata": {},
   "outputs": [],
   "source": []
  }
 ],
 "metadata": {
  "kernelspec": {
   "display_name": "Python 3",
   "language": "python",
   "name": "python3"
  },
  "language_info": {
   "codemirror_mode": {
    "name": "ipython",
    "version": 3
   },
   "file_extension": ".py",
   "mimetype": "text/x-python",
   "name": "python",
   "nbconvert_exporter": "python",
   "pygments_lexer": "ipython3",
   "version": "3.8.8"
  }
 },
 "nbformat": 4,
 "nbformat_minor": 5
}
